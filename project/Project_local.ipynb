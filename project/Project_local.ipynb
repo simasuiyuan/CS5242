{
 "cells": [
  {
   "cell_type": "markdown",
   "metadata": {},
   "source": [
    "# VGG16 solution"
   ]
  },
  {
   "cell_type": "code",
   "execution_count": 1,
   "metadata": {},
   "outputs": [],
   "source": [
    "import numpy as np\n",
    "import cv2\n",
    "import matplotlib.pyplot as plt\n",
    "from PIL import Image\n",
    "\n",
    "from keras.preprocessing.image import load_img \n",
    "from keras.preprocessing.image import img_to_array \n",
    "from keras.applications.vgg16 import preprocess_input \n",
    "# models \n",
    "from keras.applications.vgg16 import VGG16 \n",
    "from keras.models import Model\n",
    "from keras.applications.vgg16 import preprocess_input \n",
    "\n",
    "# clustering and dimension reduction\n",
    "from sklearn.decomposition import PCA\n",
    "\n",
    "%load_ext autoreload\n",
    "%autoreload\n",
    "from src.dataLoader import dataLoader\n",
    "from src.utils import image_utils, ismember\n",
    "\n",
    "from src.preprocessing import imadjust,imagecrop,imagePaddingByShape\n"
   ]
  },
  {
   "cell_type": "code",
   "execution_count": 2,
   "metadata": {},
   "outputs": [],
   "source": [
    "# dataset = dataLoader(\"../dataset\")\n",
    "\n",
    "# fileNameList = [str(imgIdx)+\".jpg\" for imgIdx in range(0,1501)]\n",
    "# imageFileList = dataset.LoadFileList(fileNameList=fileNameList)\n",
    "# imageFileList"
   ]
  },
  {
   "cell_type": "code",
   "execution_count": 3,
   "metadata": {},
   "outputs": [],
   "source": [
    "from os import listdir, rename\n",
    "from os.path import isfile, join\n",
    "import numpy as np\n",
    "import matplotlib.pyplot as plt\n",
    "from PIL import Image\n",
    "import pandas as pd\n",
    "import random\n",
    "from sklearn.model_selection import train_test_split\n",
    "from collections import Counter\n",
    "from skimage.transform import rotate, AffineTransform, warp\n",
    "from skimage.util import random_noise"
   ]
  },
  {
   "cell_type": "code",
   "execution_count": 4,
   "metadata": {},
   "outputs": [
    {
     "name": "stdout",
     "output_type": "stream",
     "text": [
      "cuda\n"
     ]
    }
   ],
   "source": [
    "import torch\n",
    "device = torch.device('cuda' if torch.cuda.is_available() else 'cpu')\n",
    "print(device)"
   ]
  },
  {
   "cell_type": "code",
   "execution_count": 5,
   "metadata": {},
   "outputs": [
    {
     "data": {
      "text/html": [
       "<div>\n",
       "<style scoped>\n",
       "    .dataframe tbody tr th:only-of-type {\n",
       "        vertical-align: middle;\n",
       "    }\n",
       "\n",
       "    .dataframe tbody tr th {\n",
       "        vertical-align: top;\n",
       "    }\n",
       "\n",
       "    .dataframe thead th {\n",
       "        text-align: right;\n",
       "    }\n",
       "</style>\n",
       "<table border=\"1\" class=\"dataframe\">\n",
       "  <thead>\n",
       "    <tr style=\"text-align: right;\">\n",
       "      <th></th>\n",
       "      <th>filename</th>\n",
       "      <th>label</th>\n",
       "    </tr>\n",
       "  </thead>\n",
       "  <tbody>\n",
       "    <tr>\n",
       "      <th>0</th>\n",
       "      <td>0.jpg</td>\n",
       "      <td>1</td>\n",
       "    </tr>\n",
       "    <tr>\n",
       "      <th>1</th>\n",
       "      <td>1.jpg</td>\n",
       "      <td>1</td>\n",
       "    </tr>\n",
       "    <tr>\n",
       "      <th>2</th>\n",
       "      <td>2.jpg</td>\n",
       "      <td>5</td>\n",
       "    </tr>\n",
       "    <tr>\n",
       "      <th>3</th>\n",
       "      <td>3.jpg</td>\n",
       "      <td>4</td>\n",
       "    </tr>\n",
       "    <tr>\n",
       "      <th>4</th>\n",
       "      <td>4.jpg</td>\n",
       "      <td>1</td>\n",
       "    </tr>\n",
       "  </tbody>\n",
       "</table>\n",
       "</div>"
      ],
      "text/plain": [
       "  filename  label\n",
       "0    0.jpg      1\n",
       "1    1.jpg      1\n",
       "2    2.jpg      5\n",
       "3    3.jpg      4\n",
       "4    4.jpg      1"
      ]
     },
     "metadata": {},
     "output_type": "display_data"
    },
    {
     "data": {
      "text/plain": [
       "(1501, 2)"
      ]
     },
     "execution_count": 5,
     "metadata": {},
     "output_type": "execute_result"
    }
   ],
   "source": [
    "labels = pd.read_csv('labels.csv')\n",
    "display(labels.head())\n",
    "labels.shape"
   ]
  },
  {
   "cell_type": "code",
   "execution_count": 6,
   "metadata": {},
   "outputs": [],
   "source": [
    "def load_images(labels):\n",
    "    X = []\n",
    "    y = []\n",
    "    for row in labels.itertuples():\n",
    "        img_path = join('../dataset', row.filename)\n",
    "        # print(row.filename)\n",
    "        # print(img_path)\n",
    "        # img = np.asarray(Image.open(img_path))\n",
    "        # img = np.array(img) \n",
    "        img = load_img(img_path, target_size=(50,50))\n",
    "        img = np.asarray(img)\n",
    "        # Keep squares for now\n",
    "        if img.shape[0] == img.shape[1]:\n",
    "            y.append(row.label)\n",
    "            X.append(img)\n",
    "    return X, y\n",
    "\n",
    "# def load_images(labels, number_image=1000):\n",
    "#     X = []\n",
    "#     y = []\n",
    "#     for row in labels.itertuples():\n",
    "#         img_path = join('../dataset', row.filename)\n",
    "#         # print(row.filename)\n",
    "#         # print(img_path)\n",
    "#         img = np.asarray(Image.open(img_path))\n",
    "#         # Keep squares for now\n",
    "#         if img.shape[0] == img.shape[1]:\n",
    "#           img = load_img(img_path, target_size=(50,50))\n",
    "#           img = np.asarray(img)\n",
    "#           y.append(row.label)\n",
    "#           X.append(img)\n",
    "#         elif len(X) <= number_image:\n",
    "#           img = load_img(img_path, target_size=(50,50))\n",
    "#           img = np.asarray(img)\n",
    "#           y.append(row.label)\n",
    "#           X.append(img)\n",
    "#     return X, y"
   ]
  },
  {
   "cell_type": "code",
   "execution_count": 204,
   "metadata": {},
   "outputs": [],
   "source": [
    "def augment_data_no_dist_balance(X_train, y_train):\n",
    "    final_X_train = []\n",
    "    final_y_train = []\n",
    "    label_distribution = Counter(y_train)\n",
    "    plt.bar(label_distribution.keys(), label_distribution.values())\n",
    "    plt.show()\n",
    "    print(label_distribution)\n",
    "    for i in range(len(X_train)):\n",
    "        final_X_train.append(X_train[i])\n",
    "        final_X_train.append(rotate(X_train[i], angle=45, mode = 'wrap'))\n",
    "        final_X_train.append(np.fliplr(X_train[i]))\n",
    "        final_X_train.append(np.flipud(X_train[i]))\n",
    "        final_X_train.append(random_noise(X_train[i],var=0.05**2))\n",
    "        \n",
    "        final_y_train += [y_train[i]] * 5\n",
    "    label_distribution = Counter(final_y_train)\n",
    "    print(label_distribution)\n",
    "    plt.bar(label_distribution.keys(), label_distribution.values())\n",
    "    plt.show()\n",
    "    return final_X_train, final_y_train\n",
    "\n",
    "def augment_data(X_train, y_train):\n",
    "    final_X_train = []\n",
    "    final_y_train = []\n",
    "    label_distribution = Counter(y_train)\n",
    "    plt.bar(label_distribution.keys(), label_distribution.values())\n",
    "    plt.show()\n",
    "    print(label_distribution)\n",
    "    max_count_label = max(label_distribution, key=label_distribution.get)\n",
    "    min_count_label = min(label_distribution, key=label_distribution.get)\n",
    "    for i in range(len(X_train)):\n",
    "        label_key = y_train[i]\n",
    "        if label_distribution[max_count_label] - label_distribution[label_key] >= 10 or label_distribution[max_count_label] - label_distribution[min_count_label] <= 6:\n",
    "            final_X_train.append(X_train[i])\n",
    "            angle = 90\n",
    "            while angle < 360:\n",
    "                final_X_train.append(rotate(X_train[i], angle=angle, mode = 'wrap'))\n",
    "                angle+=90\n",
    "            \n",
    "            final_X_train.append(random_noise(X_train[i],var=0.05**2))\n",
    "        \n",
    "            final_y_train += [y_train[i]] * 5\n",
    "            label_distribution = Counter(final_y_train)\n",
    "            max_count = max(label_distribution, key=label_distribution.get)\n",
    "            min_count = min(label_distribution, key=label_distribution.get)\n",
    "    print(label_distribution)\n",
    "    plt.bar(label_distribution.keys(), label_distribution.values())\n",
    "    plt.show()\n",
    "    return final_X_train, final_y_train"
   ]
  },
  {
   "cell_type": "code",
   "execution_count": 251,
   "metadata": {},
   "outputs": [],
   "source": [
    "def get_accuracy(scores, labels):\n",
    "    num_data = scores.size(0)\n",
    "    predicted_labels = scores.argmax(dim=1)\n",
    "    indicator = (predicted_labels == labels)\n",
    "    num_matches = indicator.sum()\n",
    "    return 100*num_matches.float()/num_data  \n",
    "\n",
    "def get_error( scores , labels ):\n",
    "\n",
    "    bs=scores.size(0)\n",
    "    predicted_labels = scores.argmax(dim=1)\n",
    "    indicator = (predicted_labels == labels)\n",
    "    num_matches=indicator.sum()\n",
    "    \n",
    "    return 1-num_matches.float()/bs   \n",
    "\n",
    "def eval_on_test_set(test_data, test_label, net, mean, std, bs):\n",
    "\n",
    "    running_error=0\n",
    "    running_acc = 0\n",
    "    num_batches=0\n",
    "\n",
    "    for i in range(0,100,bs):\n",
    "\n",
    "        minibatch_data =  test_data[i:i+bs].to(device)\n",
    "        minibatch_label = test_label[i:i+bs].to(device)\n",
    "        \n",
    "        inputs = (minibatch_data - mean)/std\n",
    "\n",
    "        scores= net( inputs ) \n",
    "\n",
    "        error = get_error( scores.detach() , minibatch_label)\n",
    "        acc = get_accuracy( scores.detach() , minibatch_label)\n",
    "\n",
    "        running_error += error.item()\n",
    "        running_acc += acc.item()\n",
    "\n",
    "        num_batches+=1\n",
    "\n",
    "    total_error = running_error/num_batches\n",
    "    total_acc = running_acc/num_batches\n",
    "    print(running_error, num_batches)\n",
    "    print( 'error rate on test set =', total_error*100 ,'percent')\n",
    "    print('accuracy =', total_acc)\n",
    "    return total_error, total_acc"
   ]
  },
  {
   "cell_type": "code",
   "execution_count": 241,
   "metadata": {},
   "outputs": [
    {
     "data": {
      "text/plain": [
       "(1501, 50, 50, 3)"
      ]
     },
     "execution_count": 241,
     "metadata": {},
     "output_type": "execute_result"
    }
   ],
   "source": [
    "X, y = load_images(labels)\n",
    "np.array(X).shape"
   ]
  },
  {
   "cell_type": "code",
   "execution_count": 242,
   "metadata": {},
   "outputs": [],
   "source": [
    "# label_distribution = Counter(y)\n",
    "# print(label_distribution.values())\n",
    "# max(label_distribution, key=label_distribution.get)\n",
    "# min(label_distribution, key=label_distribution.get)\n",
    "# label_distribution[1]"
   ]
  },
  {
   "cell_type": "code",
   "execution_count": 243,
   "metadata": {},
   "outputs": [
    {
     "data": {
      "image/png": "[encoded data removed]",
      "text/plain": [
       "<Figure size 640x480 with 1 Axes>"
      ]
     },
     "metadata": {},
     "output_type": "display_data"
    },
    {
     "name": "stdout",
     "output_type": "stream",
     "text": [
      "Counter({1: 355, 0: 314, 2: 202, 5: 148, 3: 95, 4: 86})\n",
      "Counter({1: 1775, 0: 1570, 2: 1010, 5: 740, 3: 475, 4: 430})\n"
     ]
    },
    {
     "data": {
      "image/png": "[encoded data removed]",
      "text/plain": [
       "<Figure size 640x480 with 1 Axes>"
      ]
     },
     "metadata": {},
     "output_type": "display_data"
    }
   ],
   "source": [
    "X_train, X_test, y_train, y_test = train_test_split(X, y, test_size = 0.2, random_state = 10, stratify=y)\n",
    "X_train, y_train = augment_data_no_dist_balance(X_train, y_train)"
   ]
  },
  {
   "cell_type": "code",
   "execution_count": 244,
   "metadata": {},
   "outputs": [
    {
     "data": {
      "image/png": "[encoded data removed]",
      "text/plain": [
       "<Figure size 640x480 with 1 Axes>"
      ]
     },
     "metadata": {},
     "output_type": "display_data"
    },
    {
     "name": "stdout",
     "output_type": "stream",
     "text": [
      "Counter({1: 355, 0: 314, 2: 202, 5: 148, 3: 95, 4: 86})\n",
      "Counter({0: 430, 2: 430, 1: 430, 4: 430, 3: 425, 5: 420})\n"
     ]
    },
    {
     "data": {
      "image/png": "[encoded data removed]",
      "text/plain": [
       "<Figure size 640x480 with 1 Axes>"
      ]
     },
     "metadata": {},
     "output_type": "display_data"
    },
    {
     "data": {
      "text/plain": [
       "(2565, 50, 50, 3)"
      ]
     },
     "execution_count": 244,
     "metadata": {},
     "output_type": "execute_result"
    }
   ],
   "source": [
    "X_train, X_test, y_train, y_test = train_test_split(X, y, test_size = 0.2, random_state = 10, stratify=y)\n",
    "X_train, y_train = augment_data(X_train, y_train)\n",
    "np.array(X_train).shape"
   ]
  },
  {
   "cell_type": "code",
   "execution_count": 245,
   "metadata": {},
   "outputs": [
    {
     "data": {
      "image/png": "[encoded data removed]",
      "text/plain": [
       "<Figure size 500x500 with 1 Axes>"
      ]
     },
     "metadata": {},
     "output_type": "display_data"
    }
   ],
   "source": [
    "im=X_train[80*5+4]\n",
    "# X_train, X_test, y_train, y_test\n",
    "# diplay the picture\n",
    "image_utils().plot_image(im,title=None, figsize=(5,5))"
   ]
  },
  {
   "cell_type": "code",
   "execution_count": 246,
   "metadata": {},
   "outputs": [],
   "source": [
    "# X_train, y_train = augment_data(X_train, y_train)\n",
    "# np.array(X_train).shape"
   ]
  },
  {
   "cell_type": "code",
   "execution_count": 247,
   "metadata": {},
   "outputs": [],
   "source": [
    "# import torch\n",
    "# class convnet(torch.nn.Module):\n",
    "\n",
    "#     def __init__(self, input_channel, hidden_layer, num_class):\n",
    "\n",
    "#         super(convnet, self).__init__()\n",
    "      \n",
    "#         self.conv1a = torch.nn.Conv2d(input_channel, hidden_layer,  kernel_size=5, padding=1 )\n",
    "#         self.pool1a  = torch.nn.MaxPool2d(2,2)\n",
    "#         self.conv1b = torch.nn.Conv2d(hidden_layer,  hidden_layer,  kernel_size=5, padding=1 )\n",
    "#         self.pool1b  = torch.nn.MaxPool2d(2,2)\n",
    "        \n",
    "#         self.linear1 = torch.nn.Linear(12100, num_class)\n",
    "\n",
    "#     def forward(self, x):\n",
    "#         x = self.conv1a(x)\n",
    "#         x = torch.nn.functional.relu(x)\n",
    "#         x = self.pool1a(x)\n",
    "#         x = self.conv1b(x)\n",
    "#         x = torch.nn.functional.relu(x)\n",
    "#         x = self.pool1b(x)\n",
    "        \n",
    "#         x = x.view(-1, 12100)\n",
    "#         x = self.linear1(x)\n",
    "        \n",
    "#         return x"
   ]
  },
  {
   "cell_type": "code",
   "execution_count": 248,
   "metadata": {},
   "outputs": [],
   "source": [
    "import torch\n",
    "import torch.nn as nn\n",
    "import torch.optim as optim\n",
    "from random import randint\n",
    "import utils\n",
    "import time\n",
    "\n",
    "class VGG_convnet(nn.Module):\n",
    "\n",
    "    def __init__(self, input_channel, num_class):\n",
    "\n",
    "        super(VGG_convnet, self).__init__()\n",
    "\n",
    "        # block 1:         3 x 50 x 50 --> 64 x 25 x 25        \n",
    "        self.conv1a = nn.Conv2d(3,   64,  kernel_size=3, padding=1 )\n",
    "        self.conv1b = nn.Conv2d(64,  64,  kernel_size=3, padding=1 )\n",
    "        self.pool1  = nn.MaxPool2d(2,2)\n",
    "\n",
    "        # block 2:         64 x 25 x 25 --> 128 x 8 x 8\n",
    "        self.conv2a = nn.Conv2d(64,  128, kernel_size=3, padding=1 )\n",
    "        self.conv2b = nn.Conv2d(128, 128, kernel_size=3, padding=1 )\n",
    "        self.pool2  = nn.MaxPool2d(2,2)\n",
    "\n",
    "        # block 3:         128 x 8 x 8 --> 256 x 4 x 4        \n",
    "        self.conv3a = nn.Conv2d(128, 256, kernel_size=3, padding=1 )\n",
    "        self.conv3b = nn.Conv2d(256, 256, kernel_size=3, padding=1 )\n",
    "        self.pool3  = nn.MaxPool2d(2,2)\n",
    "        \n",
    "        #block 4:          256 x 4 x 4 --> 512 x 2 x 2\n",
    "        self.conv4a = nn.Conv2d(256, 512, kernel_size=3, padding=1 )\n",
    "        self.pool4  = nn.MaxPool2d(2,2)\n",
    "\n",
    "        # linear layers:   512 x 2 x 2 --> 4608 --> 4096 --> 4096 --> 10\n",
    "        self.linear1 = nn.Linear(4608, 4608*2)\n",
    "        self.linear2 = nn.Linear(4608*2,4096)\n",
    "        self.linear3 = nn.Linear(4096, num_class)\n",
    "\n",
    "    def rgb2hsv(self, input, epsilon=1e-10):\n",
    "        assert(input.shape[1] == 3)\n",
    "        r, g, b = input[:, 0], input[:, 1], input[:, 2]\n",
    "        max_rgb, argmax_rgb = input.max(1)\n",
    "        min_rgb, argmin_rgb = input.min(1)\n",
    "        max_min = max_rgb - min_rgb + epsilon\n",
    "        h1 = 60.0 * (g - r) / max_min + 60.0\n",
    "        h2 = 60.0 * (b - g) / max_min + 180.0\n",
    "        h3 = 60.0 * (r - b) / max_min + 300.0\n",
    "        h = torch.stack((h2, h3, h1), dim=0).gather(dim=0, index=argmin_rgb.unsqueeze(0)).squeeze(0)\n",
    "        s = max_min / (max_rgb + epsilon)\n",
    "        v = max_rgb\n",
    "        return torch.stack((h, s, v), dim=1)\n",
    "\n",
    "    def forward(self, x):\n",
    "        # print(x.shape)\n",
    "        x = self.rgb2hsv(x)\n",
    "        # block 1:         3 x 32 x 32 --> 64 x 16 x 16\n",
    "        x = self.conv1a(x)\n",
    "        x = torch.relu(x)\n",
    "        x = self.conv1b(x)\n",
    "        x = torch.relu(x)\n",
    "        x = self.pool1(x)\n",
    "\n",
    "        # block 2:         64 x 16 x 16 --> 128 x 8 x 8\n",
    "        x = self.conv2a(x)\n",
    "        x = torch.relu(x)\n",
    "        x = self.conv2b(x)\n",
    "        x = torch.relu(x)\n",
    "        x = self.pool2(x)\n",
    "\n",
    "        # block 3:         128 x 8 x 8 --> 256 x 4 x 4\n",
    "        x = self.conv3a(x)\n",
    "        x = torch.relu(x)\n",
    "        x = self.conv3b(x)\n",
    "        x = torch.relu(x)\n",
    "        x = self.pool3(x)\n",
    "\n",
    "        #block 4:          256 x 4 x 4 --> 512 x 2 x 2\n",
    "        x = self.conv4a(x)\n",
    "        x = torch.relu(x)\n",
    "        x = self.pool4(x)\n",
    "\n",
    "        # linear layers:   512 x 2 x 2 --> 4608 --> 4608*2 --> 4096 --> 10\n",
    "        # print(x.shape)\n",
    "        x = x.view(-1, 4608)\n",
    "        x = self.linear1(x)\n",
    "        x = torch.relu(x)\n",
    "        x = self.linear2(x)\n",
    "        x = torch.relu(x)\n",
    "        x = self.linear3(x) \n",
    "        \n",
    "        return x"
   ]
  },
  {
   "cell_type": "code",
   "execution_count": 249,
   "metadata": {},
   "outputs": [],
   "source": [
    "# def eval_on_test_set(X_test):\n",
    "\n",
    "#     running_error=0\n",
    "#     running_acc = 0\n",
    "#     num_batches=0\n",
    "\n",
    "#     for i in range(0,100,bs):\n",
    "\n",
    "#         minibatch_data =  X_test[i:i+bs]\n",
    "#         minibatch_label = y_test[i:i+bs]\n",
    "\n",
    "#         minibatch_data=minibatch_data.to(device)\n",
    "#         minibatch_label=minibatch_label.to(device)\n",
    "        \n",
    "#         inputs = (minibatch_data - mean)/std\n",
    "\n",
    "#         scores= net( inputs ) \n",
    "\n",
    "#         error = get_error( scores.detach() , minibatch_label)\n",
    "#         acc = get_accuracy( scores.detach() , minibatch_label)\n",
    "\n",
    "#         running_error += error.item()\n",
    "#         running_acc += acc.item()\n",
    "\n",
    "#         num_batches+=1\n",
    "\n",
    "#     total_error = running_error/num_batches\n",
    "#     total_acc = running_acc/num_batches\n",
    "#     print(running_error, num_batches)\n",
    "#     print( 'error rate on test set =', total_error*100 ,'percent')\n",
    "#     print('accuracy =', total_acc)"
   ]
  },
  {
   "cell_type": "code",
   "execution_count": 294,
   "metadata": {},
   "outputs": [],
   "source": [
    "def train_network(X_train, y_train, X_test, y_test, net, mean, std):\n",
    "    log = {\n",
    "        \"train_loss\": [],\n",
    "        \"train_error\": [],\n",
    "        \"train_accuracy\": [],\n",
    "        \"test_error\": [],\n",
    "        \"test_accuracy\": [],\n",
    "    }\n",
    "    X_train = X_train.view(-1, 3, 50, 50)\n",
    "    X_test = X_test.view(-1, 3, 50, 50)\n",
    "    num_train_data = X_train.size()[0]\n",
    "    my_lr = 0.001\n",
    "    criterion = torch.nn.CrossEntropyLoss()\n",
    "    \n",
    "    for epoch in range(100):\n",
    "        # create a new optimizer at the beginning of each epoch: give the current learning rate.   \n",
    "        optimizer=torch.optim.Adam( net.parameters() , lr=my_lr )\n",
    "\n",
    "        # set the running quatities to zero at the beginning of the epoch\n",
    "        running_loss=0\n",
    "        running_error=0\n",
    "        running_acc = 0\n",
    "        num_batches=0\n",
    "\n",
    "        # set the order in which to visit the image from the training set\n",
    "        shuffled_indices = torch.randperm(num_train_data)\n",
    "\n",
    "        for count in range(0,num_train_data,bs):\n",
    "\n",
    "            # Set the gradients to zeros\n",
    "            optimizer.zero_grad()\n",
    "\n",
    "            # create a minibatch       \n",
    "            indices = shuffled_indices[count:count+bs].to(device)\n",
    "            minibatch_data =  X_train[indices].to(device)\n",
    "            minibatch_label =  y_train[indices].to(device)\n",
    "\n",
    "\n",
    "            # normalize the minibatch (this is the only difference compared to before!)\n",
    "            inputs = (minibatch_data - mean)/std\n",
    "\n",
    "            # tell Pytorch to start tracking all operations that will be done on \"inputs\"\n",
    "            inputs.requires_grad_()\n",
    "\n",
    "            # forward the minibatch through the net \n",
    "            scores=net( inputs ) \n",
    "\n",
    "            # Compute the average of the losses of the data points in the minibatch\n",
    "            loss =  criterion( scores , minibatch_label) \n",
    "\n",
    "            # backward pass to compute dL/dU, dL/dV and dL/dW   \n",
    "            loss.backward()\n",
    "\n",
    "            # do one step of stochastic gradient descent: U=U-lr(dL/dU), V=V-lr(dL/dU), ...\n",
    "            optimizer.step()\n",
    "\n",
    "\n",
    "            # START COMPUTING STATS\n",
    "\n",
    "            # add the loss of this batch to the running loss\n",
    "            running_loss += loss.detach().item()\n",
    "\n",
    "            # compute the error made on this batch and add it to the running error       \n",
    "            error = get_error( scores.detach() , minibatch_label)\n",
    "            acc = get_accuracy(scores.detach() , minibatch_label)\n",
    "            running_error += error.item()\n",
    "            running_acc += acc.item()\n",
    "\n",
    "            num_batches+=1        \n",
    "\n",
    "\n",
    "        # compute stats for the full training set\n",
    "        total_loss = running_loss/num_batches\n",
    "        total_error = running_error/num_batches\n",
    "        total_acc = running_acc/num_batches\n",
    "        log[\"train_loss\"].append(total_loss)\n",
    "        log[\"train_error\"].append(total_error)\n",
    "        log[\"train_accuracy\"].append(total_acc)\n",
    "\n",
    "        print('epoch=',epoch, '\\t loss=', total_loss , '\\t error=', total_error*100 ,'percent')\n",
    "        print('accuracy =', total_acc)\n",
    "        print(' ')\n",
    "\n",
    "        test_error,test_acc = eval_on_test_set(X_test, y_test, net, mean, std, bs)\n",
    "\n",
    "        log[\"test_error\"].append(test_error)\n",
    "        log[\"test_accuracy\"].append(test_acc)\n",
    "        print(\"=\"*50)\n",
    "    return log"
   ]
  },
  {
   "cell_type": "code",
   "execution_count": 295,
   "metadata": {},
   "outputs": [
    {
     "name": "stdout",
     "output_type": "stream",
     "text": [
      "epoch= 0 \t loss= 3.034886770132111 \t error= 84.57317076078276 percent\n",
      "accuracy = 15.426829268292684\n",
      " \n",
      "1.890625 2\n",
      "error rate on test set = 94.53125 percent\n",
      "accuracy = 5.46875\n",
      "==================================================\n",
      "epoch= 1 \t loss= 1.7937723398208618 \t error= 82.86585371668745 percent\n",
      "accuracy = 17.134146341463413\n",
      " \n",
      "1.625 2\n",
      "error rate on test set = 81.25 percent\n",
      "accuracy = 18.75\n",
      "==================================================\n",
      "epoch= 2 \t loss= 1.7853081895083915 \t error= 80.5792683508338 percent\n",
      "accuracy = 19.420731707317074\n",
      " \n",
      "1.421875 2\n",
      "error rate on test set = 71.09375 percent\n",
      "accuracy = 28.90625\n",
      "==================================================\n",
      "epoch= 3 \t loss= 1.752747192615416 \t error= 76.12042688741917 percent\n",
      "accuracy = 23.879573170731707\n",
      " \n",
      "1.359375 2\n",
      "error rate on test set = 67.96875 percent\n",
      "accuracy = 32.03125\n",
      "==================================================\n",
      "epoch= 4 \t loss= 1.7447376338447012 \t error= 75.92225612663641 percent\n",
      "accuracy = 24.077743902439025\n",
      " \n",
      "1.46875 2\n",
      "error rate on test set = 73.4375 percent\n",
      "accuracy = 26.5625\n",
      "==================================================\n",
      "epoch= 5 \t loss= 1.73107274857963 \t error= 74.7103659118094 percent\n",
      "accuracy = 25.289634146341463\n",
      " \n",
      "1.390625 2\n",
      "error rate on test set = 69.53125 percent\n",
      "accuracy = 30.46875\n",
      "==================================================\n",
      "epoch= 6 \t loss= 1.72113626177718 \t error= 75.45731707317073 percent\n",
      "accuracy = 24.54268292682927\n",
      " \n",
      "1.34375 2\n",
      "error rate on test set = 67.1875 percent\n",
      "accuracy = 32.8125\n",
      "==================================================\n",
      "epoch= 7 \t loss= 1.719312583527914 \t error= 73.82621954127056 percent\n",
      "accuracy = 26.173780487804876\n",
      " \n",
      "1.4375 2\n",
      "error rate on test set = 71.875 percent\n",
      "accuracy = 28.125\n",
      "==================================================\n",
      "epoch= 8 \t loss= 1.7066655188072017 \t error= 73.33841469229722 percent\n",
      "accuracy = 26.661585365853657\n",
      " \n",
      "1.375 2\n",
      "error rate on test set = 68.75 percent\n",
      "accuracy = 31.25\n",
      "==================================================\n",
      "epoch= 9 \t loss= 1.7049363328189384 \t error= 73.9481707898582 percent\n",
      "accuracy = 26.051829268292682\n",
      " \n",
      "1.40625 2\n",
      "error rate on test set = 70.3125 percent\n",
      "accuracy = 29.6875\n",
      "==================================================\n",
      "epoch= 10 \t loss= 1.6890999921938268 \t error= 72.41615856566081 percent\n",
      "accuracy = 27.583841463414632\n",
      " \n",
      "1.328125 2\n",
      "error rate on test set = 66.40625 percent\n",
      "accuracy = 33.59375\n",
      "==================================================\n",
      "epoch= 11 \t loss= 1.6894703580111992 \t error= 72.53048783395349 percent\n",
      "accuracy = 27.46951219512195\n",
      " \n",
      "1.375 2\n",
      "error rate on test set = 68.75 percent\n",
      "accuracy = 31.25\n",
      "==================================================\n",
      "epoch= 12 \t loss= 1.6706459464096441 \t error= 70.83079262477595 percent\n",
      "accuracy = 29.16920731707317\n",
      " \n",
      "1.328125 2\n",
      "error rate on test set = 66.40625 percent\n",
      "accuracy = 33.59375\n",
      "==================================================\n",
      "epoch= 13 \t loss= 1.6872436622293985 \t error= 72.14939027297788 percent\n",
      "accuracy = 27.850609756097562\n",
      " \n",
      "1.421875 2\n",
      "error rate on test set = 71.09375 percent\n",
      "accuracy = 28.90625\n",
      "==================================================\n",
      "epoch= 14 \t loss= 1.6719242247139536 \t error= 70.16768295590471 percent\n",
      "accuracy = 29.83231707317073\n",
      " \n",
      "1.390625 2\n",
      "error rate on test set = 69.53125 percent\n",
      "accuracy = 30.46875\n",
      "==================================================\n",
      "epoch= 15 \t loss= 1.6578269150198959 \t error= 70.94512189306865 percent\n",
      "accuracy = 29.054878048780488\n",
      " \n",
      "1.296875 2\n",
      "error rate on test set = 64.84375 percent\n",
      "accuracy = 35.15625\n",
      "==================================================\n",
      "epoch= 16 \t loss= 1.6333483021433761 \t error= 69.0396340881906 percent\n",
      "accuracy = 30.960365853658537\n",
      " \n",
      "1.40625 2\n",
      "error rate on test set = 70.3125 percent\n",
      "accuracy = 29.6875\n",
      "==================================================\n",
      "epoch= 17 \t loss= 1.6269253812185147 \t error= 68.87957322888258 percent\n",
      "accuracy = 31.120426829268293\n",
      " \n",
      "1.390625 2\n",
      "error rate on test set = 69.53125 percent\n",
      "accuracy = 30.46875\n",
      "==================================================\n",
      "epoch= 18 \t loss= 1.608248911252836 \t error= 70.09146344370959 percent\n",
      "accuracy = 29.908536585365855\n",
      " \n",
      "1.40625 2\n",
      "error rate on test set = 70.3125 percent\n",
      "accuracy = 29.6875\n",
      "==================================================\n",
      "epoch= 19 \t loss= 1.5829744338989258 \t error= 68.91006100468519 percent\n",
      "accuracy = 31.089939024390244\n",
      " \n",
      "1.4375 2\n",
      "error rate on test set = 71.875 percent\n",
      "accuracy = 28.125\n",
      "==================================================\n",
      "epoch= 20 \t loss= 1.5370626972942818 \t error= 65.07621945404425 percent\n",
      "accuracy = 34.923780487804876\n",
      " \n",
      "1.453125 2\n",
      "error rate on test set = 72.65625 percent\n",
      "accuracy = 27.34375\n",
      "==================================================\n",
      "epoch= 21 \t loss= 1.4754172912458094 \t error= 62.39329271200227 percent\n",
      "accuracy = 37.60670731707317\n",
      " \n",
      "1.46875 2\n",
      "error rate on test set = 73.4375 percent\n",
      "accuracy = 26.5625\n",
      "==================================================\n",
      "epoch= 22 \t loss= 1.40952258284499 \t error= 59.49695124858763 percent\n",
      "accuracy = 40.5030487804878\n",
      " \n",
      "1.5 2\n",
      "error rate on test set = 75.0 percent\n",
      "accuracy = 25.0\n",
      "==================================================\n",
      "epoch= 23 \t loss= 1.3238324624736135 \t error= 56.76067078985819 percent\n",
      "accuracy = 43.239329268292686\n",
      " \n",
      "1.546875 2\n",
      "error rate on test set = 77.34375 percent\n",
      "accuracy = 22.65625\n",
      "==================================================\n",
      "epoch= 24 \t loss= 1.264054478668585 \t error= 53.36890249717526 percent\n",
      "accuracy = 46.63109756097561\n",
      " \n",
      "1.515625 2\n",
      "error rate on test set = 75.78125 percent\n",
      "accuracy = 24.21875\n",
      "==================================================\n",
      "epoch= 25 \t loss= 1.1548496252152978 \t error= 48.33841469229721 percent\n",
      "accuracy = 51.66158536585366\n",
      " \n",
      "1.515625 2\n",
      "error rate on test set = 75.78125 percent\n",
      "accuracy = 24.21875\n",
      "==================================================\n",
      "epoch= 26 \t loss= 1.1009011152313977 \t error= 44.57317067355645 percent\n",
      "accuracy = 55.426829268292686\n",
      " \n",
      "1.53125 2\n",
      "error rate on test set = 76.5625 percent\n",
      "accuracy = 23.4375\n",
      "==================================================\n",
      "epoch= 27 \t loss= 1.0326148576852752 \t error= 41.08993905346568 percent\n",
      "accuracy = 58.91006097560975\n",
      " \n",
      "1.46875 2\n",
      "error rate on test set = 73.4375 percent\n",
      "accuracy = 26.5625\n",
      "==================================================\n",
      "epoch= 28 \t loss= 0.971571609741304 \t error= 38.04878054595575 percent\n",
      "accuracy = 61.951219512195124\n",
      " \n",
      "1.453125 2\n",
      "error rate on test set = 72.65625 percent\n",
      "accuracy = 27.34375\n",
      "==================================================\n",
      "epoch= 29 \t loss= 0.954726855929305 \t error= 36.36432929736812 percent\n",
      "accuracy = 63.635670731707314\n",
      " \n",
      "1.484375 2\n",
      "error rate on test set = 74.21875 percent\n",
      "accuracy = 25.78125\n",
      "==================================================\n",
      "epoch= 30 \t loss= 0.8286176594655689 \t error= 32.583841463414636 percent\n",
      "accuracy = 67.41615853658537\n",
      " \n",
      "1.5625 2\n",
      "error rate on test set = 78.125 percent\n",
      "accuracy = 21.875\n",
      "==================================================\n",
      "epoch= 31 \t loss= 0.7831058851102504 \t error= 30.70121945404425 percent\n",
      "accuracy = 69.29878048780488\n",
      " \n",
      "1.4375 2\n",
      "error rate on test set = 71.875 percent\n",
      "accuracy = 28.125\n",
      "==================================================\n",
      "epoch= 32 \t loss= 0.6865698651569646 \t error= 25.114329268292686 percent\n",
      "accuracy = 74.88567073170732\n",
      " \n",
      "1.390625 2\n",
      "error rate on test set = 69.53125 percent\n",
      "accuracy = 30.46875\n",
      "==================================================\n",
      "epoch= 33 \t loss= 0.6833632293997741 \t error= 25.34298780487805 percent\n",
      "accuracy = 74.65701219512195\n",
      " \n",
      "1.484375 2\n",
      "error rate on test set = 74.21875 percent\n",
      "accuracy = 25.78125\n",
      "==================================================\n",
      "epoch= 34 \t loss= 0.6647002428043179 \t error= 24.596036643516726 percent\n",
      "accuracy = 75.40396341463415\n",
      " \n",
      "1.5 2\n",
      "error rate on test set = 75.0 percent\n",
      "accuracy = 25.0\n",
      "==================================================\n",
      "epoch= 35 \t loss= 0.682719176862298 \t error= 24.687499970924563 percent\n",
      "accuracy = 75.3125\n",
      " \n",
      "1.40625 2\n",
      "error rate on test set = 70.3125 percent\n",
      "accuracy = 29.6875\n",
      "==================================================\n",
      "epoch= 36 \t loss= 0.6253524342688118 \t error= 22.46951213697108 percent\n",
      "accuracy = 77.53048780487805\n",
      " \n",
      "1.515625 2\n",
      "error rate on test set = 75.78125 percent\n",
      "accuracy = 24.21875\n",
      "==================================================\n",
      "epoch= 37 \t loss= 0.5688610872844371 \t error= 21.036585365853657 percent\n",
      "accuracy = 78.96341463414635\n",
      " \n",
      "1.4375 2\n",
      "error rate on test set = 71.875 percent\n",
      "accuracy = 28.125\n",
      "==================================================\n",
      "epoch= 38 \t loss= 0.5963411919954347 \t error= 20.685975580680662 percent\n",
      "accuracy = 79.3140243902439\n",
      " \n",
      "1.4375 2\n",
      "error rate on test set = 71.875 percent\n",
      "accuracy = 28.125\n",
      "==================================================\n",
      "epoch= 39 \t loss= 0.5567310038136273 \t error= 19.733231678241637 percent\n",
      "accuracy = 80.26676829268293\n",
      " \n",
      "1.421875 2\n",
      "error rate on test set = 71.09375 percent\n",
      "accuracy = 28.90625\n",
      "==================================================\n",
      "epoch= 40 \t loss= 0.5279371531271353 \t error= 19.20731707317073 percent\n",
      "accuracy = 80.79268292682927\n",
      " \n",
      "1.46875 2\n",
      "error rate on test set = 73.4375 percent\n",
      "accuracy = 26.5625\n",
      "==================================================\n",
      "epoch= 41 \t loss= 0.5729260793546351 \t error= 19.45884140526376 percent\n",
      "accuracy = 80.54115853658537\n",
      " \n",
      "1.5625 2\n",
      "error rate on test set = 78.125 percent\n",
      "accuracy = 21.875\n",
      "==================================================\n",
      "epoch= 42 \t loss= 0.6170161381000425 \t error= 21.257621922144075 percent\n",
      "accuracy = 78.7423780487805\n",
      " \n",
      "1.5 2\n",
      "error rate on test set = 75.0 percent\n",
      "accuracy = 25.0\n",
      "==================================================\n",
      "epoch= 43 \t loss= 0.5173980662735497 \t error= 17.408536556290414 percent\n",
      "accuracy = 82.59146341463415\n",
      " \n",
      "1.4375 2\n",
      "error rate on test set = 71.875 percent\n",
      "accuracy = 28.125\n",
      "==================================================\n",
      "epoch= 44 \t loss= 0.5696158245569323 \t error= 20.19054875141237 percent\n",
      "accuracy = 79.8094512195122\n",
      " \n",
      "1.40625 2\n",
      "error rate on test set = 70.3125 percent\n",
      "accuracy = 29.6875\n",
      "==================================================\n",
      "epoch= 45 \t loss= 0.5711708664894104 \t error= 18.58993899531481 percent\n",
      "accuracy = 81.41006097560975\n",
      " \n",
      "1.359375 2\n",
      "error rate on test set = 67.96875 percent\n",
      "accuracy = 32.03125\n",
      "==================================================\n",
      "epoch= 46 \t loss= 0.5414073547212089 \t error= 17.972560917458882 percent\n",
      "accuracy = 82.02743902439025\n",
      " \n",
      "1.40625 2\n",
      "error rate on test set = 70.3125 percent\n",
      "accuracy = 29.6875\n",
      "==================================================\n",
      "epoch= 47 \t loss= 0.5292901912840401 \t error= 18.399390214827 percent\n",
      "accuracy = 81.60060975609755\n",
      " \n",
      "1.484375 2\n",
      "error rate on test set = 74.21875 percent\n",
      "accuracy = 25.78125\n",
      "==================================================\n",
      "epoch= 48 \t loss= 0.6029360279804323 \t error= 20.26676826360749 percent\n",
      "accuracy = 79.73323170731707\n",
      " \n",
      "1.390625 2\n",
      "error rate on test set = 69.53125 percent\n",
      "accuracy = 30.46875\n",
      "==================================================\n",
      "epoch= 49 \t loss= 0.6024676532280154 \t error= 18.925304819897907 percent\n",
      "accuracy = 81.07469512195122\n",
      " \n",
      "1.40625 2\n",
      "error rate on test set = 70.3125 percent\n",
      "accuracy = 29.6875\n",
      "==================================================\n",
      "epoch= 50 \t loss= 0.49985264223523257 \t error= 17.416158536585368 percent\n",
      "accuracy = 82.58384146341463\n",
      " \n",
      "1.421875 2\n",
      "error rate on test set = 71.09375 percent\n",
      "accuracy = 28.90625\n",
      "==================================================\n",
      "epoch= 51 \t loss= 0.5453954362651197 \t error= 17.797256097560975 percent\n",
      "accuracy = 82.20274390243902\n",
      " \n",
      "1.4375 2\n",
      "error rate on test set = 71.875 percent\n",
      "accuracy = 28.125\n",
      "==================================================\n",
      "epoch= 52 \t loss= 0.5102399809331428 \t error= 16.42530487804878 percent\n",
      "accuracy = 83.57469512195122\n",
      " \n",
      "1.4375 2\n",
      "error rate on test set = 71.875 percent\n",
      "accuracy = 28.125\n",
      "==================================================\n",
      "epoch= 53 \t loss= 0.578691848167559 \t error= 19.0853658245831 percent\n",
      "accuracy = 80.91463414634147\n",
      " \n",
      "1.421875 2\n",
      "error rate on test set = 71.09375 percent\n",
      "accuracy = 28.90625\n",
      "==================================================\n",
      "epoch= 54 \t loss= 0.5941932012395161 \t error= 18.971036556290414 percent\n",
      "accuracy = 81.02896341463415\n",
      " \n",
      "1.453125 2\n",
      "error rate on test set = 72.65625 percent\n",
      "accuracy = 27.34375\n",
      "==================================================\n",
      "epoch= 55 \t loss= 0.5569726664845537 \t error= 18.353658478434493 percent\n",
      "accuracy = 81.64634146341463\n",
      " \n",
      "1.4375 2\n",
      "error rate on test set = 71.875 percent\n",
      "accuracy = 28.125\n",
      "==================================================\n",
      "epoch= 56 \t loss= 0.640831684920846 \t error= 20.564024332093027 percent\n",
      "accuracy = 79.4359756097561\n",
      " \n",
      "1.390625 2\n",
      "error rate on test set = 69.53125 percent\n",
      "accuracy = 30.46875\n",
      "==================================================\n",
      "epoch= 57 \t loss= 0.7168719168843293 \t error= 22.29420731707317 percent\n",
      "accuracy = 77.70579268292683\n",
      " \n",
      "1.5 2\n",
      "error rate on test set = 75.0 percent\n",
      "accuracy = 25.0\n",
      "==================================================\n",
      "epoch= 58 \t loss= 0.5247686748824468 \t error= 16.798780458729443 percent\n",
      "accuracy = 83.20121951219512\n",
      " \n",
      "1.53125 2\n",
      "error rate on test set = 76.5625 percent\n",
      "accuracy = 23.4375\n",
      "==================================================\n",
      "epoch= 59 \t loss= 0.6568640768527985 \t error= 21.71493899531481 percent\n",
      "accuracy = 78.28506097560975\n",
      " \n",
      "1.453125 2\n",
      "error rate on test set = 72.65625 percent\n",
      "accuracy = 27.34375\n",
      "==================================================\n",
      "epoch= 60 \t loss= 1.0080312187442693 \t error= 18.559451219512198 percent\n",
      "accuracy = 81.4405487804878\n",
      " \n",
      "1.4375 2\n",
      "error rate on test set = 71.875 percent\n",
      "accuracy = 28.125\n",
      "==================================================\n",
      "epoch= 61 \t loss= 0.6354601539489699 \t error= 20.26676826360749 percent\n",
      "accuracy = 79.73323170731707\n",
      " \n",
      "1.4375 2\n",
      "error rate on test set = 71.875 percent\n",
      "accuracy = 28.125\n",
      "==================================================\n",
      "epoch= 62 \t loss= 0.5516529097789671 \t error= 17.179878019705054 percent\n",
      "accuracy = 82.8201219512195\n",
      " \n",
      "1.40625 2\n",
      "error rate on test set = 70.3125 percent\n",
      "accuracy = 29.6875\n",
      "==================================================\n",
      "epoch= 63 \t loss= 0.7021078532788811 \t error= 21.06707314165627 percent\n",
      "accuracy = 78.9329268292683\n",
      " \n",
      "1.453125 2\n",
      "error rate on test set = 72.65625 percent\n",
      "accuracy = 27.34375\n",
      "==================================================\n",
      "epoch= 64 \t loss= 0.6199544726348505 \t error= 21.211890185751567 percent\n",
      "accuracy = 78.78810975609755\n",
      " \n",
      "1.53125 2\n",
      "error rate on test set = 76.5625 percent\n",
      "accuracy = 23.4375\n",
      "==================================================\n",
      "epoch= 65 \t loss= 0.5695851637822825 \t error= 17.5228658245831 percent\n",
      "accuracy = 82.47713414634147\n",
      " \n",
      "1.4375 2\n",
      "error rate on test set = 71.875 percent\n",
      "accuracy = 28.125\n",
      "==================================================\n",
      "epoch= 66 \t loss= 0.613117879483758 \t error= 19.047256068485538 percent\n",
      "accuracy = 80.95274390243902\n",
      " \n",
      "1.4375 2\n",
      "error rate on test set = 71.875 percent\n",
      "accuracy = 28.125\n",
      "==================================================\n",
      "epoch= 67 \t loss= 0.6450363048693029 \t error= 19.580792653851393 percent\n",
      "accuracy = 80.41920731707317\n",
      " \n",
      "1.40625 2\n",
      "error rate on test set = 70.3125 percent\n",
      "accuracy = 29.6875\n",
      "==================================================\n",
      "epoch= 68 \t loss= 0.7015788435209088 \t error= 21.486280458729443 percent\n",
      "accuracy = 78.51371951219512\n",
      " \n",
      "1.390625 2\n",
      "error rate on test set = 69.53125 percent\n",
      "accuracy = 30.46875\n",
      "==================================================\n",
      "epoch= 69 \t loss= 0.8131972413237502 \t error= 23.22408542400453 percent\n",
      "accuracy = 76.77591463414635\n",
      " \n",
      "1.484375 2\n",
      "error rate on test set = 74.21875 percent\n",
      "accuracy = 25.78125\n",
      "==================================================\n",
      "epoch= 70 \t loss= 0.675883111612099 \t error= 22.827743902439025 percent\n",
      "accuracy = 77.17225609756098\n",
      " \n",
      "1.421875 2\n",
      "error rate on test set = 71.09375 percent\n",
      "accuracy = 28.90625\n",
      "==================================================\n",
      "epoch= 71 \t loss= 0.7655064632616392 \t error= 24.54268292682927 percent\n",
      "accuracy = 75.45731707317073\n",
      " \n",
      "1.453125 2\n",
      "error rate on test set = 72.65625 percent\n",
      "accuracy = 27.34375\n",
      "==================================================\n",
      "epoch= 72 \t loss= 0.5980373075822505 \t error= 20.678353600385712 percent\n",
      "accuracy = 79.32164634146342\n",
      " \n",
      "1.390625 2\n",
      "error rate on test set = 69.53125 percent\n",
      "accuracy = 30.46875\n",
      "==================================================\n",
      "epoch= 73 \t loss= 0.5784341778787898 \t error= 17.911585365853657 percent\n",
      "accuracy = 82.08841463414635\n",
      " \n",
      "1.4375 2\n",
      "error rate on test set = 71.875 percent\n",
      "accuracy = 28.125\n",
      "==================================================\n",
      "epoch= 74 \t loss= 0.8472971276539129 \t error= 26.242377990629617 percent\n",
      "accuracy = 73.7576219512195\n",
      " \n",
      "1.359375 2\n",
      "error rate on test set = 67.96875 percent\n",
      "accuracy = 32.03125\n",
      "==================================================\n",
      "epoch= 75 \t loss= 0.6831816652926003 \t error= 22.477134117266026 percent\n",
      "accuracy = 77.52286585365853\n",
      " \n",
      "1.484375 2\n",
      "error rate on test set = 74.21875 percent\n",
      "accuracy = 25.78125\n",
      "==================================================\n",
      "epoch= 76 \t loss= 0.8342661963003438 \t error= 25.74695116136132 percent\n",
      "accuracy = 74.2530487804878\n",
      " \n",
      "1.34375 2\n",
      "error rate on test set = 67.1875 percent\n",
      "accuracy = 32.8125\n",
      "==================================================\n",
      "epoch= 77 \t loss= 0.5670171888863168 \t error= 18.437499970924563 percent\n",
      "accuracy = 81.5625\n",
      " \n",
      "1.484375 2\n",
      "error rate on test set = 74.21875 percent\n",
      "accuracy = 25.78125\n",
      "==================================================\n",
      "epoch= 78 \t loss= 0.520748974346533 \t error= 18.27743896623937 percent\n",
      "accuracy = 81.72256097560975\n",
      " \n",
      "1.484375 2\n",
      "error rate on test set = 74.21875 percent\n",
      "accuracy = 25.78125\n",
      "==================================================\n",
      "epoch= 79 \t loss= 0.5373850951834422 \t error= 18.29268292682927 percent\n",
      "accuracy = 81.70731707317073\n",
      " \n",
      "1.453125 2\n",
      "error rate on test set = 72.65625 percent\n",
      "accuracy = 27.34375\n",
      "==================================================\n",
      "epoch= 80 \t loss= 0.7142569724379516 \t error= 22.477134117266026 percent\n",
      "accuracy = 77.52286585365853\n",
      " \n",
      "1.5 2\n",
      "error rate on test set = 75.0 percent\n",
      "accuracy = 25.0\n",
      "==================================================\n",
      "epoch= 81 \t loss= 2.5196713296378532 \t error= 22.782012166046513 percent\n",
      "accuracy = 77.21798780487805\n",
      " \n",
      "1.5 2\n",
      "error rate on test set = 75.0 percent\n",
      "accuracy = 25.0\n",
      "==================================================\n",
      "epoch= 82 \t loss= 0.7376867361003305 \t error= 21.83689024390244 percent\n",
      "accuracy = 78.16310975609755\n",
      " \n",
      "1.5 2\n",
      "error rate on test set = 75.0 percent\n",
      "accuracy = 25.0\n",
      "==================================================\n",
      "epoch= 83 \t loss= 0.6282423487523707 \t error= 20.335365795507666 percent\n",
      "accuracy = 79.66463414634147\n",
      " \n",
      "1.515625 2\n",
      "error rate on test set = 75.78125 percent\n",
      "accuracy = 24.21875\n",
      "==================================================\n",
      "epoch= 84 \t loss= 0.7335129732765803 \t error= 21.257621922144075 percent\n",
      "accuracy = 78.7423780487805\n",
      " \n",
      "1.34375 2\n",
      "error rate on test set = 67.1875 percent\n",
      "accuracy = 32.8125\n",
      "==================================================\n",
      "epoch= 85 \t loss= 0.649117054735742 \t error= 19.7713414343392 percent\n",
      "accuracy = 80.22865853658537\n",
      " \n",
      "1.40625 2\n",
      "error rate on test set = 70.3125 percent\n",
      "accuracy = 29.6875\n",
      "==================================================\n",
      "epoch= 86 \t loss= 0.6813088226609114 \t error= 21.6692072589223 percent\n",
      "accuracy = 78.33079268292683\n",
      " \n",
      "1.453125 2\n",
      "error rate on test set = 72.65625 percent\n",
      "accuracy = 27.34375\n",
      "==================================================\n",
      "epoch= 87 \t loss= 2.229795572961249 \t error= 32.50762195121951 percent\n",
      "accuracy = 67.4923780487805\n",
      " \n",
      "1.5625 2\n",
      "error rate on test set = 78.125 percent\n",
      "accuracy = 21.875\n",
      "==================================================\n",
      "epoch= 88 \t loss= 0.5995291943957166 \t error= 20.38109753190017 percent\n",
      "accuracy = 79.6189024390244\n",
      " \n",
      "1.546875 2\n",
      "error rate on test set = 77.34375 percent\n",
      "accuracy = 22.65625\n",
      "==================================================\n",
      "epoch= 89 \t loss= 0.6526571236005644 \t error= 20.304878019705054 percent\n",
      "accuracy = 79.6951219512195\n",
      " \n",
      "1.4375 2\n",
      "error rate on test set = 71.875 percent\n",
      "accuracy = 28.125\n",
      "==================================================\n",
      "epoch= 90 \t loss= 0.6745233259549955 \t error= 20.846036585365855 percent\n",
      "accuracy = 79.15396341463415\n",
      " \n",
      "1.515625 2\n",
      "error rate on test set = 75.78125 percent\n",
      "accuracy = 24.21875\n",
      "==================================================\n",
      "epoch= 91 \t loss= 0.6223794519901276 \t error= 19.00914631238798 percent\n",
      "accuracy = 80.99085365853658\n",
      " \n",
      "1.421875 2\n",
      "error rate on test set = 71.09375 percent\n",
      "accuracy = 28.90625\n",
      "==================================================\n",
      "epoch= 92 \t loss= 1.9527680161522656 \t error= 24.52743896623937 percent\n",
      "accuracy = 75.47256097560975\n",
      " \n",
      "1.40625 2\n",
      "error rate on test set = 70.3125 percent\n",
      "accuracy = 29.6875\n",
      "==================================================\n",
      "epoch= 93 \t loss= 0.6159548730385013 \t error= 18.88719506380035 percent\n",
      "accuracy = 81.11280487804878\n",
      " \n",
      "1.40625 2\n",
      "error rate on test set = 70.3125 percent\n",
      "accuracy = 29.6875\n",
      "==================================================\n",
      "epoch= 94 \t loss= 0.7381602500270052 \t error= 22.63719512195122 percent\n",
      "accuracy = 77.36280487804878\n",
      " \n",
      "1.359375 2\n",
      "error rate on test set = 67.96875 percent\n",
      "accuracy = 32.03125\n",
      "==================================================\n",
      "epoch= 95 \t loss= 0.5783483022596778 \t error= 18.71189024390244 percent\n",
      "accuracy = 81.28810975609755\n",
      " \n",
      "1.4375 2\n",
      "error rate on test set = 71.875 percent\n",
      "accuracy = 28.125\n",
      "==================================================\n",
      "epoch= 96 \t loss= 0.6072871074443911 \t error= 19.42835362946115 percent\n",
      "accuracy = 80.57164634146342\n",
      " \n",
      "1.421875 2\n",
      "error rate on test set = 71.09375 percent\n",
      "accuracy = 28.90625\n",
      "==================================================\n",
      "epoch= 97 \t loss= 0.5633435747245463 \t error= 18.864329268292682 percent\n",
      "accuracy = 81.13567073170732\n",
      " \n",
      "1.46875 2\n",
      "error rate on test set = 73.4375 percent\n",
      "accuracy = 26.5625\n",
      "==================================================\n",
      "epoch= 98 \t loss= 0.6392730965120036 \t error= 19.321646341463413 percent\n",
      "accuracy = 80.67835365853658\n",
      " \n",
      "1.4375 2\n",
      "error rate on test set = 71.875 percent\n",
      "accuracy = 28.125\n",
      "==================================================\n",
      "epoch= 99 \t loss= 0.8406366938497962 \t error= 27.942073199807144 percent\n",
      "accuracy = 72.0579268292683\n",
      " \n",
      "1.375 2\n",
      "error rate on test set = 68.75 percent\n",
      "accuracy = 31.25\n",
      "==================================================\n"
     ]
    }
   ],
   "source": [
    "num_class = 6\n",
    "bs = 64\n",
    "X_train = torch.from_numpy(np.array(X_train).astype(np.float32))\n",
    "y_train = torch.from_numpy(np.array(y_train).astype(np.float32)).type(torch.LongTensor)\n",
    "X_test = torch.from_numpy(np.array(X_test).astype(np.float32))\n",
    "y_test = torch.from_numpy(np.array(y_test).astype(np.float32)).type(torch.LongTensor)\n",
    "\n",
    "net = VGG_convnet(3, num_class).to(device)\n",
    "mean = X_train.mean().to(device)\n",
    "std = X_train.std().to(device)\n",
    "\n",
    "log = train_network(X_train, y_train, X_test, y_test, net, mean, std)"
   ]
  },
  {
   "cell_type": "code",
   "execution_count": 296,
   "metadata": {},
   "outputs": [
    {
     "data": {
      "text/html": [
       "<div>\n",
       "<style scoped>\n",
       "    .dataframe tbody tr th:only-of-type {\n",
       "        vertical-align: middle;\n",
       "    }\n",
       "\n",
       "    .dataframe tbody tr th {\n",
       "        vertical-align: top;\n",
       "    }\n",
       "\n",
       "    .dataframe thead th {\n",
       "        text-align: right;\n",
       "    }\n",
       "</style>\n",
       "<table border=\"1\" class=\"dataframe\">\n",
       "  <thead>\n",
       "    <tr style=\"text-align: right;\">\n",
       "      <th></th>\n",
       "      <th>filename</th>\n",
       "      <th>label</th>\n",
       "    </tr>\n",
       "  </thead>\n",
       "  <tbody>\n",
       "    <tr>\n",
       "      <th>0</th>\n",
       "      <td>0.jpg</td>\n",
       "      <td>1</td>\n",
       "    </tr>\n",
       "    <tr>\n",
       "      <th>1</th>\n",
       "      <td>1.jpg</td>\n",
       "      <td>1</td>\n",
       "    </tr>\n",
       "    <tr>\n",
       "      <th>2</th>\n",
       "      <td>2.jpg</td>\n",
       "      <td>5</td>\n",
       "    </tr>\n",
       "    <tr>\n",
       "      <th>3</th>\n",
       "      <td>3.jpg</td>\n",
       "      <td>4</td>\n",
       "    </tr>\n",
       "    <tr>\n",
       "      <th>4</th>\n",
       "      <td>4.jpg</td>\n",
       "      <td>1</td>\n",
       "    </tr>\n",
       "  </tbody>\n",
       "</table>\n",
       "</div>"
      ],
      "text/plain": [
       "  filename  label\n",
       "0    0.jpg      1\n",
       "1    1.jpg      1\n",
       "2    2.jpg      5\n",
       "3    3.jpg      4\n",
       "4    4.jpg      1"
      ]
     },
     "execution_count": 296,
     "metadata": {},
     "output_type": "execute_result"
    }
   ],
   "source": [
    "labels.head()"
   ]
  },
  {
   "cell_type": "code",
   "execution_count": 297,
   "metadata": {},
   "outputs": [],
   "source": [
    "def modify_label(df, image_idx, label):\n",
    "    file_name = str(image_idx)+\".jpg\"\n",
    "    display(df.loc[df[\"filename\"]==file_name])\n",
    "    df.loc[df[\"filename\"]==file_name, \"label\"] = label\n",
    "    display(df.loc[df[\"filename\"]==file_name])"
   ]
  },
  {
   "cell_type": "code",
   "execution_count": 298,
   "metadata": {},
   "outputs": [],
   "source": [
    "\"\"\" Dont run this unless you comfirm to modify label\n",
    "\"\"\"\n",
    "modify = False\n",
    "if modify:\n",
    "    modify_label(labels, idx, 2)"
   ]
  },
  {
   "cell_type": "code",
   "execution_count": 299,
   "metadata": {},
   "outputs": [],
   "source": [
    "# labels.to_csv(\"label.csv\")"
   ]
  },
  {
   "cell_type": "code",
   "execution_count": 300,
   "metadata": {},
   "outputs": [
    {
     "name": "stdout",
     "output_type": "stream",
     "text": [
      "293\n"
     ]
    },
    {
     "data": {
      "image/png": "[encoded data removed]",
      "text/plain": [
       "<Figure size 500x500 with 1 Axes>"
      ]
     },
     "metadata": {},
     "output_type": "display_data"
    },
    {
     "data": {
      "image/png": "[encoded data removed]",
      "text/plain": [
       "<Figure size 640x480 with 1 Axes>"
      ]
     },
     "metadata": {},
     "output_type": "display_data"
    }
   ],
   "source": [
    "# choose a picture at random\n",
    "idx=randint(0, 1500*0.2)\n",
    "label = ('Not Skin', 'Normal', 'Pustule', 'Whitehead', 'Blackhead', 'Cyst',)\n",
    "\n",
    "print(idx)\n",
    "im=X_test[idx].cpu().detach().numpy().astype(np.uint8)\n",
    "# X_train, X_test, y_train, y_test\n",
    "# diplay the picture\n",
    "image_label = f\"label index: {y_test[idx]}; label is {label[y_test[idx]]}\"\n",
    "image_utils().plot_image(im,title=image_label, figsize=(5,5))\n",
    "\n",
    "im=X_test[idx]\n",
    "im = torch.from_numpy(np.array(im).astype(np.float32)).to(device)\n",
    "X_train_ = torch.from_numpy(np.array(X_train).astype(np.float32))\n",
    "X_train_ = X_train_.view(-1, 3, 50, 50)\n",
    "mean= X_train_.mean()\n",
    "std= X_train_.std()\n",
    "# # send to device, rescale, and view as a batch of 1 \n",
    "# im = im.to(device)\n",
    "im= (im-mean) / std\n",
    "\n",
    "im=im.view(1,3,50,50)\n",
    "\n",
    "# # feed it to the net and display the confidence scores\n",
    "scores =  net(im) \n",
    "probs= torch.softmax(scores, dim=1)\n",
    "image_utils().show_prob_pimples(probs.cpu())"
   ]
  },
  {
   "cell_type": "code",
   "execution_count": 301,
   "metadata": {},
   "outputs": [
    {
     "data": {
      "application/vnd.plotly.v1+json": {
       "config": {
        "plotlyServerURL": "https://plot.ly"
       },
       "data": [
        {
         "hovertemplate": "index=%{x}<br>train_loss=%{y}<extra></extra>",
         "legendgroup": "",
         "line": {
          "color": "#636efa",
          "dash": "solid"
         },
         "marker": {
          "symbol": "circle"
         },
         "mode": "lines",
         "name": "",
         "orientation": "v",
         "showlegend": false,
         "type": "scatter",
         "x": [
          1,
          2,
          3,
          4,
          5,
          6,
          7,
          8,
          9,
          10,
          11,
          12,
          13,
          14,
          15,
          16,
          17,
          18,
          19,
          20,
          21,
          22,
          23,
          24,
          25,
          26,
          27,
          28,
          29,
          30,
          31,
          32,
          33,
          34,
          35,
          36,
          37,
          38,
          39,
          40,
          41,
          42,
          43,
          44,
          45,
          46,
          47,
          48,
          49,
          50,
          51,
          52,
          53,
          54,
          55,
          56,
          57,
          58,
          59,
          60,
          61,
          62,
          63,
          64,
          65,
          66,
          67,
          68,
          69,
          70,
          71,
          72,
          73,
          74,
          75,
          76,
          77,
          78,
          79,
          80,
          81,
          82,
          83,
          84,
          85,
          86,
          87,
          88,
          89,
          90,
          91,
          92,
          93,
          94,
          95,
          96,
          97,
          98,
          99
         ],
         "xaxis": "x",
         "y": [
          1.7937723398208618,
          1.7853081895083915,
          1.752747192615416,
          1.7447376338447012,
          1.73107274857963,
          1.72113626177718,
          1.719312583527914,
          1.7066655188072017,
          1.7049363328189384,
          1.6890999921938268,
          1.6894703580111992,
          1.6706459464096441,
          1.6872436622293985,
          1.6719242247139536,
          1.6578269150198959,
          1.6333483021433761,
          1.6269253812185147,
          1.608248911252836,
          1.5829744338989258,
          1.5370626972942818,
          1.4754172912458094,
          1.40952258284499,
          1.3238324624736135,
          1.264054478668585,
          1.1548496252152978,
          1.1009011152313977,
          1.0326148576852752,
          0.971571609741304,
          0.954726855929305,
          0.8286176594655689,
          0.7831058851102504,
          0.6865698651569646,
          0.6833632293997741,
          0.6647002428043179,
          0.682719176862298,
          0.6253524342688118,
          0.5688610872844371,
          0.5963411919954347,
          0.5567310038136273,
          0.5279371531271353,
          0.5729260793546351,
          0.6170161381000425,
          0.5173980662735497,
          0.5696158245569323,
          0.5711708664894104,
          0.5414073547212089,
          0.5292901912840401,
          0.6029360279804323,
          0.6024676532280154,
          0.49985264223523257,
          0.5453954362651197,
          0.5102399809331428,
          0.578691848167559,
          0.5941932012395161,
          0.5569726664845537,
          0.640831684920846,
          0.7168719168843293,
          0.5247686748824468,
          0.6568640768527985,
          1.0080312187442693,
          0.6354601539489699,
          0.5516529097789671,
          0.7021078532788811,
          0.6199544726348505,
          0.5695851637822825,
          0.613117879483758,
          0.6450363048693029,
          0.7015788435209088,
          0.8131972413237502,
          0.675883111612099,
          0.7655064632616392,
          0.5980373075822505,
          0.5784341778787898,
          0.8472971276539129,
          0.6831816652926003,
          0.8342661963003438,
          0.5670171888863168,
          0.520748974346533,
          0.5373850951834422,
          0.7142569724379516,
          2.5196713296378532,
          0.7376867361003305,
          0.6282423487523707,
          0.7335129732765803,
          0.649117054735742,
          0.6813088226609114,
          2.229795572961249,
          0.5995291943957166,
          0.6526571236005644,
          0.6745233259549955,
          0.6223794519901276,
          1.9527680161522656,
          0.6159548730385013,
          0.7381602500270052,
          0.5783483022596778,
          0.6072871074443911,
          0.5633435747245463,
          0.6392730965120036,
          0.8406366938497962
         ],
         "yaxis": "y"
        }
       ],
       "layout": {
        "legend": {
         "tracegroupgap": 0
        },
        "margin": {
         "t": 60
        },
        "template": {
         "data": {
          "bar": [
           {
            "error_x": {
             "color": "#2a3f5f"
            },
            "error_y": {
             "color": "#2a3f5f"
            },
            "marker": {
             "line": {
              "color": "#E5ECF6",
              "width": 0.5
             },
             "pattern": {
              "fillmode": "overlay",
              "size": 10,
              "solidity": 0.2
             }
            },
            "type": "bar"
           }
          ],
          "barpolar": [
           {
            "marker": {
             "line": {
              "color": "#E5ECF6",
              "width": 0.5
             },
             "pattern": {
              "fillmode": "overlay",
              "size": 10,
              "solidity": 0.2
             }
            },
            "type": "barpolar"
           }
          ],
          "carpet": [
           {
            "aaxis": {
             "endlinecolor": "#2a3f5f",
             "gridcolor": "white",
             "linecolor": "white",
             "minorgridcolor": "white",
             "startlinecolor": "#2a3f5f"
            },
            "baxis": {
             "endlinecolor": "#2a3f5f",
             "gridcolor": "white",
             "linecolor": "white",
             "minorgridcolor": "white",
             "startlinecolor": "#2a3f5f"
            },
            "type": "carpet"
           }
          ],
          "choropleth": [
           {
            "colorbar": {
             "outlinewidth": 0,
             "ticks": ""
            },
            "type": "choropleth"
           }
          ],
          "contour": [
           {
            "colorbar": {
             "outlinewidth": 0,
             "ticks": ""
            },
            "colorscale": [
             [
              0,
              "#0d0887"
             ],
             [
              0.1111111111111111,
              "#46039f"
             ],
             [
              0.2222222222222222,
              "#7201a8"
             ],
             [
              0.3333333333333333,
              "#9c179e"
             ],
             [
              0.4444444444444444,
              "#bd3786"
             ],
             [
              0.5555555555555556,
              "#d8576b"
             ],
             [
              0.6666666666666666,
              "#ed7953"
             ],
             [
              0.7777777777777778,
              "#fb9f3a"
             ],
             [
              0.8888888888888888,
              "#fdca26"
             ],
             [
              1,
              "#f0f921"
             ]
            ],
            "type": "contour"
           }
          ],
          "contourcarpet": [
           {
            "colorbar": {
             "outlinewidth": 0,
             "ticks": ""
            },
            "type": "contourcarpet"
           }
          ],
          "heatmap": [
           {
            "colorbar": {
             "outlinewidth": 0,
             "ticks": ""
            },
            "colorscale": [
             [
              0,
              "#0d0887"
             ],
             [
              0.1111111111111111,
              "#46039f"
             ],
             [
              0.2222222222222222,
              "#7201a8"
             ],
             [
              0.3333333333333333,
              "#9c179e"
             ],
             [
              0.4444444444444444,
              "#bd3786"
             ],
             [
              0.5555555555555556,
              "#d8576b"
             ],
             [
              0.6666666666666666,
              "#ed7953"
             ],
             [
              0.7777777777777778,
              "#fb9f3a"
             ],
             [
              0.8888888888888888,
              "#fdca26"
             ],
             [
              1,
              "#f0f921"
             ]
            ],
            "type": "heatmap"
           }
          ],
          "heatmapgl": [
           {
            "colorbar": {
             "outlinewidth": 0,
             "ticks": ""
            },
            "colorscale": [
             [
              0,
              "#0d0887"
             ],
             [
              0.1111111111111111,
              "#46039f"
             ],
             [
              0.2222222222222222,
              "#7201a8"
             ],
             [
              0.3333333333333333,
              "#9c179e"
             ],
             [
              0.4444444444444444,
              "#bd3786"
             ],
             [
              0.5555555555555556,
              "#d8576b"
             ],
             [
              0.6666666666666666,
              "#ed7953"
             ],
             [
              0.7777777777777778,
              "#fb9f3a"
             ],
             [
              0.8888888888888888,
              "#fdca26"
             ],
             [
              1,
              "#f0f921"
             ]
            ],
            "type": "heatmapgl"
           }
          ],
          "histogram": [
           {
            "marker": {
             "pattern": {
              "fillmode": "overlay",
              "size": 10,
              "solidity": 0.2
             }
            },
            "type": "histogram"
           }
          ],
          "histogram2d": [
           {
            "colorbar": {
             "outlinewidth": 0,
             "ticks": ""
            },
            "colorscale": [
             [
              0,
              "#0d0887"
             ],
             [
              0.1111111111111111,
              "#46039f"
             ],
             [
              0.2222222222222222,
              "#7201a8"
             ],
             [
              0.3333333333333333,
              "#9c179e"
             ],
             [
              0.4444444444444444,
              "#bd3786"
             ],
             [
              0.5555555555555556,
              "#d8576b"
             ],
             [
              0.6666666666666666,
              "#ed7953"
             ],
             [
              0.7777777777777778,
              "#fb9f3a"
             ],
             [
              0.8888888888888888,
              "#fdca26"
             ],
             [
              1,
              "#f0f921"
             ]
            ],
            "type": "histogram2d"
           }
          ],
          "histogram2dcontour": [
           {
            "colorbar": {
             "outlinewidth": 0,
             "ticks": ""
            },
            "colorscale": [
             [
              0,
              "#0d0887"
             ],
             [
              0.1111111111111111,
              "#46039f"
             ],
             [
              0.2222222222222222,
              "#7201a8"
             ],
             [
              0.3333333333333333,
              "#9c179e"
             ],
             [
              0.4444444444444444,
              "#bd3786"
             ],
             [
              0.5555555555555556,
              "#d8576b"
             ],
             [
              0.6666666666666666,
              "#ed7953"
             ],
             [
              0.7777777777777778,
              "#fb9f3a"
             ],
             [
              0.8888888888888888,
              "#fdca26"
             ],
             [
              1,
              "#f0f921"
             ]
            ],
            "type": "histogram2dcontour"
           }
          ],
          "mesh3d": [
           {
            "colorbar": {
             "outlinewidth": 0,
             "ticks": ""
            },
            "type": "mesh3d"
           }
          ],
          "parcoords": [
           {
            "line": {
             "colorbar": {
              "outlinewidth": 0,
              "ticks": ""
             }
            },
            "type": "parcoords"
           }
          ],
          "pie": [
           {
            "automargin": true,
            "type": "pie"
           }
          ],
          "scatter": [
           {
            "marker": {
             "colorbar": {
              "outlinewidth": 0,
              "ticks": ""
             }
            },
            "type": "scatter"
           }
          ],
          "scatter3d": [
           {
            "line": {
             "colorbar": {
              "outlinewidth": 0,
              "ticks": ""
             }
            },
            "marker": {
             "colorbar": {
              "outlinewidth": 0,
              "ticks": ""
             }
            },
            "type": "scatter3d"
           }
          ],
          "scattercarpet": [
           {
            "marker": {
             "colorbar": {
              "outlinewidth": 0,
              "ticks": ""
             }
            },
            "type": "scattercarpet"
           }
          ],
          "scattergeo": [
           {
            "marker": {
             "colorbar": {
              "outlinewidth": 0,
              "ticks": ""
             }
            },
            "type": "scattergeo"
           }
          ],
          "scattergl": [
           {
            "marker": {
             "colorbar": {
              "outlinewidth": 0,
              "ticks": ""
             }
            },
            "type": "scattergl"
           }
          ],
          "scattermapbox": [
           {
            "marker": {
             "colorbar": {
              "outlinewidth": 0,
              "ticks": ""
             }
            },
            "type": "scattermapbox"
           }
          ],
          "scatterpolar": [
           {
            "marker": {
             "colorbar": {
              "outlinewidth": 0,
              "ticks": ""
             }
            },
            "type": "scatterpolar"
           }
          ],
          "scatterpolargl": [
           {
            "marker": {
             "colorbar": {
              "outlinewidth": 0,
              "ticks": ""
             }
            },
            "type": "scatterpolargl"
           }
          ],
          "scatterternary": [
           {
            "marker": {
             "colorbar": {
              "outlinewidth": 0,
              "ticks": ""
             }
            },
            "type": "scatterternary"
           }
          ],
          "surface": [
           {
            "colorbar": {
             "outlinewidth": 0,
             "ticks": ""
            },
            "colorscale": [
             [
              0,
              "#0d0887"
             ],
             [
              0.1111111111111111,
              "#46039f"
             ],
             [
              0.2222222222222222,
              "#7201a8"
             ],
             [
              0.3333333333333333,
              "#9c179e"
             ],
             [
              0.4444444444444444,
              "#bd3786"
             ],
             [
              0.5555555555555556,
              "#d8576b"
             ],
             [
              0.6666666666666666,
              "#ed7953"
             ],
             [
              0.7777777777777778,
              "#fb9f3a"
             ],
             [
              0.8888888888888888,
              "#fdca26"
             ],
             [
              1,
              "#f0f921"
             ]
            ],
            "type": "surface"
           }
          ],
          "table": [
           {
            "cells": {
             "fill": {
              "color": "#EBF0F8"
             },
             "line": {
              "color": "white"
             }
            },
            "header": {
             "fill": {
              "color": "#C8D4E3"
             },
             "line": {
              "color": "white"
             }
            },
            "type": "table"
           }
          ]
         },
         "layout": {
          "annotationdefaults": {
           "arrowcolor": "#2a3f5f",
           "arrowhead": 0,
           "arrowwidth": 1
          },
          "autotypenumbers": "strict",
          "coloraxis": {
           "colorbar": {
            "outlinewidth": 0,
            "ticks": ""
           }
          },
          "colorscale": {
           "diverging": [
            [
             0,
             "#8e0152"
            ],
            [
             0.1,
             "#c51b7d"
            ],
            [
             0.2,
             "#de77ae"
            ],
            [
             0.3,
             "#f1b6da"
            ],
            [
             0.4,
             "#fde0ef"
            ],
            [
             0.5,
             "#f7f7f7"
            ],
            [
             0.6,
             "#e6f5d0"
            ],
            [
             0.7,
             "#b8e186"
            ],
            [
             0.8,
             "#7fbc41"
            ],
            [
             0.9,
             "#4d9221"
            ],
            [
             1,
             "#276419"
            ]
           ],
           "sequential": [
            [
             0,
             "#0d0887"
            ],
            [
             0.1111111111111111,
             "#46039f"
            ],
            [
             0.2222222222222222,
             "#7201a8"
            ],
            [
             0.3333333333333333,
             "#9c179e"
            ],
            [
             0.4444444444444444,
             "#bd3786"
            ],
            [
             0.5555555555555556,
             "#d8576b"
            ],
            [
             0.6666666666666666,
             "#ed7953"
            ],
            [
             0.7777777777777778,
             "#fb9f3a"
            ],
            [
             0.8888888888888888,
             "#fdca26"
            ],
            [
             1,
             "#f0f921"
            ]
           ],
           "sequentialminus": [
            [
             0,
             "#0d0887"
            ],
            [
             0.1111111111111111,
             "#46039f"
            ],
            [
             0.2222222222222222,
             "#7201a8"
            ],
            [
             0.3333333333333333,
             "#9c179e"
            ],
            [
             0.4444444444444444,
             "#bd3786"
            ],
            [
             0.5555555555555556,
             "#d8576b"
            ],
            [
             0.6666666666666666,
             "#ed7953"
            ],
            [
             0.7777777777777778,
             "#fb9f3a"
            ],
            [
             0.8888888888888888,
             "#fdca26"
            ],
            [
             1,
             "#f0f921"
            ]
           ]
          },
          "colorway": [
           "#636efa",
           "#EF553B",
           "#00cc96",
           "#ab63fa",
           "#FFA15A",
           "#19d3f3",
           "#FF6692",
           "#B6E880",
           "#FF97FF",
           "#FECB52"
          ],
          "font": {
           "color": "#2a3f5f"
          },
          "geo": {
           "bgcolor": "white",
           "lakecolor": "white",
           "landcolor": "#E5ECF6",
           "showlakes": true,
           "showland": true,
           "subunitcolor": "white"
          },
          "hoverlabel": {
           "align": "left"
          },
          "hovermode": "closest",
          "mapbox": {
           "style": "light"
          },
          "paper_bgcolor": "white",
          "plot_bgcolor": "#E5ECF6",
          "polar": {
           "angularaxis": {
            "gridcolor": "white",
            "linecolor": "white",
            "ticks": ""
           },
           "bgcolor": "#E5ECF6",
           "radialaxis": {
            "gridcolor": "white",
            "linecolor": "white",
            "ticks": ""
           }
          },
          "scene": {
           "xaxis": {
            "backgroundcolor": "#E5ECF6",
            "gridcolor": "white",
            "gridwidth": 2,
            "linecolor": "white",
            "showbackground": true,
            "ticks": "",
            "zerolinecolor": "white"
           },
           "yaxis": {
            "backgroundcolor": "#E5ECF6",
            "gridcolor": "white",
            "gridwidth": 2,
            "linecolor": "white",
            "showbackground": true,
            "ticks": "",
            "zerolinecolor": "white"
           },
           "zaxis": {
            "backgroundcolor": "#E5ECF6",
            "gridcolor": "white",
            "gridwidth": 2,
            "linecolor": "white",
            "showbackground": true,
            "ticks": "",
            "zerolinecolor": "white"
           }
          },
          "shapedefaults": {
           "line": {
            "color": "#2a3f5f"
           }
          },
          "ternary": {
           "aaxis": {
            "gridcolor": "white",
            "linecolor": "white",
            "ticks": ""
           },
           "baxis": {
            "gridcolor": "white",
            "linecolor": "white",
            "ticks": ""
           },
           "bgcolor": "#E5ECF6",
           "caxis": {
            "gridcolor": "white",
            "linecolor": "white",
            "ticks": ""
           }
          },
          "title": {
           "x": 0.05
          },
          "xaxis": {
           "automargin": true,
           "gridcolor": "white",
           "linecolor": "white",
           "ticks": "",
           "title": {
            "standoff": 15
           },
           "zerolinecolor": "white",
           "zerolinewidth": 2
          },
          "yaxis": {
           "automargin": true,
           "gridcolor": "white",
           "linecolor": "white",
           "ticks": "",
           "title": {
            "standoff": 15
           },
           "zerolinecolor": "white",
           "zerolinewidth": 2
          }
         }
        },
        "xaxis": {
         "anchor": "y",
         "domain": [
          0,
          1
         ],
         "title": {
          "text": "index"
         }
        },
        "yaxis": {
         "anchor": "x",
         "domain": [
          0,
          1
         ],
         "title": {
          "text": "train_loss"
         }
        }
       }
      }
     },
     "metadata": {},
     "output_type": "display_data"
    },
    {
     "data": {
      "application/vnd.plotly.v1+json": {
       "config": {
        "plotlyServerURL": "https://plot.ly"
       },
       "data": [
        {
         "hovertemplate": "log_type=train_accuracy<br>index=%{x}<br>value=%{y}<extra></extra>",
         "legendgroup": "train_accuracy",
         "line": {
          "color": "#636efa",
          "dash": "solid"
         },
         "marker": {
          "symbol": "circle"
         },
         "mode": "lines",
         "name": "train_accuracy",
         "orientation": "v",
         "showlegend": true,
         "type": "scatter",
         "x": [
          0,
          1,
          2,
          3,
          4,
          5,
          6,
          7,
          8,
          9,
          10,
          11,
          12,
          13,
          14,
          15,
          16,
          17,
          18,
          19,
          20,
          21,
          22,
          23,
          24,
          25,
          26,
          27,
          28,
          29,
          30,
          31,
          32,
          33,
          34,
          35,
          36,
          37,
          38,
          39,
          40,
          41,
          42,
          43,
          44,
          45,
          46,
          47,
          48,
          49,
          50,
          51,
          52,
          53,
          54,
          55,
          56,
          57,
          58,
          59,
          60,
          61,
          62,
          63,
          64,
          65,
          66,
          67,
          68,
          69,
          70,
          71,
          72,
          73,
          74,
          75,
          76,
          77,
          78,
          79,
          80,
          81,
          82,
          83,
          84,
          85,
          86,
          87,
          88,
          89,
          90,
          91,
          92,
          93,
          94,
          95,
          96,
          97,
          98,
          99
         ],
         "xaxis": "x",
         "y": [
          15.426829268292684,
          17.134146341463413,
          19.420731707317074,
          23.879573170731707,
          24.077743902439025,
          25.289634146341463,
          24.54268292682927,
          26.173780487804876,
          26.661585365853657,
          26.051829268292682,
          27.583841463414632,
          27.46951219512195,
          29.16920731707317,
          27.850609756097562,
          29.83231707317073,
          29.054878048780488,
          30.960365853658537,
          31.120426829268293,
          29.908536585365855,
          31.089939024390244,
          34.923780487804876,
          37.60670731707317,
          40.5030487804878,
          43.239329268292686,
          46.63109756097561,
          51.66158536585366,
          55.426829268292686,
          58.91006097560975,
          61.951219512195124,
          63.635670731707314,
          67.41615853658537,
          69.29878048780488,
          74.88567073170732,
          74.65701219512195,
          75.40396341463415,
          75.3125,
          77.53048780487805,
          78.96341463414635,
          79.3140243902439,
          80.26676829268293,
          80.79268292682927,
          80.54115853658537,
          78.7423780487805,
          82.59146341463415,
          79.8094512195122,
          81.41006097560975,
          82.02743902439025,
          81.60060975609755,
          79.73323170731707,
          81.07469512195122,
          82.58384146341463,
          82.20274390243902,
          83.57469512195122,
          80.91463414634147,
          81.02896341463415,
          81.64634146341463,
          79.4359756097561,
          77.70579268292683,
          83.20121951219512,
          78.28506097560975,
          81.4405487804878,
          79.73323170731707,
          82.8201219512195,
          78.9329268292683,
          78.78810975609755,
          82.47713414634147,
          80.95274390243902,
          80.41920731707317,
          78.51371951219512,
          76.77591463414635,
          77.17225609756098,
          75.45731707317073,
          79.32164634146342,
          82.08841463414635,
          73.7576219512195,
          77.52286585365853,
          74.2530487804878,
          81.5625,
          81.72256097560975,
          81.70731707317073,
          77.52286585365853,
          77.21798780487805,
          78.16310975609755,
          79.66463414634147,
          78.7423780487805,
          80.22865853658537,
          78.33079268292683,
          67.4923780487805,
          79.6189024390244,
          79.6951219512195,
          79.15396341463415,
          80.99085365853658,
          75.47256097560975,
          81.11280487804878,
          77.36280487804878,
          81.28810975609755,
          80.57164634146342,
          81.13567073170732,
          80.67835365853658,
          72.0579268292683
         ],
         "yaxis": "y"
        },
        {
         "hovertemplate": "log_type=test_accuracy<br>index=%{x}<br>value=%{y}<extra></extra>",
         "legendgroup": "test_accuracy",
         "line": {
          "color": "#EF553B",
          "dash": "solid"
         },
         "marker": {
          "symbol": "circle"
         },
         "mode": "lines",
         "name": "test_accuracy",
         "orientation": "v",
         "showlegend": true,
         "type": "scatter",
         "x": [
          0,
          1,
          2,
          3,
          4,
          5,
          6,
          7,
          8,
          9,
          10,
          11,
          12,
          13,
          14,
          15,
          16,
          17,
          18,
          19,
          20,
          21,
          22,
          23,
          24,
          25,
          26,
          27,
          28,
          29,
          30,
          31,
          32,
          33,
          34,
          35,
          36,
          37,
          38,
          39,
          40,
          41,
          42,
          43,
          44,
          45,
          46,
          47,
          48,
          49,
          50,
          51,
          52,
          53,
          54,
          55,
          56,
          57,
          58,
          59,
          60,
          61,
          62,
          63,
          64,
          65,
          66,
          67,
          68,
          69,
          70,
          71,
          72,
          73,
          74,
          75,
          76,
          77,
          78,
          79,
          80,
          81,
          82,
          83,
          84,
          85,
          86,
          87,
          88,
          89,
          90,
          91,
          92,
          93,
          94,
          95,
          96,
          97,
          98,
          99
         ],
         "xaxis": "x",
         "y": [
          5.46875,
          18.75,
          28.90625,
          32.03125,
          26.5625,
          30.46875,
          32.8125,
          28.125,
          31.25,
          29.6875,
          33.59375,
          31.25,
          33.59375,
          28.90625,
          30.46875,
          35.15625,
          29.6875,
          30.46875,
          29.6875,
          28.125,
          27.34375,
          26.5625,
          25,
          22.65625,
          24.21875,
          24.21875,
          23.4375,
          26.5625,
          27.34375,
          25.78125,
          21.875,
          28.125,
          30.46875,
          25.78125,
          25,
          29.6875,
          24.21875,
          28.125,
          28.125,
          28.90625,
          26.5625,
          21.875,
          25,
          28.125,
          29.6875,
          32.03125,
          29.6875,
          25.78125,
          30.46875,
          29.6875,
          28.90625,
          28.125,
          28.125,
          28.90625,
          27.34375,
          28.125,
          30.46875,
          25,
          23.4375,
          27.34375,
          28.125,
          28.125,
          29.6875,
          27.34375,
          23.4375,
          28.125,
          28.125,
          29.6875,
          30.46875,
          25.78125,
          28.90625,
          27.34375,
          30.46875,
          28.125,
          32.03125,
          25.78125,
          32.8125,
          25.78125,
          25.78125,
          27.34375,
          25,
          25,
          25,
          24.21875,
          32.8125,
          29.6875,
          27.34375,
          21.875,
          22.65625,
          28.125,
          24.21875,
          28.90625,
          29.6875,
          29.6875,
          32.03125,
          28.125,
          28.90625,
          26.5625,
          28.125,
          31.25
         ],
         "yaxis": "y"
        }
       ],
       "layout": {
        "legend": {
         "title": {
          "text": "log_type"
         },
         "tracegroupgap": 0
        },
        "margin": {
         "t": 60
        },
        "template": {
         "data": {
          "bar": [
           {
            "error_x": {
             "color": "#2a3f5f"
            },
            "error_y": {
             "color": "#2a3f5f"
            },
            "marker": {
             "line": {
              "color": "#E5ECF6",
              "width": 0.5
             },
             "pattern": {
              "fillmode": "overlay",
              "size": 10,
              "solidity": 0.2
             }
            },
            "type": "bar"
           }
          ],
          "barpolar": [
           {
            "marker": {
             "line": {
              "color": "#E5ECF6",
              "width": 0.5
             },
             "pattern": {
              "fillmode": "overlay",
              "size": 10,
              "solidity": 0.2
             }
            },
            "type": "barpolar"
           }
          ],
          "carpet": [
           {
            "aaxis": {
             "endlinecolor": "#2a3f5f",
             "gridcolor": "white",
             "linecolor": "white",
             "minorgridcolor": "white",
             "startlinecolor": "#2a3f5f"
            },
            "baxis": {
             "endlinecolor": "#2a3f5f",
             "gridcolor": "white",
             "linecolor": "white",
             "minorgridcolor": "white",
             "startlinecolor": "#2a3f5f"
            },
            "type": "carpet"
           }
          ],
          "choropleth": [
           {
            "colorbar": {
             "outlinewidth": 0,
             "ticks": ""
            },
            "type": "choropleth"
           }
          ],
          "contour": [
           {
            "colorbar": {
             "outlinewidth": 0,
             "ticks": ""
            },
            "colorscale": [
             [
              0,
              "#0d0887"
             ],
             [
              0.1111111111111111,
              "#46039f"
             ],
             [
              0.2222222222222222,
              "#7201a8"
             ],
             [
              0.3333333333333333,
              "#9c179e"
             ],
             [
              0.4444444444444444,
              "#bd3786"
             ],
             [
              0.5555555555555556,
              "#d8576b"
             ],
             [
              0.6666666666666666,
              "#ed7953"
             ],
             [
              0.7777777777777778,
              "#fb9f3a"
             ],
             [
              0.8888888888888888,
              "#fdca26"
             ],
             [
              1,
              "#f0f921"
             ]
            ],
            "type": "contour"
           }
          ],
          "contourcarpet": [
           {
            "colorbar": {
             "outlinewidth": 0,
             "ticks": ""
            },
            "type": "contourcarpet"
           }
          ],
          "heatmap": [
           {
            "colorbar": {
             "outlinewidth": 0,
             "ticks": ""
            },
            "colorscale": [
             [
              0,
              "#0d0887"
             ],
             [
              0.1111111111111111,
              "#46039f"
             ],
             [
              0.2222222222222222,
              "#7201a8"
             ],
             [
              0.3333333333333333,
              "#9c179e"
             ],
             [
              0.4444444444444444,
              "#bd3786"
             ],
             [
              0.5555555555555556,
              "#d8576b"
             ],
             [
              0.6666666666666666,
              "#ed7953"
             ],
             [
              0.7777777777777778,
              "#fb9f3a"
             ],
             [
              0.8888888888888888,
              "#fdca26"
             ],
             [
              1,
              "#f0f921"
             ]
            ],
            "type": "heatmap"
           }
          ],
          "heatmapgl": [
           {
            "colorbar": {
             "outlinewidth": 0,
             "ticks": ""
            },
            "colorscale": [
             [
              0,
              "#0d0887"
             ],
             [
              0.1111111111111111,
              "#46039f"
             ],
             [
              0.2222222222222222,
              "#7201a8"
             ],
             [
              0.3333333333333333,
              "#9c179e"
             ],
             [
              0.4444444444444444,
              "#bd3786"
             ],
             [
              0.5555555555555556,
              "#d8576b"
             ],
             [
              0.6666666666666666,
              "#ed7953"
             ],
             [
              0.7777777777777778,
              "#fb9f3a"
             ],
             [
              0.8888888888888888,
              "#fdca26"
             ],
             [
              1,
              "#f0f921"
             ]
            ],
            "type": "heatmapgl"
           }
          ],
          "histogram": [
           {
            "marker": {
             "pattern": {
              "fillmode": "overlay",
              "size": 10,
              "solidity": 0.2
             }
            },
            "type": "histogram"
           }
          ],
          "histogram2d": [
           {
            "colorbar": {
             "outlinewidth": 0,
             "ticks": ""
            },
            "colorscale": [
             [
              0,
              "#0d0887"
             ],
             [
              0.1111111111111111,
              "#46039f"
             ],
             [
              0.2222222222222222,
              "#7201a8"
             ],
             [
              0.3333333333333333,
              "#9c179e"
             ],
             [
              0.4444444444444444,
              "#bd3786"
             ],
             [
              0.5555555555555556,
              "#d8576b"
             ],
             [
              0.6666666666666666,
              "#ed7953"
             ],
             [
              0.7777777777777778,
              "#fb9f3a"
             ],
             [
              0.8888888888888888,
              "#fdca26"
             ],
             [
              1,
              "#f0f921"
             ]
            ],
            "type": "histogram2d"
           }
          ],
          "histogram2dcontour": [
           {
            "colorbar": {
             "outlinewidth": 0,
             "ticks": ""
            },
            "colorscale": [
             [
              0,
              "#0d0887"
             ],
             [
              0.1111111111111111,
              "#46039f"
             ],
             [
              0.2222222222222222,
              "#7201a8"
             ],
             [
              0.3333333333333333,
              "#9c179e"
             ],
             [
              0.4444444444444444,
              "#bd3786"
             ],
             [
              0.5555555555555556,
              "#d8576b"
             ],
             [
              0.6666666666666666,
              "#ed7953"
             ],
             [
              0.7777777777777778,
              "#fb9f3a"
             ],
             [
              0.8888888888888888,
              "#fdca26"
             ],
             [
              1,
              "#f0f921"
             ]
            ],
            "type": "histogram2dcontour"
           }
          ],
          "mesh3d": [
           {
            "colorbar": {
             "outlinewidth": 0,
             "ticks": ""
            },
            "type": "mesh3d"
           }
          ],
          "parcoords": [
           {
            "line": {
             "colorbar": {
              "outlinewidth": 0,
              "ticks": ""
             }
            },
            "type": "parcoords"
           }
          ],
          "pie": [
           {
            "automargin": true,
            "type": "pie"
           }
          ],
          "scatter": [
           {
            "marker": {
             "colorbar": {
              "outlinewidth": 0,
              "ticks": ""
             }
            },
            "type": "scatter"
           }
          ],
          "scatter3d": [
           {
            "line": {
             "colorbar": {
              "outlinewidth": 0,
              "ticks": ""
             }
            },
            "marker": {
             "colorbar": {
              "outlinewidth": 0,
              "ticks": ""
             }
            },
            "type": "scatter3d"
           }
          ],
          "scattercarpet": [
           {
            "marker": {
             "colorbar": {
              "outlinewidth": 0,
              "ticks": ""
             }
            },
            "type": "scattercarpet"
           }
          ],
          "scattergeo": [
           {
            "marker": {
             "colorbar": {
              "outlinewidth": 0,
              "ticks": ""
             }
            },
            "type": "scattergeo"
           }
          ],
          "scattergl": [
           {
            "marker": {
             "colorbar": {
              "outlinewidth": 0,
              "ticks": ""
             }
            },
            "type": "scattergl"
           }
          ],
          "scattermapbox": [
           {
            "marker": {
             "colorbar": {
              "outlinewidth": 0,
              "ticks": ""
             }
            },
            "type": "scattermapbox"
           }
          ],
          "scatterpolar": [
           {
            "marker": {
             "colorbar": {
              "outlinewidth": 0,
              "ticks": ""
             }
            },
            "type": "scatterpolar"
           }
          ],
          "scatterpolargl": [
           {
            "marker": {
             "colorbar": {
              "outlinewidth": 0,
              "ticks": ""
             }
            },
            "type": "scatterpolargl"
           }
          ],
          "scatterternary": [
           {
            "marker": {
             "colorbar": {
              "outlinewidth": 0,
              "ticks": ""
             }
            },
            "type": "scatterternary"
           }
          ],
          "surface": [
           {
            "colorbar": {
             "outlinewidth": 0,
             "ticks": ""
            },
            "colorscale": [
             [
              0,
              "#0d0887"
             ],
             [
              0.1111111111111111,
              "#46039f"
             ],
             [
              0.2222222222222222,
              "#7201a8"
             ],
             [
              0.3333333333333333,
              "#9c179e"
             ],
             [
              0.4444444444444444,
              "#bd3786"
             ],
             [
              0.5555555555555556,
              "#d8576b"
             ],
             [
              0.6666666666666666,
              "#ed7953"
             ],
             [
              0.7777777777777778,
              "#fb9f3a"
             ],
             [
              0.8888888888888888,
              "#fdca26"
             ],
             [
              1,
              "#f0f921"
             ]
            ],
            "type": "surface"
           }
          ],
          "table": [
           {
            "cells": {
             "fill": {
              "color": "#EBF0F8"
             },
             "line": {
              "color": "white"
             }
            },
            "header": {
             "fill": {
              "color": "#C8D4E3"
             },
             "line": {
              "color": "white"
             }
            },
            "type": "table"
           }
          ]
         },
         "layout": {
          "annotationdefaults": {
           "arrowcolor": "#2a3f5f",
           "arrowhead": 0,
           "arrowwidth": 1
          },
          "autotypenumbers": "strict",
          "coloraxis": {
           "colorbar": {
            "outlinewidth": 0,
            "ticks": ""
           }
          },
          "colorscale": {
           "diverging": [
            [
             0,
             "#8e0152"
            ],
            [
             0.1,
             "#c51b7d"
            ],
            [
             0.2,
             "#de77ae"
            ],
            [
             0.3,
             "#f1b6da"
            ],
            [
             0.4,
             "#fde0ef"
            ],
            [
             0.5,
             "#f7f7f7"
            ],
            [
             0.6,
             "#e6f5d0"
            ],
            [
             0.7,
             "#b8e186"
            ],
            [
             0.8,
             "#7fbc41"
            ],
            [
             0.9,
             "#4d9221"
            ],
            [
             1,
             "#276419"
            ]
           ],
           "sequential": [
            [
             0,
             "#0d0887"
            ],
            [
             0.1111111111111111,
             "#46039f"
            ],
            [
             0.2222222222222222,
             "#7201a8"
            ],
            [
             0.3333333333333333,
             "#9c179e"
            ],
            [
             0.4444444444444444,
             "#bd3786"
            ],
            [
             0.5555555555555556,
             "#d8576b"
            ],
            [
             0.6666666666666666,
             "#ed7953"
            ],
            [
             0.7777777777777778,
             "#fb9f3a"
            ],
            [
             0.8888888888888888,
             "#fdca26"
            ],
            [
             1,
             "#f0f921"
            ]
           ],
           "sequentialminus": [
            [
             0,
             "#0d0887"
            ],
            [
             0.1111111111111111,
             "#46039f"
            ],
            [
             0.2222222222222222,
             "#7201a8"
            ],
            [
             0.3333333333333333,
             "#9c179e"
            ],
            [
             0.4444444444444444,
             "#bd3786"
            ],
            [
             0.5555555555555556,
             "#d8576b"
            ],
            [
             0.6666666666666666,
             "#ed7953"
            ],
            [
             0.7777777777777778,
             "#fb9f3a"
            ],
            [
             0.8888888888888888,
             "#fdca26"
            ],
            [
             1,
             "#f0f921"
            ]
           ]
          },
          "colorway": [
           "#636efa",
           "#EF553B",
           "#00cc96",
           "#ab63fa",
           "#FFA15A",
           "#19d3f3",
           "#FF6692",
           "#B6E880",
           "#FF97FF",
           "#FECB52"
          ],
          "font": {
           "color": "#2a3f5f"
          },
          "geo": {
           "bgcolor": "white",
           "lakecolor": "white",
           "landcolor": "#E5ECF6",
           "showlakes": true,
           "showland": true,
           "subunitcolor": "white"
          },
          "hoverlabel": {
           "align": "left"
          },
          "hovermode": "closest",
          "mapbox": {
           "style": "light"
          },
          "paper_bgcolor": "white",
          "plot_bgcolor": "#E5ECF6",
          "polar": {
           "angularaxis": {
            "gridcolor": "white",
            "linecolor": "white",
            "ticks": ""
           },
           "bgcolor": "#E5ECF6",
           "radialaxis": {
            "gridcolor": "white",
            "linecolor": "white",
            "ticks": ""
           }
          },
          "scene": {
           "xaxis": {
            "backgroundcolor": "#E5ECF6",
            "gridcolor": "white",
            "gridwidth": 2,
            "linecolor": "white",
            "showbackground": true,
            "ticks": "",
            "zerolinecolor": "white"
           },
           "yaxis": {
            "backgroundcolor": "#E5ECF6",
            "gridcolor": "white",
            "gridwidth": 2,
            "linecolor": "white",
            "showbackground": true,
            "ticks": "",
            "zerolinecolor": "white"
           },
           "zaxis": {
            "backgroundcolor": "#E5ECF6",
            "gridcolor": "white",
            "gridwidth": 2,
            "linecolor": "white",
            "showbackground": true,
            "ticks": "",
            "zerolinecolor": "white"
           }
          },
          "shapedefaults": {
           "line": {
            "color": "#2a3f5f"
           }
          },
          "ternary": {
           "aaxis": {
            "gridcolor": "white",
            "linecolor": "white",
            "ticks": ""
           },
           "baxis": {
            "gridcolor": "white",
            "linecolor": "white",
            "ticks": ""
           },
           "bgcolor": "#E5ECF6",
           "caxis": {
            "gridcolor": "white",
            "linecolor": "white",
            "ticks": ""
           }
          },
          "title": {
           "x": 0.05
          },
          "xaxis": {
           "automargin": true,
           "gridcolor": "white",
           "linecolor": "white",
           "ticks": "",
           "title": {
            "standoff": 15
           },
           "zerolinecolor": "white",
           "zerolinewidth": 2
          },
          "yaxis": {
           "automargin": true,
           "gridcolor": "white",
           "linecolor": "white",
           "ticks": "",
           "title": {
            "standoff": 15
           },
           "zerolinecolor": "white",
           "zerolinewidth": 2
          }
         }
        },
        "xaxis": {
         "anchor": "y",
         "domain": [
          0,
          1
         ],
         "title": {
          "text": "index"
         }
        },
        "yaxis": {
         "anchor": "x",
         "domain": [
          0,
          1
         ],
         "title": {
          "text": "value"
         }
        }
       }
      }
     },
     "metadata": {},
     "output_type": "display_data"
    },
    {
     "data": {
      "application/vnd.plotly.v1+json": {
       "config": {
        "plotlyServerURL": "https://plot.ly"
       },
       "data": [
        {
         "hovertemplate": "log_type=train_error<br>index=%{x}<br>value=%{y}<extra></extra>",
         "legendgroup": "train_error",
         "line": {
          "color": "#636efa",
          "dash": "solid"
         },
         "marker": {
          "symbol": "circle"
         },
         "mode": "lines",
         "name": "train_error",
         "orientation": "v",
         "showlegend": true,
         "type": "scatter",
         "x": [
          0,
          1,
          2,
          3,
          4,
          5,
          6,
          7,
          8,
          9,
          10,
          11,
          12,
          13,
          14,
          15,
          16,
          17,
          18,
          19,
          20,
          21,
          22,
          23,
          24,
          25,
          26,
          27,
          28,
          29,
          30,
          31,
          32,
          33,
          34,
          35,
          36,
          37,
          38,
          39,
          40,
          41,
          42,
          43,
          44,
          45,
          46,
          47,
          48,
          49,
          50,
          51,
          52,
          53,
          54,
          55,
          56,
          57,
          58,
          59,
          60,
          61,
          62,
          63,
          64,
          65,
          66,
          67,
          68,
          69,
          70,
          71,
          72,
          73,
          74,
          75,
          76,
          77,
          78,
          79,
          80,
          81,
          82,
          83,
          84,
          85,
          86,
          87,
          88,
          89,
          90,
          91,
          92,
          93,
          94,
          95,
          96,
          97,
          98,
          99
         ],
         "xaxis": "x",
         "y": [
          0.8457317076078276,
          0.8286585371668745,
          0.805792683508338,
          0.7612042688741917,
          0.7592225612663641,
          0.7471036591180941,
          0.7545731707317073,
          0.7382621954127055,
          0.7333841469229722,
          0.7394817078985819,
          0.724161585656608,
          0.7253048783395348,
          0.7083079262477595,
          0.7214939027297788,
          0.7016768295590471,
          0.7094512189306864,
          0.6903963408819059,
          0.6887957322888258,
          0.7009146344370958,
          0.689100610046852,
          0.6507621945404425,
          0.6239329271200227,
          0.5949695124858763,
          0.5676067078985819,
          0.5336890249717526,
          0.48338414692297216,
          0.44573170673556445,
          0.4108993905346568,
          0.3804878054595575,
          0.3636432929736812,
          0.32583841463414637,
          0.3070121945404425,
          0.25114329268292684,
          0.2534298780487805,
          0.24596036643516728,
          0.24687499970924565,
          0.2246951213697108,
          0.21036585365853658,
          0.2068597558068066,
          0.19733231678241636,
          0.19207317073170732,
          0.1945884140526376,
          0.21257621922144077,
          0.17408536556290416,
          0.20190548751412368,
          0.1858993899531481,
          0.17972560917458882,
          0.18399390214827002,
          0.2026676826360749,
          0.18925304819897906,
          0.17416158536585366,
          0.17797256097560976,
          0.1642530487804878,
          0.190853658245831,
          0.18971036556290416,
          0.18353658478434492,
          0.20564024332093028,
          0.2229420731707317,
          0.16798780458729443,
          0.2171493899531481,
          0.18559451219512196,
          0.2026676826360749,
          0.17179878019705053,
          0.2106707314165627,
          0.21211890185751567,
          0.175228658245831,
          0.19047256068485538,
          0.19580792653851392,
          0.21486280458729443,
          0.2322408542400453,
          0.22827743902439024,
          0.24542682926829268,
          0.20678353600385713,
          0.17911585365853658,
          0.2624237799062962,
          0.22477134117266026,
          0.2574695116136132,
          0.18437499970924565,
          0.1827743896623937,
          0.18292682926829268,
          0.22477134117266026,
          0.22782012166046514,
          0.2183689024390244,
          0.20335365795507665,
          0.21257621922144077,
          0.19771341434339199,
          0.216692072589223,
          0.3250762195121951,
          0.20381097531900172,
          0.20304878019705053,
          0.20846036585365854,
          0.19009146312387978,
          0.2452743896623937,
          0.18887195063800347,
          0.2263719512195122,
          0.1871189024390244,
          0.19428353629461148,
          0.18864329268292682,
          0.19321646341463414,
          0.27942073199807144
         ],
         "yaxis": "y"
        },
        {
         "hovertemplate": "log_type=test_error<br>index=%{x}<br>value=%{y}<extra></extra>",
         "legendgroup": "test_error",
         "line": {
          "color": "#EF553B",
          "dash": "solid"
         },
         "marker": {
          "symbol": "circle"
         },
         "mode": "lines",
         "name": "test_error",
         "orientation": "v",
         "showlegend": true,
         "type": "scatter",
         "x": [
          0,
          1,
          2,
          3,
          4,
          5,
          6,
          7,
          8,
          9,
          10,
          11,
          12,
          13,
          14,
          15,
          16,
          17,
          18,
          19,
          20,
          21,
          22,
          23,
          24,
          25,
          26,
          27,
          28,
          29,
          30,
          31,
          32,
          33,
          34,
          35,
          36,
          37,
          38,
          39,
          40,
          41,
          42,
          43,
          44,
          45,
          46,
          47,
          48,
          49,
          50,
          51,
          52,
          53,
          54,
          55,
          56,
          57,
          58,
          59,
          60,
          61,
          62,
          63,
          64,
          65,
          66,
          67,
          68,
          69,
          70,
          71,
          72,
          73,
          74,
          75,
          76,
          77,
          78,
          79,
          80,
          81,
          82,
          83,
          84,
          85,
          86,
          87,
          88,
          89,
          90,
          91,
          92,
          93,
          94,
          95,
          96,
          97,
          98,
          99
         ],
         "xaxis": "x",
         "y": [
          0.9453125,
          0.8125,
          0.7109375,
          0.6796875,
          0.734375,
          0.6953125,
          0.671875,
          0.71875,
          0.6875,
          0.703125,
          0.6640625,
          0.6875,
          0.6640625,
          0.7109375,
          0.6953125,
          0.6484375,
          0.703125,
          0.6953125,
          0.703125,
          0.71875,
          0.7265625,
          0.734375,
          0.75,
          0.7734375,
          0.7578125,
          0.7578125,
          0.765625,
          0.734375,
          0.7265625,
          0.7421875,
          0.78125,
          0.71875,
          0.6953125,
          0.7421875,
          0.75,
          0.703125,
          0.7578125,
          0.71875,
          0.71875,
          0.7109375,
          0.734375,
          0.78125,
          0.75,
          0.71875,
          0.703125,
          0.6796875,
          0.703125,
          0.7421875,
          0.6953125,
          0.703125,
          0.7109375,
          0.71875,
          0.71875,
          0.7109375,
          0.7265625,
          0.71875,
          0.6953125,
          0.75,
          0.765625,
          0.7265625,
          0.71875,
          0.71875,
          0.703125,
          0.7265625,
          0.765625,
          0.71875,
          0.71875,
          0.703125,
          0.6953125,
          0.7421875,
          0.7109375,
          0.7265625,
          0.6953125,
          0.71875,
          0.6796875,
          0.7421875,
          0.671875,
          0.7421875,
          0.7421875,
          0.7265625,
          0.75,
          0.75,
          0.75,
          0.7578125,
          0.671875,
          0.703125,
          0.7265625,
          0.78125,
          0.7734375,
          0.71875,
          0.7578125,
          0.7109375,
          0.703125,
          0.703125,
          0.6796875,
          0.71875,
          0.7109375,
          0.734375,
          0.71875,
          0.6875
         ],
         "yaxis": "y"
        }
       ],
       "layout": {
        "legend": {
         "title": {
          "text": "log_type"
         },
         "tracegroupgap": 0
        },
        "margin": {
         "t": 60
        },
        "template": {
         "data": {
          "bar": [
           {
            "error_x": {
             "color": "#2a3f5f"
            },
            "error_y": {
             "color": "#2a3f5f"
            },
            "marker": {
             "line": {
              "color": "#E5ECF6",
              "width": 0.5
             },
             "pattern": {
              "fillmode": "overlay",
              "size": 10,
              "solidity": 0.2
             }
            },
            "type": "bar"
           }
          ],
          "barpolar": [
           {
            "marker": {
             "line": {
              "color": "#E5ECF6",
              "width": 0.5
             },
             "pattern": {
              "fillmode": "overlay",
              "size": 10,
              "solidity": 0.2
             }
            },
            "type": "barpolar"
           }
          ],
          "carpet": [
           {
            "aaxis": {
             "endlinecolor": "#2a3f5f",
             "gridcolor": "white",
             "linecolor": "white",
             "minorgridcolor": "white",
             "startlinecolor": "#2a3f5f"
            },
            "baxis": {
             "endlinecolor": "#2a3f5f",
             "gridcolor": "white",
             "linecolor": "white",
             "minorgridcolor": "white",
             "startlinecolor": "#2a3f5f"
            },
            "type": "carpet"
           }
          ],
          "choropleth": [
           {
            "colorbar": {
             "outlinewidth": 0,
             "ticks": ""
            },
            "type": "choropleth"
           }
          ],
          "contour": [
           {
            "colorbar": {
             "outlinewidth": 0,
             "ticks": ""
            },
            "colorscale": [
             [
              0,
              "#0d0887"
             ],
             [
              0.1111111111111111,
              "#46039f"
             ],
             [
              0.2222222222222222,
              "#7201a8"
             ],
             [
              0.3333333333333333,
              "#9c179e"
             ],
             [
              0.4444444444444444,
              "#bd3786"
             ],
             [
              0.5555555555555556,
              "#d8576b"
             ],
             [
              0.6666666666666666,
              "#ed7953"
             ],
             [
              0.7777777777777778,
              "#fb9f3a"
             ],
             [
              0.8888888888888888,
              "#fdca26"
             ],
             [
              1,
              "#f0f921"
             ]
            ],
            "type": "contour"
           }
          ],
          "contourcarpet": [
           {
            "colorbar": {
             "outlinewidth": 0,
             "ticks": ""
            },
            "type": "contourcarpet"
           }
          ],
          "heatmap": [
           {
            "colorbar": {
             "outlinewidth": 0,
             "ticks": ""
            },
            "colorscale": [
             [
              0,
              "#0d0887"
             ],
             [
              0.1111111111111111,
              "#46039f"
             ],
             [
              0.2222222222222222,
              "#7201a8"
             ],
             [
              0.3333333333333333,
              "#9c179e"
             ],
             [
              0.4444444444444444,
              "#bd3786"
             ],
             [
              0.5555555555555556,
              "#d8576b"
             ],
             [
              0.6666666666666666,
              "#ed7953"
             ],
             [
              0.7777777777777778,
              "#fb9f3a"
             ],
             [
              0.8888888888888888,
              "#fdca26"
             ],
             [
              1,
              "#f0f921"
             ]
            ],
            "type": "heatmap"
           }
          ],
          "heatmapgl": [
           {
            "colorbar": {
             "outlinewidth": 0,
             "ticks": ""
            },
            "colorscale": [
             [
              0,
              "#0d0887"
             ],
             [
              0.1111111111111111,
              "#46039f"
             ],
             [
              0.2222222222222222,
              "#7201a8"
             ],
             [
              0.3333333333333333,
              "#9c179e"
             ],
             [
              0.4444444444444444,
              "#bd3786"
             ],
             [
              0.5555555555555556,
              "#d8576b"
             ],
             [
              0.6666666666666666,
              "#ed7953"
             ],
             [
              0.7777777777777778,
              "#fb9f3a"
             ],
             [
              0.8888888888888888,
              "#fdca26"
             ],
             [
              1,
              "#f0f921"
             ]
            ],
            "type": "heatmapgl"
           }
          ],
          "histogram": [
           {
            "marker": {
             "pattern": {
              "fillmode": "overlay",
              "size": 10,
              "solidity": 0.2
             }
            },
            "type": "histogram"
           }
          ],
          "histogram2d": [
           {
            "colorbar": {
             "outlinewidth": 0,
             "ticks": ""
            },
            "colorscale": [
             [
              0,
              "#0d0887"
             ],
             [
              0.1111111111111111,
              "#46039f"
             ],
             [
              0.2222222222222222,
              "#7201a8"
             ],
             [
              0.3333333333333333,
              "#9c179e"
             ],
             [
              0.4444444444444444,
              "#bd3786"
             ],
             [
              0.5555555555555556,
              "#d8576b"
             ],
             [
              0.6666666666666666,
              "#ed7953"
             ],
             [
              0.7777777777777778,
              "#fb9f3a"
             ],
             [
              0.8888888888888888,
              "#fdca26"
             ],
             [
              1,
              "#f0f921"
             ]
            ],
            "type": "histogram2d"
           }
          ],
          "histogram2dcontour": [
           {
            "colorbar": {
             "outlinewidth": 0,
             "ticks": ""
            },
            "colorscale": [
             [
              0,
              "#0d0887"
             ],
             [
              0.1111111111111111,
              "#46039f"
             ],
             [
              0.2222222222222222,
              "#7201a8"
             ],
             [
              0.3333333333333333,
              "#9c179e"
             ],
             [
              0.4444444444444444,
              "#bd3786"
             ],
             [
              0.5555555555555556,
              "#d8576b"
             ],
             [
              0.6666666666666666,
              "#ed7953"
             ],
             [
              0.7777777777777778,
              "#fb9f3a"
             ],
             [
              0.8888888888888888,
              "#fdca26"
             ],
             [
              1,
              "#f0f921"
             ]
            ],
            "type": "histogram2dcontour"
           }
          ],
          "mesh3d": [
           {
            "colorbar": {
             "outlinewidth": 0,
             "ticks": ""
            },
            "type": "mesh3d"
           }
          ],
          "parcoords": [
           {
            "line": {
             "colorbar": {
              "outlinewidth": 0,
              "ticks": ""
             }
            },
            "type": "parcoords"
           }
          ],
          "pie": [
           {
            "automargin": true,
            "type": "pie"
           }
          ],
          "scatter": [
           {
            "marker": {
             "colorbar": {
              "outlinewidth": 0,
              "ticks": ""
             }
            },
            "type": "scatter"
           }
          ],
          "scatter3d": [
           {
            "line": {
             "colorbar": {
              "outlinewidth": 0,
              "ticks": ""
             }
            },
            "marker": {
             "colorbar": {
              "outlinewidth": 0,
              "ticks": ""
             }
            },
            "type": "scatter3d"
           }
          ],
          "scattercarpet": [
           {
            "marker": {
             "colorbar": {
              "outlinewidth": 0,
              "ticks": ""
             }
            },
            "type": "scattercarpet"
           }
          ],
          "scattergeo": [
           {
            "marker": {
             "colorbar": {
              "outlinewidth": 0,
              "ticks": ""
             }
            },
            "type": "scattergeo"
           }
          ],
          "scattergl": [
           {
            "marker": {
             "colorbar": {
              "outlinewidth": 0,
              "ticks": ""
             }
            },
            "type": "scattergl"
           }
          ],
          "scattermapbox": [
           {
            "marker": {
             "colorbar": {
              "outlinewidth": 0,
              "ticks": ""
             }
            },
            "type": "scattermapbox"
           }
          ],
          "scatterpolar": [
           {
            "marker": {
             "colorbar": {
              "outlinewidth": 0,
              "ticks": ""
             }
            },
            "type": "scatterpolar"
           }
          ],
          "scatterpolargl": [
           {
            "marker": {
             "colorbar": {
              "outlinewidth": 0,
              "ticks": ""
             }
            },
            "type": "scatterpolargl"
           }
          ],
          "scatterternary": [
           {
            "marker": {
             "colorbar": {
              "outlinewidth": 0,
              "ticks": ""
             }
            },
            "type": "scatterternary"
           }
          ],
          "surface": [
           {
            "colorbar": {
             "outlinewidth": 0,
             "ticks": ""
            },
            "colorscale": [
             [
              0,
              "#0d0887"
             ],
             [
              0.1111111111111111,
              "#46039f"
             ],
             [
              0.2222222222222222,
              "#7201a8"
             ],
             [
              0.3333333333333333,
              "#9c179e"
             ],
             [
              0.4444444444444444,
              "#bd3786"
             ],
             [
              0.5555555555555556,
              "#d8576b"
             ],
             [
              0.6666666666666666,
              "#ed7953"
             ],
             [
              0.7777777777777778,
              "#fb9f3a"
             ],
             [
              0.8888888888888888,
              "#fdca26"
             ],
             [
              1,
              "#f0f921"
             ]
            ],
            "type": "surface"
           }
          ],
          "table": [
           {
            "cells": {
             "fill": {
              "color": "#EBF0F8"
             },
             "line": {
              "color": "white"
             }
            },
            "header": {
             "fill": {
              "color": "#C8D4E3"
             },
             "line": {
              "color": "white"
             }
            },
            "type": "table"
           }
          ]
         },
         "layout": {
          "annotationdefaults": {
           "arrowcolor": "#2a3f5f",
           "arrowhead": 0,
           "arrowwidth": 1
          },
          "autotypenumbers": "strict",
          "coloraxis": {
           "colorbar": {
            "outlinewidth": 0,
            "ticks": ""
           }
          },
          "colorscale": {
           "diverging": [
            [
             0,
             "#8e0152"
            ],
            [
             0.1,
             "#c51b7d"
            ],
            [
             0.2,
             "#de77ae"
            ],
            [
             0.3,
             "#f1b6da"
            ],
            [
             0.4,
             "#fde0ef"
            ],
            [
             0.5,
             "#f7f7f7"
            ],
            [
             0.6,
             "#e6f5d0"
            ],
            [
             0.7,
             "#b8e186"
            ],
            [
             0.8,
             "#7fbc41"
            ],
            [
             0.9,
             "#4d9221"
            ],
            [
             1,
             "#276419"
            ]
           ],
           "sequential": [
            [
             0,
             "#0d0887"
            ],
            [
             0.1111111111111111,
             "#46039f"
            ],
            [
             0.2222222222222222,
             "#7201a8"
            ],
            [
             0.3333333333333333,
             "#9c179e"
            ],
            [
             0.4444444444444444,
             "#bd3786"
            ],
            [
             0.5555555555555556,
             "#d8576b"
            ],
            [
             0.6666666666666666,
             "#ed7953"
            ],
            [
             0.7777777777777778,
             "#fb9f3a"
            ],
            [
             0.8888888888888888,
             "#fdca26"
            ],
            [
             1,
             "#f0f921"
            ]
           ],
           "sequentialminus": [
            [
             0,
             "#0d0887"
            ],
            [
             0.1111111111111111,
             "#46039f"
            ],
            [
             0.2222222222222222,
             "#7201a8"
            ],
            [
             0.3333333333333333,
             "#9c179e"
            ],
            [
             0.4444444444444444,
             "#bd3786"
            ],
            [
             0.5555555555555556,
             "#d8576b"
            ],
            [
             0.6666666666666666,
             "#ed7953"
            ],
            [
             0.7777777777777778,
             "#fb9f3a"
            ],
            [
             0.8888888888888888,
             "#fdca26"
            ],
            [
             1,
             "#f0f921"
            ]
           ]
          },
          "colorway": [
           "#636efa",
           "#EF553B",
           "#00cc96",
           "#ab63fa",
           "#FFA15A",
           "#19d3f3",
           "#FF6692",
           "#B6E880",
           "#FF97FF",
           "#FECB52"
          ],
          "font": {
           "color": "#2a3f5f"
          },
          "geo": {
           "bgcolor": "white",
           "lakecolor": "white",
           "landcolor": "#E5ECF6",
           "showlakes": true,
           "showland": true,
           "subunitcolor": "white"
          },
          "hoverlabel": {
           "align": "left"
          },
          "hovermode": "closest",
          "mapbox": {
           "style": "light"
          },
          "paper_bgcolor": "white",
          "plot_bgcolor": "#E5ECF6",
          "polar": {
           "angularaxis": {
            "gridcolor": "white",
            "linecolor": "white",
            "ticks": ""
           },
           "bgcolor": "#E5ECF6",
           "radialaxis": {
            "gridcolor": "white",
            "linecolor": "white",
            "ticks": ""
           }
          },
          "scene": {
           "xaxis": {
            "backgroundcolor": "#E5ECF6",
            "gridcolor": "white",
            "gridwidth": 2,
            "linecolor": "white",
            "showbackground": true,
            "ticks": "",
            "zerolinecolor": "white"
           },
           "yaxis": {
            "backgroundcolor": "#E5ECF6",
            "gridcolor": "white",
            "gridwidth": 2,
            "linecolor": "white",
            "showbackground": true,
            "ticks": "",
            "zerolinecolor": "white"
           },
           "zaxis": {
            "backgroundcolor": "#E5ECF6",
            "gridcolor": "white",
            "gridwidth": 2,
            "linecolor": "white",
            "showbackground": true,
            "ticks": "",
            "zerolinecolor": "white"
           }
          },
          "shapedefaults": {
           "line": {
            "color": "#2a3f5f"
           }
          },
          "ternary": {
           "aaxis": {
            "gridcolor": "white",
            "linecolor": "white",
            "ticks": ""
           },
           "baxis": {
            "gridcolor": "white",
            "linecolor": "white",
            "ticks": ""
           },
           "bgcolor": "#E5ECF6",
           "caxis": {
            "gridcolor": "white",
            "linecolor": "white",
            "ticks": ""
           }
          },
          "title": {
           "x": 0.05
          },
          "xaxis": {
           "automargin": true,
           "gridcolor": "white",
           "linecolor": "white",
           "ticks": "",
           "title": {
            "standoff": 15
           },
           "zerolinecolor": "white",
           "zerolinewidth": 2
          },
          "yaxis": {
           "automargin": true,
           "gridcolor": "white",
           "linecolor": "white",
           "ticks": "",
           "title": {
            "standoff": 15
           },
           "zerolinecolor": "white",
           "zerolinewidth": 2
          }
         }
        },
        "xaxis": {
         "anchor": "y",
         "domain": [
          0,
          1
         ],
         "title": {
          "text": "index"
         }
        },
        "yaxis": {
         "anchor": "x",
         "domain": [
          0,
          1
         ],
         "title": {
          "text": "value"
         }
        }
       }
      }
     },
     "metadata": {},
     "output_type": "display_data"
    }
   ],
   "source": [
    "log_df = pd.DataFrame.from_dict(log)\n",
    "log_df = log_df.reset_index()\n",
    "fig = px.line(log_df.iloc[1:], x=\"index\", y=\"train_loss\")\n",
    "fig.show()\n",
    "\n",
    "import plotly.express as px\n",
    "type = \"accuracy\"\n",
    "df1 = log_df[['index', f\"train_{type}\", f\"test_{type}\"]].melt(id_vars=['index'], var_name='log_type')\n",
    "fig = px.line(df1, x=\"index\", y=\"value\", color='log_type')\n",
    "fig.show()\n",
    "\n",
    "type = \"error\"\n",
    "df1 = log_df[['index', f\"train_{type}\", f\"test_{type}\"]].melt(id_vars=['index'], var_name='log_type')\n",
    "fig = px.line(df1, x=\"index\", y=\"value\", color='log_type')\n",
    "fig.show()"
   ]
  },
  {
   "cell_type": "code",
   "execution_count": 302,
   "metadata": {},
   "outputs": [
    {
     "data": {
      "image/png": "[encoded data removed]",
      "text/plain": [
       "<Figure size 500x500 with 1 Axes>"
      ]
     },
     "metadata": {},
     "output_type": "display_data"
    },
    {
     "data": {
      "image/png": "[encoded data removed]",
      "text/plain": [
       "<Figure size 640x480 with 1 Axes>"
      ]
     },
     "metadata": {},
     "output_type": "display_data"
    }
   ],
   "source": [
    "# choose a picture at random\n",
    "idx=randint(0, 1500)\n",
    "label = ('Not Skin', 'Normal', 'Pustule', 'Whitehead', 'Blackhead', 'Cyst',)\n",
    "\n",
    "im=X[idx]\n",
    "# X_train, X_test, y_train, y_test\n",
    "# diplay the picture\n",
    "image_label = f\"image_idx={idx}; label index: {y[idx]}; label is {label[y[idx]]}\"\n",
    "image_utils().plot_image(im,title=image_label, figsize=(5,5))\n",
    "\n",
    "im=X[idx]\n",
    "im = torch.from_numpy(np.array(im).astype(np.float32)).to(device)\n",
    "X_train_ = torch.from_numpy(np.array(X_train).astype(np.float32))\n",
    "X_train_ = X_train_.view(-1, 3, 50, 50)\n",
    "mean= X_train_.mean()\n",
    "std= X_train_.std()\n",
    "# # send to device, rescale, and view as a batch of 1 \n",
    "# im = im.to(device)\n",
    "im= (im-mean) / std\n",
    "\n",
    "im=im.view(1,3,50,50)\n",
    "\n",
    "# # feed it to the net and display the confidence scores\n",
    "scores =  net(im) \n",
    "probs= torch.softmax(scores, dim=1)\n",
    "image_utils().show_prob_pimples(probs.cpu())"
   ]
  },
  {
   "cell_type": "code",
   "execution_count": null,
   "metadata": {},
   "outputs": [],
   "source": []
  }
 ],
 "metadata": {
  "interpreter": {
   "hash": "188299b107256fe873ab79b6089594fb9be85d55d578db9419dca9181f4278ba"
  },
  "kernelspec": {
   "display_name": "Python 3.7.10 64-bit ('deeplearn_course': conda)",
   "name": "python3"
  },
  "language_info": {
   "codemirror_mode": {
    "name": "ipython",
    "version": 3
   },
   "file_extension": ".py",
   "mimetype": "text/x-python",
   "name": "python",
   "nbconvert_exporter": "python",
   "pygments_lexer": "ipython3",
   "version": "3.7.10"
  },
  "orig_nbformat": 4
 },
 "nbformat": 4,
 "nbformat_minor": 2
}
