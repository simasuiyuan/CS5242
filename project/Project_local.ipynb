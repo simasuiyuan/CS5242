{
 "cells": [
  {
   "cell_type": "markdown",
   "metadata": {},
   "source": [
    "# VGG16 solution"
   ]
  },
  {
   "cell_type": "code",
   "execution_count": 1,
   "metadata": {},
   "outputs": [],
   "source": [
    "import numpy as np\n",
    "import cv2\n",
    "import matplotlib.pyplot as plt\n",
    "from PIL import Image\n",
    "\n",
    "from keras.preprocessing.image import load_img \n",
    "from keras.preprocessing.image import img_to_array \n",
    "from keras.applications.vgg16 import preprocess_input \n",
    "# models \n",
    "from keras.applications.vgg16 import VGG16 \n",
    "from keras.models import Model\n",
    "from keras.applications.vgg16 import preprocess_input \n",
    "\n",
    "# clustering and dimension reduction\n",
    "from sklearn.decomposition import PCA\n",
    "\n",
    "%load_ext autoreload\n",
    "%autoreload\n",
    "from src.dataLoader import dataLoader\n",
    "from src.utils import image_utils, ismember\n",
    "\n",
    "from src.preprocessing import imadjust,imagecrop,imagePaddingByShape\n"
   ]
  },
  {
   "cell_type": "code",
   "execution_count": 2,
   "metadata": {},
   "outputs": [],
   "source": [
    "# dataset = dataLoader(\"../dataset\")\n",
    "\n",
    "# fileNameList = [str(imgIdx)+\".jpg\" for imgIdx in range(0,1501)]\n",
    "# imageFileList = dataset.LoadFileList(fileNameList=fileNameList)\n",
    "# imageFileList"
   ]
  },
  {
   "cell_type": "code",
   "execution_count": 3,
   "metadata": {},
   "outputs": [],
   "source": [
    "from os import listdir, rename\n",
    "from os.path import isfile, join\n",
    "import numpy as np\n",
    "import matplotlib.pyplot as plt\n",
    "from PIL import Image\n",
    "import pandas as pd\n",
    "import random\n",
    "from sklearn.model_selection import train_test_split\n",
    "from collections import Counter\n",
    "from skimage.transform import rotate, AffineTransform, warp\n",
    "from skimage.util import random_noise"
   ]
  },
  {
   "cell_type": "code",
   "execution_count": 4,
   "metadata": {},
   "outputs": [
    {
     "name": "stdout",
     "output_type": "stream",
     "text": [
      "cuda\n"
     ]
    }
   ],
   "source": [
    "import torch\n",
    "device = torch.device('cuda' if torch.cuda.is_available() else 'cpu')\n",
    "print(device)"
   ]
  },
  {
   "cell_type": "code",
   "execution_count": 5,
   "metadata": {},
   "outputs": [
    {
     "data": {
      "text/html": [
       "<div>\n",
       "<style scoped>\n",
       "    .dataframe tbody tr th:only-of-type {\n",
       "        vertical-align: middle;\n",
       "    }\n",
       "\n",
       "    .dataframe tbody tr th {\n",
       "        vertical-align: top;\n",
       "    }\n",
       "\n",
       "    .dataframe thead th {\n",
       "        text-align: right;\n",
       "    }\n",
       "</style>\n",
       "<table border=\"1\" class=\"dataframe\">\n",
       "  <thead>\n",
       "    <tr style=\"text-align: right;\">\n",
       "      <th></th>\n",
       "      <th>filename</th>\n",
       "      <th>label</th>\n",
       "    </tr>\n",
       "  </thead>\n",
       "  <tbody>\n",
       "    <tr>\n",
       "      <th>0</th>\n",
       "      <td>0.jpg</td>\n",
       "      <td>1</td>\n",
       "    </tr>\n",
       "    <tr>\n",
       "      <th>1</th>\n",
       "      <td>1.jpg</td>\n",
       "      <td>1</td>\n",
       "    </tr>\n",
       "    <tr>\n",
       "      <th>2</th>\n",
       "      <td>2.jpg</td>\n",
       "      <td>5</td>\n",
       "    </tr>\n",
       "    <tr>\n",
       "      <th>3</th>\n",
       "      <td>3.jpg</td>\n",
       "      <td>4</td>\n",
       "    </tr>\n",
       "    <tr>\n",
       "      <th>4</th>\n",
       "      <td>4.jpg</td>\n",
       "      <td>1</td>\n",
       "    </tr>\n",
       "  </tbody>\n",
       "</table>\n",
       "</div>"
      ],
      "text/plain": [
       "  filename  label\n",
       "0    0.jpg      1\n",
       "1    1.jpg      1\n",
       "2    2.jpg      5\n",
       "3    3.jpg      4\n",
       "4    4.jpg      1"
      ]
     },
     "metadata": {},
     "output_type": "display_data"
    },
    {
     "data": {
      "text/plain": [
       "(1501, 2)"
      ]
     },
     "execution_count": 5,
     "metadata": {},
     "output_type": "execute_result"
    }
   ],
   "source": [
    "labels = pd.read_csv('labels.csv')\n",
    "display(labels.head())\n",
    "labels.shape"
   ]
  },
  {
   "cell_type": "code",
   "execution_count": 6,
   "metadata": {},
   "outputs": [],
   "source": [
    "def load_images(labels):\n",
    "    X = []\n",
    "    y = []\n",
    "    for row in labels.itertuples():\n",
    "        img_path = join('../dataset', row.filename)\n",
    "        # print(row.filename)\n",
    "        # print(img_path)\n",
    "        # img = np.asarray(Image.open(img_path))\n",
    "        # img = np.array(img) \n",
    "        img = load_img(img_path, target_size=(50,50))\n",
    "        img = np.asarray(img)\n",
    "        # Keep squares for now\n",
    "        if img.shape[0] == img.shape[1]:\n",
    "            y.append(row.label)\n",
    "            X.append(img)\n",
    "    return X, y\n",
    "\n",
    "# def load_images(labels, number_image=1000):\n",
    "#     X = []\n",
    "#     y = []\n",
    "#     for row in labels.itertuples():\n",
    "#         img_path = join('../dataset', row.filename)\n",
    "#         # print(row.filename)\n",
    "#         # print(img_path)\n",
    "#         img = np.asarray(Image.open(img_path))\n",
    "#         # Keep squares for now\n",
    "#         if img.shape[0] == img.shape[1]:\n",
    "#           img = load_img(img_path, target_size=(50,50))\n",
    "#           img = np.asarray(img)\n",
    "#           y.append(row.label)\n",
    "#           X.append(img)\n",
    "#         elif len(X) <= number_image:\n",
    "#           img = load_img(img_path, target_size=(50,50))\n",
    "#           img = np.asarray(img)\n",
    "#           y.append(row.label)\n",
    "#           X.append(img)\n",
    "#     return X, y"
   ]
  },
  {
   "cell_type": "code",
   "execution_count": 7,
   "metadata": {},
   "outputs": [],
   "source": [
    "def augment_data_no_dist_balance(X_train, y_train):\n",
    "    final_X_train = []\n",
    "    final_y_train = []\n",
    "    label_distribution = Counter(y_train)\n",
    "    plt.bar(label_distribution.keys(), label_distribution.values())\n",
    "    plt.show()\n",
    "    print(label_distribution)\n",
    "    for i in range(len(X_train)):\n",
    "        final_X_train.append(X_train[i])\n",
    "        final_X_train.append(rotate(X_train[i], angle=45, mode = 'wrap'))\n",
    "        final_X_train.append(np.fliplr(X_train[i]))\n",
    "        final_X_train.append(np.flipud(X_train[i]))\n",
    "        final_X_train.append(random_noise(X_train[i],var=0.05**2))\n",
    "        \n",
    "        final_y_train += [y_train[i]] * 5\n",
    "    label_distribution = Counter(final_y_train)\n",
    "    print(label_distribution)\n",
    "    plt.bar(label_distribution.keys(), label_distribution.values())\n",
    "    plt.show()\n",
    "    return final_X_train, final_y_train\n",
    "\n",
    "def augment_data(X_train, y_train):\n",
    "    final_X_train = []\n",
    "    final_y_train = []\n",
    "    label_distribution = Counter(y_train)\n",
    "    plt.bar(label_distribution.keys(), label_distribution.values())\n",
    "    plt.show()\n",
    "    print(label_distribution)\n",
    "    max_count_label = max(label_distribution, key=label_distribution.get)\n",
    "    min_count_label = min(label_distribution, key=label_distribution.get)\n",
    "    for i in range(len(X_train)):\n",
    "        label_key = y_train[i]\n",
    "        if label_distribution[max_count_label] - label_distribution[label_key] >= 10 or label_distribution[max_count_label] - label_distribution[min_count_label] <= 6:\n",
    "            final_X_train.append(X_train[i])\n",
    "            angle = 90\n",
    "            while angle < 360:\n",
    "                final_X_train.append(rotate(X_train[i], angle=angle, mode = 'wrap'))\n",
    "                angle+=90\n",
    "            \n",
    "            final_X_train.append(random_noise(X_train[i],var=0.05**2))\n",
    "        \n",
    "            final_y_train += [y_train[i]] * 5\n",
    "            label_distribution = Counter(final_y_train)\n",
    "            max_count = max(label_distribution, key=label_distribution.get)\n",
    "            min_count = min(label_distribution, key=label_distribution.get)\n",
    "    print(label_distribution)\n",
    "    plt.bar(label_distribution.keys(), label_distribution.values())\n",
    "    plt.show()\n",
    "    return final_X_train, final_y_train"
   ]
  },
  {
   "cell_type": "code",
   "execution_count": 8,
   "metadata": {},
   "outputs": [],
   "source": [
    "def get_accuracy(scores, labels):\n",
    "    num_data = scores.size(0)\n",
    "    predicted_labels = scores.argmax(dim=1)\n",
    "    indicator = (predicted_labels == labels)\n",
    "    num_matches = indicator.sum()\n",
    "    return 100*num_matches.float()/num_data  \n",
    "\n",
    "def get_error( scores , labels ):\n",
    "\n",
    "    bs=scores.size(0)\n",
    "    predicted_labels = scores.argmax(dim=1)\n",
    "    indicator = (predicted_labels == labels)\n",
    "    num_matches=indicator.sum()\n",
    "    \n",
    "    return 1-num_matches.float()/bs   \n",
    "\n",
    "def eval_on_test_set(test_data, test_label, net, mean, std, bs):\n",
    "\n",
    "    running_error=0\n",
    "    running_acc = 0\n",
    "    num_batches=0\n",
    "\n",
    "    for i in range(0,100,bs):\n",
    "\n",
    "        minibatch_data =  test_data[i:i+bs].to(device)\n",
    "        minibatch_label = test_label[i:i+bs].to(device)\n",
    "        \n",
    "        inputs = (minibatch_data - mean)/std\n",
    "\n",
    "        scores= net( inputs ) \n",
    "\n",
    "        error = get_error( scores.detach() , minibatch_label)\n",
    "        acc = get_accuracy( scores.detach() , minibatch_label)\n",
    "\n",
    "        running_error += error.item()\n",
    "        running_acc += acc.item()\n",
    "\n",
    "        num_batches+=1\n",
    "\n",
    "    total_error = running_error/num_batches\n",
    "    total_acc = running_acc/num_batches\n",
    "    print(running_error, num_batches)\n",
    "    print( 'error rate on test set =', total_error*100 ,'percent')\n",
    "    print('accuracy =', total_acc)\n",
    "    return total_error, total_acc"
   ]
  },
  {
   "cell_type": "code",
   "execution_count": 9,
   "metadata": {},
   "outputs": [
    {
     "data": {
      "text/plain": [
       "(1501, 50, 50, 3)"
      ]
     },
     "execution_count": 9,
     "metadata": {},
     "output_type": "execute_result"
    }
   ],
   "source": [
    "X, y = load_images(labels)\n",
    "np.array(X).shape"
   ]
  },
  {
   "cell_type": "code",
   "execution_count": 10,
   "metadata": {},
   "outputs": [],
   "source": [
    "# label_distribution = Counter(y)\n",
    "# print(label_distribution.values())\n",
    "# max(label_distribution, key=label_distribution.get)\n",
    "# min(label_distribution, key=label_distribution.get)\n",
    "# label_distribution[1]"
   ]
  },
  {
   "cell_type": "code",
   "execution_count": 11,
   "metadata": {},
   "outputs": [
    {
     "data": {
      "image/png": "[encoded data removed]",
      "text/plain": [
       "<Figure size 432x288 with 1 Axes>"
      ]
     },
     "metadata": {
      "needs_background": "light"
     },
     "output_type": "display_data"
    },
    {
     "name": "stdout",
     "output_type": "stream",
     "text": [
      "Counter({1: 355, 0: 314, 2: 202, 5: 148, 3: 95, 4: 86})\n",
      "Counter({1: 1775, 0: 1570, 2: 1010, 5: 740, 3: 475, 4: 430})\n"
     ]
    },
    {
     "data": {
      "image/png": "[encoded data removed]",
      "text/plain": [
       "<Figure size 432x288 with 1 Axes>"
      ]
     },
     "metadata": {
      "needs_background": "light"
     },
     "output_type": "display_data"
    }
   ],
   "source": [
    "X_train, X_test, y_train, y_test = train_test_split(X, y, test_size = 0.2, random_state = 10, stratify=y)\n",
    "X_train, y_train = augment_data_no_dist_balance(X_train, y_train)"
   ]
  },
  {
   "cell_type": "code",
   "execution_count": 12,
   "metadata": {},
   "outputs": [
    {
     "data": {
      "image/png": "[encoded data removed]",
      "text/plain": [
       "<Figure size 432x288 with 1 Axes>"
      ]
     },
     "metadata": {
      "needs_background": "light"
     },
     "output_type": "display_data"
    },
    {
     "name": "stdout",
     "output_type": "stream",
     "text": [
      "Counter({1: 355, 0: 314, 2: 202, 5: 148, 3: 95, 4: 86})\n",
      "Counter({0: 440, 1: 435, 2: 435, 5: 430, 4: 430, 3: 350})\n"
     ]
    },
    {
     "data": {
      "image/png": "[encoded data removed]",
      "text/plain": [
       "<Figure size 432x288 with 1 Axes>"
      ]
     },
     "metadata": {
      "needs_background": "light"
     },
     "output_type": "display_data"
    },
    {
     "data": {
      "text/plain": [
       "(2520, 50, 50, 3)"
      ]
     },
     "execution_count": 12,
     "metadata": {},
     "output_type": "execute_result"
    }
   ],
   "source": [
    "X_train, X_test, y_train, y_test = train_test_split(X, y, test_size = 0.2, random_state = 12, stratify=y)\n",
    "X_train, y_train = augment_data(X_train, y_train)\n",
    "np.array(X_train).shape"
   ]
  },
  {
   "cell_type": "code",
   "execution_count": 13,
   "metadata": {},
   "outputs": [],
   "source": [
    "# im=X_train[80*5+4]\n",
    "# # X_train, X_test, y_train, y_test\n",
    "# # diplay the picture\n",
    "# image_utils().plot_image(im,title=None, figsize=(5,5))"
   ]
  },
  {
   "cell_type": "code",
   "execution_count": 14,
   "metadata": {},
   "outputs": [],
   "source": [
    "# X_train, y_train = augment_data(X_train, y_train)\n",
    "# np.array(X_train).shape"
   ]
  },
  {
   "cell_type": "code",
   "execution_count": 15,
   "metadata": {},
   "outputs": [],
   "source": [
    "# import torch\n",
    "# class convnet(torch.nn.Module):\n",
    "\n",
    "#     def __init__(self, input_channel, hidden_layer, num_class):\n",
    "\n",
    "#         super(convnet, self).__init__()\n",
    "      \n",
    "#         self.conv1a = torch.nn.Conv2d(input_channel, hidden_layer,  kernel_size=5, padding=1 )\n",
    "#         self.pool1a  = torch.nn.MaxPool2d(2,2)\n",
    "#         self.conv1b = torch.nn.Conv2d(hidden_layer,  hidden_layer,  kernel_size=5, padding=1 )\n",
    "#         self.pool1b  = torch.nn.MaxPool2d(2,2)\n",
    "        \n",
    "#         self.linear1 = torch.nn.Linear(12100, num_class)\n",
    "\n",
    "#     def forward(self, x):\n",
    "#         x = self.conv1a(x)\n",
    "#         x = torch.nn.functional.relu(x)\n",
    "#         x = self.pool1a(x)\n",
    "#         x = self.conv1b(x)\n",
    "#         x = torch.nn.functional.relu(x)\n",
    "#         x = self.pool1b(x)\n",
    "        \n",
    "#         x = x.view(-1, 12100)\n",
    "#         x = self.linear1(x)\n",
    "        \n",
    "#         return x"
   ]
  },
  {
   "cell_type": "code",
   "execution_count": 16,
   "metadata": {},
   "outputs": [],
   "source": [
    "import torch\n",
    "import torch.nn as nn\n",
    "import torch.optim as optim\n",
    "from random import randint\n",
    "import utils\n",
    "import time\n",
    "\n",
    "class VGG_convnet(nn.Module):\n",
    "\n",
    "    def __init__(self, input_channel, num_class):\n",
    "\n",
    "        super(VGG_convnet, self).__init__()\n",
    "\n",
    "        # block 1:         3 x 50 x 50 --> 64 x 25 x 25        \n",
    "        self.conv1a = nn.Conv2d(3,   64,  kernel_size=3, padding=1 )\n",
    "        self.conv1b = nn.Conv2d(64,  64,  kernel_size=3, padding=1 )\n",
    "        self.pool1  = nn.MaxPool2d(2,2)\n",
    "\n",
    "        # block 2:         64 x 25 x 25 --> 128 x 8 x 8\n",
    "        self.conv2a = nn.Conv2d(64,  128, kernel_size=3, padding=1 )\n",
    "        self.conv2b = nn.Conv2d(128, 128, kernel_size=3, padding=1 )\n",
    "        self.pool2  = nn.MaxPool2d(2,2)\n",
    "\n",
    "        # block 3:         128 x 8 x 8 --> 256 x 4 x 4        \n",
    "        self.conv3a = nn.Conv2d(128, 256, kernel_size=3, padding=1 )\n",
    "        self.conv3b = nn.Conv2d(256, 256, kernel_size=3, padding=1 )\n",
    "        self.pool3  = nn.MaxPool2d(2,2)\n",
    "        \n",
    "        #block 4:          256 x 4 x 4 --> 512 x 2 x 2\n",
    "        self.conv4a = nn.Conv2d(256, 512, kernel_size=3, padding=1 )\n",
    "        self.pool4  = nn.MaxPool2d(2,2)\n",
    "\n",
    "        # linear layers:   512 x 2 x 2 --> 4608 --> 4096 --> 4096 --> 10\n",
    "        self.linear1 = nn.Linear(4608, 4608*2)\n",
    "        self.linear2 = nn.Linear(4608*2,4096)\n",
    "        self.linear3 = nn.Linear(4096, num_class)\n",
    "\n",
    "    def rgb2hsv(self, input, epsilon=1e-5):\n",
    "        assert(input.shape[1] == 3)\n",
    "        r, g, b = input[:, 0], input[:, 1], input[:, 2]\n",
    "        max_rgb, argmax_rgb = input.max(1)\n",
    "        min_rgb, argmin_rgb = input.min(1)\n",
    "        max_min = max_rgb - min_rgb + epsilon\n",
    "        h1 = 60.0 * (g - r) / max_min + 60.0\n",
    "        h2 = 60.0 * (b - g) / max_min + 180.0\n",
    "        h3 = 60.0 * (r - b) / max_min + 300.0\n",
    "        h = torch.stack((h2, h3, h1), dim=0).gather(dim=0, index=argmin_rgb.unsqueeze(0)).squeeze(0)\n",
    "        s = max_min / (max_rgb + epsilon)\n",
    "        v = max_rgb\n",
    "        return torch.stack((h, s, v), dim=1)\n",
    "\n",
    "    def forward(self, x):\n",
    "        # print(x.shape)\n",
    "        x = self.rgb2hsv(x)\n",
    "        # block 1:         3 x 32 x 32 --> 64 x 16 x 16\n",
    "        x = self.conv1a(x)\n",
    "        x = torch.relu(x)\n",
    "        x = self.conv1b(x)\n",
    "        x = torch.relu(x)\n",
    "        x = self.pool1(x)\n",
    "\n",
    "        # block 2:         64 x 16 x 16 --> 128 x 8 x 8\n",
    "        x = self.conv2a(x)\n",
    "        x = torch.relu(x)\n",
    "        x = self.conv2b(x)\n",
    "        x = torch.relu(x)\n",
    "        x = self.pool2(x)\n",
    "\n",
    "        # block 3:         128 x 8 x 8 --> 256 x 4 x 4\n",
    "        x = self.conv3a(x)\n",
    "        x = torch.relu(x)\n",
    "        x = self.conv3b(x)\n",
    "        x = torch.relu(x)\n",
    "        x = self.pool3(x)\n",
    "\n",
    "        #block 4:          256 x 4 x 4 --> 512 x 2 x 2\n",
    "        x = self.conv4a(x)\n",
    "        x = torch.relu(x)\n",
    "        x = self.pool4(x)\n",
    "\n",
    "        # linear layers:   512 x 2 x 2 --> 4608 --> 4608*2 --> 4096 --> 10\n",
    "        # print(x.shape)\n",
    "        x = x.view(-1, 4608)\n",
    "        x = self.linear1(x)\n",
    "        x = torch.relu(x)\n",
    "        x = self.linear2(x)\n",
    "        x = torch.relu(x)\n",
    "        x = self.linear3(x) \n",
    "        \n",
    "        return x"
   ]
  },
  {
   "cell_type": "code",
   "execution_count": 17,
   "metadata": {},
   "outputs": [],
   "source": [
    "# def eval_on_test_set(X_test):\n",
    "\n",
    "#     running_error=0\n",
    "#     running_acc = 0\n",
    "#     num_batches=0\n",
    "\n",
    "#     for i in range(0,100,bs):\n",
    "\n",
    "#         minibatch_data =  X_test[i:i+bs]\n",
    "#         minibatch_label = y_test[i:i+bs]\n",
    "\n",
    "#         minibatch_data=minibatch_data.to(device)\n",
    "#         minibatch_label=minibatch_label.to(device)\n",
    "        \n",
    "#         inputs = (minibatch_data - mean)/std\n",
    "\n",
    "#         scores= net( inputs ) \n",
    "\n",
    "#         error = get_error( scores.detach() , minibatch_label)\n",
    "#         acc = get_accuracy( scores.detach() , minibatch_label)\n",
    "\n",
    "#         running_error += error.item()\n",
    "#         running_acc += acc.item()\n",
    "\n",
    "#         num_batches+=1\n",
    "\n",
    "#     total_error = running_error/num_batches\n",
    "#     total_acc = running_acc/num_batches\n",
    "#     print(running_error, num_batches)\n",
    "#     print( 'error rate on test set =', total_error*100 ,'percent')\n",
    "#     print('accuracy =', total_acc)"
   ]
  },
  {
   "cell_type": "code",
   "execution_count": 18,
   "metadata": {},
   "outputs": [],
   "source": [
    "def train_network(X_train, y_train, X_test, y_test, net, mean, std):\n",
    "    log = {\n",
    "        \"train_loss\": [],\n",
    "        \"train_error\": [],\n",
    "        \"train_accuracy\": [],\n",
    "        \"test_error\": [],\n",
    "        \"test_accuracy\": [],\n",
    "    }\n",
    "    X_train = X_train.view(-1, 3, 50, 50)\n",
    "    X_test = X_test.view(-1, 3, 50, 50)\n",
    "    num_train_data = X_train.size()[0]\n",
    "    my_lr = 0.001\n",
    "    criterion = torch.nn.CrossEntropyLoss()\n",
    "    \n",
    "    for epoch in range(100):\n",
    "        # create a new optimizer at the beginning of each epoch: give the current learning rate.   \n",
    "        optimizer=torch.optim.Adam( net.parameters() , lr=my_lr )\n",
    "\n",
    "        # set the running quatities to zero at the beginning of the epoch\n",
    "        running_loss=0\n",
    "        running_error=0\n",
    "        running_acc = 0\n",
    "        num_batches=0\n",
    "\n",
    "        # set the order in which to visit the image from the training set\n",
    "        shuffled_indices = torch.randperm(num_train_data)\n",
    "\n",
    "        for count in range(0,num_train_data,bs):\n",
    "\n",
    "            # Set the gradients to zeros\n",
    "            optimizer.zero_grad()\n",
    "\n",
    "            # create a minibatch       \n",
    "            indices = shuffled_indices[count:count+bs].to(device)\n",
    "            minibatch_data =  X_train[indices].to(device)\n",
    "            minibatch_label =  y_train[indices].to(device)\n",
    "\n",
    "\n",
    "            # normalize the minibatch (this is the only difference compared to before!)\n",
    "            inputs = (minibatch_data - mean)/std\n",
    "\n",
    "            # tell Pytorch to start tracking all operations that will be done on \"inputs\"\n",
    "            inputs.requires_grad_()\n",
    "\n",
    "            # forward the minibatch through the net \n",
    "            scores=net( inputs ) \n",
    "\n",
    "            # Compute the average of the losses of the data points in the minibatch\n",
    "            loss =  criterion( scores , minibatch_label) \n",
    "\n",
    "            # backward pass to compute dL/dU, dL/dV and dL/dW   \n",
    "            loss.backward()\n",
    "\n",
    "            # do one step of stochastic gradient descent: U=U-lr(dL/dU), V=V-lr(dL/dU), ...\n",
    "            optimizer.step()\n",
    "\n",
    "\n",
    "            # START COMPUTING STATS\n",
    "\n",
    "            # add the loss of this batch to the running loss\n",
    "            running_loss += loss.detach().item()\n",
    "\n",
    "            # compute the error made on this batch and add it to the running error       \n",
    "            error = get_error( scores.detach() , minibatch_label)\n",
    "            acc = get_accuracy(scores.detach() , minibatch_label)\n",
    "            running_error += error.item()\n",
    "            running_acc += acc.item()\n",
    "\n",
    "            num_batches+=1        \n",
    "\n",
    "\n",
    "        # compute stats for the full training set\n",
    "        total_loss = running_loss/num_batches\n",
    "        total_error = running_error/num_batches\n",
    "        total_acc = running_acc/num_batches\n",
    "        log[\"train_loss\"].append(total_loss)\n",
    "        log[\"train_error\"].append(total_error)\n",
    "        log[\"train_accuracy\"].append(total_acc)\n",
    "\n",
    "        print('epoch=',epoch, '\\t loss=', total_loss , '\\t error=', total_error*100 ,'percent')\n",
    "        print('accuracy =', total_acc)\n",
    "        print(' ')\n",
    "\n",
    "        test_error,test_acc = eval_on_test_set(X_test, y_test, net, mean, std, bs)\n",
    "\n",
    "        log[\"test_error\"].append(test_error)\n",
    "        log[\"test_accuracy\"].append(test_acc)\n",
    "        print(\"=\"*50)\n",
    "    return log"
   ]
  },
  {
   "cell_type": "code",
   "execution_count": 19,
   "metadata": {},
   "outputs": [
    {
     "name": "stderr",
     "output_type": "stream",
     "text": [
      "D:\\Anaconda3\\envs\\deeplearn_course\\lib\\site-packages\\torch\\nn\\functional.py:718: UserWarning: Named tensors and all their associated APIs are an experimental feature and subject to change. Please do not use them for anything important until they are released as stable. (Triggered internally at  ..\\c10/core/TensorImpl.h:1156.)\n",
      "  return torch.max_pool2d(input, kernel_size, stride, padding, dilation, ceil_mode)\n"
     ]
    },
    {
     "name": "stdout",
     "output_type": "stream",
     "text": [
      "epoch= 0 \t loss= 6.572982183098793 \t error= 83.3854167163372 percent\n",
      "accuracy = 16.614583349227907\n",
      " \n",
      "1.84375 2\n",
      "error rate on test set = 92.1875 percent\n",
      "accuracy = 7.8125\n",
      "==================================================\n",
      "epoch= 1 \t loss= 1.796011930704117 \t error= 82.2395832836628 percent\n",
      "accuracy = 17.76041669845581\n",
      " \n",
      "1.5 2\n",
      "error rate on test set = 75.0 percent\n",
      "accuracy = 25.0\n",
      "==================================================\n",
      "epoch= 2 \t loss= 1.8000843942165374 \t error= 81.3411457836628 percent\n",
      "accuracy = 18.65885419845581\n",
      " \n",
      "1.484375 2\n",
      "error rate on test set = 74.21875 percent\n",
      "accuracy = 25.78125\n",
      "==================================================\n",
      "epoch= 3 \t loss= 1.7480928391218185 \t error= 77.79947906732559 percent\n",
      "accuracy = 22.200520849227907\n",
      " \n",
      "1.28125 2\n",
      "error rate on test set = 64.0625 percent\n",
      "accuracy = 35.9375\n",
      "==================================================\n",
      "epoch= 4 \t loss= 1.7665873289108276 \t error= 79.67447906732559 percent\n",
      "accuracy = 20.325520849227907\n",
      " \n",
      "1.578125 2\n",
      "error rate on test set = 78.90625 percent\n",
      "accuracy = 21.09375\n",
      "==================================================\n",
      "epoch= 5 \t loss= 1.775891187787056 \t error= 80.29947906732559 percent\n",
      "accuracy = 19.70052089691162\n",
      " \n",
      "1.703125 2\n",
      "error rate on test set = 85.15625 percent\n",
      "accuracy = 14.84375\n",
      "==================================================\n",
      "epoch= 6 \t loss= 1.7612581938505172 \t error= 77.4609375 percent\n",
      "accuracy = 22.5390625\n",
      " \n",
      "1.546875 2\n",
      "error rate on test set = 77.34375 percent\n",
      "accuracy = 22.65625\n",
      "==================================================\n",
      "epoch= 7 \t loss= 1.719678944349289 \t error= 75.84635406732559 percent\n",
      "accuracy = 24.15364589691162\n",
      " \n",
      "1.453125 2\n",
      "error rate on test set = 72.65625 percent\n",
      "accuracy = 27.34375\n",
      "==================================================\n",
      "epoch= 8 \t loss= 1.7182514399290085 \t error= 76.3411457836628 percent\n",
      "accuracy = 23.65885419845581\n",
      " \n",
      "1.359375 2\n",
      "error rate on test set = 67.96875 percent\n",
      "accuracy = 32.03125\n",
      "==================================================\n",
      "epoch= 9 \t loss= 1.7008309930562973 \t error= 74.53125 percent\n",
      "accuracy = 25.46875\n",
      " \n",
      "1.625 2\n",
      "error rate on test set = 81.25 percent\n",
      "accuracy = 18.75\n",
      "==================================================\n",
      "epoch= 10 \t loss= 1.7050644636154175 \t error= 73.50260406732559 percent\n",
      "accuracy = 26.497395849227907\n",
      " \n",
      "1.46875 2\n",
      "error rate on test set = 73.4375 percent\n",
      "accuracy = 26.5625\n",
      "==================================================\n",
      "epoch= 11 \t loss= 1.6857198864221572 \t error= 72.64322906732559 percent\n",
      "accuracy = 27.356770849227907\n",
      " \n",
      "1.5625 2\n",
      "error rate on test set = 78.125 percent\n",
      "accuracy = 21.875\n",
      "==================================================\n",
      "epoch= 12 \t loss= 1.7502248764038086 \t error= 77.44791656732559 percent\n",
      "accuracy = 22.552083349227907\n",
      " \n",
      "1.3125 2\n",
      "error rate on test set = 65.625 percent\n",
      "accuracy = 34.375\n",
      "==================================================\n",
      "epoch= 13 \t loss= 1.7134726405143739 \t error= 73.9583332836628 percent\n",
      "accuracy = 26.04166669845581\n",
      " \n",
      "1.609375 2\n",
      "error rate on test set = 80.46875 percent\n",
      "accuracy = 19.53125\n",
      "==================================================\n",
      "epoch= 14 \t loss= 1.6836314469575882 \t error= 73.42447906732559 percent\n",
      "accuracy = 26.575520849227907\n",
      " \n",
      "1.59375 2\n",
      "error rate on test set = 79.6875 percent\n",
      "accuracy = 20.3125\n",
      "==================================================\n",
      "epoch= 15 \t loss= 1.6853068947792054 \t error= 72.4348957836628 percent\n",
      "accuracy = 27.56510419845581\n",
      " \n",
      "1.53125 2\n",
      "error rate on test set = 76.5625 percent\n",
      "accuracy = 23.4375\n",
      "==================================================\n",
      "epoch= 16 \t loss= 1.694872996211052 \t error= 74.28385406732559 percent\n",
      "accuracy = 25.71614589691162\n",
      " \n",
      "1.515625 2\n",
      "error rate on test set = 75.78125 percent\n",
      "accuracy = 24.21875\n",
      "==================================================\n",
      "epoch= 17 \t loss= 1.6528607040643692 \t error= 73.61979156732559 percent\n",
      "accuracy = 26.38020839691162\n",
      " \n",
      "1.515625 2\n",
      "error rate on test set = 75.78125 percent\n",
      "accuracy = 24.21875\n",
      "==================================================\n",
      "epoch= 18 \t loss= 1.6549264311790466 \t error= 70.8984375 percent\n",
      "accuracy = 29.1015625\n",
      " \n",
      "1.5625 2\n",
      "error rate on test set = 78.125 percent\n",
      "accuracy = 21.875\n",
      "==================================================\n",
      "epoch= 19 \t loss= 1.6401341795921325 \t error= 72.03125 percent\n",
      "accuracy = 27.96875\n",
      " \n",
      "1.609375 2\n",
      "error rate on test set = 80.46875 percent\n",
      "accuracy = 19.53125\n",
      "==================================================\n",
      "epoch= 20 \t loss= 1.6249268621206283 \t error= 70.3645832836628 percent\n",
      "accuracy = 29.63541669845581\n",
      " \n",
      "1.59375 2\n",
      "error rate on test set = 79.6875 percent\n",
      "accuracy = 20.3125\n",
      "==================================================\n",
      "epoch= 21 \t loss= 1.6146468847990036 \t error= 70.1171875 percent\n",
      "accuracy = 29.8828125\n",
      " \n",
      "1.609375 2\n",
      "error rate on test set = 80.46875 percent\n",
      "accuracy = 19.53125\n",
      "==================================================\n",
      "epoch= 22 \t loss= 1.6279374420642854 \t error= 69.3098957836628 percent\n",
      "accuracy = 30.69010419845581\n",
      " \n",
      "1.5625 2\n",
      "error rate on test set = 78.125 percent\n",
      "accuracy = 21.875\n",
      "==================================================\n",
      "epoch= 23 \t loss= 1.5755366206169128 \t error= 67.79947906732559 percent\n",
      "accuracy = 32.20052089691162\n",
      " \n",
      "1.546875 2\n",
      "error rate on test set = 77.34375 percent\n",
      "accuracy = 22.65625\n",
      "==================================================\n",
      "epoch= 24 \t loss= 1.5484120726585389 \t error= 67.01822906732559 percent\n",
      "accuracy = 32.98177089691162\n",
      " \n",
      "1.546875 2\n",
      "error rate on test set = 77.34375 percent\n",
      "accuracy = 22.65625\n",
      "==================================================\n",
      "epoch= 25 \t loss= 1.5222263514995575 \t error= 65.0911457836628 percent\n",
      "accuracy = 34.90885419845581\n",
      " \n",
      "1.484375 2\n",
      "error rate on test set = 74.21875 percent\n",
      "accuracy = 25.78125\n",
      "==================================================\n",
      "epoch= 26 \t loss= 1.4849628418684007 \t error= 64.0755207836628 percent\n",
      "accuracy = 35.92447919845581\n",
      " \n",
      "1.5 2\n",
      "error rate on test set = 75.0 percent\n",
      "accuracy = 25.0\n",
      "==================================================\n",
      "epoch= 27 \t loss= 1.4632345944643022 \t error= 62.43489578366279 percent\n",
      "accuracy = 37.56510419845581\n",
      " \n",
      "1.53125 2\n",
      "error rate on test set = 76.5625 percent\n",
      "accuracy = 23.4375\n",
      "==================================================\n",
      "epoch= 28 \t loss= 1.4448873072862625 \t error= 62.5260415673256 percent\n",
      "accuracy = 37.47395839691162\n",
      " \n",
      "1.578125 2\n",
      "error rate on test set = 78.90625 percent\n",
      "accuracy = 21.09375\n",
      "==================================================\n",
      "epoch= 29 \t loss= 1.445834496617317 \t error= 61.145833283662796 percent\n",
      "accuracy = 38.85416669845581\n",
      " \n",
      "1.5625 2\n",
      "error rate on test set = 78.125 percent\n",
      "accuracy = 21.875\n",
      "==================================================\n",
      "epoch= 30 \t loss= 1.4258302360773087 \t error= 59.466145783662796 percent\n",
      "accuracy = 40.53385419845581\n",
      " \n",
      "1.671875 2\n",
      "error rate on test set = 83.59375 percent\n",
      "accuracy = 16.40625\n",
      "==================================================\n",
      "epoch= 31 \t loss= 1.4231979727745057 \t error= 58.90625000000001 percent\n",
      "accuracy = 41.09375\n",
      " \n",
      "1.625 2\n",
      "error rate on test set = 81.25 percent\n",
      "accuracy = 18.75\n",
      "==================================================\n",
      "epoch= 32 \t loss= 1.4164189338684081 \t error= 59.817708283662796 percent\n",
      "accuracy = 40.18229169845581\n",
      " \n",
      "1.484375 2\n",
      "error rate on test set = 74.21875 percent\n",
      "accuracy = 25.78125\n",
      "==================================================\n",
      "epoch= 33 \t loss= 1.3516298204660415 \t error= 57.799479067325585 percent\n",
      "accuracy = 42.20052089691162\n",
      " \n",
      "1.578125 2\n",
      "error rate on test set = 78.90625 percent\n",
      "accuracy = 21.09375\n",
      "==================================================\n",
      "epoch= 34 \t loss= 1.3736945033073424 \t error= 57.0572915673256 percent\n",
      "accuracy = 42.94270839691162\n",
      " \n",
      "1.65625 2\n",
      "error rate on test set = 82.8125 percent\n",
      "accuracy = 17.1875\n",
      "==================================================\n",
      "epoch= 35 \t loss= 1.3311638563871384 \t error= 54.98697906732559 percent\n",
      "accuracy = 45.01302089691162\n",
      " \n",
      "1.484375 2\n",
      "error rate on test set = 74.21875 percent\n",
      "accuracy = 25.78125\n",
      "==================================================\n",
      "epoch= 36 \t loss= 1.3157181173563004 \t error= 54.309895783662796 percent\n",
      "accuracy = 45.69010419845581\n",
      " \n",
      "1.453125 2\n",
      "error rate on test set = 72.65625 percent\n",
      "accuracy = 27.34375\n",
      "==================================================\n",
      "epoch= 37 \t loss= 1.2769462287425994 \t error= 52.7083332836628 percent\n",
      "accuracy = 47.29166669845581\n",
      " \n",
      "1.453125 2\n",
      "error rate on test set = 72.65625 percent\n",
      "accuracy = 27.34375\n",
      "==================================================\n",
      "epoch= 38 \t loss= 1.2677525401115417 \t error= 52.786458283662796 percent\n",
      "accuracy = 47.21354169845581\n",
      " \n",
      "1.484375 2\n",
      "error rate on test set = 74.21875 percent\n",
      "accuracy = 25.78125\n",
      "==================================================\n",
      "epoch= 39 \t loss= 1.2277483135461806 \t error= 52.07031250000001 percent\n",
      "accuracy = 47.9296875\n",
      " \n",
      "1.5 2\n",
      "error rate on test set = 75.0 percent\n",
      "accuracy = 25.0\n",
      "==================================================\n",
      "epoch= 40 \t loss= 1.2398081421852112 \t error= 51.158854067325585 percent\n",
      "accuracy = 48.84114589691162\n",
      " \n",
      "1.53125 2\n",
      "error rate on test set = 76.5625 percent\n",
      "accuracy = 23.4375\n",
      "==================================================\n",
      "epoch= 41 \t loss= 1.219158099591732 \t error= 50.013020783662796 percent\n",
      "accuracy = 49.98697919845581\n",
      " \n",
      "1.34375 2\n",
      "error rate on test set = 67.1875 percent\n",
      "accuracy = 32.8125\n",
      "==================================================\n",
      "epoch= 42 \t loss= 1.1972599536180497 \t error= 47.72135406732559 percent\n",
      "accuracy = 52.27864584922791\n",
      " \n",
      "1.59375 2\n",
      "error rate on test set = 79.6875 percent\n",
      "accuracy = 20.3125\n",
      "==================================================\n",
      "epoch= 43 \t loss= 1.1439178496599198 \t error= 46.263020783662796 percent\n",
      "accuracy = 53.73697919845581\n",
      " \n",
      "1.484375 2\n",
      "error rate on test set = 74.21875 percent\n",
      "accuracy = 25.78125\n",
      "==================================================\n",
      "epoch= 44 \t loss= 1.1557331457734108 \t error= 47.239583283662796 percent\n",
      "accuracy = 52.76041669845581\n",
      " \n",
      "1.640625 2\n",
      "error rate on test set = 82.03125 percent\n",
      "accuracy = 17.96875\n",
      "==================================================\n",
      "epoch= 45 \t loss= 1.1541818246245383 \t error= 45.9765625 percent\n",
      "accuracy = 54.0234375\n",
      " \n",
      "1.59375 2\n",
      "error rate on test set = 79.6875 percent\n",
      "accuracy = 20.3125\n",
      "==================================================\n",
      "epoch= 46 \t loss= 1.1122413143515586 \t error= 43.216145783662796 percent\n",
      "accuracy = 56.78385419845581\n",
      " \n",
      "1.421875 2\n",
      "error rate on test set = 71.09375 percent\n",
      "accuracy = 28.90625\n",
      "==================================================\n",
      "epoch= 47 \t loss= 1.1015222549438477 \t error= 44.63541656732559 percent\n",
      "accuracy = 55.36458339691162\n",
      " \n",
      "1.40625 2\n",
      "error rate on test set = 70.3125 percent\n",
      "accuracy = 29.6875\n",
      "==================================================\n",
      "epoch= 48 \t loss= 1.7803360790014267 \t error= 43.97135406732559 percent\n",
      "accuracy = 56.02864589691162\n",
      " \n",
      "1.578125 2\n",
      "error rate on test set = 78.90625 percent\n",
      "accuracy = 21.09375\n",
      "==================================================\n",
      "epoch= 49 \t loss= 1.0957371473312378 \t error= 43.606770783662796 percent\n",
      "accuracy = 56.39322919845581\n",
      " \n",
      "1.421875 2\n",
      "error rate on test set = 71.09375 percent\n",
      "accuracy = 28.90625\n",
      "==================================================\n",
      "epoch= 50 \t loss= 1.038889119029045 \t error= 39.75260406732559 percent\n",
      "accuracy = 60.24739589691162\n",
      " \n",
      "1.59375 2\n",
      "error rate on test set = 79.6875 percent\n",
      "accuracy = 20.3125\n",
      "==================================================\n",
      "epoch= 51 \t loss= 0.984837931394577 \t error= 38.684895783662796 percent\n",
      "accuracy = 61.31510429382324\n",
      " \n",
      "1.546875 2\n",
      "error rate on test set = 77.34375 percent\n",
      "accuracy = 22.65625\n",
      "==================================================\n",
      "epoch= 52 \t loss= 1.049389787018299 \t error= 40.598958283662796 percent\n",
      "accuracy = 59.40104179382324\n",
      " \n",
      "1.578125 2\n",
      "error rate on test set = 78.90625 percent\n",
      "accuracy = 21.09375\n",
      "==================================================\n",
      "epoch= 53 \t loss= 1.0138794124126433 \t error= 39.427083283662796 percent\n",
      "accuracy = 60.57291669845581\n",
      " \n",
      "1.40625 2\n",
      "error rate on test set = 70.3125 percent\n",
      "accuracy = 29.6875\n",
      "==================================================\n",
      "epoch= 54 \t loss= 0.9246918275952339 \t error= 36.223958283662796 percent\n",
      "accuracy = 63.77604169845581\n",
      " \n",
      "1.5 2\n",
      "error rate on test set = 75.0 percent\n",
      "accuracy = 25.0\n",
      "==================================================\n",
      "epoch= 55 \t loss= 0.9948347240686417 \t error= 37.13541656732559 percent\n",
      "accuracy = 62.86458339691162\n",
      " \n",
      "1.5625 2\n",
      "error rate on test set = 78.125 percent\n",
      "accuracy = 21.875\n",
      "==================================================\n",
      "epoch= 56 \t loss= 1.14547129124403 \t error= 37.40885406732559 percent\n",
      "accuracy = 62.59114589691162\n",
      " \n",
      "1.5 2\n",
      "error rate on test set = 75.0 percent\n",
      "accuracy = 25.0\n",
      "==================================================\n",
      "epoch= 57 \t loss= 0.9325356394052505 \t error= 35.5078125 percent\n",
      "accuracy = 64.4921875\n",
      " \n",
      "1.359375 2\n",
      "error rate on test set = 67.96875 percent\n",
      "accuracy = 32.03125\n",
      "==================================================\n",
      "epoch= 58 \t loss= 0.859817573428154 \t error= 34.270833283662796 percent\n",
      "accuracy = 65.72916679382324\n",
      " \n",
      "1.484375 2\n",
      "error rate on test set = 74.21875 percent\n",
      "accuracy = 25.78125\n",
      "==================================================\n",
      "epoch= 59 \t loss= 1.1850624084472656 \t error= 42.161458283662796 percent\n",
      "accuracy = 57.83854179382324\n",
      " \n",
      "1.53125 2\n",
      "error rate on test set = 76.5625 percent\n",
      "accuracy = 23.4375\n",
      "==================================================\n",
      "epoch= 60 \t loss= 0.8996549233794212 \t error= 32.552083283662796 percent\n",
      "accuracy = 67.44791679382324\n",
      " \n",
      "1.6875 2\n",
      "error rate on test set = 84.375 percent\n",
      "accuracy = 15.625\n",
      "==================================================\n",
      "epoch= 61 \t loss= 1.0123623371124268 \t error= 34.28385406732559 percent\n",
      "accuracy = 65.71614589691163\n",
      " \n",
      "1.40625 2\n",
      "error rate on test set = 70.3125 percent\n",
      "accuracy = 29.6875\n",
      "==================================================\n",
      "epoch= 62 \t loss= 1.0717958062887192 \t error= 36.86197906732559 percent\n",
      "accuracy = 63.13802089691162\n",
      " \n",
      "1.46875 2\n",
      "error rate on test set = 73.4375 percent\n",
      "accuracy = 26.5625\n",
      "==================================================\n",
      "epoch= 63 \t loss= 0.9276125341653824 \t error= 32.7734375 percent\n",
      "accuracy = 67.2265625\n",
      " \n",
      "1.5625 2\n",
      "error rate on test set = 78.125 percent\n",
      "accuracy = 21.875\n",
      "==================================================\n",
      "epoch= 64 \t loss= 0.9777584224939346 \t error= 33.58072906732559 percent\n",
      "accuracy = 66.41927089691163\n",
      " \n",
      "1.484375 2\n",
      "error rate on test set = 74.21875 percent\n",
      "accuracy = 25.78125\n",
      "==================================================\n",
      "epoch= 65 \t loss= 0.8723859846591949 \t error= 32.0703125 percent\n",
      "accuracy = 67.9296875\n",
      " \n",
      "1.546875 2\n",
      "error rate on test set = 77.34375 percent\n",
      "accuracy = 22.65625\n",
      "==================================================\n",
      "epoch= 66 \t loss= 1.025084564089775 \t error= 37.161458283662796 percent\n",
      "accuracy = 62.83854169845581\n",
      " \n",
      "1.5 2\n",
      "error rate on test set = 75.0 percent\n",
      "accuracy = 25.0\n",
      "==================================================\n",
      "epoch= 67 \t loss= 0.8539549753069877 \t error= 31.341145783662792 percent\n",
      "accuracy = 68.65885429382324\n",
      " \n",
      "1.578125 2\n",
      "error rate on test set = 78.90625 percent\n",
      "accuracy = 21.09375\n",
      "==================================================\n",
      "epoch= 68 \t loss= 1.2993113979697228 \t error= 36.94010406732559 percent\n",
      "accuracy = 63.05989589691162\n",
      " \n",
      "1.515625 2\n",
      "error rate on test set = 75.78125 percent\n",
      "accuracy = 24.21875\n",
      "==================================================\n",
      "epoch= 69 \t loss= 0.9375592187047005 \t error= 33.03385406732559 percent\n",
      "accuracy = 66.96614589691163\n",
      " \n",
      "1.5 2\n",
      "error rate on test set = 75.0 percent\n",
      "accuracy = 25.0\n",
      "==================================================\n",
      "epoch= 70 \t loss= 0.7811373993754387 \t error= 28.828125 percent\n",
      "accuracy = 71.171875\n",
      " \n",
      "1.390625 2\n",
      "error rate on test set = 69.53125 percent\n",
      "accuracy = 30.46875\n",
      "==================================================\n",
      "epoch= 71 \t loss= 1.0141141936182976 \t error= 30.963541567325592 percent\n",
      "accuracy = 69.03645839691163\n",
      " \n",
      "1.40625 2\n",
      "error rate on test set = 70.3125 percent\n",
      "accuracy = 29.6875\n",
      "==================================================\n",
      "epoch= 72 \t loss= 0.8192731112241745 \t error= 28.736979067325592 percent\n",
      "accuracy = 71.26302089691163\n",
      " \n",
      "1.640625 2\n",
      "error rate on test set = 82.03125 percent\n",
      "accuracy = 17.96875\n",
      "==================================================\n",
      "epoch= 73 \t loss= 0.9432433649897576 \t error= 33.528645783662796 percent\n",
      "accuracy = 66.47135429382324\n",
      " \n",
      "1.640625 2\n",
      "error rate on test set = 82.03125 percent\n",
      "accuracy = 17.96875\n",
      "==================================================\n",
      "epoch= 74 \t loss= 1.0102737203240395 \t error= 36.953125 percent\n",
      "accuracy = 63.046875\n",
      " \n",
      "1.703125 2\n",
      "error rate on test set = 85.15625 percent\n",
      "accuracy = 14.84375\n",
      "==================================================\n",
      "epoch= 75 \t loss= 0.8366254165768623 \t error= 29.322916567325592 percent\n",
      "accuracy = 70.67708339691163\n",
      " \n",
      "1.453125 2\n",
      "error rate on test set = 72.65625 percent\n",
      "accuracy = 27.34375\n",
      "==================================================\n",
      "epoch= 76 \t loss= 0.937151700258255 \t error= 34.24479156732559 percent\n",
      "accuracy = 65.75520839691163\n",
      " \n",
      "1.4375 2\n",
      "error rate on test set = 71.875 percent\n",
      "accuracy = 28.125\n",
      "==================================================\n",
      "epoch= 77 \t loss= 0.8467802092432976 \t error= 29.7005207836628 percent\n",
      "accuracy = 70.29947919845581\n",
      " \n",
      "1.46875 2\n",
      "error rate on test set = 73.4375 percent\n",
      "accuracy = 26.5625\n",
      "==================================================\n",
      "epoch= 78 \t loss= 0.8838194519281387 \t error= 29.778645783662792 percent\n",
      "accuracy = 70.22135429382324\n",
      " \n",
      "1.46875 2\n",
      "error rate on test set = 73.4375 percent\n",
      "accuracy = 26.5625\n",
      "==================================================\n",
      "epoch= 79 \t loss= 0.7926854938268661 \t error= 27.864583283662796 percent\n",
      "accuracy = 72.13541679382324\n",
      " \n",
      "1.453125 2\n",
      "error rate on test set = 72.65625 percent\n",
      "accuracy = 27.34375\n",
      "==================================================\n",
      "epoch= 80 \t loss= 0.8563225626945495 \t error= 29.127604067325592 percent\n",
      "accuracy = 70.87239589691163\n",
      " \n",
      "1.359375 2\n",
      "error rate on test set = 67.96875 percent\n",
      "accuracy = 32.03125\n",
      "==================================================\n",
      "epoch= 81 \t loss= 0.8121829867362976 \t error= 29.5052082836628 percent\n",
      "accuracy = 70.49479179382324\n",
      " \n",
      "1.359375 2\n",
      "error rate on test set = 67.96875 percent\n",
      "accuracy = 32.03125\n",
      "==================================================\n",
      "epoch= 82 \t loss= 0.949997353553772 \t error= 31.5234375 percent\n",
      "accuracy = 68.4765625\n",
      " \n",
      "1.53125 2\n",
      "error rate on test set = 76.5625 percent\n",
      "accuracy = 23.4375\n",
      "==================================================\n",
      "epoch= 83 \t loss= 0.7044646993279458 \t error= 26.51041656732559 percent\n",
      "accuracy = 73.48958339691163\n",
      " \n",
      "1.40625 2\n",
      "error rate on test set = 70.3125 percent\n",
      "accuracy = 29.6875\n",
      "==================================================\n",
      "epoch= 84 \t loss= 0.959085027128458 \t error= 25.247395783662796 percent\n",
      "accuracy = 74.75260429382324\n",
      " \n",
      "1.34375 2\n",
      "error rate on test set = 67.1875 percent\n",
      "accuracy = 32.8125\n",
      "==================================================\n",
      "epoch= 85 \t loss= 0.9971038043498993 \t error= 32.356770783662796 percent\n",
      "accuracy = 67.64322929382324\n",
      " \n",
      "1.4375 2\n",
      "error rate on test set = 71.875 percent\n",
      "accuracy = 28.125\n",
      "==================================================\n",
      "epoch= 86 \t loss= 0.7945332795381546 \t error= 26.992187499999996 percent\n",
      "accuracy = 73.0078125\n",
      " \n",
      "1.453125 2\n",
      "error rate on test set = 72.65625 percent\n",
      "accuracy = 27.34375\n",
      "==================================================\n",
      "epoch= 87 \t loss= 0.8458944916725158 \t error= 28.984375 percent\n",
      "accuracy = 71.015625\n",
      " \n",
      "1.515625 2\n",
      "error rate on test set = 75.78125 percent\n",
      "accuracy = 24.21875\n",
      "==================================================\n",
      "epoch= 88 \t loss= 4.465658508241177 \t error= 30.9765625 percent\n",
      "accuracy = 69.0234375\n",
      " \n",
      "1.5 2\n",
      "error rate on test set = 75.0 percent\n",
      "accuracy = 25.0\n",
      "==================================================\n",
      "epoch= 89 \t loss= 0.9407057374715805 \t error= 27.200520783662796 percent\n",
      "accuracy = 72.79947929382324\n",
      " \n",
      "1.484375 2\n",
      "error rate on test set = 74.21875 percent\n",
      "accuracy = 25.78125\n",
      "==================================================\n",
      "epoch= 90 \t loss= 0.7659887604415416 \t error= 25.5859375 percent\n",
      "accuracy = 74.4140625\n",
      " \n",
      "1.578125 2\n",
      "error rate on test set = 78.90625 percent\n",
      "accuracy = 21.09375\n",
      "==================================================\n",
      "epoch= 91 \t loss= 0.7841407157480716 \t error= 26.953125 percent\n",
      "accuracy = 73.046875\n",
      " \n",
      "1.5625 2\n",
      "error rate on test set = 78.125 percent\n",
      "accuracy = 21.875\n",
      "==================================================\n",
      "epoch= 92 \t loss= 1.032428778707981 \t error= 33.11197906732559 percent\n",
      "accuracy = 66.88802089691163\n",
      " \n",
      "1.59375 2\n",
      "error rate on test set = 79.6875 percent\n",
      "accuracy = 20.3125\n",
      "==================================================\n",
      "epoch= 93 \t loss= 0.9311683654785157 \t error= 28.294270783662796 percent\n",
      "accuracy = 71.70572929382324\n",
      " \n",
      "1.515625 2\n",
      "error rate on test set = 75.78125 percent\n",
      "accuracy = 24.21875\n",
      "==================================================\n",
      "epoch= 94 \t loss= 1.0762007787823678 \t error= 28.763020783662796 percent\n",
      "accuracy = 71.23697929382324\n",
      " \n",
      "1.46875 2\n",
      "error rate on test set = 73.4375 percent\n",
      "accuracy = 26.5625\n",
      "==================================================\n",
      "epoch= 95 \t loss= 0.8641426004469395 \t error= 29.752604067325596 percent\n",
      "accuracy = 70.24739589691163\n",
      " \n",
      "1.453125 2\n",
      "error rate on test set = 72.65625 percent\n",
      "accuracy = 27.34375\n",
      "==================================================\n",
      "epoch= 96 \t loss= 0.7478672310709953 \t error= 25.820312499999996 percent\n",
      "accuracy = 74.1796875\n",
      " \n",
      "1.59375 2\n",
      "error rate on test set = 79.6875 percent\n",
      "accuracy = 20.3125\n",
      "==================================================\n",
      "epoch= 97 \t loss= 0.9923007287085056 \t error= 30.143229067325596 percent\n",
      "accuracy = 69.85677089691163\n",
      " \n",
      "1.59375 2\n",
      "error rate on test set = 79.6875 percent\n",
      "accuracy = 20.3125\n",
      "==================================================\n",
      "epoch= 98 \t loss= 1.3335498191416264 \t error= 37.513020783662796 percent\n",
      "accuracy = 62.48697929382324\n",
      " \n",
      "1.46875 2\n",
      "error rate on test set = 73.4375 percent\n",
      "accuracy = 26.5625\n",
      "==================================================\n",
      "epoch= 99 \t loss= 0.8156003870069981 \t error= 28.841145783662796 percent\n",
      "accuracy = 71.15885429382324\n",
      " \n",
      "1.46875 2\n",
      "error rate on test set = 73.4375 percent\n",
      "accuracy = 26.5625\n",
      "==================================================\n"
     ]
    }
   ],
   "source": [
    "num_class = 6\n",
    "bs = 64\n",
    "X_train = torch.from_numpy(np.array(X_train).astype(np.float32))\n",
    "y_train = torch.from_numpy(np.array(y_train).astype(np.float32)).type(torch.LongTensor)\n",
    "X_test = torch.from_numpy(np.array(X_test).astype(np.float32))\n",
    "y_test = torch.from_numpy(np.array(y_test).astype(np.float32)).type(torch.LongTensor)\n",
    "\n",
    "net = VGG_convnet(3, num_class).to(device)\n",
    "mean = X_train.mean().to(device)\n",
    "std = X_train.std().to(device)\n",
    "\n",
    "log = train_network(X_train, y_train, X_test, y_test, net, mean, std)"
   ]
  },
  {
   "cell_type": "code",
   "execution_count": 20,
   "metadata": {},
   "outputs": [
    {
     "data": {
      "text/html": [
       "<div>\n",
       "<style scoped>\n",
       "    .dataframe tbody tr th:only-of-type {\n",
       "        vertical-align: middle;\n",
       "    }\n",
       "\n",
       "    .dataframe tbody tr th {\n",
       "        vertical-align: top;\n",
       "    }\n",
       "\n",
       "    .dataframe thead th {\n",
       "        text-align: right;\n",
       "    }\n",
       "</style>\n",
       "<table border=\"1\" class=\"dataframe\">\n",
       "  <thead>\n",
       "    <tr style=\"text-align: right;\">\n",
       "      <th></th>\n",
       "      <th>filename</th>\n",
       "      <th>label</th>\n",
       "    </tr>\n",
       "  </thead>\n",
       "  <tbody>\n",
       "    <tr>\n",
       "      <th>0</th>\n",
       "      <td>0.jpg</td>\n",
       "      <td>1</td>\n",
       "    </tr>\n",
       "    <tr>\n",
       "      <th>1</th>\n",
       "      <td>1.jpg</td>\n",
       "      <td>1</td>\n",
       "    </tr>\n",
       "    <tr>\n",
       "      <th>2</th>\n",
       "      <td>2.jpg</td>\n",
       "      <td>5</td>\n",
       "    </tr>\n",
       "    <tr>\n",
       "      <th>3</th>\n",
       "      <td>3.jpg</td>\n",
       "      <td>4</td>\n",
       "    </tr>\n",
       "    <tr>\n",
       "      <th>4</th>\n",
       "      <td>4.jpg</td>\n",
       "      <td>1</td>\n",
       "    </tr>\n",
       "  </tbody>\n",
       "</table>\n",
       "</div>"
      ],
      "text/plain": [
       "  filename  label\n",
       "0    0.jpg      1\n",
       "1    1.jpg      1\n",
       "2    2.jpg      5\n",
       "3    3.jpg      4\n",
       "4    4.jpg      1"
      ]
     },
     "execution_count": 20,
     "metadata": {},
     "output_type": "execute_result"
    }
   ],
   "source": [
    "labels.head()"
   ]
  },
  {
   "cell_type": "code",
   "execution_count": 21,
   "metadata": {},
   "outputs": [],
   "source": [
    "def modify_label(df, image_idx, label):\n",
    "    file_name = str(image_idx)+\".jpg\"\n",
    "    display(df.loc[df[\"filename\"]==file_name])\n",
    "    df.loc[df[\"filename\"]==file_name, \"label\"] = label\n",
    "    display(df.loc[df[\"filename\"]==file_name])"
   ]
  },
  {
   "cell_type": "code",
   "execution_count": 22,
   "metadata": {},
   "outputs": [],
   "source": [
    "\"\"\" Dont run this unless you comfirm to modify label\n",
    "\"\"\"\n",
    "modify = False\n",
    "if modify:\n",
    "    modify_label(labels, idx, 2)"
   ]
  },
  {
   "cell_type": "code",
   "execution_count": 23,
   "metadata": {},
   "outputs": [],
   "source": [
    "# labels.to_csv(\"label.csv\")"
   ]
  },
  {
   "cell_type": "code",
   "execution_count": 24,
   "metadata": {},
   "outputs": [
    {
     "name": "stdout",
     "output_type": "stream",
     "text": [
      "188\n"
     ]
    },
    {
     "data": {
      "image/png": "[encoded data removed]",
      "text/plain": [
       "<Figure size 360x360 with 1 Axes>"
      ]
     },
     "metadata": {
      "needs_background": "light"
     },
     "output_type": "display_data"
    },
    {
     "data": {
      "image/png": "[encoded data removed]",
      "text/plain": [
       "<Figure size 640x480 with 1 Axes>"
      ]
     },
     "metadata": {},
     "output_type": "display_data"
    }
   ],
   "source": [
    "# choose a picture at random\n",
    "idx=randint(0, 1500*0.2)\n",
    "label = ('Not Skin', 'Normal', 'Pustule', 'Whitehead', 'Blackhead', 'Cyst',)\n",
    "\n",
    "print(idx)\n",
    "im=X_test[idx].cpu().detach().numpy().astype(np.uint8)\n",
    "# X_train, X_test, y_train, y_test\n",
    "# diplay the picture\n",
    "image_label = f\"label index: {y_test[idx]}; label is {label[y_test[idx]]}\"\n",
    "image_utils().plot_image(im,title=image_label, figsize=(5,5))\n",
    "\n",
    "im=X_test[idx]\n",
    "im = torch.from_numpy(np.array(im).astype(np.float32)).to(device)\n",
    "X_train_ = torch.from_numpy(np.array(X_train).astype(np.float32))\n",
    "X_train_ = X_train_.view(-1, 3, 50, 50)\n",
    "mean= X_train_.mean()\n",
    "std= X_train_.std()\n",
    "# # send to device, rescale, and view as a batch of 1 \n",
    "# im = im.to(device)\n",
    "im= (im-mean) / std\n",
    "\n",
    "im=im.view(1,3,50,50)\n",
    "\n",
    "# # feed it to the net and display the confidence scores\n",
    "scores =  net(im) \n",
    "probs= torch.softmax(scores, dim=1)\n",
    "image_utils().show_prob_pimples(probs.cpu())"
   ]
  },
  {
   "cell_type": "code",
   "execution_count": 25,
   "metadata": {},
   "outputs": [
    {
     "data": {
      "application/vnd.plotly.v1+json": {
       "config": {
        "plotlyServerURL": "https://plot.ly"
       },
       "data": [
        {
         "hovertemplate": "index=%{x}<br>train_loss=%{y}<extra></extra>",
         "legendgroup": "",
         "line": {
          "color": "#636efa",
          "dash": "solid"
         },
         "marker": {
          "symbol": "circle"
         },
         "mode": "lines",
         "name": "",
         "orientation": "v",
         "showlegend": false,
         "type": "scatter",
         "x": [
          1,
          2,
          3,
          4,
          5,
          6,
          7,
          8,
          9,
          10,
          11,
          12,
          13,
          14,
          15,
          16,
          17,
          18,
          19,
          20,
          21,
          22,
          23,
          24,
          25,
          26,
          27,
          28,
          29,
          30,
          31,
          32,
          33,
          34,
          35,
          36,
          37,
          38,
          39,
          40,
          41,
          42,
          43,
          44,
          45,
          46,
          47,
          48,
          49,
          50,
          51,
          52,
          53,
          54,
          55,
          56,
          57,
          58,
          59,
          60,
          61,
          62,
          63,
          64,
          65,
          66,
          67,
          68,
          69,
          70,
          71,
          72,
          73,
          74,
          75,
          76,
          77,
          78,
          79,
          80,
          81,
          82,
          83,
          84,
          85,
          86,
          87,
          88,
          89,
          90,
          91,
          92,
          93,
          94,
          95,
          96,
          97,
          98,
          99
         ],
         "xaxis": "x",
         "y": [
          1.796011930704117,
          1.8000843942165374,
          1.7480928391218185,
          1.7665873289108276,
          1.775891187787056,
          1.7612581938505172,
          1.719678944349289,
          1.7182514399290085,
          1.7008309930562973,
          1.7050644636154175,
          1.6857198864221572,
          1.7502248764038086,
          1.7134726405143739,
          1.6836314469575882,
          1.6853068947792054,
          1.694872996211052,
          1.6528607040643692,
          1.6549264311790466,
          1.6401341795921325,
          1.6249268621206283,
          1.6146468847990036,
          1.6279374420642854,
          1.5755366206169128,
          1.5484120726585389,
          1.5222263514995575,
          1.4849628418684007,
          1.4632345944643022,
          1.4448873072862625,
          1.445834496617317,
          1.4258302360773087,
          1.4231979727745057,
          1.4164189338684081,
          1.3516298204660415,
          1.3736945033073424,
          1.3311638563871384,
          1.3157181173563004,
          1.2769462287425994,
          1.2677525401115417,
          1.2277483135461806,
          1.2398081421852112,
          1.219158099591732,
          1.1972599536180497,
          1.1439178496599198,
          1.1557331457734108,
          1.1541818246245383,
          1.1122413143515586,
          1.1015222549438477,
          1.7803360790014267,
          1.0957371473312378,
          1.038889119029045,
          0.984837931394577,
          1.049389787018299,
          1.0138794124126433,
          0.9246918275952339,
          0.9948347240686417,
          1.14547129124403,
          0.9325356394052505,
          0.859817573428154,
          1.1850624084472656,
          0.8996549233794212,
          1.0123623371124268,
          1.0717958062887192,
          0.9276125341653824,
          0.9777584224939346,
          0.8723859846591949,
          1.025084564089775,
          0.8539549753069877,
          1.2993113979697228,
          0.9375592187047005,
          0.7811373993754387,
          1.0141141936182976,
          0.8192731112241745,
          0.9432433649897576,
          1.0102737203240395,
          0.8366254165768623,
          0.937151700258255,
          0.8467802092432976,
          0.8838194519281387,
          0.7926854938268661,
          0.8563225626945495,
          0.8121829867362976,
          0.949997353553772,
          0.7044646993279458,
          0.959085027128458,
          0.9971038043498993,
          0.7945332795381546,
          0.8458944916725158,
          4.465658508241177,
          0.9407057374715805,
          0.7659887604415416,
          0.7841407157480716,
          1.032428778707981,
          0.9311683654785157,
          1.0762007787823678,
          0.8641426004469395,
          0.7478672310709953,
          0.9923007287085056,
          1.3335498191416264,
          0.8156003870069981
         ],
         "yaxis": "y"
        }
       ],
       "layout": {
        "legend": {
         "tracegroupgap": 0
        },
        "margin": {
         "t": 60
        },
        "template": {
         "data": {
          "bar": [
           {
            "error_x": {
             "color": "#2a3f5f"
            },
            "error_y": {
             "color": "#2a3f5f"
            },
            "marker": {
             "line": {
              "color": "#E5ECF6",
              "width": 0.5
             },
             "pattern": {
              "fillmode": "overlay",
              "size": 10,
              "solidity": 0.2
             }
            },
            "type": "bar"
           }
          ],
          "barpolar": [
           {
            "marker": {
             "line": {
              "color": "#E5ECF6",
              "width": 0.5
             },
             "pattern": {
              "fillmode": "overlay",
              "size": 10,
              "solidity": 0.2
             }
            },
            "type": "barpolar"
           }
          ],
          "carpet": [
           {
            "aaxis": {
             "endlinecolor": "#2a3f5f",
             "gridcolor": "white",
             "linecolor": "white",
             "minorgridcolor": "white",
             "startlinecolor": "#2a3f5f"
            },
            "baxis": {
             "endlinecolor": "#2a3f5f",
             "gridcolor": "white",
             "linecolor": "white",
             "minorgridcolor": "white",
             "startlinecolor": "#2a3f5f"
            },
            "type": "carpet"
           }
          ],
          "choropleth": [
           {
            "colorbar": {
             "outlinewidth": 0,
             "ticks": ""
            },
            "type": "choropleth"
           }
          ],
          "contour": [
           {
            "colorbar": {
             "outlinewidth": 0,
             "ticks": ""
            },
            "colorscale": [
             [
              0,
              "#0d0887"
             ],
             [
              0.1111111111111111,
              "#46039f"
             ],
             [
              0.2222222222222222,
              "#7201a8"
             ],
             [
              0.3333333333333333,
              "#9c179e"
             ],
             [
              0.4444444444444444,
              "#bd3786"
             ],
             [
              0.5555555555555556,
              "#d8576b"
             ],
             [
              0.6666666666666666,
              "#ed7953"
             ],
             [
              0.7777777777777778,
              "#fb9f3a"
             ],
             [
              0.8888888888888888,
              "#fdca26"
             ],
             [
              1,
              "#f0f921"
             ]
            ],
            "type": "contour"
           }
          ],
          "contourcarpet": [
           {
            "colorbar": {
             "outlinewidth": 0,
             "ticks": ""
            },
            "type": "contourcarpet"
           }
          ],
          "heatmap": [
           {
            "colorbar": {
             "outlinewidth": 0,
             "ticks": ""
            },
            "colorscale": [
             [
              0,
              "#0d0887"
             ],
             [
              0.1111111111111111,
              "#46039f"
             ],
             [
              0.2222222222222222,
              "#7201a8"
             ],
             [
              0.3333333333333333,
              "#9c179e"
             ],
             [
              0.4444444444444444,
              "#bd3786"
             ],
             [
              0.5555555555555556,
              "#d8576b"
             ],
             [
              0.6666666666666666,
              "#ed7953"
             ],
             [
              0.7777777777777778,
              "#fb9f3a"
             ],
             [
              0.8888888888888888,
              "#fdca26"
             ],
             [
              1,
              "#f0f921"
             ]
            ],
            "type": "heatmap"
           }
          ],
          "heatmapgl": [
           {
            "colorbar": {
             "outlinewidth": 0,
             "ticks": ""
            },
            "colorscale": [
             [
              0,
              "#0d0887"
             ],
             [
              0.1111111111111111,
              "#46039f"
             ],
             [
              0.2222222222222222,
              "#7201a8"
             ],
             [
              0.3333333333333333,
              "#9c179e"
             ],
             [
              0.4444444444444444,
              "#bd3786"
             ],
             [
              0.5555555555555556,
              "#d8576b"
             ],
             [
              0.6666666666666666,
              "#ed7953"
             ],
             [
              0.7777777777777778,
              "#fb9f3a"
             ],
             [
              0.8888888888888888,
              "#fdca26"
             ],
             [
              1,
              "#f0f921"
             ]
            ],
            "type": "heatmapgl"
           }
          ],
          "histogram": [
           {
            "marker": {
             "pattern": {
              "fillmode": "overlay",
              "size": 10,
              "solidity": 0.2
             }
            },
            "type": "histogram"
           }
          ],
          "histogram2d": [
           {
            "colorbar": {
             "outlinewidth": 0,
             "ticks": ""
            },
            "colorscale": [
             [
              0,
              "#0d0887"
             ],
             [
              0.1111111111111111,
              "#46039f"
             ],
             [
              0.2222222222222222,
              "#7201a8"
             ],
             [
              0.3333333333333333,
              "#9c179e"
             ],
             [
              0.4444444444444444,
              "#bd3786"
             ],
             [
              0.5555555555555556,
              "#d8576b"
             ],
             [
              0.6666666666666666,
              "#ed7953"
             ],
             [
              0.7777777777777778,
              "#fb9f3a"
             ],
             [
              0.8888888888888888,
              "#fdca26"
             ],
             [
              1,
              "#f0f921"
             ]
            ],
            "type": "histogram2d"
           }
          ],
          "histogram2dcontour": [
           {
            "colorbar": {
             "outlinewidth": 0,
             "ticks": ""
            },
            "colorscale": [
             [
              0,
              "#0d0887"
             ],
             [
              0.1111111111111111,
              "#46039f"
             ],
             [
              0.2222222222222222,
              "#7201a8"
             ],
             [
              0.3333333333333333,
              "#9c179e"
             ],
             [
              0.4444444444444444,
              "#bd3786"
             ],
             [
              0.5555555555555556,
              "#d8576b"
             ],
             [
              0.6666666666666666,
              "#ed7953"
             ],
             [
              0.7777777777777778,
              "#fb9f3a"
             ],
             [
              0.8888888888888888,
              "#fdca26"
             ],
             [
              1,
              "#f0f921"
             ]
            ],
            "type": "histogram2dcontour"
           }
          ],
          "mesh3d": [
           {
            "colorbar": {
             "outlinewidth": 0,
             "ticks": ""
            },
            "type": "mesh3d"
           }
          ],
          "parcoords": [
           {
            "line": {
             "colorbar": {
              "outlinewidth": 0,
              "ticks": ""
             }
            },
            "type": "parcoords"
           }
          ],
          "pie": [
           {
            "automargin": true,
            "type": "pie"
           }
          ],
          "scatter": [
           {
            "marker": {
             "colorbar": {
              "outlinewidth": 0,
              "ticks": ""
             }
            },
            "type": "scatter"
           }
          ],
          "scatter3d": [
           {
            "line": {
             "colorbar": {
              "outlinewidth": 0,
              "ticks": ""
             }
            },
            "marker": {
             "colorbar": {
              "outlinewidth": 0,
              "ticks": ""
             }
            },
            "type": "scatter3d"
           }
          ],
          "scattercarpet": [
           {
            "marker": {
             "colorbar": {
              "outlinewidth": 0,
              "ticks": ""
             }
            },
            "type": "scattercarpet"
           }
          ],
          "scattergeo": [
           {
            "marker": {
             "colorbar": {
              "outlinewidth": 0,
              "ticks": ""
             }
            },
            "type": "scattergeo"
           }
          ],
          "scattergl": [
           {
            "marker": {
             "colorbar": {
              "outlinewidth": 0,
              "ticks": ""
             }
            },
            "type": "scattergl"
           }
          ],
          "scattermapbox": [
           {
            "marker": {
             "colorbar": {
              "outlinewidth": 0,
              "ticks": ""
             }
            },
            "type": "scattermapbox"
           }
          ],
          "scatterpolar": [
           {
            "marker": {
             "colorbar": {
              "outlinewidth": 0,
              "ticks": ""
             }
            },
            "type": "scatterpolar"
           }
          ],
          "scatterpolargl": [
           {
            "marker": {
             "colorbar": {
              "outlinewidth": 0,
              "ticks": ""
             }
            },
            "type": "scatterpolargl"
           }
          ],
          "scatterternary": [
           {
            "marker": {
             "colorbar": {
              "outlinewidth": 0,
              "ticks": ""
             }
            },
            "type": "scatterternary"
           }
          ],
          "surface": [
           {
            "colorbar": {
             "outlinewidth": 0,
             "ticks": ""
            },
            "colorscale": [
             [
              0,
              "#0d0887"
             ],
             [
              0.1111111111111111,
              "#46039f"
             ],
             [
              0.2222222222222222,
              "#7201a8"
             ],
             [
              0.3333333333333333,
              "#9c179e"
             ],
             [
              0.4444444444444444,
              "#bd3786"
             ],
             [
              0.5555555555555556,
              "#d8576b"
             ],
             [
              0.6666666666666666,
              "#ed7953"
             ],
             [
              0.7777777777777778,
              "#fb9f3a"
             ],
             [
              0.8888888888888888,
              "#fdca26"
             ],
             [
              1,
              "#f0f921"
             ]
            ],
            "type": "surface"
           }
          ],
          "table": [
           {
            "cells": {
             "fill": {
              "color": "#EBF0F8"
             },
             "line": {
              "color": "white"
             }
            },
            "header": {
             "fill": {
              "color": "#C8D4E3"
             },
             "line": {
              "color": "white"
             }
            },
            "type": "table"
           }
          ]
         },
         "layout": {
          "annotationdefaults": {
           "arrowcolor": "#2a3f5f",
           "arrowhead": 0,
           "arrowwidth": 1
          },
          "autotypenumbers": "strict",
          "coloraxis": {
           "colorbar": {
            "outlinewidth": 0,
            "ticks": ""
           }
          },
          "colorscale": {
           "diverging": [
            [
             0,
             "#8e0152"
            ],
            [
             0.1,
             "#c51b7d"
            ],
            [
             0.2,
             "#de77ae"
            ],
            [
             0.3,
             "#f1b6da"
            ],
            [
             0.4,
             "#fde0ef"
            ],
            [
             0.5,
             "#f7f7f7"
            ],
            [
             0.6,
             "#e6f5d0"
            ],
            [
             0.7,
             "#b8e186"
            ],
            [
             0.8,
             "#7fbc41"
            ],
            [
             0.9,
             "#4d9221"
            ],
            [
             1,
             "#276419"
            ]
           ],
           "sequential": [
            [
             0,
             "#0d0887"
            ],
            [
             0.1111111111111111,
             "#46039f"
            ],
            [
             0.2222222222222222,
             "#7201a8"
            ],
            [
             0.3333333333333333,
             "#9c179e"
            ],
            [
             0.4444444444444444,
             "#bd3786"
            ],
            [
             0.5555555555555556,
             "#d8576b"
            ],
            [
             0.6666666666666666,
             "#ed7953"
            ],
            [
             0.7777777777777778,
             "#fb9f3a"
            ],
            [
             0.8888888888888888,
             "#fdca26"
            ],
            [
             1,
             "#f0f921"
            ]
           ],
           "sequentialminus": [
            [
             0,
             "#0d0887"
            ],
            [
             0.1111111111111111,
             "#46039f"
            ],
            [
             0.2222222222222222,
             "#7201a8"
            ],
            [
             0.3333333333333333,
             "#9c179e"
            ],
            [
             0.4444444444444444,
             "#bd3786"
            ],
            [
             0.5555555555555556,
             "#d8576b"
            ],
            [
             0.6666666666666666,
             "#ed7953"
            ],
            [
             0.7777777777777778,
             "#fb9f3a"
            ],
            [
             0.8888888888888888,
             "#fdca26"
            ],
            [
             1,
             "#f0f921"
            ]
           ]
          },
          "colorway": [
           "#636efa",
           "#EF553B",
           "#00cc96",
           "#ab63fa",
           "#FFA15A",
           "#19d3f3",
           "#FF6692",
           "#B6E880",
           "#FF97FF",
           "#FECB52"
          ],
          "font": {
           "color": "#2a3f5f"
          },
          "geo": {
           "bgcolor": "white",
           "lakecolor": "white",
           "landcolor": "#E5ECF6",
           "showlakes": true,
           "showland": true,
           "subunitcolor": "white"
          },
          "hoverlabel": {
           "align": "left"
          },
          "hovermode": "closest",
          "mapbox": {
           "style": "light"
          },
          "paper_bgcolor": "white",
          "plot_bgcolor": "#E5ECF6",
          "polar": {
           "angularaxis": {
            "gridcolor": "white",
            "linecolor": "white",
            "ticks": ""
           },
           "bgcolor": "#E5ECF6",
           "radialaxis": {
            "gridcolor": "white",
            "linecolor": "white",
            "ticks": ""
           }
          },
          "scene": {
           "xaxis": {
            "backgroundcolor": "#E5ECF6",
            "gridcolor": "white",
            "gridwidth": 2,
            "linecolor": "white",
            "showbackground": true,
            "ticks": "",
            "zerolinecolor": "white"
           },
           "yaxis": {
            "backgroundcolor": "#E5ECF6",
            "gridcolor": "white",
            "gridwidth": 2,
            "linecolor": "white",
            "showbackground": true,
            "ticks": "",
            "zerolinecolor": "white"
           },
           "zaxis": {
            "backgroundcolor": "#E5ECF6",
            "gridcolor": "white",
            "gridwidth": 2,
            "linecolor": "white",
            "showbackground": true,
            "ticks": "",
            "zerolinecolor": "white"
           }
          },
          "shapedefaults": {
           "line": {
            "color": "#2a3f5f"
           }
          },
          "ternary": {
           "aaxis": {
            "gridcolor": "white",
            "linecolor": "white",
            "ticks": ""
           },
           "baxis": {
            "gridcolor": "white",
            "linecolor": "white",
            "ticks": ""
           },
           "bgcolor": "#E5ECF6",
           "caxis": {
            "gridcolor": "white",
            "linecolor": "white",
            "ticks": ""
           }
          },
          "title": {
           "x": 0.05
          },
          "xaxis": {
           "automargin": true,
           "gridcolor": "white",
           "linecolor": "white",
           "ticks": "",
           "title": {
            "standoff": 15
           },
           "zerolinecolor": "white",
           "zerolinewidth": 2
          },
          "yaxis": {
           "automargin": true,
           "gridcolor": "white",
           "linecolor": "white",
           "ticks": "",
           "title": {
            "standoff": 15
           },
           "zerolinecolor": "white",
           "zerolinewidth": 2
          }
         }
        },
        "xaxis": {
         "anchor": "y",
         "domain": [
          0,
          1
         ],
         "title": {
          "text": "index"
         }
        },
        "yaxis": {
         "anchor": "x",
         "domain": [
          0,
          1
         ],
         "title": {
          "text": "train_loss"
         }
        }
       }
      }
     },
     "metadata": {},
     "output_type": "display_data"
    },
    {
     "data": {
      "application/vnd.plotly.v1+json": {
       "config": {
        "plotlyServerURL": "https://plot.ly"
       },
       "data": [
        {
         "hovertemplate": "log_type=train_accuracy<br>index=%{x}<br>value=%{y}<extra></extra>",
         "legendgroup": "train_accuracy",
         "line": {
          "color": "#636efa",
          "dash": "solid"
         },
         "marker": {
          "symbol": "circle"
         },
         "mode": "lines",
         "name": "train_accuracy",
         "orientation": "v",
         "showlegend": true,
         "type": "scatter",
         "x": [
          0,
          1,
          2,
          3,
          4,
          5,
          6,
          7,
          8,
          9,
          10,
          11,
          12,
          13,
          14,
          15,
          16,
          17,
          18,
          19,
          20,
          21,
          22,
          23,
          24,
          25,
          26,
          27,
          28,
          29,
          30,
          31,
          32,
          33,
          34,
          35,
          36,
          37,
          38,
          39,
          40,
          41,
          42,
          43,
          44,
          45,
          46,
          47,
          48,
          49,
          50,
          51,
          52,
          53,
          54,
          55,
          56,
          57,
          58,
          59,
          60,
          61,
          62,
          63,
          64,
          65,
          66,
          67,
          68,
          69,
          70,
          71,
          72,
          73,
          74,
          75,
          76,
          77,
          78,
          79,
          80,
          81,
          82,
          83,
          84,
          85,
          86,
          87,
          88,
          89,
          90,
          91,
          92,
          93,
          94,
          95,
          96,
          97,
          98,
          99
         ],
         "xaxis": "x",
         "y": [
          16.614583349227907,
          17.76041669845581,
          18.65885419845581,
          22.200520849227907,
          20.325520849227907,
          19.70052089691162,
          22.5390625,
          24.15364589691162,
          23.65885419845581,
          25.46875,
          26.497395849227907,
          27.356770849227907,
          22.552083349227907,
          26.04166669845581,
          26.575520849227907,
          27.56510419845581,
          25.71614589691162,
          26.38020839691162,
          29.1015625,
          27.96875,
          29.63541669845581,
          29.8828125,
          30.69010419845581,
          32.20052089691162,
          32.98177089691162,
          34.90885419845581,
          35.92447919845581,
          37.56510419845581,
          37.47395839691162,
          38.85416669845581,
          40.53385419845581,
          41.09375,
          40.18229169845581,
          42.20052089691162,
          42.94270839691162,
          45.01302089691162,
          45.69010419845581,
          47.29166669845581,
          47.21354169845581,
          47.9296875,
          48.84114589691162,
          49.98697919845581,
          52.27864584922791,
          53.73697919845581,
          52.76041669845581,
          54.0234375,
          56.78385419845581,
          55.36458339691162,
          56.02864589691162,
          56.39322919845581,
          60.24739589691162,
          61.31510429382324,
          59.40104179382324,
          60.57291669845581,
          63.77604169845581,
          62.86458339691162,
          62.59114589691162,
          64.4921875,
          65.72916679382324,
          57.83854179382324,
          67.44791679382324,
          65.71614589691163,
          63.13802089691162,
          67.2265625,
          66.41927089691163,
          67.9296875,
          62.83854169845581,
          68.65885429382324,
          63.05989589691162,
          66.96614589691163,
          71.171875,
          69.03645839691163,
          71.26302089691163,
          66.47135429382324,
          63.046875,
          70.67708339691163,
          65.75520839691163,
          70.29947919845581,
          70.22135429382324,
          72.13541679382324,
          70.87239589691163,
          70.49479179382324,
          68.4765625,
          73.48958339691163,
          74.75260429382324,
          67.64322929382324,
          73.0078125,
          71.015625,
          69.0234375,
          72.79947929382324,
          74.4140625,
          73.046875,
          66.88802089691163,
          71.70572929382324,
          71.23697929382324,
          70.24739589691163,
          74.1796875,
          69.85677089691163,
          62.48697929382324,
          71.15885429382324
         ],
         "yaxis": "y"
        },
        {
         "hovertemplate": "log_type=test_accuracy<br>index=%{x}<br>value=%{y}<extra></extra>",
         "legendgroup": "test_accuracy",
         "line": {
          "color": "#EF553B",
          "dash": "solid"
         },
         "marker": {
          "symbol": "circle"
         },
         "mode": "lines",
         "name": "test_accuracy",
         "orientation": "v",
         "showlegend": true,
         "type": "scatter",
         "x": [
          0,
          1,
          2,
          3,
          4,
          5,
          6,
          7,
          8,
          9,
          10,
          11,
          12,
          13,
          14,
          15,
          16,
          17,
          18,
          19,
          20,
          21,
          22,
          23,
          24,
          25,
          26,
          27,
          28,
          29,
          30,
          31,
          32,
          33,
          34,
          35,
          36,
          37,
          38,
          39,
          40,
          41,
          42,
          43,
          44,
          45,
          46,
          47,
          48,
          49,
          50,
          51,
          52,
          53,
          54,
          55,
          56,
          57,
          58,
          59,
          60,
          61,
          62,
          63,
          64,
          65,
          66,
          67,
          68,
          69,
          70,
          71,
          72,
          73,
          74,
          75,
          76,
          77,
          78,
          79,
          80,
          81,
          82,
          83,
          84,
          85,
          86,
          87,
          88,
          89,
          90,
          91,
          92,
          93,
          94,
          95,
          96,
          97,
          98,
          99
         ],
         "xaxis": "x",
         "y": [
          7.8125,
          25,
          25.78125,
          35.9375,
          21.09375,
          14.84375,
          22.65625,
          27.34375,
          32.03125,
          18.75,
          26.5625,
          21.875,
          34.375,
          19.53125,
          20.3125,
          23.4375,
          24.21875,
          24.21875,
          21.875,
          19.53125,
          20.3125,
          19.53125,
          21.875,
          22.65625,
          22.65625,
          25.78125,
          25,
          23.4375,
          21.09375,
          21.875,
          16.40625,
          18.75,
          25.78125,
          21.09375,
          17.1875,
          25.78125,
          27.34375,
          27.34375,
          25.78125,
          25,
          23.4375,
          32.8125,
          20.3125,
          25.78125,
          17.96875,
          20.3125,
          28.90625,
          29.6875,
          21.09375,
          28.90625,
          20.3125,
          22.65625,
          21.09375,
          29.6875,
          25,
          21.875,
          25,
          32.03125,
          25.78125,
          23.4375,
          15.625,
          29.6875,
          26.5625,
          21.875,
          25.78125,
          22.65625,
          25,
          21.09375,
          24.21875,
          25,
          30.46875,
          29.6875,
          17.96875,
          17.96875,
          14.84375,
          27.34375,
          28.125,
          26.5625,
          26.5625,
          27.34375,
          32.03125,
          32.03125,
          23.4375,
          29.6875,
          32.8125,
          28.125,
          27.34375,
          24.21875,
          25,
          25.78125,
          21.09375,
          21.875,
          20.3125,
          24.21875,
          26.5625,
          27.34375,
          20.3125,
          20.3125,
          26.5625,
          26.5625
         ],
         "yaxis": "y"
        }
       ],
       "layout": {
        "legend": {
         "title": {
          "text": "log_type"
         },
         "tracegroupgap": 0
        },
        "margin": {
         "t": 60
        },
        "template": {
         "data": {
          "bar": [
           {
            "error_x": {
             "color": "#2a3f5f"
            },
            "error_y": {
             "color": "#2a3f5f"
            },
            "marker": {
             "line": {
              "color": "#E5ECF6",
              "width": 0.5
             },
             "pattern": {
              "fillmode": "overlay",
              "size": 10,
              "solidity": 0.2
             }
            },
            "type": "bar"
           }
          ],
          "barpolar": [
           {
            "marker": {
             "line": {
              "color": "#E5ECF6",
              "width": 0.5
             },
             "pattern": {
              "fillmode": "overlay",
              "size": 10,
              "solidity": 0.2
             }
            },
            "type": "barpolar"
           }
          ],
          "carpet": [
           {
            "aaxis": {
             "endlinecolor": "#2a3f5f",
             "gridcolor": "white",
             "linecolor": "white",
             "minorgridcolor": "white",
             "startlinecolor": "#2a3f5f"
            },
            "baxis": {
             "endlinecolor": "#2a3f5f",
             "gridcolor": "white",
             "linecolor": "white",
             "minorgridcolor": "white",
             "startlinecolor": "#2a3f5f"
            },
            "type": "carpet"
           }
          ],
          "choropleth": [
           {
            "colorbar": {
             "outlinewidth": 0,
             "ticks": ""
            },
            "type": "choropleth"
           }
          ],
          "contour": [
           {
            "colorbar": {
             "outlinewidth": 0,
             "ticks": ""
            },
            "colorscale": [
             [
              0,
              "#0d0887"
             ],
             [
              0.1111111111111111,
              "#46039f"
             ],
             [
              0.2222222222222222,
              "#7201a8"
             ],
             [
              0.3333333333333333,
              "#9c179e"
             ],
             [
              0.4444444444444444,
              "#bd3786"
             ],
             [
              0.5555555555555556,
              "#d8576b"
             ],
             [
              0.6666666666666666,
              "#ed7953"
             ],
             [
              0.7777777777777778,
              "#fb9f3a"
             ],
             [
              0.8888888888888888,
              "#fdca26"
             ],
             [
              1,
              "#f0f921"
             ]
            ],
            "type": "contour"
           }
          ],
          "contourcarpet": [
           {
            "colorbar": {
             "outlinewidth": 0,
             "ticks": ""
            },
            "type": "contourcarpet"
           }
          ],
          "heatmap": [
           {
            "colorbar": {
             "outlinewidth": 0,
             "ticks": ""
            },
            "colorscale": [
             [
              0,
              "#0d0887"
             ],
             [
              0.1111111111111111,
              "#46039f"
             ],
             [
              0.2222222222222222,
              "#7201a8"
             ],
             [
              0.3333333333333333,
              "#9c179e"
             ],
             [
              0.4444444444444444,
              "#bd3786"
             ],
             [
              0.5555555555555556,
              "#d8576b"
             ],
             [
              0.6666666666666666,
              "#ed7953"
             ],
             [
              0.7777777777777778,
              "#fb9f3a"
             ],
             [
              0.8888888888888888,
              "#fdca26"
             ],
             [
              1,
              "#f0f921"
             ]
            ],
            "type": "heatmap"
           }
          ],
          "heatmapgl": [
           {
            "colorbar": {
             "outlinewidth": 0,
             "ticks": ""
            },
            "colorscale": [
             [
              0,
              "#0d0887"
             ],
             [
              0.1111111111111111,
              "#46039f"
             ],
             [
              0.2222222222222222,
              "#7201a8"
             ],
             [
              0.3333333333333333,
              "#9c179e"
             ],
             [
              0.4444444444444444,
              "#bd3786"
             ],
             [
              0.5555555555555556,
              "#d8576b"
             ],
             [
              0.6666666666666666,
              "#ed7953"
             ],
             [
              0.7777777777777778,
              "#fb9f3a"
             ],
             [
              0.8888888888888888,
              "#fdca26"
             ],
             [
              1,
              "#f0f921"
             ]
            ],
            "type": "heatmapgl"
           }
          ],
          "histogram": [
           {
            "marker": {
             "pattern": {
              "fillmode": "overlay",
              "size": 10,
              "solidity": 0.2
             }
            },
            "type": "histogram"
           }
          ],
          "histogram2d": [
           {
            "colorbar": {
             "outlinewidth": 0,
             "ticks": ""
            },
            "colorscale": [
             [
              0,
              "#0d0887"
             ],
             [
              0.1111111111111111,
              "#46039f"
             ],
             [
              0.2222222222222222,
              "#7201a8"
             ],
             [
              0.3333333333333333,
              "#9c179e"
             ],
             [
              0.4444444444444444,
              "#bd3786"
             ],
             [
              0.5555555555555556,
              "#d8576b"
             ],
             [
              0.6666666666666666,
              "#ed7953"
             ],
             [
              0.7777777777777778,
              "#fb9f3a"
             ],
             [
              0.8888888888888888,
              "#fdca26"
             ],
             [
              1,
              "#f0f921"
             ]
            ],
            "type": "histogram2d"
           }
          ],
          "histogram2dcontour": [
           {
            "colorbar": {
             "outlinewidth": 0,
             "ticks": ""
            },
            "colorscale": [
             [
              0,
              "#0d0887"
             ],
             [
              0.1111111111111111,
              "#46039f"
             ],
             [
              0.2222222222222222,
              "#7201a8"
             ],
             [
              0.3333333333333333,
              "#9c179e"
             ],
             [
              0.4444444444444444,
              "#bd3786"
             ],
             [
              0.5555555555555556,
              "#d8576b"
             ],
             [
              0.6666666666666666,
              "#ed7953"
             ],
             [
              0.7777777777777778,
              "#fb9f3a"
             ],
             [
              0.8888888888888888,
              "#fdca26"
             ],
             [
              1,
              "#f0f921"
             ]
            ],
            "type": "histogram2dcontour"
           }
          ],
          "mesh3d": [
           {
            "colorbar": {
             "outlinewidth": 0,
             "ticks": ""
            },
            "type": "mesh3d"
           }
          ],
          "parcoords": [
           {
            "line": {
             "colorbar": {
              "outlinewidth": 0,
              "ticks": ""
             }
            },
            "type": "parcoords"
           }
          ],
          "pie": [
           {
            "automargin": true,
            "type": "pie"
           }
          ],
          "scatter": [
           {
            "marker": {
             "colorbar": {
              "outlinewidth": 0,
              "ticks": ""
             }
            },
            "type": "scatter"
           }
          ],
          "scatter3d": [
           {
            "line": {
             "colorbar": {
              "outlinewidth": 0,
              "ticks": ""
             }
            },
            "marker": {
             "colorbar": {
              "outlinewidth": 0,
              "ticks": ""
             }
            },
            "type": "scatter3d"
           }
          ],
          "scattercarpet": [
           {
            "marker": {
             "colorbar": {
              "outlinewidth": 0,
              "ticks": ""
             }
            },
            "type": "scattercarpet"
           }
          ],
          "scattergeo": [
           {
            "marker": {
             "colorbar": {
              "outlinewidth": 0,
              "ticks": ""
             }
            },
            "type": "scattergeo"
           }
          ],
          "scattergl": [
           {
            "marker": {
             "colorbar": {
              "outlinewidth": 0,
              "ticks": ""
             }
            },
            "type": "scattergl"
           }
          ],
          "scattermapbox": [
           {
            "marker": {
             "colorbar": {
              "outlinewidth": 0,
              "ticks": ""
             }
            },
            "type": "scattermapbox"
           }
          ],
          "scatterpolar": [
           {
            "marker": {
             "colorbar": {
              "outlinewidth": 0,
              "ticks": ""
             }
            },
            "type": "scatterpolar"
           }
          ],
          "scatterpolargl": [
           {
            "marker": {
             "colorbar": {
              "outlinewidth": 0,
              "ticks": ""
             }
            },
            "type": "scatterpolargl"
           }
          ],
          "scatterternary": [
           {
            "marker": {
             "colorbar": {
              "outlinewidth": 0,
              "ticks": ""
             }
            },
            "type": "scatterternary"
           }
          ],
          "surface": [
           {
            "colorbar": {
             "outlinewidth": 0,
             "ticks": ""
            },
            "colorscale": [
             [
              0,
              "#0d0887"
             ],
             [
              0.1111111111111111,
              "#46039f"
             ],
             [
              0.2222222222222222,
              "#7201a8"
             ],
             [
              0.3333333333333333,
              "#9c179e"
             ],
             [
              0.4444444444444444,
              "#bd3786"
             ],
             [
              0.5555555555555556,
              "#d8576b"
             ],
             [
              0.6666666666666666,
              "#ed7953"
             ],
             [
              0.7777777777777778,
              "#fb9f3a"
             ],
             [
              0.8888888888888888,
              "#fdca26"
             ],
             [
              1,
              "#f0f921"
             ]
            ],
            "type": "surface"
           }
          ],
          "table": [
           {
            "cells": {
             "fill": {
              "color": "#EBF0F8"
             },
             "line": {
              "color": "white"
             }
            },
            "header": {
             "fill": {
              "color": "#C8D4E3"
             },
             "line": {
              "color": "white"
             }
            },
            "type": "table"
           }
          ]
         },
         "layout": {
          "annotationdefaults": {
           "arrowcolor": "#2a3f5f",
           "arrowhead": 0,
           "arrowwidth": 1
          },
          "autotypenumbers": "strict",
          "coloraxis": {
           "colorbar": {
            "outlinewidth": 0,
            "ticks": ""
           }
          },
          "colorscale": {
           "diverging": [
            [
             0,
             "#8e0152"
            ],
            [
             0.1,
             "#c51b7d"
            ],
            [
             0.2,
             "#de77ae"
            ],
            [
             0.3,
             "#f1b6da"
            ],
            [
             0.4,
             "#fde0ef"
            ],
            [
             0.5,
             "#f7f7f7"
            ],
            [
             0.6,
             "#e6f5d0"
            ],
            [
             0.7,
             "#b8e186"
            ],
            [
             0.8,
             "#7fbc41"
            ],
            [
             0.9,
             "#4d9221"
            ],
            [
             1,
             "#276419"
            ]
           ],
           "sequential": [
            [
             0,
             "#0d0887"
            ],
            [
             0.1111111111111111,
             "#46039f"
            ],
            [
             0.2222222222222222,
             "#7201a8"
            ],
            [
             0.3333333333333333,
             "#9c179e"
            ],
            [
             0.4444444444444444,
             "#bd3786"
            ],
            [
             0.5555555555555556,
             "#d8576b"
            ],
            [
             0.6666666666666666,
             "#ed7953"
            ],
            [
             0.7777777777777778,
             "#fb9f3a"
            ],
            [
             0.8888888888888888,
             "#fdca26"
            ],
            [
             1,
             "#f0f921"
            ]
           ],
           "sequentialminus": [
            [
             0,
             "#0d0887"
            ],
            [
             0.1111111111111111,
             "#46039f"
            ],
            [
             0.2222222222222222,
             "#7201a8"
            ],
            [
             0.3333333333333333,
             "#9c179e"
            ],
            [
             0.4444444444444444,
             "#bd3786"
            ],
            [
             0.5555555555555556,
             "#d8576b"
            ],
            [
             0.6666666666666666,
             "#ed7953"
            ],
            [
             0.7777777777777778,
             "#fb9f3a"
            ],
            [
             0.8888888888888888,
             "#fdca26"
            ],
            [
             1,
             "#f0f921"
            ]
           ]
          },
          "colorway": [
           "#636efa",
           "#EF553B",
           "#00cc96",
           "#ab63fa",
           "#FFA15A",
           "#19d3f3",
           "#FF6692",
           "#B6E880",
           "#FF97FF",
           "#FECB52"
          ],
          "font": {
           "color": "#2a3f5f"
          },
          "geo": {
           "bgcolor": "white",
           "lakecolor": "white",
           "landcolor": "#E5ECF6",
           "showlakes": true,
           "showland": true,
           "subunitcolor": "white"
          },
          "hoverlabel": {
           "align": "left"
          },
          "hovermode": "closest",
          "mapbox": {
           "style": "light"
          },
          "paper_bgcolor": "white",
          "plot_bgcolor": "#E5ECF6",
          "polar": {
           "angularaxis": {
            "gridcolor": "white",
            "linecolor": "white",
            "ticks": ""
           },
           "bgcolor": "#E5ECF6",
           "radialaxis": {
            "gridcolor": "white",
            "linecolor": "white",
            "ticks": ""
           }
          },
          "scene": {
           "xaxis": {
            "backgroundcolor": "#E5ECF6",
            "gridcolor": "white",
            "gridwidth": 2,
            "linecolor": "white",
            "showbackground": true,
            "ticks": "",
            "zerolinecolor": "white"
           },
           "yaxis": {
            "backgroundcolor": "#E5ECF6",
            "gridcolor": "white",
            "gridwidth": 2,
            "linecolor": "white",
            "showbackground": true,
            "ticks": "",
            "zerolinecolor": "white"
           },
           "zaxis": {
            "backgroundcolor": "#E5ECF6",
            "gridcolor": "white",
            "gridwidth": 2,
            "linecolor": "white",
            "showbackground": true,
            "ticks": "",
            "zerolinecolor": "white"
           }
          },
          "shapedefaults": {
           "line": {
            "color": "#2a3f5f"
           }
          },
          "ternary": {
           "aaxis": {
            "gridcolor": "white",
            "linecolor": "white",
            "ticks": ""
           },
           "baxis": {
            "gridcolor": "white",
            "linecolor": "white",
            "ticks": ""
           },
           "bgcolor": "#E5ECF6",
           "caxis": {
            "gridcolor": "white",
            "linecolor": "white",
            "ticks": ""
           }
          },
          "title": {
           "x": 0.05
          },
          "xaxis": {
           "automargin": true,
           "gridcolor": "white",
           "linecolor": "white",
           "ticks": "",
           "title": {
            "standoff": 15
           },
           "zerolinecolor": "white",
           "zerolinewidth": 2
          },
          "yaxis": {
           "automargin": true,
           "gridcolor": "white",
           "linecolor": "white",
           "ticks": "",
           "title": {
            "standoff": 15
           },
           "zerolinecolor": "white",
           "zerolinewidth": 2
          }
         }
        },
        "xaxis": {
         "anchor": "y",
         "domain": [
          0,
          1
         ],
         "title": {
          "text": "index"
         }
        },
        "yaxis": {
         "anchor": "x",
         "domain": [
          0,
          1
         ],
         "title": {
          "text": "value"
         }
        }
       }
      }
     },
     "metadata": {},
     "output_type": "display_data"
    },
    {
     "data": {
      "application/vnd.plotly.v1+json": {
       "config": {
        "plotlyServerURL": "https://plot.ly"
       },
       "data": [
        {
         "hovertemplate": "log_type=train_error<br>index=%{x}<br>value=%{y}<extra></extra>",
         "legendgroup": "train_error",
         "line": {
          "color": "#636efa",
          "dash": "solid"
         },
         "marker": {
          "symbol": "circle"
         },
         "mode": "lines",
         "name": "train_error",
         "orientation": "v",
         "showlegend": true,
         "type": "scatter",
         "x": [
          0,
          1,
          2,
          3,
          4,
          5,
          6,
          7,
          8,
          9,
          10,
          11,
          12,
          13,
          14,
          15,
          16,
          17,
          18,
          19,
          20,
          21,
          22,
          23,
          24,
          25,
          26,
          27,
          28,
          29,
          30,
          31,
          32,
          33,
          34,
          35,
          36,
          37,
          38,
          39,
          40,
          41,
          42,
          43,
          44,
          45,
          46,
          47,
          48,
          49,
          50,
          51,
          52,
          53,
          54,
          55,
          56,
          57,
          58,
          59,
          60,
          61,
          62,
          63,
          64,
          65,
          66,
          67,
          68,
          69,
          70,
          71,
          72,
          73,
          74,
          75,
          76,
          77,
          78,
          79,
          80,
          81,
          82,
          83,
          84,
          85,
          86,
          87,
          88,
          89,
          90,
          91,
          92,
          93,
          94,
          95,
          96,
          97,
          98,
          99
         ],
         "xaxis": "x",
         "y": [
          0.833854167163372,
          0.822395832836628,
          0.8134114578366279,
          0.7779947906732559,
          0.7967447906732559,
          0.802994790673256,
          0.774609375,
          0.7584635406732559,
          0.763411457836628,
          0.7453125,
          0.7350260406732559,
          0.7264322906732559,
          0.7744791656732559,
          0.7395833328366279,
          0.7342447906732559,
          0.724348957836628,
          0.7428385406732559,
          0.7361979156732559,
          0.708984375,
          0.7203125,
          0.703645832836628,
          0.701171875,
          0.693098957836628,
          0.677994790673256,
          0.670182290673256,
          0.650911457836628,
          0.640755207836628,
          0.6243489578366279,
          0.625260415673256,
          0.611458332836628,
          0.5946614578366279,
          0.5890625,
          0.598177082836628,
          0.5779947906732559,
          0.570572915673256,
          0.5498697906732559,
          0.543098957836628,
          0.527083332836628,
          0.527864582836628,
          0.520703125,
          0.5115885406732559,
          0.500130207836628,
          0.47721354067325594,
          0.46263020783662795,
          0.47239583283662795,
          0.459765625,
          0.43216145783662796,
          0.4463541656732559,
          0.4397135406732559,
          0.43606770783662796,
          0.3975260406732559,
          0.386848957836628,
          0.40598958283662795,
          0.39427083283662795,
          0.36223958283662794,
          0.3713541656732559,
          0.3740885406732559,
          0.355078125,
          0.34270833283662794,
          0.42161458283662795,
          0.32552083283662797,
          0.3428385406732559,
          0.3686197906732559,
          0.327734375,
          0.33580729067325593,
          0.320703125,
          0.37161458283662796,
          0.31341145783662794,
          0.3694010406732559,
          0.3303385406732559,
          0.28828125,
          0.3096354156732559,
          0.2873697906732559,
          0.33528645783662797,
          0.36953125,
          0.2932291656732559,
          0.34244791567325594,
          0.297005207836628,
          0.29778645783662794,
          0.27864583283662797,
          0.2912760406732559,
          0.295052082836628,
          0.315234375,
          0.2651041656732559,
          0.25247395783662796,
          0.32356770783662797,
          0.269921875,
          0.28984375,
          0.309765625,
          0.27200520783662796,
          0.255859375,
          0.26953125,
          0.3311197906732559,
          0.28294270783662795,
          0.28763020783662796,
          0.29752604067325594,
          0.258203125,
          0.30143229067325594,
          0.375130207836628,
          0.28841145783662797
         ],
         "yaxis": "y"
        },
        {
         "hovertemplate": "log_type=test_error<br>index=%{x}<br>value=%{y}<extra></extra>",
         "legendgroup": "test_error",
         "line": {
          "color": "#EF553B",
          "dash": "solid"
         },
         "marker": {
          "symbol": "circle"
         },
         "mode": "lines",
         "name": "test_error",
         "orientation": "v",
         "showlegend": true,
         "type": "scatter",
         "x": [
          0,
          1,
          2,
          3,
          4,
          5,
          6,
          7,
          8,
          9,
          10,
          11,
          12,
          13,
          14,
          15,
          16,
          17,
          18,
          19,
          20,
          21,
          22,
          23,
          24,
          25,
          26,
          27,
          28,
          29,
          30,
          31,
          32,
          33,
          34,
          35,
          36,
          37,
          38,
          39,
          40,
          41,
          42,
          43,
          44,
          45,
          46,
          47,
          48,
          49,
          50,
          51,
          52,
          53,
          54,
          55,
          56,
          57,
          58,
          59,
          60,
          61,
          62,
          63,
          64,
          65,
          66,
          67,
          68,
          69,
          70,
          71,
          72,
          73,
          74,
          75,
          76,
          77,
          78,
          79,
          80,
          81,
          82,
          83,
          84,
          85,
          86,
          87,
          88,
          89,
          90,
          91,
          92,
          93,
          94,
          95,
          96,
          97,
          98,
          99
         ],
         "xaxis": "x",
         "y": [
          0.921875,
          0.75,
          0.7421875,
          0.640625,
          0.7890625,
          0.8515625,
          0.7734375,
          0.7265625,
          0.6796875,
          0.8125,
          0.734375,
          0.78125,
          0.65625,
          0.8046875,
          0.796875,
          0.765625,
          0.7578125,
          0.7578125,
          0.78125,
          0.8046875,
          0.796875,
          0.8046875,
          0.78125,
          0.7734375,
          0.7734375,
          0.7421875,
          0.75,
          0.765625,
          0.7890625,
          0.78125,
          0.8359375,
          0.8125,
          0.7421875,
          0.7890625,
          0.828125,
          0.7421875,
          0.7265625,
          0.7265625,
          0.7421875,
          0.75,
          0.765625,
          0.671875,
          0.796875,
          0.7421875,
          0.8203125,
          0.796875,
          0.7109375,
          0.703125,
          0.7890625,
          0.7109375,
          0.796875,
          0.7734375,
          0.7890625,
          0.703125,
          0.75,
          0.78125,
          0.75,
          0.6796875,
          0.7421875,
          0.765625,
          0.84375,
          0.703125,
          0.734375,
          0.78125,
          0.7421875,
          0.7734375,
          0.75,
          0.7890625,
          0.7578125,
          0.75,
          0.6953125,
          0.703125,
          0.8203125,
          0.8203125,
          0.8515625,
          0.7265625,
          0.71875,
          0.734375,
          0.734375,
          0.7265625,
          0.6796875,
          0.6796875,
          0.765625,
          0.703125,
          0.671875,
          0.71875,
          0.7265625,
          0.7578125,
          0.75,
          0.7421875,
          0.7890625,
          0.78125,
          0.796875,
          0.7578125,
          0.734375,
          0.7265625,
          0.796875,
          0.796875,
          0.734375,
          0.734375
         ],
         "yaxis": "y"
        }
       ],
       "layout": {
        "legend": {
         "title": {
          "text": "log_type"
         },
         "tracegroupgap": 0
        },
        "margin": {
         "t": 60
        },
        "template": {
         "data": {
          "bar": [
           {
            "error_x": {
             "color": "#2a3f5f"
            },
            "error_y": {
             "color": "#2a3f5f"
            },
            "marker": {
             "line": {
              "color": "#E5ECF6",
              "width": 0.5
             },
             "pattern": {
              "fillmode": "overlay",
              "size": 10,
              "solidity": 0.2
             }
            },
            "type": "bar"
           }
          ],
          "barpolar": [
           {
            "marker": {
             "line": {
              "color": "#E5ECF6",
              "width": 0.5
             },
             "pattern": {
              "fillmode": "overlay",
              "size": 10,
              "solidity": 0.2
             }
            },
            "type": "barpolar"
           }
          ],
          "carpet": [
           {
            "aaxis": {
             "endlinecolor": "#2a3f5f",
             "gridcolor": "white",
             "linecolor": "white",
             "minorgridcolor": "white",
             "startlinecolor": "#2a3f5f"
            },
            "baxis": {
             "endlinecolor": "#2a3f5f",
             "gridcolor": "white",
             "linecolor": "white",
             "minorgridcolor": "white",
             "startlinecolor": "#2a3f5f"
            },
            "type": "carpet"
           }
          ],
          "choropleth": [
           {
            "colorbar": {
             "outlinewidth": 0,
             "ticks": ""
            },
            "type": "choropleth"
           }
          ],
          "contour": [
           {
            "colorbar": {
             "outlinewidth": 0,
             "ticks": ""
            },
            "colorscale": [
             [
              0,
              "#0d0887"
             ],
             [
              0.1111111111111111,
              "#46039f"
             ],
             [
              0.2222222222222222,
              "#7201a8"
             ],
             [
              0.3333333333333333,
              "#9c179e"
             ],
             [
              0.4444444444444444,
              "#bd3786"
             ],
             [
              0.5555555555555556,
              "#d8576b"
             ],
             [
              0.6666666666666666,
              "#ed7953"
             ],
             [
              0.7777777777777778,
              "#fb9f3a"
             ],
             [
              0.8888888888888888,
              "#fdca26"
             ],
             [
              1,
              "#f0f921"
             ]
            ],
            "type": "contour"
           }
          ],
          "contourcarpet": [
           {
            "colorbar": {
             "outlinewidth": 0,
             "ticks": ""
            },
            "type": "contourcarpet"
           }
          ],
          "heatmap": [
           {
            "colorbar": {
             "outlinewidth": 0,
             "ticks": ""
            },
            "colorscale": [
             [
              0,
              "#0d0887"
             ],
             [
              0.1111111111111111,
              "#46039f"
             ],
             [
              0.2222222222222222,
              "#7201a8"
             ],
             [
              0.3333333333333333,
              "#9c179e"
             ],
             [
              0.4444444444444444,
              "#bd3786"
             ],
             [
              0.5555555555555556,
              "#d8576b"
             ],
             [
              0.6666666666666666,
              "#ed7953"
             ],
             [
              0.7777777777777778,
              "#fb9f3a"
             ],
             [
              0.8888888888888888,
              "#fdca26"
             ],
             [
              1,
              "#f0f921"
             ]
            ],
            "type": "heatmap"
           }
          ],
          "heatmapgl": [
           {
            "colorbar": {
             "outlinewidth": 0,
             "ticks": ""
            },
            "colorscale": [
             [
              0,
              "#0d0887"
             ],
             [
              0.1111111111111111,
              "#46039f"
             ],
             [
              0.2222222222222222,
              "#7201a8"
             ],
             [
              0.3333333333333333,
              "#9c179e"
             ],
             [
              0.4444444444444444,
              "#bd3786"
             ],
             [
              0.5555555555555556,
              "#d8576b"
             ],
             [
              0.6666666666666666,
              "#ed7953"
             ],
             [
              0.7777777777777778,
              "#fb9f3a"
             ],
             [
              0.8888888888888888,
              "#fdca26"
             ],
             [
              1,
              "#f0f921"
             ]
            ],
            "type": "heatmapgl"
           }
          ],
          "histogram": [
           {
            "marker": {
             "pattern": {
              "fillmode": "overlay",
              "size": 10,
              "solidity": 0.2
             }
            },
            "type": "histogram"
           }
          ],
          "histogram2d": [
           {
            "colorbar": {
             "outlinewidth": 0,
             "ticks": ""
            },
            "colorscale": [
             [
              0,
              "#0d0887"
             ],
             [
              0.1111111111111111,
              "#46039f"
             ],
             [
              0.2222222222222222,
              "#7201a8"
             ],
             [
              0.3333333333333333,
              "#9c179e"
             ],
             [
              0.4444444444444444,
              "#bd3786"
             ],
             [
              0.5555555555555556,
              "#d8576b"
             ],
             [
              0.6666666666666666,
              "#ed7953"
             ],
             [
              0.7777777777777778,
              "#fb9f3a"
             ],
             [
              0.8888888888888888,
              "#fdca26"
             ],
             [
              1,
              "#f0f921"
             ]
            ],
            "type": "histogram2d"
           }
          ],
          "histogram2dcontour": [
           {
            "colorbar": {
             "outlinewidth": 0,
             "ticks": ""
            },
            "colorscale": [
             [
              0,
              "#0d0887"
             ],
             [
              0.1111111111111111,
              "#46039f"
             ],
             [
              0.2222222222222222,
              "#7201a8"
             ],
             [
              0.3333333333333333,
              "#9c179e"
             ],
             [
              0.4444444444444444,
              "#bd3786"
             ],
             [
              0.5555555555555556,
              "#d8576b"
             ],
             [
              0.6666666666666666,
              "#ed7953"
             ],
             [
              0.7777777777777778,
              "#fb9f3a"
             ],
             [
              0.8888888888888888,
              "#fdca26"
             ],
             [
              1,
              "#f0f921"
             ]
            ],
            "type": "histogram2dcontour"
           }
          ],
          "mesh3d": [
           {
            "colorbar": {
             "outlinewidth": 0,
             "ticks": ""
            },
            "type": "mesh3d"
           }
          ],
          "parcoords": [
           {
            "line": {
             "colorbar": {
              "outlinewidth": 0,
              "ticks": ""
             }
            },
            "type": "parcoords"
           }
          ],
          "pie": [
           {
            "automargin": true,
            "type": "pie"
           }
          ],
          "scatter": [
           {
            "marker": {
             "colorbar": {
              "outlinewidth": 0,
              "ticks": ""
             }
            },
            "type": "scatter"
           }
          ],
          "scatter3d": [
           {
            "line": {
             "colorbar": {
              "outlinewidth": 0,
              "ticks": ""
             }
            },
            "marker": {
             "colorbar": {
              "outlinewidth": 0,
              "ticks": ""
             }
            },
            "type": "scatter3d"
           }
          ],
          "scattercarpet": [
           {
            "marker": {
             "colorbar": {
              "outlinewidth": 0,
              "ticks": ""
             }
            },
            "type": "scattercarpet"
           }
          ],
          "scattergeo": [
           {
            "marker": {
             "colorbar": {
              "outlinewidth": 0,
              "ticks": ""
             }
            },
            "type": "scattergeo"
           }
          ],
          "scattergl": [
           {
            "marker": {
             "colorbar": {
              "outlinewidth": 0,
              "ticks": ""
             }
            },
            "type": "scattergl"
           }
          ],
          "scattermapbox": [
           {
            "marker": {
             "colorbar": {
              "outlinewidth": 0,
              "ticks": ""
             }
            },
            "type": "scattermapbox"
           }
          ],
          "scatterpolar": [
           {
            "marker": {
             "colorbar": {
              "outlinewidth": 0,
              "ticks": ""
             }
            },
            "type": "scatterpolar"
           }
          ],
          "scatterpolargl": [
           {
            "marker": {
             "colorbar": {
              "outlinewidth": 0,
              "ticks": ""
             }
            },
            "type": "scatterpolargl"
           }
          ],
          "scatterternary": [
           {
            "marker": {
             "colorbar": {
              "outlinewidth": 0,
              "ticks": ""
             }
            },
            "type": "scatterternary"
           }
          ],
          "surface": [
           {
            "colorbar": {
             "outlinewidth": 0,
             "ticks": ""
            },
            "colorscale": [
             [
              0,
              "#0d0887"
             ],
             [
              0.1111111111111111,
              "#46039f"
             ],
             [
              0.2222222222222222,
              "#7201a8"
             ],
             [
              0.3333333333333333,
              "#9c179e"
             ],
             [
              0.4444444444444444,
              "#bd3786"
             ],
             [
              0.5555555555555556,
              "#d8576b"
             ],
             [
              0.6666666666666666,
              "#ed7953"
             ],
             [
              0.7777777777777778,
              "#fb9f3a"
             ],
             [
              0.8888888888888888,
              "#fdca26"
             ],
             [
              1,
              "#f0f921"
             ]
            ],
            "type": "surface"
           }
          ],
          "table": [
           {
            "cells": {
             "fill": {
              "color": "#EBF0F8"
             },
             "line": {
              "color": "white"
             }
            },
            "header": {
             "fill": {
              "color": "#C8D4E3"
             },
             "line": {
              "color": "white"
             }
            },
            "type": "table"
           }
          ]
         },
         "layout": {
          "annotationdefaults": {
           "arrowcolor": "#2a3f5f",
           "arrowhead": 0,
           "arrowwidth": 1
          },
          "autotypenumbers": "strict",
          "coloraxis": {
           "colorbar": {
            "outlinewidth": 0,
            "ticks": ""
           }
          },
          "colorscale": {
           "diverging": [
            [
             0,
             "#8e0152"
            ],
            [
             0.1,
             "#c51b7d"
            ],
            [
             0.2,
             "#de77ae"
            ],
            [
             0.3,
             "#f1b6da"
            ],
            [
             0.4,
             "#fde0ef"
            ],
            [
             0.5,
             "#f7f7f7"
            ],
            [
             0.6,
             "#e6f5d0"
            ],
            [
             0.7,
             "#b8e186"
            ],
            [
             0.8,
             "#7fbc41"
            ],
            [
             0.9,
             "#4d9221"
            ],
            [
             1,
             "#276419"
            ]
           ],
           "sequential": [
            [
             0,
             "#0d0887"
            ],
            [
             0.1111111111111111,
             "#46039f"
            ],
            [
             0.2222222222222222,
             "#7201a8"
            ],
            [
             0.3333333333333333,
             "#9c179e"
            ],
            [
             0.4444444444444444,
             "#bd3786"
            ],
            [
             0.5555555555555556,
             "#d8576b"
            ],
            [
             0.6666666666666666,
             "#ed7953"
            ],
            [
             0.7777777777777778,
             "#fb9f3a"
            ],
            [
             0.8888888888888888,
             "#fdca26"
            ],
            [
             1,
             "#f0f921"
            ]
           ],
           "sequentialminus": [
            [
             0,
             "#0d0887"
            ],
            [
             0.1111111111111111,
             "#46039f"
            ],
            [
             0.2222222222222222,
             "#7201a8"
            ],
            [
             0.3333333333333333,
             "#9c179e"
            ],
            [
             0.4444444444444444,
             "#bd3786"
            ],
            [
             0.5555555555555556,
             "#d8576b"
            ],
            [
             0.6666666666666666,
             "#ed7953"
            ],
            [
             0.7777777777777778,
             "#fb9f3a"
            ],
            [
             0.8888888888888888,
             "#fdca26"
            ],
            [
             1,
             "#f0f921"
            ]
           ]
          },
          "colorway": [
           "#636efa",
           "#EF553B",
           "#00cc96",
           "#ab63fa",
           "#FFA15A",
           "#19d3f3",
           "#FF6692",
           "#B6E880",
           "#FF97FF",
           "#FECB52"
          ],
          "font": {
           "color": "#2a3f5f"
          },
          "geo": {
           "bgcolor": "white",
           "lakecolor": "white",
           "landcolor": "#E5ECF6",
           "showlakes": true,
           "showland": true,
           "subunitcolor": "white"
          },
          "hoverlabel": {
           "align": "left"
          },
          "hovermode": "closest",
          "mapbox": {
           "style": "light"
          },
          "paper_bgcolor": "white",
          "plot_bgcolor": "#E5ECF6",
          "polar": {
           "angularaxis": {
            "gridcolor": "white",
            "linecolor": "white",
            "ticks": ""
           },
           "bgcolor": "#E5ECF6",
           "radialaxis": {
            "gridcolor": "white",
            "linecolor": "white",
            "ticks": ""
           }
          },
          "scene": {
           "xaxis": {
            "backgroundcolor": "#E5ECF6",
            "gridcolor": "white",
            "gridwidth": 2,
            "linecolor": "white",
            "showbackground": true,
            "ticks": "",
            "zerolinecolor": "white"
           },
           "yaxis": {
            "backgroundcolor": "#E5ECF6",
            "gridcolor": "white",
            "gridwidth": 2,
            "linecolor": "white",
            "showbackground": true,
            "ticks": "",
            "zerolinecolor": "white"
           },
           "zaxis": {
            "backgroundcolor": "#E5ECF6",
            "gridcolor": "white",
            "gridwidth": 2,
            "linecolor": "white",
            "showbackground": true,
            "ticks": "",
            "zerolinecolor": "white"
           }
          },
          "shapedefaults": {
           "line": {
            "color": "#2a3f5f"
           }
          },
          "ternary": {
           "aaxis": {
            "gridcolor": "white",
            "linecolor": "white",
            "ticks": ""
           },
           "baxis": {
            "gridcolor": "white",
            "linecolor": "white",
            "ticks": ""
           },
           "bgcolor": "#E5ECF6",
           "caxis": {
            "gridcolor": "white",
            "linecolor": "white",
            "ticks": ""
           }
          },
          "title": {
           "x": 0.05
          },
          "xaxis": {
           "automargin": true,
           "gridcolor": "white",
           "linecolor": "white",
           "ticks": "",
           "title": {
            "standoff": 15
           },
           "zerolinecolor": "white",
           "zerolinewidth": 2
          },
          "yaxis": {
           "automargin": true,
           "gridcolor": "white",
           "linecolor": "white",
           "ticks": "",
           "title": {
            "standoff": 15
           },
           "zerolinecolor": "white",
           "zerolinewidth": 2
          }
         }
        },
        "xaxis": {
         "anchor": "y",
         "domain": [
          0,
          1
         ],
         "title": {
          "text": "index"
         }
        },
        "yaxis": {
         "anchor": "x",
         "domain": [
          0,
          1
         ],
         "title": {
          "text": "value"
         }
        }
       }
      }
     },
     "metadata": {},
     "output_type": "display_data"
    }
   ],
   "source": [
    "import plotly.express as px\n",
    "log_df = pd.DataFrame.from_dict(log)\n",
    "log_df = log_df.reset_index()\n",
    "fig = px.line(log_df.iloc[1:], x=\"index\", y=\"train_loss\")\n",
    "fig.show()\n",
    "type = \"accuracy\"\n",
    "df1 = log_df[['index', f\"train_{type}\", f\"test_{type}\"]].melt(id_vars=['index'], var_name='log_type')\n",
    "fig = px.line(df1, x=\"index\", y=\"value\", color='log_type')\n",
    "fig.show()\n",
    "\n",
    "type = \"error\"\n",
    "df1 = log_df[['index', f\"train_{type}\", f\"test_{type}\"]].melt(id_vars=['index'], var_name='log_type')\n",
    "fig = px.line(df1, x=\"index\", y=\"value\", color='log_type')\n",
    "fig.show()"
   ]
  },
  {
   "cell_type": "code",
   "execution_count": 28,
   "metadata": {},
   "outputs": [
    {
     "ename": "TypeError",
     "evalue": "can't convert cuda:0 device type tensor to numpy. Use Tensor.cpu() to copy the tensor to host memory first.",
     "output_type": "error",
     "traceback": [
      "\u001b[1;31m---------------------------------------------------------------------------\u001b[0m",
      "\u001b[1;31mTypeError\u001b[0m                                 Traceback (most recent call last)",
      "\u001b[1;32mD:\\Anaconda3\\envs\\deeplearn_course\\lib\\site-packages\\numpy\\core\\fromnumeric.py\u001b[0m in \u001b[0;36m_wrapfunc\u001b[1;34m(obj, method, *args, **kwds)\u001b[0m\n\u001b[0;32m     56\u001b[0m     \u001b[1;32mtry\u001b[0m\u001b[1;33m:\u001b[0m\u001b[1;33m\u001b[0m\u001b[1;33m\u001b[0m\u001b[0m\n\u001b[1;32m---> 57\u001b[1;33m         \u001b[1;32mreturn\u001b[0m \u001b[0mbound\u001b[0m\u001b[1;33m(\u001b[0m\u001b[1;33m*\u001b[0m\u001b[0margs\u001b[0m\u001b[1;33m,\u001b[0m \u001b[1;33m**\u001b[0m\u001b[0mkwds\u001b[0m\u001b[1;33m)\u001b[0m\u001b[1;33m\u001b[0m\u001b[1;33m\u001b[0m\u001b[0m\n\u001b[0m\u001b[0;32m     58\u001b[0m     \u001b[1;32mexcept\u001b[0m \u001b[0mTypeError\u001b[0m\u001b[1;33m:\u001b[0m\u001b[1;33m\u001b[0m\u001b[1;33m\u001b[0m\u001b[0m\n",
      "\u001b[1;31mTypeError\u001b[0m: argmax() got an unexpected keyword argument 'axis'",
      "\nDuring handling of the above exception, another exception occurred:\n",
      "\u001b[1;31mTypeError\u001b[0m                                 Traceback (most recent call last)",
      "\u001b[1;32m~\\AppData\\Local\\Temp/ipykernel_4500/3836560187.py\u001b[0m in \u001b[0;36m<module>\u001b[1;34m\u001b[0m\n\u001b[0;32m     13\u001b[0m \u001b[0mscores\u001b[0m \u001b[1;33m=\u001b[0m  \u001b[0mnet\u001b[0m\u001b[1;33m(\u001b[0m\u001b[0mX_test_norm\u001b[0m\u001b[1;33m)\u001b[0m\u001b[1;33m\u001b[0m\u001b[1;33m\u001b[0m\u001b[0m\n\u001b[0;32m     14\u001b[0m \u001b[1;33m\u001b[0m\u001b[0m\n\u001b[1;32m---> 15\u001b[1;33m \u001b[0mnp\u001b[0m\u001b[1;33m.\u001b[0m\u001b[0margmax\u001b[0m\u001b[1;33m(\u001b[0m\u001b[0mscores\u001b[0m\u001b[1;33m)\u001b[0m\u001b[1;33m\u001b[0m\u001b[1;33m\u001b[0m\u001b[0m\n\u001b[0m",
      "\u001b[1;32m<__array_function__ internals>\u001b[0m in \u001b[0;36margmax\u001b[1;34m(*args, **kwargs)\u001b[0m\n",
      "\u001b[1;32mD:\\Anaconda3\\envs\\deeplearn_course\\lib\\site-packages\\numpy\\core\\fromnumeric.py\u001b[0m in \u001b[0;36margmax\u001b[1;34m(a, axis, out)\u001b[0m\n\u001b[0;32m   1193\u001b[0m \u001b[1;33m\u001b[0m\u001b[0m\n\u001b[0;32m   1194\u001b[0m     \"\"\"\n\u001b[1;32m-> 1195\u001b[1;33m     \u001b[1;32mreturn\u001b[0m \u001b[0m_wrapfunc\u001b[0m\u001b[1;33m(\u001b[0m\u001b[0ma\u001b[0m\u001b[1;33m,\u001b[0m \u001b[1;34m'argmax'\u001b[0m\u001b[1;33m,\u001b[0m \u001b[0maxis\u001b[0m\u001b[1;33m=\u001b[0m\u001b[0maxis\u001b[0m\u001b[1;33m,\u001b[0m \u001b[0mout\u001b[0m\u001b[1;33m=\u001b[0m\u001b[0mout\u001b[0m\u001b[1;33m)\u001b[0m\u001b[1;33m\u001b[0m\u001b[1;33m\u001b[0m\u001b[0m\n\u001b[0m\u001b[0;32m   1196\u001b[0m \u001b[1;33m\u001b[0m\u001b[0m\n\u001b[0;32m   1197\u001b[0m \u001b[1;33m\u001b[0m\u001b[0m\n",
      "\u001b[1;32mD:\\Anaconda3\\envs\\deeplearn_course\\lib\\site-packages\\numpy\\core\\fromnumeric.py\u001b[0m in \u001b[0;36m_wrapfunc\u001b[1;34m(obj, method, *args, **kwds)\u001b[0m\n\u001b[0;32m     64\u001b[0m         \u001b[1;31m# Call _wrapit from within the except clause to ensure a potential\u001b[0m\u001b[1;33m\u001b[0m\u001b[1;33m\u001b[0m\u001b[1;33m\u001b[0m\u001b[0m\n\u001b[0;32m     65\u001b[0m         \u001b[1;31m# exception has a traceback chain.\u001b[0m\u001b[1;33m\u001b[0m\u001b[1;33m\u001b[0m\u001b[1;33m\u001b[0m\u001b[0m\n\u001b[1;32m---> 66\u001b[1;33m         \u001b[1;32mreturn\u001b[0m \u001b[0m_wrapit\u001b[0m\u001b[1;33m(\u001b[0m\u001b[0mobj\u001b[0m\u001b[1;33m,\u001b[0m \u001b[0mmethod\u001b[0m\u001b[1;33m,\u001b[0m \u001b[1;33m*\u001b[0m\u001b[0margs\u001b[0m\u001b[1;33m,\u001b[0m \u001b[1;33m**\u001b[0m\u001b[0mkwds\u001b[0m\u001b[1;33m)\u001b[0m\u001b[1;33m\u001b[0m\u001b[1;33m\u001b[0m\u001b[0m\n\u001b[0m\u001b[0;32m     67\u001b[0m \u001b[1;33m\u001b[0m\u001b[0m\n\u001b[0;32m     68\u001b[0m \u001b[1;33m\u001b[0m\u001b[0m\n",
      "\u001b[1;32mD:\\Anaconda3\\envs\\deeplearn_course\\lib\\site-packages\\numpy\\core\\fromnumeric.py\u001b[0m in \u001b[0;36m_wrapit\u001b[1;34m(obj, method, *args, **kwds)\u001b[0m\n\u001b[0;32m     41\u001b[0m     \u001b[1;32mexcept\u001b[0m \u001b[0mAttributeError\u001b[0m\u001b[1;33m:\u001b[0m\u001b[1;33m\u001b[0m\u001b[1;33m\u001b[0m\u001b[0m\n\u001b[0;32m     42\u001b[0m         \u001b[0mwrap\u001b[0m \u001b[1;33m=\u001b[0m \u001b[1;32mNone\u001b[0m\u001b[1;33m\u001b[0m\u001b[1;33m\u001b[0m\u001b[0m\n\u001b[1;32m---> 43\u001b[1;33m     \u001b[0mresult\u001b[0m \u001b[1;33m=\u001b[0m \u001b[0mgetattr\u001b[0m\u001b[1;33m(\u001b[0m\u001b[0masarray\u001b[0m\u001b[1;33m(\u001b[0m\u001b[0mobj\u001b[0m\u001b[1;33m)\u001b[0m\u001b[1;33m,\u001b[0m \u001b[0mmethod\u001b[0m\u001b[1;33m)\u001b[0m\u001b[1;33m(\u001b[0m\u001b[1;33m*\u001b[0m\u001b[0margs\u001b[0m\u001b[1;33m,\u001b[0m \u001b[1;33m**\u001b[0m\u001b[0mkwds\u001b[0m\u001b[1;33m)\u001b[0m\u001b[1;33m\u001b[0m\u001b[1;33m\u001b[0m\u001b[0m\n\u001b[0m\u001b[0;32m     44\u001b[0m     \u001b[1;32mif\u001b[0m \u001b[0mwrap\u001b[0m\u001b[1;33m:\u001b[0m\u001b[1;33m\u001b[0m\u001b[1;33m\u001b[0m\u001b[0m\n\u001b[0;32m     45\u001b[0m         \u001b[1;32mif\u001b[0m \u001b[1;32mnot\u001b[0m \u001b[0misinstance\u001b[0m\u001b[1;33m(\u001b[0m\u001b[0mresult\u001b[0m\u001b[1;33m,\u001b[0m \u001b[0mmu\u001b[0m\u001b[1;33m.\u001b[0m\u001b[0mndarray\u001b[0m\u001b[1;33m)\u001b[0m\u001b[1;33m:\u001b[0m\u001b[1;33m\u001b[0m\u001b[1;33m\u001b[0m\u001b[0m\n",
      "\u001b[1;32mD:\\Anaconda3\\envs\\deeplearn_course\\lib\\site-packages\\torch\\_tensor.py\u001b[0m in \u001b[0;36m__array__\u001b[1;34m(self, dtype)\u001b[0m\n\u001b[0;32m    641\u001b[0m             \u001b[1;32mreturn\u001b[0m \u001b[0mhandle_torch_function\u001b[0m\u001b[1;33m(\u001b[0m\u001b[0mTensor\u001b[0m\u001b[1;33m.\u001b[0m\u001b[0m__array__\u001b[0m\u001b[1;33m,\u001b[0m \u001b[1;33m(\u001b[0m\u001b[0mself\u001b[0m\u001b[1;33m,\u001b[0m\u001b[1;33m)\u001b[0m\u001b[1;33m,\u001b[0m \u001b[0mself\u001b[0m\u001b[1;33m,\u001b[0m \u001b[0mdtype\u001b[0m\u001b[1;33m=\u001b[0m\u001b[0mdtype\u001b[0m\u001b[1;33m)\u001b[0m\u001b[1;33m\u001b[0m\u001b[1;33m\u001b[0m\u001b[0m\n\u001b[0;32m    642\u001b[0m         \u001b[1;32mif\u001b[0m \u001b[0mdtype\u001b[0m \u001b[1;32mis\u001b[0m \u001b[1;32mNone\u001b[0m\u001b[1;33m:\u001b[0m\u001b[1;33m\u001b[0m\u001b[1;33m\u001b[0m\u001b[0m\n\u001b[1;32m--> 643\u001b[1;33m             \u001b[1;32mreturn\u001b[0m \u001b[0mself\u001b[0m\u001b[1;33m.\u001b[0m\u001b[0mnumpy\u001b[0m\u001b[1;33m(\u001b[0m\u001b[1;33m)\u001b[0m\u001b[1;33m\u001b[0m\u001b[1;33m\u001b[0m\u001b[0m\n\u001b[0m\u001b[0;32m    644\u001b[0m         \u001b[1;32melse\u001b[0m\u001b[1;33m:\u001b[0m\u001b[1;33m\u001b[0m\u001b[1;33m\u001b[0m\u001b[0m\n\u001b[0;32m    645\u001b[0m             \u001b[1;32mreturn\u001b[0m \u001b[0mself\u001b[0m\u001b[1;33m.\u001b[0m\u001b[0mnumpy\u001b[0m\u001b[1;33m(\u001b[0m\u001b[1;33m)\u001b[0m\u001b[1;33m.\u001b[0m\u001b[0mastype\u001b[0m\u001b[1;33m(\u001b[0m\u001b[0mdtype\u001b[0m\u001b[1;33m,\u001b[0m \u001b[0mcopy\u001b[0m\u001b[1;33m=\u001b[0m\u001b[1;32mFalse\u001b[0m\u001b[1;33m)\u001b[0m\u001b[1;33m\u001b[0m\u001b[1;33m\u001b[0m\u001b[0m\n",
      "\u001b[1;31mTypeError\u001b[0m: can't convert cuda:0 device type tensor to numpy. Use Tensor.cpu() to copy the tensor to host memory first."
     ]
    }
   ],
   "source": [
    "\n",
    "X_train_ = torch.from_numpy(np.array(X_train).astype(np.float32))\n",
    "X_train_ = X_train_.view(-1, 3, 50, 50)\n",
    "mean= X_train_.mean()\n",
    "std= X_train_.std()\n",
    "\n",
    "# X_test = X_test.astype(np.uint8)\n",
    "X_test = torch.from_numpy(np.array(X_test).astype(np.float32)).to(device)\n",
    "X_test_norm= (X_test-mean) / std\n",
    "\n",
    "X_test_norm=X_test_norm.view(-1,3,50,50)\n",
    "\n",
    "# # feed it to the net and display the confidence scores\n",
    "scores =  net(X_test_norm) \n",
    "\n",
    "np.argmax(scores)"
   ]
  },
  {
   "cell_type": "code",
   "execution_count": null,
   "metadata": {},
   "outputs": [],
   "source": [
    "from sklearn.metrics import confusion_matrix\n",
    "confusion_matrix(y_test, np.argmax(scores))"
   ]
  },
  {
   "cell_type": "code",
   "execution_count": 302,
   "metadata": {},
   "outputs": [
    {
     "data": {
      "image/png": "[encoded data removed]",
      "text/plain": [
       "<Figure size 500x500 with 1 Axes>"
      ]
     },
     "metadata": {},
     "output_type": "display_data"
    },
    {
     "data": {
      "image/png": "[encoded data removed]",
      "text/plain": [
       "<Figure size 640x480 with 1 Axes>"
      ]
     },
     "metadata": {},
     "output_type": "display_data"
    }
   ],
   "source": [
    "# choose a picture at random\n",
    "idx=randint(0, 1500)\n",
    "label = ('Not Skin', 'Normal', 'Pustule', 'Whitehead', 'Blackhead', 'Cyst',)\n",
    "\n",
    "im=X[idx]\n",
    "# X_train, X_test, y_train, y_test\n",
    "# diplay the picture\n",
    "image_label = f\"image_idx={idx}; label index: {y[idx]}; label is {label[y[idx]]}\"\n",
    "image_utils().plot_image(im,title=image_label, figsize=(5,5))\n",
    "\n",
    "im=X[idx]\n",
    "im = torch.from_numpy(np.array(im).astype(np.float32)).to(device)\n",
    "X_train_ = torch.from_numpy(np.array(X_train).astype(np.float32))\n",
    "X_train_ = X_train_.view(-1, 3, 50, 50)\n",
    "mean= X_train_.mean()\n",
    "std= X_train_.std()\n",
    "# # send to device, rescale, and view as a batch of 1 \n",
    "# im = im.to(device)\n",
    "im= (im-mean) / std\n",
    "\n",
    "im=im.view(1,3,50,50)\n",
    "\n",
    "# # feed it to the net and display the confidence scores\n",
    "scores =  net(im) \n",
    "probs= torch.softmax(scores, dim=1)\n",
    "image_utils().show_prob_pimples(probs.cpu())"
   ]
  },
  {
   "cell_type": "code",
   "execution_count": null,
   "metadata": {},
   "outputs": [],
   "source": []
  },
  {
   "cell_type": "code",
   "execution_count": null,
   "metadata": {},
   "outputs": [],
   "source": []
  }
 ],
 "metadata": {
  "interpreter": {
   "hash": "188299b107256fe873ab79b6089594fb9be85d55d578db9419dca9181f4278ba"
  },
  "kernelspec": {
   "display_name": "Python 3.7.10 64-bit ('deeplearn_course': conda)",
   "name": "python3"
  },
  "language_info": {
   "codemirror_mode": {
    "name": "ipython",
    "version": 3
   },
   "file_extension": ".py",
   "mimetype": "text/x-python",
   "name": "python",
   "nbconvert_exporter": "python",
   "pygments_lexer": "ipython3",
   "version": "3.7.10"
  },
  "orig_nbformat": 4
 },
 "nbformat": 4,
 "nbformat_minor": 2
}
