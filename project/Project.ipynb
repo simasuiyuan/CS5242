{
 "cells": [
  {
   "cell_type": "markdown",
   "id": "d7b97607",
   "metadata": {},
   "source": [
    "## Data Scraping\n",
    "We will be scraping acne images from https://dermnetnz.org/"
   ]
  },
  {
   "cell_type": "code",
   "execution_count": 3,
   "id": "94135ed3",
   "metadata": {},
   "outputs": [],
   "source": [
    "from bs4 import BeautifulSoup\n",
    "import requests\n",
    "import pandas as pd\n",
    "import shutil\n",
    "\n",
    "def download_image(image_url, image_name):\n",
    "    url = image_url\n",
    "    response = requests.get(url, stream=True)\n",
    "    with open(image_name, 'wb') as out_file:\n",
    "        shutil.copyfileobj(response.raw, out_file)\n",
    "    del response"
   ]
  },
  {
   "cell_type": "code",
   "execution_count": 4,
   "id": "2a332492",
   "metadata": {},
   "outputs": [],
   "source": [
    "def scrape_dermnet(url):\n",
    "    html_page = requests.get(url)\n",
    "    soup = BeautifulSoup(html_page.content, 'html.parser')\n",
    "    textBlock = soup.find('section', class_=\"textBlock\")\n",
    "    imgs = textBlock.findAll('img')\n",
    "    img_dataset = pd.DataFrame([[img.attrs['alt'], \"https://dermnetnz.org/\" + img.attrs['data-src']] for img in imgs], columns=['alt', 'image_url'])\n",
    "    img_dataset['image_name'] = [f'data/image_{e}.jpg' for e in range(img_dataset.shape[0])]\n",
    "    return img_dataset"
   ]
  },
  {
   "cell_type": "code",
   "execution_count": 5,
   "id": "d7a92779",
   "metadata": {},
   "outputs": [
    {
     "ename": "FileNotFoundError",
     "evalue": "[Errno 2] No such file or directory: 'data/image_0.jpg'",
     "output_type": "error",
     "traceback": [
      "\u001b[1;31m---------------------------------------------------------------------------\u001b[0m",
      "\u001b[1;31mFileNotFoundError\u001b[0m                         Traceback (most recent call last)",
      "\u001b[1;32m~\\AppData\\Local\\Temp/ipykernel_19344/1355137803.py\u001b[0m in \u001b[0;36m<module>\u001b[1;34m\u001b[0m\n\u001b[0;32m      2\u001b[0m \u001b[0mimg_dataset\u001b[0m \u001b[1;33m=\u001b[0m \u001b[0mscrape_dermnet\u001b[0m\u001b[1;33m(\u001b[0m\u001b[1;34m\"https://dermnetnz.org/topics/acne-face-images\"\u001b[0m\u001b[1;33m)\u001b[0m\u001b[1;33m\u001b[0m\u001b[1;33m\u001b[0m\u001b[0m\n\u001b[0;32m      3\u001b[0m \u001b[1;32mfor\u001b[0m \u001b[0mrow\u001b[0m \u001b[1;32min\u001b[0m \u001b[0mimg_dataset\u001b[0m\u001b[1;33m.\u001b[0m\u001b[0mitertuples\u001b[0m\u001b[1;33m(\u001b[0m\u001b[1;33m)\u001b[0m\u001b[1;33m:\u001b[0m\u001b[1;33m\u001b[0m\u001b[1;33m\u001b[0m\u001b[0m\n\u001b[1;32m----> 4\u001b[1;33m     \u001b[0mdownload_image\u001b[0m\u001b[1;33m(\u001b[0m\u001b[0mrow\u001b[0m\u001b[1;33m.\u001b[0m\u001b[0mimage_url\u001b[0m\u001b[1;33m,\u001b[0m \u001b[0mrow\u001b[0m\u001b[1;33m.\u001b[0m\u001b[0mimage_name\u001b[0m\u001b[1;33m)\u001b[0m\u001b[1;33m\u001b[0m\u001b[1;33m\u001b[0m\u001b[0m\n\u001b[0m",
      "\u001b[1;32m~\\AppData\\Local\\Temp/ipykernel_19344/3129424456.py\u001b[0m in \u001b[0;36mdownload_image\u001b[1;34m(image_url, image_name)\u001b[0m\n\u001b[0;32m      7\u001b[0m     \u001b[0murl\u001b[0m \u001b[1;33m=\u001b[0m \u001b[0mimage_url\u001b[0m\u001b[1;33m\u001b[0m\u001b[1;33m\u001b[0m\u001b[0m\n\u001b[0;32m      8\u001b[0m     \u001b[0mresponse\u001b[0m \u001b[1;33m=\u001b[0m \u001b[0mrequests\u001b[0m\u001b[1;33m.\u001b[0m\u001b[0mget\u001b[0m\u001b[1;33m(\u001b[0m\u001b[0murl\u001b[0m\u001b[1;33m,\u001b[0m \u001b[0mstream\u001b[0m\u001b[1;33m=\u001b[0m\u001b[1;32mTrue\u001b[0m\u001b[1;33m)\u001b[0m\u001b[1;33m\u001b[0m\u001b[1;33m\u001b[0m\u001b[0m\n\u001b[1;32m----> 9\u001b[1;33m     \u001b[1;32mwith\u001b[0m \u001b[0mopen\u001b[0m\u001b[1;33m(\u001b[0m\u001b[0mimage_name\u001b[0m\u001b[1;33m,\u001b[0m \u001b[1;34m'wb'\u001b[0m\u001b[1;33m)\u001b[0m \u001b[1;32mas\u001b[0m \u001b[0mout_file\u001b[0m\u001b[1;33m:\u001b[0m\u001b[1;33m\u001b[0m\u001b[1;33m\u001b[0m\u001b[0m\n\u001b[0m\u001b[0;32m     10\u001b[0m         \u001b[0mshutil\u001b[0m\u001b[1;33m.\u001b[0m\u001b[0mcopyfileobj\u001b[0m\u001b[1;33m(\u001b[0m\u001b[0mresponse\u001b[0m\u001b[1;33m.\u001b[0m\u001b[0mraw\u001b[0m\u001b[1;33m,\u001b[0m \u001b[0mout_file\u001b[0m\u001b[1;33m)\u001b[0m\u001b[1;33m\u001b[0m\u001b[1;33m\u001b[0m\u001b[0m\n\u001b[0;32m     11\u001b[0m     \u001b[1;32mdel\u001b[0m \u001b[0mresponse\u001b[0m\u001b[1;33m\u001b[0m\u001b[1;33m\u001b[0m\u001b[0m\n",
      "\u001b[1;31mFileNotFoundError\u001b[0m: [Errno 2] No such file or directory: 'data/image_0.jpg'"
     ]
    }
   ],
   "source": [
    "# Download images\n",
    "img_dataset = scrape_dermnet(\"https://dermnetnz.org/topics/acne-face-images\")\n",
    "for row in img_dataset.itertuples():\n",
    "    download_image(row.image_url, row.image_name)"
   ]
  },
  {
   "cell_type": "markdown",
   "id": "7dbebf79",
   "metadata": {},
   "source": [
    "## Sliding Window"
   ]
  },
  {
   "cell_type": "markdown",
   "id": "3c1a9552",
   "metadata": {},
   "source": [
    "To construct smaller images based on size of sliding window"
   ]
  },
  {
   "cell_type": "code",
   "execution_count": 6,
   "id": "1162eb00",
   "metadata": {},
   "outputs": [],
   "source": [
    "from os import listdir, rename\n",
    "from os.path import isfile, join\n",
    "import numpy as np\n",
    "import matplotlib.pyplot as plt\n",
    "from PIL import Image\n",
    "import pandas as pd\n",
    "import random"
   ]
  },
  {
   "cell_type": "code",
   "execution_count": 7,
   "id": "cdc646a1",
   "metadata": {},
   "outputs": [
    {
     "ename": "FileNotFoundError",
     "evalue": "[WinError 3] The system cannot find the path specified: 'scraped_data'",
     "output_type": "error",
     "traceback": [
      "\u001b[1;31m---------------------------------------------------------------------------\u001b[0m",
      "\u001b[1;31mFileNotFoundError\u001b[0m                         Traceback (most recent call last)",
      "\u001b[1;32m~\\AppData\\Local\\Temp/ipykernel_19344/3788358479.py\u001b[0m in \u001b[0;36m<module>\u001b[1;34m\u001b[0m\n\u001b[1;32m----> 1\u001b[1;33m \u001b[0mimages\u001b[0m \u001b[1;33m=\u001b[0m \u001b[1;33m[\u001b[0m\u001b[0mjoin\u001b[0m\u001b[1;33m(\u001b[0m\u001b[1;34m'scraped_data'\u001b[0m\u001b[1;33m,\u001b[0m \u001b[0mf\u001b[0m\u001b[1;33m)\u001b[0m \u001b[1;32mfor\u001b[0m \u001b[0mf\u001b[0m \u001b[1;32min\u001b[0m \u001b[0mlistdir\u001b[0m\u001b[1;33m(\u001b[0m\u001b[1;34m'scraped_data'\u001b[0m\u001b[1;33m)\u001b[0m \u001b[1;32mif\u001b[0m \u001b[0misfile\u001b[0m\u001b[1;33m(\u001b[0m\u001b[0mjoin\u001b[0m\u001b[1;33m(\u001b[0m\u001b[1;34m'scraped_data'\u001b[0m\u001b[1;33m,\u001b[0m \u001b[0mf\u001b[0m\u001b[1;33m)\u001b[0m\u001b[1;33m)\u001b[0m\u001b[1;33m]\u001b[0m\u001b[1;33m\u001b[0m\u001b[1;33m\u001b[0m\u001b[0m\n\u001b[0m",
      "\u001b[1;31mFileNotFoundError\u001b[0m: [WinError 3] The system cannot find the path specified: 'scraped_data'"
     ]
    }
   ],
   "source": [
    "images = [join('scraped_data', f) for f in listdir('scraped_data') if isfile(join('scraped_data', f))]"
   ]
  },
  {
   "cell_type": "code",
   "execution_count": 39,
   "id": "04ecb4d5",
   "metadata": {},
   "outputs": [],
   "source": [
    "# Set size of sliding window\n",
    "window_size = 50"
   ]
  },
  {
   "cell_type": "code",
   "execution_count": 68,
   "id": "cb605ec7",
   "metadata": {},
   "outputs": [],
   "source": [
    "# Slicing images\n",
    "counter = 0\n",
    "for image_path in images:\n",
    "    img = np.asarray(Image.open(image_path))\n",
    "    for i in range(0,img.shape[0],window_size):\n",
    "        for j in range(0,img.shape[1],window_size):\n",
    "            sub_img = img[i:i+window_size, j:j+window_size, :]\n",
    "            # Save image\n",
    "            img_name = image_path.split('/')[-1].split('.')[0]\n",
    "            Image.fromarray(sub_img).save(f'temp_dataset/{counter}.jpg')\n",
    "            counter += 1"
   ]
  },
  {
   "cell_type": "code",
   "execution_count": 81,
   "id": "fb561b34",
   "metadata": {},
   "outputs": [],
   "source": [
    "# Create csv for tagging\n",
    "cropped_images = sorted([f for f in listdir('temp_dataset') if isfile(join('temp_dataset', f))])\n",
    "shuffled_images_name = cropped_images.copy()\n",
    "random.shuffle(shuffled_images_name)\n",
    "filenames_rows = list(zip(cropped_images, shuffled_images_name))"
   ]
  },
  {
   "cell_type": "code",
   "execution_count": 82,
   "id": "6cc82e9b",
   "metadata": {},
   "outputs": [],
   "source": [
    "tagging_df = pd.DataFrame(filenames_rows, columns=['Image File', 'New Image Name'])"
   ]
  },
  {
   "cell_type": "code",
   "execution_count": 87,
   "id": "536e64b9",
   "metadata": {},
   "outputs": [],
   "source": [
    "# Rename files with shuffled names\n",
    "for idx, row in tagging_df.iterrows():\n",
    "    rename(f'temp_dataset/{row[\"Image File\"]}', f'dataset/{row[\"New Image Name\"]}')"
   ]
  },
  {
   "cell_type": "code",
   "execution_count": 83,
   "id": "26a935e8",
   "metadata": {},
   "outputs": [
    {
     "data": {
      "text/html": [
       "<div>\n",
       "<style scoped>\n",
       "    .dataframe tbody tr th:only-of-type {\n",
       "        vertical-align: middle;\n",
       "    }\n",
       "\n",
       "    .dataframe tbody tr th {\n",
       "        vertical-align: top;\n",
       "    }\n",
       "\n",
       "    .dataframe thead th {\n",
       "        text-align: right;\n",
       "    }\n",
       "</style>\n",
       "<table border=\"1\" class=\"dataframe\">\n",
       "  <thead>\n",
       "    <tr style=\"text-align: right;\">\n",
       "      <th></th>\n",
       "      <th>Image File</th>\n",
       "      <th>New Image Name</th>\n",
       "    </tr>\n",
       "  </thead>\n",
       "  <tbody>\n",
       "    <tr>\n",
       "      <th>0</th>\n",
       "      <td>0.jpg</td>\n",
       "      <td>2193.jpg</td>\n",
       "    </tr>\n",
       "    <tr>\n",
       "      <th>1</th>\n",
       "      <td>1.jpg</td>\n",
       "      <td>4976.jpg</td>\n",
       "    </tr>\n",
       "    <tr>\n",
       "      <th>2</th>\n",
       "      <td>10.jpg</td>\n",
       "      <td>2599.jpg</td>\n",
       "    </tr>\n",
       "    <tr>\n",
       "      <th>3</th>\n",
       "      <td>100.jpg</td>\n",
       "      <td>6201.jpg</td>\n",
       "    </tr>\n",
       "    <tr>\n",
       "      <th>4</th>\n",
       "      <td>1000.jpg</td>\n",
       "      <td>1952.jpg</td>\n",
       "    </tr>\n",
       "  </tbody>\n",
       "</table>\n",
       "</div>"
      ],
      "text/plain": [
       "  Image File New Image Name\n",
       "0      0.jpg       2193.jpg\n",
       "1      1.jpg       4976.jpg\n",
       "2     10.jpg       2599.jpg\n",
       "3    100.jpg       6201.jpg\n",
       "4   1000.jpg       1952.jpg"
      ]
     },
     "execution_count": 83,
     "metadata": {},
     "output_type": "execute_result"
    }
   ],
   "source": [
    "tagging_df.head()"
   ]
  },
  {
   "cell_type": "code",
   "execution_count": null,
   "id": "e53be53c",
   "metadata": {},
   "outputs": [],
   "source": [
    "tagging_df.to_csv('original_filename.csv', index=False)"
   ]
  },
  {
   "cell_type": "markdown",
   "id": "d799171b",
   "metadata": {},
   "source": [
    "## Modelling"
   ]
  },
  {
   "cell_type": "code",
   "execution_count": 41,
   "id": "1173e4a1",
   "metadata": {},
   "outputs": [],
   "source": [
    "from os import listdir, rename\n",
    "from os.path import isfile, join\n",
    "import numpy as np\n",
    "import matplotlib.pyplot as plt\n",
    "from PIL import Image\n",
    "import pandas as pd\n",
    "import random\n",
    "from sklearn.model_selection import train_test_split\n",
    "from collections import Counter\n",
    "from skimage.transform import rotate, AffineTransform, warp\n",
    "from skimage.util import random_noise"
   ]
  },
  {
   "cell_type": "code",
   "execution_count": 42,
   "id": "caafacd9",
   "metadata": {},
   "outputs": [],
   "source": [
    "# !pip3 install scikit-image"
   ]
  },
  {
   "cell_type": "code",
   "execution_count": 32,
   "id": "ba65ebfb",
   "metadata": {},
   "outputs": [],
   "source": [
    "labels = pd.read_csv('labels.csv')"
   ]
  },
  {
   "cell_type": "code",
   "execution_count": 33,
   "id": "dcd63930",
   "metadata": {},
   "outputs": [
    {
     "data": {
      "text/html": [
       "<div>\n",
       "<style scoped>\n",
       "    .dataframe tbody tr th:only-of-type {\n",
       "        vertical-align: middle;\n",
       "    }\n",
       "\n",
       "    .dataframe tbody tr th {\n",
       "        vertical-align: top;\n",
       "    }\n",
       "\n",
       "    .dataframe thead th {\n",
       "        text-align: right;\n",
       "    }\n",
       "</style>\n",
       "<table border=\"1\" class=\"dataframe\">\n",
       "  <thead>\n",
       "    <tr style=\"text-align: right;\">\n",
       "      <th></th>\n",
       "      <th>filename</th>\n",
       "      <th>label</th>\n",
       "    </tr>\n",
       "  </thead>\n",
       "  <tbody>\n",
       "    <tr>\n",
       "      <th>0</th>\n",
       "      <td>0.jpg</td>\n",
       "      <td>1</td>\n",
       "    </tr>\n",
       "    <tr>\n",
       "      <th>1</th>\n",
       "      <td>1.jpg</td>\n",
       "      <td>1</td>\n",
       "    </tr>\n",
       "    <tr>\n",
       "      <th>2</th>\n",
       "      <td>2.jpg</td>\n",
       "      <td>5</td>\n",
       "    </tr>\n",
       "    <tr>\n",
       "      <th>3</th>\n",
       "      <td>3.jpg</td>\n",
       "      <td>4</td>\n",
       "    </tr>\n",
       "    <tr>\n",
       "      <th>4</th>\n",
       "      <td>4.jpg</td>\n",
       "      <td>1</td>\n",
       "    </tr>\n",
       "  </tbody>\n",
       "</table>\n",
       "</div>"
      ],
      "text/plain": [
       "  filename  label\n",
       "0    0.jpg      1\n",
       "1    1.jpg      1\n",
       "2    2.jpg      5\n",
       "3    3.jpg      4\n",
       "4    4.jpg      1"
      ]
     },
     "execution_count": 33,
     "metadata": {},
     "output_type": "execute_result"
    }
   ],
   "source": [
    "labels.head()"
   ]
  },
  {
   "cell_type": "code",
   "execution_count": 34,
   "id": "b2575669",
   "metadata": {},
   "outputs": [
    {
     "data": {
      "text/plain": [
       "(1501, 2)"
      ]
     },
     "execution_count": 34,
     "metadata": {},
     "output_type": "execute_result"
    }
   ],
   "source": [
    "labels.shape"
   ]
  },
  {
   "cell_type": "markdown",
   "id": "9fde6234",
   "metadata": {},
   "source": [
    "### Helper Functions"
   ]
  },
  {
   "cell_type": "code",
   "execution_count": 35,
   "id": "c4ca8f77",
   "metadata": {},
   "outputs": [],
   "source": [
    "def load_images(labels):\n",
    "    X = []\n",
    "    y = []\n",
    "    for row in labels.itertuples():\n",
    "        img_path = join('dataset', row.filename)\n",
    "        img = np.asarray(Image.open(img_path))\n",
    "        \n",
    "        # Keep squares for now\n",
    "        if img.shape[0] == img.shape[1]:\n",
    "            y.append(row.label)\n",
    "            X.append(img)\n",
    "    return X, y\n"
   ]
  },
  {
   "cell_type": "code",
   "execution_count": 65,
   "id": "e8896db8",
   "metadata": {},
   "outputs": [],
   "source": [
    "def augment_data(X_train, y_train):\n",
    "    final_X_train = []\n",
    "    final_y_train = []\n",
    "    for i in range(len(X_train)):\n",
    "        final_X_train.append(X_train[i])\n",
    "        final_X_train.append(rotate(X_train[i], angle=45, mode = 'wrap'))\n",
    "        final_X_train.append(np.fliplr(X_train[i]))\n",
    "        final_X_train.append(np.flipud(X_train[i]))\n",
    "        final_X_train.append(random_noise(X_train[i],var=0.2**2))\n",
    "        \n",
    "        final_y_train += [y_train[i]] * 5\n",
    "    return final_X_train, final_y_train"
   ]
  },
  {
   "cell_type": "code",
   "execution_count": 66,
   "id": "31eb5a97",
   "metadata": {},
   "outputs": [],
   "source": [
    "def get_accuracy(scores, labels):\n",
    "    num_data = scores.size(0)\n",
    "    predicted_labels = scores.argmax(dim=1)\n",
    "    indicator = (predicted_labels == labels)\n",
    "    num_matches = indicator.sum()\n",
    "    return 100*num_matches.float()/num_data  \n",
    "\n",
    "def get_error( scores , labels ):\n",
    "\n",
    "    bs=scores.size(0)\n",
    "    predicted_labels = scores.argmax(dim=1)\n",
    "    indicator = (predicted_labels == labels)\n",
    "    num_matches=indicator.sum()\n",
    "    \n",
    "    return 1-num_matches.float()/bs   \n",
    "\n",
    "def eval_on_test_set(test_data, test_label, net, mean, std, bs):\n",
    "\n",
    "    running_error=0\n",
    "    running_acc = 0\n",
    "    num_batches=0\n",
    "\n",
    "    for i in range(0,500,bs):\n",
    "\n",
    "        minibatch_data =  test_data[i:i+bs]\n",
    "        minibatch_label = test_label[i:i+bs]\n",
    "        \n",
    "        inputs = (minibatch_data - mean)/std\n",
    "\n",
    "        scores= net( inputs ) \n",
    "\n",
    "        error = get_error( scores.detach() , minibatch_label)\n",
    "        acc = get_accuracy( scores.detach() , minibatch_label)\n",
    "\n",
    "        running_error += error.item()\n",
    "        running_acc += acc.item()\n",
    "\n",
    "        num_batches+=1\n",
    "\n",
    "    total_error = running_error/num_batches\n",
    "    total_acc = running_acc/num_batches\n",
    "    print(running_error, num_batches)\n",
    "    print( 'error rate on test set =', total_error*100 ,'percent')\n",
    "    print('accuracy =', total_acc)"
   ]
  },
  {
   "cell_type": "code",
   "execution_count": 67,
   "id": "2246b3e0",
   "metadata": {},
   "outputs": [],
   "source": [
    "X, y = load_images(labels)"
   ]
  },
  {
   "cell_type": "code",
   "execution_count": 68,
   "id": "820366f1",
   "metadata": {},
   "outputs": [
    {
     "data": {
      "text/plain": [
       "Counter({5: 146, 4: 81, 2: 202, 1: 264, 3: 91, 0: 194})"
      ]
     },
     "execution_count": 68,
     "metadata": {},
     "output_type": "execute_result"
    }
   ],
   "source": [
    "Counter(y)"
   ]
  },
  {
   "cell_type": "code",
   "execution_count": 69,
   "id": "bd6ca14d",
   "metadata": {},
   "outputs": [],
   "source": [
    "X_train, X_test, y_train, y_test = train_test_split(X, y, test_size = 0.2, random_state = 13, stratify=y)"
   ]
  },
  {
   "cell_type": "code",
   "execution_count": 70,
   "id": "a528303a",
   "metadata": {},
   "outputs": [],
   "source": [
    "X_train, y_train = augment_data(X_train, y_train)"
   ]
  },
  {
   "cell_type": "markdown",
   "id": "fb48322e",
   "metadata": {},
   "source": [
    "### Training"
   ]
  },
  {
   "cell_type": "code",
   "execution_count": 48,
   "id": "482a6015",
   "metadata": {},
   "outputs": [],
   "source": [
    "import torch"
   ]
  },
  {
   "cell_type": "code",
   "execution_count": 97,
   "id": "d950c3b2",
   "metadata": {},
   "outputs": [],
   "source": [
    "class convnet(torch.nn.Module):\n",
    "\n",
    "    def __init__(self, input_channel, hidden_layer, num_class):\n",
    "\n",
    "        super(convnet, self).__init__()\n",
    "      \n",
    "        self.conv1a = torch.nn.Conv2d(input_channel, hidden_layer,  kernel_size=5, padding=1 )\n",
    "        self.pool1a  = torch.nn.MaxPool2d(2,2)\n",
    "        self.conv1b = torch.nn.Conv2d(hidden_layer,  hidden_layer,  kernel_size=5, padding=1 )\n",
    "        self.pool1b  = torch.nn.MaxPool2d(2,2)\n",
    "        \n",
    "        self.linear1 = torch.nn.Linear(12100, num_class)\n",
    "\n",
    "    def forward(self, x):\n",
    "        x = self.conv1a(x)\n",
    "        x = torch.nn.functional.relu(x)\n",
    "        x = self.pool1a(x)\n",
    "        x = self.conv1b(x)\n",
    "        x = torch.nn.functional.relu(x)\n",
    "        x = self.pool1b(x)\n",
    "        \n",
    "        x = x.view(-1, 12100)\n",
    "        x = self.linear1(x)\n",
    "        \n",
    "        return x"
   ]
  },
  {
   "cell_type": "code",
   "execution_count": 98,
   "id": "8886a866",
   "metadata": {},
   "outputs": [],
   "source": [
    "def train_network(X_train, y_train, X_test, y_test):\n",
    "    X_train = torch.from_numpy(np.array(X_train).astype(np.float32))\n",
    "    y_train = torch.from_numpy(np.array(y_train).astype(np.float32)).type(torch.LongTensor)\n",
    "    X_test = torch.from_numpy(np.array(X_test).astype(np.float32))\n",
    "    y_test = torch.from_numpy(np.array(y_test).astype(np.float32)).type(torch.LongTensor)\n",
    "    X_train = X_train.view(-1, 3, 50, 50)\n",
    "    X_test = X_test.view(-1, 3, 50, 50)\n",
    "    \n",
    "    my_lr = 0.01\n",
    "    criterion = torch.nn.CrossEntropyLoss()\n",
    "    bs = 128\n",
    "    num_class = 6\n",
    "\n",
    "    net = convnet(3, 100, num_class)\n",
    "    mean = X_train.mean()\n",
    "    std = X_train.std()\n",
    "    num_train_data = X_train.size()[0]\n",
    "    \n",
    "    for epoch in range(5):\n",
    "        # create a new optimizer at the beginning of each epoch: give the current learning rate.   \n",
    "        optimizer=torch.optim.Adam( net.parameters() , lr=my_lr )\n",
    "\n",
    "        # set the running quatities to zero at the beginning of the epoch\n",
    "        running_loss=0\n",
    "        running_error=0\n",
    "        running_acc = 0\n",
    "        num_batches=0\n",
    "\n",
    "        # set the order in which to visit the image from the training set\n",
    "        shuffled_indices = torch.randperm(num_train_data)\n",
    "\n",
    "        for count in range(0,num_train_data,bs):\n",
    "\n",
    "            # Set the gradients to zeros\n",
    "            optimizer.zero_grad()\n",
    "\n",
    "            # create a minibatch       \n",
    "            indices = shuffled_indices[count:count+bs]\n",
    "            minibatch_data =  X_train[indices]\n",
    "            minibatch_label =  y_train[indices]\n",
    "\n",
    "\n",
    "            # normalize the minibatch (this is the only difference compared to before!)\n",
    "            inputs = (minibatch_data - mean)/std\n",
    "\n",
    "            # tell Pytorch to start tracking all operations that will be done on \"inputs\"\n",
    "            inputs.requires_grad_()\n",
    "\n",
    "            # forward the minibatch through the net \n",
    "            scores=net( inputs ) \n",
    "\n",
    "            # Compute the average of the losses of the data points in the minibatch\n",
    "            loss =  criterion( scores , minibatch_label) \n",
    "\n",
    "            # backward pass to compute dL/dU, dL/dV and dL/dW   \n",
    "            loss.backward()\n",
    "\n",
    "            # do one step of stochastic gradient descent: U=U-lr(dL/dU), V=V-lr(dL/dU), ...\n",
    "            optimizer.step()\n",
    "\n",
    "\n",
    "            # START COMPUTING STATS\n",
    "\n",
    "            # add the loss of this batch to the running loss\n",
    "            running_loss += loss.detach().item()\n",
    "\n",
    "            # compute the error made on this batch and add it to the running error       \n",
    "            error = get_error( scores.detach() , minibatch_label)\n",
    "            acc = get_accuracy(scores.detach() , minibatch_label)\n",
    "            running_error += error.item()\n",
    "            running_acc += acc.item()\n",
    "\n",
    "            num_batches+=1        \n",
    "\n",
    "\n",
    "        # compute stats for the full training set\n",
    "        total_loss = running_loss/num_batches\n",
    "        total_error = running_error/num_batches\n",
    "        total_acc = running_acc/num_batches\n",
    "\n",
    "\n",
    "        print('epoch=',epoch, '\\t loss=', total_loss , '\\t error=', total_error*100 ,'percent')\n",
    "        print('accuracy =', total_acc)\n",
    "        print(' ')\n",
    "\n",
    "    eval_on_test_set(X_test, y_test, net, mean, std, bs)\n"
   ]
  },
  {
   "cell_type": "code",
   "execution_count": 99,
   "id": "97e6a90d",
   "metadata": {},
   "outputs": [
    {
     "name": "stdout",
     "output_type": "stream",
     "text": [
      "epoch= 0 \t loss= 16.275446553384104 \t error= 79.02145731833673 percent\n",
      "accuracy = 20.978542635517737\n",
      " \n",
      "epoch= 1 \t loss= 1.7324328768637873 \t error= 74.63277655263101 percent\n",
      "accuracy = 25.367223493514523\n",
      " \n",
      "epoch= 2 \t loss= 1.713539638826924 \t error= 72.99467171392133 percent\n",
      "accuracy = 27.0053283322242\n",
      " \n",
      "epoch= 3 \t loss= 1.7133833054573304 \t error= 73.03643418896583 percent\n",
      "accuracy = 26.96356564183389\n",
      " \n",
      "epoch= 4 \t loss= 1.7130451394665627 \t error= 73.07819704855642 percent\n",
      "accuracy = 26.921803012970955\n",
      " \n"
     ]
    },
    {
     "ename": "NameError",
     "evalue": "name 'bs' is not defined",
     "output_type": "error",
     "traceback": [
      "\u001b[0;31m---------------------------------------------------------------------------\u001b[0m",
      "\u001b[0;31mNameError\u001b[0m                                 Traceback (most recent call last)",
      "\u001b[0;32m/var/folders/wx/6glkypnn5pd_cjs1cdkt0v6m0000gn/T/ipykernel_3143/1507065899.py\u001b[0m in \u001b[0;36m<module>\u001b[0;34m\u001b[0m\n\u001b[0;32m----> 1\u001b[0;31m \u001b[0mtrain_network\u001b[0m\u001b[0;34m(\u001b[0m\u001b[0mX_train\u001b[0m\u001b[0;34m,\u001b[0m \u001b[0my_train\u001b[0m\u001b[0;34m,\u001b[0m \u001b[0mX_test\u001b[0m\u001b[0;34m,\u001b[0m \u001b[0my_test\u001b[0m\u001b[0;34m)\u001b[0m\u001b[0;34m\u001b[0m\u001b[0;34m\u001b[0m\u001b[0m\n\u001b[0m",
      "\u001b[0;32m/var/folders/wx/6glkypnn5pd_cjs1cdkt0v6m0000gn/T/ipykernel_3143/2362230506.py\u001b[0m in \u001b[0;36mtrain_network\u001b[0;34m(X_train, y_train, X_test, y_test)\u001b[0m\n\u001b[1;32m     84\u001b[0m         \u001b[0mprint\u001b[0m\u001b[0;34m(\u001b[0m\u001b[0;34m' '\u001b[0m\u001b[0;34m)\u001b[0m\u001b[0;34m\u001b[0m\u001b[0;34m\u001b[0m\u001b[0m\n\u001b[1;32m     85\u001b[0m \u001b[0;34m\u001b[0m\u001b[0m\n\u001b[0;32m---> 86\u001b[0;31m     \u001b[0meval_on_test_set\u001b[0m\u001b[0;34m(\u001b[0m\u001b[0mX_test\u001b[0m\u001b[0;34m,\u001b[0m \u001b[0my_test\u001b[0m\u001b[0;34m,\u001b[0m \u001b[0mnet\u001b[0m\u001b[0;34m,\u001b[0m \u001b[0mmean\u001b[0m\u001b[0;34m,\u001b[0m \u001b[0mstd\u001b[0m\u001b[0;34m)\u001b[0m\u001b[0;34m\u001b[0m\u001b[0;34m\u001b[0m\u001b[0m\n\u001b[0m",
      "\u001b[0;32m/var/folders/wx/6glkypnn5pd_cjs1cdkt0v6m0000gn/T/ipykernel_3143/1060877393.py\u001b[0m in \u001b[0;36meval_on_test_set\u001b[0;34m(test_data, test_label, net, mean, std)\u001b[0m\n\u001b[1;32m     21\u001b[0m     \u001b[0mnum_batches\u001b[0m\u001b[0;34m=\u001b[0m\u001b[0;36m0\u001b[0m\u001b[0;34m\u001b[0m\u001b[0;34m\u001b[0m\u001b[0m\n\u001b[1;32m     22\u001b[0m \u001b[0;34m\u001b[0m\u001b[0m\n\u001b[0;32m---> 23\u001b[0;31m     \u001b[0;32mfor\u001b[0m \u001b[0mi\u001b[0m \u001b[0;32min\u001b[0m \u001b[0mrange\u001b[0m\u001b[0;34m(\u001b[0m\u001b[0;36m0\u001b[0m\u001b[0;34m,\u001b[0m\u001b[0;36m500\u001b[0m\u001b[0;34m,\u001b[0m\u001b[0mbs\u001b[0m\u001b[0;34m)\u001b[0m\u001b[0;34m:\u001b[0m\u001b[0;34m\u001b[0m\u001b[0;34m\u001b[0m\u001b[0m\n\u001b[0m\u001b[1;32m     24\u001b[0m \u001b[0;34m\u001b[0m\u001b[0m\n\u001b[1;32m     25\u001b[0m         \u001b[0mminibatch_data\u001b[0m \u001b[0;34m=\u001b[0m  \u001b[0mtest_data\u001b[0m\u001b[0;34m[\u001b[0m\u001b[0mi\u001b[0m\u001b[0;34m:\u001b[0m\u001b[0mi\u001b[0m\u001b[0;34m+\u001b[0m\u001b[0mbs\u001b[0m\u001b[0;34m]\u001b[0m\u001b[0;34m\u001b[0m\u001b[0;34m\u001b[0m\u001b[0m\n",
      "\u001b[0;31mNameError\u001b[0m: name 'bs' is not defined"
     ]
    }
   ],
   "source": [
    "train_network(X_train, y_train, X_test, y_test)"
   ]
  },
  {
   "cell_type": "code",
   "execution_count": null,
   "id": "f40306e3",
   "metadata": {},
   "outputs": [],
   "source": []
  }
 ],
 "metadata": {
  "interpreter": {
   "hash": "188299b107256fe873ab79b6089594fb9be85d55d578db9419dca9181f4278ba"
  },
  "kernelspec": {
   "display_name": "Python 3.7.10 64-bit ('deeplearn_course': conda)",
   "name": "python3"
  },
  "language_info": {
   "codemirror_mode": {
    "name": "ipython",
    "version": 3
   },
   "file_extension": ".py",
   "mimetype": "text/x-python",
   "name": "python",
   "nbconvert_exporter": "python",
   "pygments_lexer": "ipython3",
   "version": "3.7.10"
  }
 },
 "nbformat": 4,
 "nbformat_minor": 5
}
