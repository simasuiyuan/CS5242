{
 "cells": [
  {
   "cell_type": "markdown",
   "metadata": {},
   "source": [
    "# Vanilla NN & MLP"
   ]
  },
  {
   "cell_type": "markdown",
   "metadata": {},
   "source": [
    "# 1.  Linear Layer"
   ]
  },
  {
   "cell_type": "code",
   "execution_count": 17,
   "metadata": {},
   "outputs": [
    {
     "name": "stdout",
     "output_type": "stream",
     "text": [
      "Parameter containing:\n",
      "tensor([[ 0.3950, -0.1735,  0.0810, -0.1386,  0.4441],\n",
      "        [-0.1807,  0.3634,  0.2658,  0.4104, -0.3758],\n",
      "        [ 0.3731,  0.0005,  0.1566,  0.0676, -0.0070]], requires_grad=True)\n",
      "Parameter containing:\n",
      "tensor([-0.3481,  0.0419,  0.4329], requires_grad=True)\n",
      "tensor([[ 0.0000e+00,  1.0000e+00,  2.0000e+00, -1.3864e-01,  4.4415e-01],\n",
      "        [-1.8068e-01,  3.6335e-01,  2.6575e-01,  4.1041e-01, -3.7578e-01],\n",
      "        [ 3.7312e-01,  5.4437e-04,  1.5662e-01,  6.7616e-02, -7.0125e-03]])\n",
      "Parameter containing:\n",
      "tensor([[1., 1., 1., 1., 1.],\n",
      "        [1., 1., 1., 1., 1.],\n",
      "        [1., 1., 1., 1., 1.]], requires_grad=True)\n",
      "Parameter containing:\n",
      "tensor([0.5000, 0.5000, 0.5000], requires_grad=True)\n",
      "torch.Size([5]) torch.Size([3])\n"
     ]
    }
   ],
   "source": [
    "import torch\n",
    "import torch.nn as nn\n",
    "\n",
    "input_dimension = 5\n",
    "output_dimension = 3\n",
    "\n",
    "\"\"\" initialize a linear layer = initialize weights(hyperparameters) for the linear layer\n",
    "\"\"\"\n",
    "linear_layer = nn.Linear(input_dimension,output_dimension)\n",
    "\n",
    "print(linear_layer.weight)\n",
    "print(linear_layer.bias)\n",
    "\n",
    "\"\"\" modify the weight and bias in linear layer \n",
    "\"\"\"\n",
    "with torch.no_grad():\n",
    "    linear_layer.weight[0,0]=0\n",
    "    linear_layer.weight[0,1]=1\n",
    "    linear_layer.weight[0,2]=2\n",
    "    print(linear_layer.weight.data)\n",
    "\n",
    "# OR (coding test1 qns 8)\n",
    "\n",
    "# Initialize the weight matrices\n",
    "linear_layer.weight.data.fill_(1.0)\n",
    "# Initialize the biases\n",
    "linear_layer.bias.data.fill_(0.5)\n",
    "\n",
    "\n",
    "print(linear_layer.weight)\n",
    "print(linear_layer.bias)\n",
    "\n",
    "\n",
    "\"\"\" Compute linear layer \n",
    "\"\"\"\n",
    "x = torch.rand(input_dimension)\n",
    "y = linear_layer(x)\n",
    "\n",
    "print(x.size(), y.size())\n"
   ]
  },
  {
   "cell_type": "markdown",
   "metadata": {},
   "source": [
    "# 2. Softmax\n",
    "\n",
    "![quiz1 qns 3](./pic/quiz1_3.png)"
   ]
  },
  {
   "cell_type": "code",
   "execution_count": 34,
   "metadata": {},
   "outputs": [
    {
     "name": "stdout",
     "output_type": "stream",
     "text": [
      "Parameter containing:\n",
      "tensor([[-0.6786, -0.1916],\n",
      "        [-0.2442,  0.2401],\n",
      "        [-0.5029, -0.4463]], requires_grad=True)\n",
      "Parameter containing:\n",
      "tensor([[1., 1.],\n",
      "        [2., 0.],\n",
      "        [1., 0.]], requires_grad=True)\n"
     ]
    },
    {
     "data": {
      "text/plain": [
       "tensor([0.2447, 0.6652, 0.0900], grad_fn=<SoftmaxBackward>)"
      ]
     },
     "execution_count": 34,
     "metadata": {},
     "output_type": "execute_result"
    }
   ],
   "source": [
    "\"\"\" quiz1 qns 3\n",
    "\"\"\"\n",
    "input_dimension = 2\n",
    "output_dimension = 3\n",
    "\"\"\" initialize a linear layer = initialize weights(hyperparameters) for the linear layer\n",
    "\"\"\"\n",
    "linear_layer = nn.Linear(input_dimension,output_dimension, bias=False)\n",
    "\n",
    "print(linear_layer.weight)\n",
    "linear_layer.weight.data = torch.Tensor([[1,1],\n",
    "                                        [2,0],\n",
    "                                        [1,0]])\n",
    "print(linear_layer.weight)\n",
    "\n",
    "x = torch.Tensor([2,1])\n",
    "A = linear_layer(x)\n",
    "\n",
    "torch.softmax(A , dim=0)"
   ]
  },
  {
   "cell_type": "markdown",
   "metadata": {},
   "source": [
    "# 3. Compute Gradient (quiz1 qns 6)\n",
    "![quiz1 qns 6](./pic/quiz1_6.png)\n"
   ]
  },
  {
   "cell_type": "code",
   "execution_count": 61,
   "metadata": {},
   "outputs": [
    {
     "data": {
      "text/plain": [
       "tensor([[2., 0.]])"
      ]
     },
     "execution_count": 61,
     "metadata": {},
     "output_type": "execute_result"
    }
   ],
   "source": [
    "X = torch.Tensor([[1,1],[0,0.5]])\n",
    "y = torch.Tensor([[0,1]])\n",
    "w = torch.Tensor([[1,0]])\n",
    "\n",
    "torch.mm((torch.mm(w, X) - y), X.T) + w"
   ]
  },
  {
   "cell_type": "markdown",
   "metadata": {},
   "source": [
    "# 4. Compute Mean Cross-Entropy Loss (quiz1 qns 5)\n",
    "![quiz1 qns 5](./pic/quiz1_5.png)"
   ]
  },
  {
   "cell_type": "code",
   "execution_count": 99,
   "metadata": {},
   "outputs": [
    {
     "name": "stdout",
     "output_type": "stream",
     "text": [
      "tensor([[ 0.,  1., -1.],\n",
      "        [ 3.,  1.,  0.],\n",
      "        [-3., -1., -3.]])\n"
     ]
    },
    {
     "data": {
      "text/plain": [
       "tensor(1.3862)"
      ]
     },
     "execution_count": 99,
     "metadata": {},
     "output_type": "execute_result"
    }
   ],
   "source": [
    "X = torch.Tensor([[2,1,1],[-1,0,-1],[1,0,0]])\n",
    "W = torch.Tensor([[1,2,0],[1,1,2],[-1,2,1]])\n",
    "y = torch.LongTensor([1,2,0])\n",
    "\n",
    "mycrit=nn.CrossEntropyLoss()\n",
    "\n",
    "print(torch.mm(W,X))\n",
    "# torch.max(torch.mm(W,X), dim=0).values.view(1,-1)\n",
    "# print(torch.argmax(torch.mm(W,X), dim=0).view(1,-1))\n",
    "mycrit(torch.mm(W,X).T, y)\n"
   ]
  },
  {
   "cell_type": "markdown",
   "metadata": {},
   "source": [
    "# MLP dimension"
   ]
  },
  {
   "cell_type": "code",
   "execution_count": null,
   "metadata": {},
   "outputs": [],
   "source": [
    "\"\"\" quiz1 qns 2\n",
    "\"\"\"\n",
    "input_dimension = 2\n",
    "\n",
    "hidden_out1_dimension = 3\n",
    "# hidden_out2_dimension = \n",
    "\n",
    "output_dimension = 2\n",
    "\n",
    "# wODN09?P\n",
    "# R#yr1RV2"
   ]
  },
  {
   "cell_type": "markdown",
   "metadata": {},
   "source": [
    "# Convolution dimension calculator\n",
    "\n",
    "## https://madebyollin.github.io/convnet-calculator/\n",
    "\n",
    "* "
   ]
  },
  {
   "cell_type": "code",
   "execution_count": null,
   "metadata": {},
   "outputs": [],
   "source": []
  }
 ],
 "metadata": {
  "interpreter": {
   "hash": "3ae59be3bbb3032c82198ddb7a289c47bb75c4ade3eaa25e8c11ba3a93c8e886"
  },
  "kernelspec": {
   "display_name": "Python 3.7.10 64-bit ('deeplearn_course': conda)",
   "name": "python3"
  },
  "language_info": {
   "codemirror_mode": {
    "name": "ipython",
    "version": 3
   },
   "file_extension": ".py",
   "mimetype": "text/x-python",
   "name": "python",
   "nbconvert_exporter": "python",
   "pygments_lexer": "ipython3",
   "version": "3.7.10"
  },
  "orig_nbformat": 4
 },
 "nbformat": 4,
 "nbformat_minor": 2
}
