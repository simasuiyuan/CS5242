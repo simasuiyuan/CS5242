{
 "cells": [
  {
   "cell_type": "markdown",
   "metadata": {},
   "source": [
    "# Vanilla NN & MLP"
   ]
  },
  {
   "cell_type": "markdown",
   "metadata": {},
   "source": [
    "# 1.  Linear Layer"
   ]
  },
  {
   "cell_type": "code",
   "execution_count": 17,
   "metadata": {},
   "outputs": [
    {
     "name": "stdout",
     "output_type": "stream",
     "text": [
      "Parameter containing:\n",
      "tensor([[ 0.3950, -0.1735,  0.0810, -0.1386,  0.4441],\n",
      "        [-0.1807,  0.3634,  0.2658,  0.4104, -0.3758],\n",
      "        [ 0.3731,  0.0005,  0.1566,  0.0676, -0.0070]], requires_grad=True)\n",
      "Parameter containing:\n",
      "tensor([-0.3481,  0.0419,  0.4329], requires_grad=True)\n",
      "tensor([[ 0.0000e+00,  1.0000e+00,  2.0000e+00, -1.3864e-01,  4.4415e-01],\n",
      "        [-1.8068e-01,  3.6335e-01,  2.6575e-01,  4.1041e-01, -3.7578e-01],\n",
      "        [ 3.7312e-01,  5.4437e-04,  1.5662e-01,  6.7616e-02, -7.0125e-03]])\n",
      "Parameter containing:\n",
      "tensor([[1., 1., 1., 1., 1.],\n",
      "        [1., 1., 1., 1., 1.],\n",
      "        [1., 1., 1., 1., 1.]], requires_grad=True)\n",
      "Parameter containing:\n",
      "tensor([0.5000, 0.5000, 0.5000], requires_grad=True)\n",
      "torch.Size([5]) torch.Size([3])\n"
     ]
    }
   ],
   "source": [
    "import torch\n",
    "import torch.nn as nn\n",
    "\n",
    "input_dimension = 5\n",
    "output_dimension = 3\n",
    "\n",
    "\"\"\" initialize a linear layer = initialize weights(hyperparameters) for the linear layer\n",
    "\"\"\"\n",
    "linear_layer = nn.Linear(input_dimension,output_dimension)\n",
    "\n",
    "print(linear_layer.weight)\n",
    "print(linear_layer.bias)\n",
    "\n",
    "\"\"\" modify the weight and bias in linear layer \n",
    "\"\"\"\n",
    "with torch.no_grad():\n",
    "    linear_layer.weight[0,0]=0\n",
    "    linear_layer.weight[0,1]=1\n",
    "    linear_layer.weight[0,2]=2\n",
    "    print(linear_layer.weight.data)\n",
    "\n",
    "# OR (coding test1 qns 8)\n",
    "\n",
    "# Initialize the weight matrices\n",
    "linear_layer.weight.data.fill_(1.0)\n",
    "# Initialize the biases\n",
    "linear_layer.bias.data.fill_(0.5)\n",
    "\n",
    "\n",
    "print(linear_layer.weight)\n",
    "print(linear_layer.bias)\n",
    "\n",
    "\n",
    "\"\"\" Compute linear layer \n",
    "\"\"\"\n",
    "x = torch.rand(input_dimension)\n",
    "y = linear_layer(x)\n",
    "\n",
    "print(x.size(), y.size())\n"
   ]
  },
  {
   "cell_type": "markdown",
   "metadata": {},
   "source": [
    "# 2. Softmax\n",
    "\n",
    "![quiz1 qns 3](./pic/quiz1_3.png)"
   ]
  },
  {
   "cell_type": "code",
   "execution_count": 34,
   "metadata": {},
   "outputs": [
    {
     "name": "stdout",
     "output_type": "stream",
     "text": [
      "Parameter containing:\n",
      "tensor([[-0.6786, -0.1916],\n",
      "        [-0.2442,  0.2401],\n",
      "        [-0.5029, -0.4463]], requires_grad=True)\n",
      "Parameter containing:\n",
      "tensor([[1., 1.],\n",
      "        [2., 0.],\n",
      "        [1., 0.]], requires_grad=True)\n"
     ]
    },
    {
     "data": {
      "text/plain": [
       "tensor([0.2447, 0.6652, 0.0900], grad_fn=<SoftmaxBackward>)"
      ]
     },
     "execution_count": 34,
     "metadata": {},
     "output_type": "execute_result"
    }
   ],
   "source": [
    "\"\"\" quiz1 qns 3\n",
    "\"\"\"\n",
    "input_dimension = 2\n",
    "output_dimension = 3\n",
    "\"\"\" initialize a linear layer = initialize weights(hyperparameters) for the linear layer\n",
    "\"\"\"\n",
    "linear_layer = nn.Linear(input_dimension,output_dimension, bias=False)\n",
    "\n",
    "print(linear_layer.weight)\n",
    "linear_layer.weight.data = torch.Tensor([[1,1],\n",
    "                                        [2,0],\n",
    "                                        [1,0]])\n",
    "print(linear_layer.weight)\n",
    "\n",
    "x = torch.Tensor([2,1])\n",
    "A = linear_layer(x)\n",
    "\n",
    "torch.softmax(A , dim=0)"
   ]
  },
  {
   "cell_type": "markdown",
   "metadata": {},
   "source": [
    "# 3. Compute Gradient (quiz1 qns 6)\n",
    "![quiz1 qns 6](./pic/quiz1_6.png)\n"
   ]
  },
  {
   "cell_type": "code",
   "execution_count": 61,
   "metadata": {},
   "outputs": [
    {
     "data": {
      "text/plain": [
       "tensor([[2., 0.]])"
      ]
     },
     "execution_count": 61,
     "metadata": {},
     "output_type": "execute_result"
    }
   ],
   "source": [
    "X = torch.Tensor([[1,1],[0,0.5]])\n",
    "y = torch.Tensor([[0,1]])\n",
    "w = torch.Tensor([[1,0]])\n",
    "\n",
    "torch.mm((torch.mm(w, X) - y), X.T) + w"
   ]
  },
  {
   "cell_type": "markdown",
   "metadata": {},
   "source": [
    "# 4. Compute Mean Cross-Entropy Loss (quiz1 qns 5)\n",
    "![quiz1 qns 5](./pic/quiz1_5.png)"
   ]
  },
  {
   "cell_type": "code",
   "execution_count": 99,
   "metadata": {},
   "outputs": [
    {
     "name": "stdout",
     "output_type": "stream",
     "text": [
      "tensor([[ 0.,  1., -1.],\n",
      "        [ 3.,  1.,  0.],\n",
      "        [-3., -1., -3.]])\n"
     ]
    },
    {
     "data": {
      "text/plain": [
       "tensor(1.3862)"
      ]
     },
     "execution_count": 99,
     "metadata": {},
     "output_type": "execute_result"
    }
   ],
   "source": [
    "X = torch.Tensor([[2,1,1],[-1,0,-1],[1,0,0]])\n",
    "W = torch.Tensor([[1,2,0],[1,1,2],[-1,2,1]])\n",
    "y = torch.LongTensor([1,2,0])\n",
    "\n",
    "mycrit=nn.CrossEntropyLoss()\n",
    "\n",
    "print(torch.mm(W,X))\n",
    "# torch.max(torch.mm(W,X), dim=0).values.view(1,-1)\n",
    "# print(torch.argmax(torch.mm(W,X), dim=0).view(1,-1))\n",
    "mycrit(torch.mm(W,X).T, y)\n"
   ]
  },
  {
   "cell_type": "markdown",
   "metadata": {},
   "source": [
    "# MLP dimension"
   ]
  },
  {
   "cell_type": "code",
   "execution_count": 6,
   "metadata": {},
   "outputs": [],
   "source": [
    "import torch\n",
    "import torch.nn as nn\n",
    "import torch.optim as optim\n",
    "from random import randint\n",
    "import utils"
   ]
  },
  {
   "cell_type": "code",
   "execution_count": 7,
   "metadata": {},
   "outputs": [],
   "source": [
    "class three_layer_net(nn.Module):\n",
    "\n",
    "    # def __init__(self, input_size, hidden_size1, hidden_size2,  output_size):\n",
    "    def __init__(self, input_size,output_size):\n",
    "        super(three_layer_net , self).__init__()\n",
    "        self.layer1 = nn.Linear(  input_size   , output_size  , bias=False  )\n",
    "        # self.layer1 = nn.Linear(  input_size   , hidden_size1  , bias=False  )\n",
    "        # self.layer2 = nn.Linear(  hidden_size1 , hidden_size2  , bias=False  )\n",
    "        # self.layer3 = nn.Linear(  hidden_size2 , output_size   , bias=False  )\n",
    "        \n",
    "    def forward(self, x):\n",
    "        \n",
    "        y       = self.layer1(x)\n",
    "        scores  = torch.relu(y)\n",
    "        # y_hat   = torch.relu(y)\n",
    "        # z       = self.layer2(y_hat)\n",
    "        # z_hat   = torch.relu(z)\n",
    "        # scores  = self.layer3(z_hat)\n",
    "        \n",
    "        return scores"
   ]
  },
  {
   "cell_type": "code",
   "execution_count": 17,
   "metadata": {},
   "outputs": [
    {
     "name": "stdout",
     "output_type": "stream",
     "text": [
      "three_layer_net(\n",
      "  (layer1): Linear(in_features=3, out_features=3, bias=False)\n",
      ")\n"
     ]
    }
   ],
   "source": [
    "net=three_layer_net(3, 3)\n",
    "print(net)"
   ]
  },
  {
   "cell_type": "code",
   "execution_count": 18,
   "metadata": {},
   "outputs": [],
   "source": [
    "criterion = nn.CrossEntropyLoss()\n",
    "optimizer=torch.optim.SGD( net.parameters() , lr=0.01 )"
   ]
  },
  {
   "cell_type": "code",
   "execution_count": 22,
   "metadata": {},
   "outputs": [
    {
     "name": "stdout",
     "output_type": "stream",
     "text": [
      "tensor([[4., 7., 1.],\n",
      "        [0., 0., 0.],\n",
      "        [1., 1., 0.]], grad_fn=<ReluBackward0>)\n"
     ]
    },
    {
     "ename": "RuntimeError",
     "evalue": "expected scalar type Long but found Float",
     "output_type": "error",
     "traceback": [
      "\u001b[1;31m---------------------------------------------------------------------------\u001b[0m",
      "\u001b[1;31mRuntimeError\u001b[0m                              Traceback (most recent call last)",
      "\u001b[1;32m~\\AppData\\Local\\Temp/ipykernel_15124/946595961.py\u001b[0m in \u001b[0;36m<module>\u001b[1;34m\u001b[0m\n\u001b[0;32m     18\u001b[0m \u001b[1;33m\u001b[0m\u001b[0m\n\u001b[0;32m     19\u001b[0m \u001b[1;31m# Compute the average of the losses of the data points in the minibatch\u001b[0m\u001b[1;33m\u001b[0m\u001b[1;33m\u001b[0m\u001b[1;33m\u001b[0m\u001b[0m\n\u001b[1;32m---> 20\u001b[1;33m \u001b[0mloss\u001b[0m \u001b[1;33m=\u001b[0m \u001b[0mcriterion\u001b[0m\u001b[1;33m(\u001b[0m \u001b[0mscores\u001b[0m \u001b[1;33m,\u001b[0m \u001b[0mlabel\u001b[0m\u001b[1;33m)\u001b[0m\u001b[1;33m\u001b[0m\u001b[1;33m\u001b[0m\u001b[0m\n\u001b[0m\u001b[0;32m     21\u001b[0m \u001b[1;33m\u001b[0m\u001b[0m\n\u001b[0;32m     22\u001b[0m \u001b[1;31m# backward pass to compute dL/dU, dL/dV and dL/dW\u001b[0m\u001b[1;33m\u001b[0m\u001b[1;33m\u001b[0m\u001b[1;33m\u001b[0m\u001b[0m\n",
      "\u001b[1;32mD:\\Anaconda3\\envs\\deeplearn_course\\lib\\site-packages\\torch\\nn\\modules\\module.py\u001b[0m in \u001b[0;36m_call_impl\u001b[1;34m(self, *input, **kwargs)\u001b[0m\n\u001b[0;32m   1049\u001b[0m         if not (self._backward_hooks or self._forward_hooks or self._forward_pre_hooks or _global_backward_hooks\n\u001b[0;32m   1050\u001b[0m                 or _global_forward_hooks or _global_forward_pre_hooks):\n\u001b[1;32m-> 1051\u001b[1;33m             \u001b[1;32mreturn\u001b[0m \u001b[0mforward_call\u001b[0m\u001b[1;33m(\u001b[0m\u001b[1;33m*\u001b[0m\u001b[0minput\u001b[0m\u001b[1;33m,\u001b[0m \u001b[1;33m**\u001b[0m\u001b[0mkwargs\u001b[0m\u001b[1;33m)\u001b[0m\u001b[1;33m\u001b[0m\u001b[1;33m\u001b[0m\u001b[0m\n\u001b[0m\u001b[0;32m   1052\u001b[0m         \u001b[1;31m# Do not call functions when jit is used\u001b[0m\u001b[1;33m\u001b[0m\u001b[1;33m\u001b[0m\u001b[1;33m\u001b[0m\u001b[0m\n\u001b[0;32m   1053\u001b[0m         \u001b[0mfull_backward_hooks\u001b[0m\u001b[1;33m,\u001b[0m \u001b[0mnon_full_backward_hooks\u001b[0m \u001b[1;33m=\u001b[0m \u001b[1;33m[\u001b[0m\u001b[1;33m]\u001b[0m\u001b[1;33m,\u001b[0m \u001b[1;33m[\u001b[0m\u001b[1;33m]\u001b[0m\u001b[1;33m\u001b[0m\u001b[1;33m\u001b[0m\u001b[0m\n",
      "\u001b[1;32mD:\\Anaconda3\\envs\\deeplearn_course\\lib\\site-packages\\torch\\nn\\modules\\loss.py\u001b[0m in \u001b[0;36mforward\u001b[1;34m(self, input, target)\u001b[0m\n\u001b[0;32m   1119\u001b[0m     \u001b[1;32mdef\u001b[0m \u001b[0mforward\u001b[0m\u001b[1;33m(\u001b[0m\u001b[0mself\u001b[0m\u001b[1;33m,\u001b[0m \u001b[0minput\u001b[0m\u001b[1;33m:\u001b[0m \u001b[0mTensor\u001b[0m\u001b[1;33m,\u001b[0m \u001b[0mtarget\u001b[0m\u001b[1;33m:\u001b[0m \u001b[0mTensor\u001b[0m\u001b[1;33m)\u001b[0m \u001b[1;33m->\u001b[0m \u001b[0mTensor\u001b[0m\u001b[1;33m:\u001b[0m\u001b[1;33m\u001b[0m\u001b[1;33m\u001b[0m\u001b[0m\n\u001b[0;32m   1120\u001b[0m         return F.cross_entropy(input, target, weight=self.weight,\n\u001b[1;32m-> 1121\u001b[1;33m                                ignore_index=self.ignore_index, reduction=self.reduction)\n\u001b[0m\u001b[0;32m   1122\u001b[0m \u001b[1;33m\u001b[0m\u001b[0m\n\u001b[0;32m   1123\u001b[0m \u001b[1;33m\u001b[0m\u001b[0m\n",
      "\u001b[1;32mD:\\Anaconda3\\envs\\deeplearn_course\\lib\\site-packages\\torch\\nn\\functional.py\u001b[0m in \u001b[0;36mcross_entropy\u001b[1;34m(input, target, weight, size_average, ignore_index, reduce, reduction)\u001b[0m\n\u001b[0;32m   2822\u001b[0m     \u001b[1;32mif\u001b[0m \u001b[0msize_average\u001b[0m \u001b[1;32mis\u001b[0m \u001b[1;32mnot\u001b[0m \u001b[1;32mNone\u001b[0m \u001b[1;32mor\u001b[0m \u001b[0mreduce\u001b[0m \u001b[1;32mis\u001b[0m \u001b[1;32mnot\u001b[0m \u001b[1;32mNone\u001b[0m\u001b[1;33m:\u001b[0m\u001b[1;33m\u001b[0m\u001b[1;33m\u001b[0m\u001b[0m\n\u001b[0;32m   2823\u001b[0m         \u001b[0mreduction\u001b[0m \u001b[1;33m=\u001b[0m \u001b[0m_Reduction\u001b[0m\u001b[1;33m.\u001b[0m\u001b[0mlegacy_get_string\u001b[0m\u001b[1;33m(\u001b[0m\u001b[0msize_average\u001b[0m\u001b[1;33m,\u001b[0m \u001b[0mreduce\u001b[0m\u001b[1;33m)\u001b[0m\u001b[1;33m\u001b[0m\u001b[1;33m\u001b[0m\u001b[0m\n\u001b[1;32m-> 2824\u001b[1;33m     \u001b[1;32mreturn\u001b[0m \u001b[0mtorch\u001b[0m\u001b[1;33m.\u001b[0m\u001b[0m_C\u001b[0m\u001b[1;33m.\u001b[0m\u001b[0m_nn\u001b[0m\u001b[1;33m.\u001b[0m\u001b[0mcross_entropy_loss\u001b[0m\u001b[1;33m(\u001b[0m\u001b[0minput\u001b[0m\u001b[1;33m,\u001b[0m \u001b[0mtarget\u001b[0m\u001b[1;33m,\u001b[0m \u001b[0mweight\u001b[0m\u001b[1;33m,\u001b[0m \u001b[0m_Reduction\u001b[0m\u001b[1;33m.\u001b[0m\u001b[0mget_enum\u001b[0m\u001b[1;33m(\u001b[0m\u001b[0mreduction\u001b[0m\u001b[1;33m)\u001b[0m\u001b[1;33m,\u001b[0m \u001b[0mignore_index\u001b[0m\u001b[1;33m)\u001b[0m\u001b[1;33m\u001b[0m\u001b[1;33m\u001b[0m\u001b[0m\n\u001b[0m\u001b[0;32m   2825\u001b[0m \u001b[1;33m\u001b[0m\u001b[0m\n\u001b[0;32m   2826\u001b[0m \u001b[1;33m\u001b[0m\u001b[0m\n",
      "\u001b[1;31mRuntimeError\u001b[0m: expected scalar type Long but found Float"
     ]
    }
   ],
   "source": [
    "# Set dL/dU, dL/dV, dL/dW to be filled with zeros\n",
    "optimizer.zero_grad()\n",
    "    \n",
    "inputs =  torch.Tensor([[2,1,1],[-1,0,-1],[1,0,0]]).view(3,3)\n",
    "# print(inputs)\n",
    "label = torch.Tensor([1,2,0])#.view(3,1)\n",
    "\n",
    "with torch.no_grad():\n",
    "    net.layer1.weight.data = torch.Tensor([[1,2,0],[1,2,3],[-1,2,1]])\n",
    "\n",
    "# tell Pytorch to start tracking all operations that will be done on \"inputs\"\n",
    "inputs.requires_grad_()\n",
    "\n",
    "\n",
    "# forward the minibatch through the net  \n",
    "scores=net( inputs ) \n",
    "print(scores)\n",
    "\n",
    "# Compute the average of the losses of the data points in the minibatch\n",
    "loss = criterion( scores , label) \n",
    "\n",
    "# backward pass to compute dL/dU, dL/dV and dL/dW    \n",
    "loss.backward()\n",
    "\n",
    "# do one step of stochastic gradient descent: U=U-lr(dL/dU), V=V-lr(dL/dU), ...\n",
    "optimizer.step()"
   ]
  },
  {
   "cell_type": "code",
   "execution_count": null,
   "metadata": {},
   "outputs": [],
   "source": []
  },
  {
   "cell_type": "code",
   "execution_count": null,
   "metadata": {},
   "outputs": [],
   "source": []
  },
  {
   "cell_type": "code",
   "execution_count": null,
   "metadata": {},
   "outputs": [],
   "source": []
  },
  {
   "cell_type": "markdown",
   "metadata": {},
   "source": [
    "# Convolution dimension calculator\n",
    "\n",
    "## https://madebyollin.github.io/convnet-calculator/\n",
    "\n",
    "* "
   ]
  },
  {
   "cell_type": "code",
   "execution_count": 1,
   "metadata": {},
   "outputs": [],
   "source": [
    "import matplotlib.pyplot as plt\n",
    "import numpy as np\n",
    "import seaborn as sns\n",
    "\n",
    "# Initialize parameters\n",
    "def initialize_parameters(layers_dims):\n",
    "    np.random.seed(1)               \n",
    "    parameters = {}\n",
    "    L = len(layers_dims)            \n",
    "\n",
    "    for l in range(1, L):           \n",
    "        parameters[\"W\" + str(l)] = np.random.randn(\n",
    "            layers_dims[l], layers_dims[l - 1]) * 0.01\n",
    "        parameters[\"b\" + str(l)] = np.zeros((layers_dims[l], 1))\n",
    "\n",
    "        assert parameters[\"W\" + str(l)].shape == (\n",
    "            layers_dims[l], layers_dims[l - 1])\n",
    "        assert parameters[\"b\" + str(l)].shape == (layers_dims[l], 1)\n",
    "\n",
    "    return parameters\n",
    "\n",
    "# Define activation functions that will be used in forward propagation\n",
    "def sigmoid(Z):\n",
    "    A = 1 / (1 + np.exp(-Z))\n",
    "    return A, Z\n",
    "\n",
    "\n",
    "def tanh(Z):\n",
    "    A = np.tanh(Z)\n",
    "    return A, Z\n",
    "\n",
    "\n",
    "def relu(Z):\n",
    "    A = np.maximum(0, Z)\n",
    "    return A, Z\n",
    "\n",
    "\n",
    "def leaky_relu(Z):\n",
    "    A = np.maximum(0.1 * Z, Z)\n",
    "\n",
    "    return A, Z"
   ]
  },
  {
   "cell_type": "code",
   "execution_count": 2,
   "metadata": {},
   "outputs": [
    {
     "data": {
      "image/png": "[encoded data removed]",
      "text/plain": [
       "<Figure size 864x576 with 4 Axes>"
      ]
     },
     "metadata": {
      "needs_background": "light"
     },
     "output_type": "display_data"
    }
   ],
   "source": [
    "# Plot the 4 activation functions\n",
    "z = np.linspace(-10, 10, 100)\n",
    "\n",
    "# Computes post-activation outputs\n",
    "A_sigmoid, z = sigmoid(z)\n",
    "A_tanh, z = tanh(z)\n",
    "A_relu, z = relu(z)\n",
    "A_leaky_relu, z = leaky_relu(z)\n",
    "\n",
    "# Plot sigmoid\n",
    "plt.figure(figsize=(12, 8))\n",
    "plt.subplot(2, 2, 1)\n",
    "plt.plot(z, A_sigmoid, label = \"Function\")\n",
    "plt.plot(z, A_sigmoid * (1 - A_sigmoid), label = \"Derivative\")\n",
    "plt.legend(loc = \"upper left\")\n",
    "plt.xlabel(\"z\")\n",
    "plt.ylabel(r\"$\\frac{1}{1 + e^{-z}}$\")\n",
    "plt.title(\"Sigmoid Function\", fontsize = 16)\n",
    "# Plot tanh\n",
    "plt.subplot(2, 2, 2)\n",
    "plt.plot(z, A_tanh, 'b', label = \"Function\")\n",
    "plt.plot(z, 1 - np.square(A_tanh), 'r',label = \"Derivative\")\n",
    "plt.legend(loc = \"upper left\")\n",
    "plt.xlabel(\"z\")\n",
    "plt.ylabel(r\"$\\frac{e^z - e^{-z}}{e^z + e^{-z}}$\")\n",
    "plt.title(\"Hyperbolic Tangent Function\", fontsize = 16)\n",
    "# plot relu\n",
    "plt.subplot(2, 2, 3)\n",
    "plt.plot(z, A_relu, 'g')\n",
    "plt.xlabel(\"z\")\n",
    "plt.ylabel(r\"$max\\{0, z\\}$\")\n",
    "plt.title(\"ReLU Function\", fontsize = 16)\n",
    "# plot leaky relu\n",
    "plt.subplot(2, 2, 4)\n",
    "plt.plot(z, A_leaky_relu, 'y')\n",
    "plt.xlabel(\"z\")\n",
    "plt.ylabel(r\"$max\\{0.1z, z\\}$\")\n",
    "plt.title(\"Leaky ReLU Function\", fontsize = 16)\n",
    "plt.tight_layout();"
   ]
  },
  {
   "cell_type": "markdown",
   "metadata": {},
   "source": [
    "# Feed Forward"
   ]
  },
  {
   "cell_type": "code",
   "execution_count": 3,
   "metadata": {},
   "outputs": [],
   "source": [
    "# Define helper functions that will be used in L-model forward prop\n",
    "def linear_forward(A_prev, W, b):\n",
    "    Z = np.dot(W, A_prev) + b\n",
    "    cache = (A_prev, W, b)\n",
    "\n",
    "    return Z, cache\n",
    "\n",
    "\n",
    "def linear_activation_forward(A_prev, W, b, activation_fn):\n",
    "    assert activation_fn == \"sigmoid\" or activation_fn == \"tanh\" or \\\n",
    "        activation_fn == \"relu\"\n",
    "\n",
    "    if activation_fn == \"sigmoid\":\n",
    "        Z, linear_cache = linear_forward(A_prev, W, b)\n",
    "        A, activation_cache = sigmoid(Z)\n",
    "\n",
    "    elif activation_fn == \"tanh\":\n",
    "        Z, linear_cache = linear_forward(A_prev, W, b)\n",
    "        A, activation_cache = tanh(Z)\n",
    "\n",
    "    elif activation_fn == \"relu\":\n",
    "        Z, linear_cache = linear_forward(A_prev, W, b)\n",
    "        A, activation_cache = relu(Z)\n",
    "\n",
    "    assert A.shape == (W.shape[0], A_prev.shape[1])\n",
    "\n",
    "    cache = (linear_cache, activation_cache)\n",
    "\n",
    "    return A, cache\n",
    "\n",
    "\n",
    "def L_model_forward(X, parameters, hidden_layers_activation_fn=\"relu\"):\n",
    "    A = X                           \n",
    "    caches = []                     \n",
    "    L = len(parameters) // 2        \n",
    "\n",
    "    for l in range(1, L):\n",
    "        A_prev = A\n",
    "        A, cache = linear_activation_forward(\n",
    "            A_prev, parameters[\"W\" + str(l)], parameters[\"b\" + str(l)],\n",
    "            activation_fn=hidden_layers_activation_fn)\n",
    "        caches.append(cache)\n",
    "\n",
    "    AL, cache = linear_activation_forward(\n",
    "        A, parameters[\"W\" + str(L)], parameters[\"b\" + str(L)],\n",
    "        activation_fn=\"sigmoid\")\n",
    "    caches.append(cache)\n",
    "\n",
    "    assert AL.shape == (1, X.shape[1])\n",
    "\n",
    "    return AL, caches"
   ]
  },
  {
   "cell_type": "markdown",
   "metadata": {},
   "source": [
    "# Cost"
   ]
  },
  {
   "cell_type": "code",
   "execution_count": 4,
   "metadata": {},
   "outputs": [],
   "source": [
    "# Compute cross-entropy cost\n",
    "def compute_cost(AL, y):\n",
    "    m = y.shape[1]              \n",
    "    cost = - (1 / m) * np.sum(\n",
    "        np.multiply(y, np.log(AL)) + np.multiply(1 - y, np.log(1 - AL)))\n",
    "\n",
    "    return cost"
   ]
  },
  {
   "cell_type": "markdown",
   "metadata": {},
   "source": [
    "# Back-Propagation"
   ]
  },
  {
   "cell_type": "code",
   "execution_count": 5,
   "metadata": {},
   "outputs": [],
   "source": [
    "# Define derivative of activation functions w.r.t z that will be used in back-propagation\n",
    "def sigmoid_gradient(dA, Z):\n",
    "    A, Z = sigmoid(Z)\n",
    "    dZ = dA * A * (1 - A)\n",
    "\n",
    "    return dZ\n",
    "\n",
    "\n",
    "def tanh_gradient(dA, Z):\n",
    "    A, Z = tanh(Z)\n",
    "    dZ = dA * (1 - np.square(A))\n",
    "\n",
    "    return dZ\n",
    "\n",
    "\n",
    "def relu_gradient(dA, Z):\n",
    "    A, Z = relu(Z)\n",
    "    dZ = np.multiply(dA, np.int64(A > 0))\n",
    "\n",
    "    return dZ\n",
    "\n",
    "\n",
    "# define helper functions that will be used in L-model back-prop\n",
    "def linear_backword(dZ, cache):\n",
    "    A_prev, W, b = cache\n",
    "    m = A_prev.shape[1]\n",
    "\n",
    "    dW = (1 / m) * np.dot(dZ, A_prev.T)\n",
    "    db = (1 / m) * np.sum(dZ, axis=1, keepdims=True)\n",
    "    dA_prev = np.dot(W.T, dZ)\n",
    "\n",
    "    assert dA_prev.shape == A_prev.shape\n",
    "    assert dW.shape == W.shape\n",
    "    assert db.shape == b.shape\n",
    "\n",
    "    return dA_prev, dW, db\n",
    "\n",
    "\n",
    "def linear_activation_backward(dA, cache, activation_fn):\n",
    "    linear_cache, activation_cache = cache\n",
    "\n",
    "    if activation_fn == \"sigmoid\":\n",
    "        dZ = sigmoid_gradient(dA, activation_cache)\n",
    "        dA_prev, dW, db = linear_backword(dZ, linear_cache)\n",
    "\n",
    "    elif activation_fn == \"tanh\":\n",
    "        dZ = tanh_gradient(dA, activation_cache)\n",
    "        dA_prev, dW, db = linear_backword(dZ, linear_cache)\n",
    "\n",
    "    elif activation_fn == \"relu\":\n",
    "        dZ = relu_gradient(dA, activation_cache)\n",
    "        dA_prev, dW, db = linear_backword(dZ, linear_cache)\n",
    "\n",
    "    return dA_prev, dW, db\n",
    "\n",
    "\n",
    "def L_model_backward(AL, y, caches, hidden_layers_activation_fn=\"relu\"):\n",
    "    y = y.reshape(AL.shape)\n",
    "    L = len(caches)\n",
    "    grads = {}\n",
    "\n",
    "    dAL = np.divide(AL - y, np.multiply(AL, 1 - AL))\n",
    "\n",
    "    grads[\"dA\" + str(L - 1)], grads[\"dW\" + str(L)], grads[\n",
    "        \"db\" + str(L)] = linear_activation_backward(\n",
    "            dAL, caches[L - 1], \"sigmoid\")\n",
    "\n",
    "    for l in range(L - 1, 0, -1):\n",
    "        current_cache = caches[l - 1]\n",
    "        grads[\"dA\" + str(l - 1)], grads[\"dW\" + str(l)], grads[\n",
    "            \"db\" + str(l)] = linear_activation_backward(\n",
    "                grads[\"dA\" + str(l)], current_cache,\n",
    "                hidden_layers_activation_fn)\n",
    "\n",
    "    return grads\n",
    "\n",
    "\n",
    "# define the function to update both weight matrices and bias vectors\n",
    "def update_parameters(parameters, grads, learning_rate):\n",
    "    L = len(parameters) // 2\n",
    "\n",
    "    for l in range(1, L + 1):\n",
    "        parameters[\"W\" + str(l)] = parameters[\n",
    "            \"W\" + str(l)] - learning_rate * grads[\"dW\" + str(l)]\n",
    "        parameters[\"b\" + str(l)] = parameters[\n",
    "            \"b\" + str(l)] - learning_rate * grads[\"db\" + str(l)]\n",
    "\n",
    "    return parameters"
   ]
  },
  {
   "cell_type": "code",
   "execution_count": null,
   "metadata": {},
   "outputs": [],
   "source": []
  }
 ],
 "metadata": {
  "interpreter": {
   "hash": "188299b107256fe873ab79b6089594fb9be85d55d578db9419dca9181f4278ba"
  },
  "kernelspec": {
   "display_name": "Python 3.7.10 64-bit ('deeplearn_course': conda)",
   "name": "python3"
  },
  "language_info": {
   "codemirror_mode": {
    "name": "ipython",
    "version": 3
   },
   "file_extension": ".py",
   "mimetype": "text/x-python",
   "name": "python",
   "nbconvert_exporter": "python",
   "pygments_lexer": "ipython3",
   "version": "3.7.10"
  },
  "orig_nbformat": 4
 },
 "nbformat": 4,
 "nbformat_minor": 2
}
