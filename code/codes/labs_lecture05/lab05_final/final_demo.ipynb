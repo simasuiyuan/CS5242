{
 "cells": [
  {
   "cell_type": "markdown",
   "metadata": {},
   "source": [
    "# Lab 05 : Final code -- demo"
   ]
  },
  {
   "cell_type": "code",
   "execution_count": null,
   "metadata": {},
   "outputs": [],
   "source": [
    "# For Google Colaboratory\n",
    "import sys, os\n",
    "if 'google.colab' in sys.modules:\n",
    "    # mount google drive\n",
    "    from google.colab import drive\n",
    "    drive.mount('/content/gdrive')\n",
    "    # find automatically the path of the folder containing \"file_name\" :\n",
    "    file_name = 'final_demo.ipynb'\n",
    "    import subprocess\n",
    "    path_to_file = subprocess.check_output('find . -type f -name ' + str(file_name), shell=True).decode(\"utf-8\")\n",
    "    path_to_file = path_to_file.replace(file_name,\"\").replace('\\n',\"\")\n",
    "    # if previous search failed or too long, comment the previous line and simply write down manually the path below :\n",
    "    #path_to_file = '/content/gdrive/My Drive/CS5242_2021_codes/codes/labs_lecture05/lab05_final'\n",
    "    print(path_to_file)\n",
    "    # change current path to the folder containing \"file_name\"\n",
    "    os.chdir(path_to_file)\n",
    "    !pwd"
   ]
  },
  {
   "cell_type": "code",
   "execution_count": 1,
   "metadata": {},
   "outputs": [],
   "source": [
    "import torch\n",
    "import torch.nn as nn\n",
    "import torch.nn.functional as F\n",
    "import torch.optim as optim\n",
    "from random import randint\n",
    "import time\n",
    "import utils"
   ]
  },
  {
   "cell_type": "markdown",
   "metadata": {},
   "source": [
    "### Download the data"
   ]
  },
  {
   "cell_type": "code",
   "execution_count": 2,
   "metadata": {},
   "outputs": [],
   "source": [
    "from utils import check_mnist_dataset_exists\n",
    "data_path=check_mnist_dataset_exists()\n",
    "\n",
    "train_data=torch.load(data_path+'mnist/train_data.pt')\n",
    "train_label=torch.load(data_path+'mnist/train_label.pt')\n",
    "test_data=torch.load(data_path+'mnist/test_data.pt')\n",
    "test_label=torch.load(data_path+'mnist/test_label.pt')"
   ]
  },
  {
   "cell_type": "markdown",
   "metadata": {},
   "source": [
    "### Make a one layer net class. "
   ]
  },
  {
   "cell_type": "code",
   "execution_count": 3,
   "metadata": {},
   "outputs": [],
   "source": [
    "class one_layer_net(nn.Module):\n",
    "\n",
    "    def __init__(self, input_size, output_size):\n",
    "        super(one_layer_net , self).__init__()\n",
    "        self.linear_layer = nn.Linear( input_size, output_size , bias=False)\n",
    "        \n",
    "    def forward(self, x):\n",
    "        scores = self.linear_layer(x)\n",
    "        return scores"
   ]
  },
  {
   "cell_type": "markdown",
   "metadata": {},
   "source": [
    "### Build the net"
   ]
  },
  {
   "cell_type": "code",
   "execution_count": 4,
   "metadata": {},
   "outputs": [
    {
     "name": "stdout",
     "output_type": "stream",
     "text": [
      "one_layer_net(\n",
      "  (linear_layer): Linear(in_features=784, out_features=10, bias=False)\n",
      ")\n",
      "There are 7840 (0.01 million) parameters in this neural network\n"
     ]
    }
   ],
   "source": [
    "net=one_layer_net(784,10)\n",
    "\n",
    "print(net)\n",
    "utils.display_num_param(net)"
   ]
  },
  {
   "cell_type": "markdown",
   "metadata": {},
   "source": [
    "### Choose the criterion, batchsize"
   ]
  },
  {
   "cell_type": "code",
   "execution_count": 5,
   "metadata": {},
   "outputs": [],
   "source": [
    "criterion = nn.CrossEntropyLoss()\n",
    "\n",
    "bs=200"
   ]
  },
  {
   "cell_type": "markdown",
   "metadata": {},
   "source": [
    "### Evaluate on test set"
   ]
  },
  {
   "cell_type": "code",
   "execution_count": 6,
   "metadata": {},
   "outputs": [],
   "source": [
    "def eval_on_test_set():\n",
    "\n",
    "    running_error=0\n",
    "    num_batches=0\n",
    "\n",
    "    for i in range(0,10000,bs):\n",
    "\n",
    "        minibatch_data =  test_data[i:i+bs]\n",
    "        minibatch_label= test_label[i:i+bs]\n",
    "\n",
    "        inputs = minibatch_data.view(bs,784)\n",
    "\n",
    "        scores=net( inputs ) \n",
    "\n",
    "        error = utils.get_error( scores , minibatch_label)\n",
    "\n",
    "        running_error += error.item()\n",
    "\n",
    "        num_batches+=1\n",
    "\n",
    "\n",
    "    total_error = running_error/num_batches\n",
    "    print( 'test error  = ', total_error*100 ,'percent')"
   ]
  },
  {
   "cell_type": "markdown",
   "metadata": {},
   "source": [
    "### Training loop"
   ]
  },
  {
   "cell_type": "code",
   "execution_count": 15,
   "metadata": {},
   "outputs": [
    {
     "name": "stdout",
     "output_type": "stream",
     "text": [
      " \n",
      "epoch= 0  time= 0.34787487983703613  loss= 0.3070762586593628  error= 8.494999806086222 percent lr= 0.05\n",
      "test error  =  8.089999675750732 percent\n",
      " \n",
      "epoch= 10  time= 3.817619800567627  loss= 0.29530703042944273  error= 8.221666514873505 percent lr= 0.05\n",
      "test error  =  8.069999814033508 percent\n",
      " \n",
      "epoch= 20  time= 7.351014137268066  loss= 0.28775418842832245  error= 7.981666366259257 percent lr= 0.03333333333333333\n",
      "test error  =  7.9100000858306885 percent\n",
      " \n",
      "epoch= 30  time= 10.800302982330322  loss= 0.28391196578741074  error= 7.824999849001567 percent lr= 0.022222222222222223\n",
      "test error  =  7.929999828338623 percent\n",
      " \n",
      "epoch= 40  time= 14.257901906967163  loss= 0.2818290078639984  error= 7.813333173592886 percent lr= 0.014814814814814815\n",
      "test error  =  7.8999998569488525 percent\n",
      " \n",
      "epoch= 50  time= 17.828938007354736  loss= 0.2804780114690463  error= 7.7916664481163025 percent lr= 0.009876543209876543\n",
      "test error  =  7.859999895095824 percent\n",
      " \n",
      "epoch= 60  time= 21.317944049835205  loss= 0.27964981605609257  error= 7.746666391690573 percent lr= 0.006584362139917695\n",
      "test error  =  7.870000004768371 percent\n",
      " \n",
      "epoch= 70  time= 24.79914093017578  loss= 0.27910498827695845  error= 7.7116664846738185 percent lr= 0.0043895747599451305\n",
      "test error  =  7.849999904632568 percent\n",
      " \n",
      "epoch= 80  time= 28.266754865646362  loss= 0.27875909000635146  error= 7.714999834696452 percent lr= 0.0029263831732967535\n",
      "test error  =  7.8399999141693115 percent\n",
      " \n",
      "epoch= 90  time= 31.78239607810974  loss= 0.27851970568299295  error= 7.701666434605917 percent lr= 0.001950922115531169\n",
      "test error  =  7.819999933242798 percent\n",
      " \n",
      "epoch= 100  time= 35.298550844192505  loss= 0.27836555033922195  error= 7.693333347638448 percent lr= 0.001300614743687446\n",
      "test error  =  7.819999933242798 percent\n",
      " \n",
      "epoch= 110  time= 38.87474703788757  loss= 0.27826417272289594  error= 7.691666404406229 percent lr= 0.0008670764957916306\n",
      "test error  =  7.809999942779541 percent\n",
      " \n",
      "epoch= 120  time= 42.369356870651245  loss= 0.2781956415871779  error= 7.686666389306386 percent lr= 0.0005780509971944203\n",
      "test error  =  7.809999942779541 percent\n",
      " \n",
      "epoch= 130  time= 45.76534390449524  loss= 0.2781507413834333  error= 7.686666429042815 percent lr= 0.0003853673314629469\n",
      "test error  =  7.809999942779541 percent\n",
      " \n",
      "epoch= 140  time= 49.18046689033508  loss= 0.27812071174383163  error= 7.684999744097391 percent lr= 0.00025691155430863124\n",
      "test error  =  7.809999942779541 percent\n",
      " \n",
      "epoch= 150  time= 52.59540390968323  loss= 0.27810078700383506  error= 7.684999704360962 percent lr= 0.0001712743695390875\n",
      "test error  =  7.809999942779541 percent\n",
      " \n",
      "epoch= 160  time= 56.23226308822632  loss= 0.27808750366171203  error= 7.683333198229472 percent lr= 0.00011418291302605833\n",
      "test error  =  7.809999942779541 percent\n",
      " \n",
      "epoch= 170  time= 59.718302965164185  loss= 0.27807872359951336  error= 7.683333098888396 percent lr= 7.612194201737223e-05\n",
      "test error  =  7.809999942779541 percent\n",
      " \n",
      "epoch= 180  time= 63.184144020080566  loss= 0.27807294219732287  error= 7.683333178361257 percent lr= 5.074796134491482e-05\n",
      "test error  =  7.809999942779541 percent\n",
      " \n",
      "epoch= 190  time= 66.68108987808228  loss= 0.2780691300332546  error= 7.683333098888396 percent lr= 3.3831974229943214e-05\n",
      "test error  =  7.809999942779541 percent\n"
     ]
    }
   ],
   "source": [
    "start = time.time()\n",
    "\n",
    "lr = 0.05 # initial learning rate\n",
    "\n",
    "for epoch in range(200):\n",
    "    \n",
    "    # learning rate strategy : divide the learning rate by 1.5 every 10 epochs\n",
    "    if epoch%10==0 and epoch>10: \n",
    "        lr = lr / 1.5\n",
    "    \n",
    "    # create a new optimizer at the beginning of each epoch: give the current learning rate.   \n",
    "    optimizer=torch.optim.SGD( net.parameters() , lr=lr )\n",
    "        \n",
    "    running_loss=0\n",
    "    running_error=0\n",
    "    num_batches=0\n",
    "    \n",
    "    shuffled_indices=torch.randperm(60000)\n",
    " \n",
    "    for count in range(0,60000,bs):\n",
    "        \n",
    "        # forward and backward pass\n",
    "    \n",
    "        optimizer.zero_grad()\n",
    "        \n",
    "        indices=shuffled_indices[count:count+bs]\n",
    "        minibatch_data =  train_data[indices]\n",
    "        minibatch_label= train_label[indices]\n",
    "\n",
    "        inputs = minibatch_data.view(bs,784)\n",
    "\n",
    "        inputs.requires_grad_()\n",
    "\n",
    "        scores=net( inputs ) \n",
    "\n",
    "        loss =  criterion( scores , minibatch_label) \n",
    "        \n",
    "        loss.backward()\n",
    "\n",
    "        optimizer.step()\n",
    "        \n",
    "        \n",
    "        # compute some stats\n",
    "        \n",
    "        running_loss += loss.detach().item()\n",
    "               \n",
    "        error = utils.get_error( scores.detach() , minibatch_label)\n",
    "        running_error += error.item()\n",
    "        \n",
    "        num_batches+=1\n",
    "    \n",
    "    \n",
    "    # once the epoch is finished we divide the \"running quantities\"\n",
    "    # by the number of batches\n",
    "    \n",
    "    total_loss = running_loss/num_batches\n",
    "    total_error = running_error/num_batches\n",
    "    elapsed_time = time.time() - start\n",
    "    \n",
    "    # every 10 epoch we display the stats \n",
    "    # and compute the error rate on the test set  \n",
    "    \n",
    "    if epoch % 10 == 0 : \n",
    "    \n",
    "        print(' ')\n",
    "        \n",
    "        print('epoch=',epoch, ' time=', elapsed_time,\n",
    "              ' loss=', total_loss , ' error=', total_error*100 ,'percent lr=', lr)\n",
    "        \n",
    "        eval_on_test_set()\n",
    "               "
   ]
  },
  {
   "cell_type": "markdown",
   "metadata": {},
   "source": [
    "### Choose image at random from the test set and see how good/bad are the predictions"
   ]
  },
  {
   "cell_type": "code",
   "execution_count": 16,
   "metadata": {},
   "outputs": [
    {
     "data": {
      "image/png": "[encoded data removed]",
      "text/plain": [
       "<Figure size 432x288 with 1 Axes>"
      ]
     },
     "metadata": {},
     "output_type": "display_data"
    },
    {
     "data": {
      "image/png": "[encoded data removed]",
      "text/plain": [
       "<Figure size 640x480 with 1 Axes>"
      ]
     },
     "metadata": {},
     "output_type": "display_data"
    }
   ],
   "source": [
    "# choose a picture at random\n",
    "idx=randint(0, 10000-1)\n",
    "im=test_data[idx]\n",
    "\n",
    "# diplay the picture\n",
    "utils.show(im)\n",
    "\n",
    "# feed it to the net and display the confidence scores\n",
    "scores =  net( im.view(1,784)) \n",
    "probs= F.softmax(scores, dim=1)\n",
    "utils.show_prob_mnist(probs)"
   ]
  },
  {
   "cell_type": "code",
   "execution_count": null,
   "metadata": {},
   "outputs": [],
   "source": []
  }
 ],
 "metadata": {
  "kernelspec": {
   "display_name": "Python 3",
   "language": "python",
   "name": "python3"
  },
  "language_info": {
   "codemirror_mode": {
    "name": "ipython",
    "version": 3
   },
   "file_extension": ".py",
   "mimetype": "text/x-python",
   "name": "python",
   "nbconvert_exporter": "python",
   "pygments_lexer": "ipython3",
   "version": "3.6.10"
  }
 },
 "nbformat": 4,
 "nbformat_minor": 2
}
