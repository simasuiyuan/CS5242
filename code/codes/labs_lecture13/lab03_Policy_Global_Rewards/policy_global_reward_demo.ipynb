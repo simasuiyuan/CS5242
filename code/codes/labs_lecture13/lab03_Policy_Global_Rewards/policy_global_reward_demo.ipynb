{
 "cells": [
  {
   "cell_type": "markdown",
   "metadata": {},
   "source": [
    "# Lab 03 : Policy Network with Global Reward - demo\n"
   ]
  },
  {
   "cell_type": "code",
   "execution_count": 1,
   "metadata": {},
   "outputs": [],
   "source": [
    "\n",
    "import torch\n",
    "import torch.nn as nn\n",
    "torch.manual_seed(torch.randint(10000,())) # random seed for pythorch random generator\n",
    "\n",
    "import time\n",
    "import numpy as np\n",
    "\n",
    "import os\n",
    "import pickle\n",
    "\n",
    "import gym\n",
    "\n",
    "import matplotlib\n",
    "import matplotlib.pyplot as plt\n",
    "from IPython import display\n",
    "\n",
    "from collections import namedtuple\n",
    "import random\n",
    "from itertools import count\n"
   ]
  },
  {
   "cell_type": "markdown",
   "metadata": {},
   "source": [
    "# Dataset"
   ]
  },
  {
   "cell_type": "code",
   "execution_count": 2,
   "metadata": {},
   "outputs": [
    {
     "name": "stdout",
     "output_type": "stream",
     "text": [
      "init state: [ 0.03073904  0.00145001 -0.03088818 -0.03131252]\n",
      "t= 0 action= 1 state= [ 0.03077  0.197   -0.03151 -0.33358] reward= 1.0 done= False\n",
      "t= 1 action= 0 state= [ 0.03471  0.00234 -0.03819 -0.051  ] reward= 1.0 done= False\n",
      "t= 2 action= 0 state= [ 0.03475 -0.19221 -0.03921  0.2294 ] reward= 1.0 done= False\n",
      "t= 3 action= 0 state= [ 0.03091 -0.38675 -0.03462  0.50946] reward= 1.0 done= False\n",
      "t= 4 action= 1 state= [ 0.02318 -0.19116 -0.02443  0.20607] reward= 1.0 done= False\n",
      "t= 5 action= 1 state= [ 0.01935  0.0043  -0.02031 -0.09422] reward= 1.0 done= False\n",
      "t= 6 action= 0 state= [ 0.01944 -0.19052 -0.02219  0.19199] reward= 1.0 done= False\n",
      "t= 7 action= 1 state= [ 0.01563  0.00491 -0.01835 -0.10761] reward= 1.0 done= False\n",
      "t= 8 action= 1 state= [ 0.01573  0.20029 -0.0205  -0.40603] reward= 1.0 done= False\n",
      "t= 9 action= 1 state= [ 0.01973  0.3957  -0.02862 -0.7051 ] reward= 1.0 done= False\n",
      "t= 10 action= 1 state= [ 0.02765  0.5912  -0.04273 -1.00666] reward= 1.0 done= False\n",
      "t= 11 action= 1 state= [ 0.03947  0.78687 -0.06286 -1.31244] reward= 1.0 done= False\n",
      "t= 12 action= 1 state= [ 0.05521  0.98273 -0.08911 -1.62412] reward= 1.0 done= False\n",
      "t= 13 action= 0 state= [ 0.07486  0.78876 -0.12159 -1.36049] reward= 1.0 done= False\n",
      "t= 14 action= 1 state= [ 0.09064  0.98518 -0.1488  -1.6886 ] reward= 1.0 done= False\n",
      "t= 15 action= 1 state= [ 0.11034  1.18167 -0.18257 -2.02367] reward= 1.0 done= False\n",
      "t= 16 action= 0 state= [ 0.13397  0.98885 -0.22305 -1.79263] reward= 1.0 done= True\n"
     ]
    }
   ],
   "source": [
    "\n",
    "#Env parameters\n",
    "env_seed = 1\n",
    "render = True # display on\n",
    "render = False # display off\n",
    "\n",
    "#Initialize the environment with the same seed/initialization value\n",
    "env = gym.make('CartPole-v0')\n",
    "env.seed(env_seed)\n",
    "\n",
    "#Reset the environment\n",
    "state = env.reset() \n",
    "print('init state:',state)\n",
    "\n",
    "#Rollout one episode until it finishes \n",
    "for t in count():  \n",
    "    action = torch.LongTensor(1).random_(0,2).item() # randomly generated action=a in {0,1}\n",
    "    state, reward, done, _ = env.step(action) # receive next state=s' and reward=r\n",
    "    print('t=',t, 'action=',action, 'state=',np.array_str(state, precision=5), 'reward=',reward, 'done=',done )\n",
    "    if render:\n",
    "        env.render() # see the state\n",
    "    if done:\n",
    "        break\n"
   ]
  },
  {
   "cell_type": "markdown",
   "metadata": {},
   "source": [
    "# Define the policy network"
   ]
  },
  {
   "cell_type": "code",
   "execution_count": 3,
   "metadata": {},
   "outputs": [
    {
     "name": "stdout",
     "output_type": "stream",
     "text": [
      "Policy_NN(\n",
      "  (fc1): Linear(in_features=4, out_features=128, bias=True)\n",
      "  (fc2): Linear(in_features=128, out_features=2, bias=True)\n",
      ")\n",
      "Policy_NN(\n",
      "  (fc1): Linear(in_features=4, out_features=128, bias=True)\n",
      "  (fc2): Linear(in_features=128, out_features=2, bias=True)\n",
      ")\n",
      "batch_episode_lengths: [11, 18, 15]\n"
     ]
    }
   ],
   "source": [
    "\n",
    "# class of policy network\n",
    "class Policy_NN(nn.Module): \n",
    "    \n",
    "    def __init__(self, net_parameters):\n",
    "        super(Policy_NN, self).__init__()\n",
    "        input_dim = net_parameters['input_dim']\n",
    "        hidden_dim = net_parameters['hidden_dim']\n",
    "        output_dim = net_parameters['output_dim']\n",
    "        self.fc1 = nn.Linear(input_dim, hidden_dim)\n",
    "        self.fc2 = nn.Linear(hidden_dim, output_dim)\n",
    "\n",
    "    def forward(self, x):\n",
    "        x = torch.relu(self.fc1(x))\n",
    "        actions_score = self.fc2(x)\n",
    "        actions_prob = torch.softmax(actions_score, dim=1)\n",
    "        return actions_prob\n",
    "    \n",
    "    def select_action(self, state): # select action w/ policy network\n",
    "        probs = self.forward(state) # probability of action a in state s\n",
    "        bernoulli_sampling = torch.distributions.Categorical(probs) \n",
    "        action = bernoulli_sampling.sample() # sample action a with Bernoulli sampling\n",
    "        log_prob = bernoulli_sampling.log_prob(action) # compute log prob of selected action\n",
    "        action = action.item()\n",
    "        return action, log_prob\n",
    "    \n",
    "    def loss(self, batch_rewards, batch_log_probs, batch_rewards_baseline):\n",
    "        nb_episodes_per_batch = len(batch_rewards)\n",
    "        batch_episode_rewards = torch.Tensor(batch_rewards)\n",
    "        batch_episode_rewards_baseline = torch.Tensor(batch_rewards_baseline)\n",
    "        batch_episode_rewards -= batch_episode_rewards_baseline # compare current model w.r.t. baseline model\n",
    "        batch_policy_losses = []\n",
    "        for episode in range(nb_episodes_per_batch):\n",
    "            episode_reward = batch_episode_rewards[episode]\n",
    "            episode_log_probs = torch.stack(batch_log_probs[episode])\n",
    "            policy_loss = - episode_log_probs.sum() * episode_reward\n",
    "            batch_policy_losses.append(policy_loss)\n",
    "        loss = torch.stack(batch_policy_losses).mean()\n",
    "        return loss\n",
    "        \n",
    "\n",
    "        \n",
    "# class of rollout episodes\n",
    "class Rollout_Episodes():\n",
    "    \n",
    "    def __init__(self):\n",
    "        super(Rollout_Episodes, self).__init__()\n",
    "        \n",
    "    def rollout_batch_episodes(self, env, opt_parameters, policy_net):\n",
    "        # storage structure of all episodes (w/ different lengths):\n",
    "        #   batch_rewards =         [    - ,       -      , ...,    -   ]\n",
    "        #   batch_log_probs =       [ [- - -] , [- - - -] , ... , [- -] ]\n",
    "        #   batch_episode_lengths = [    - ,       -      , ...,    -   ]\n",
    "        nb_episodes_per_batch = opt_parameters['nb_episodes_per_batch']\n",
    "        env_seeds = opt_parameters['env_seed']\n",
    "        batch_rewards = []\n",
    "        batch_log_probs = []\n",
    "        batch_episode_lengths = []\n",
    "        for episode in range(nb_episodes_per_batch):\n",
    "            rewards = []\n",
    "            log_probs = []\n",
    "            env.seed(env_seeds[episode].item()) # start with random seed\n",
    "            state = env.reset() # reset environment\n",
    "            for t in range(1000): # rollout one episode\n",
    "                state_pytorch = torch.from_numpy(state).float().unsqueeze(0) # state=s\n",
    "                action, log_prob = policy_net.select_action(state_pytorch) # select action=a from state=s\n",
    "                state, reward, done, _ = env.step(action) # receive next state=s' and reward=r\n",
    "                rewards.append(reward)\n",
    "                log_probs.append(log_prob)\n",
    "                if done:\n",
    "                    batch_episode_lengths.append(t)\n",
    "                    batch_rewards.append(t)\n",
    "                    batch_log_probs.append(log_probs)\n",
    "                    break\n",
    "        return batch_rewards, batch_log_probs, batch_episode_lengths\n",
    "\n",
    "        \n",
    "    \n",
    "# network parameters\n",
    "net_parameters = {}\n",
    "net_parameters['input_dim'] = 4\n",
    "net_parameters['hidden_dim'] = 128\n",
    "net_parameters['output_dim'] = 2\n",
    "\n",
    "# instantiate network\n",
    "policy_net = Policy_NN(net_parameters)\n",
    "print(policy_net)\n",
    "baseline_policy_net = Policy_NN(net_parameters)\n",
    "baseline_policy_net.load_state_dict(policy_net.state_dict())\n",
    "baseline_policy_net = baseline_policy_net.eval()\n",
    "print(baseline_policy_net)\n",
    "\n",
    "\n",
    "# instantiate rollout\n",
    "rollout_policy_net = Rollout_Episodes()\n",
    "rollout_baseline_policy_net = Rollout_Episodes()\n",
    "\n",
    "# optimization parameters\n",
    "opt_parameters = {}\n",
    "opt_parameters['nb_episodes_per_batch'] = 3\n",
    "opt_parameters['env_seed'] = torch.LongTensor(opt_parameters['nb_episodes_per_batch']).random_(1,10000)\n",
    "\n",
    "env = gym.make('CartPole-v0')\n",
    "\n",
    "batch_rewards, batch_log_probs, batch_episode_lengths = rollout_policy_net.rollout_batch_episodes(env, opt_parameters, policy_net)\n",
    "#print('batch_rewards:',batch_rewards)\n",
    "#print('batch_log_probs:',batch_log_probs)\n",
    "print('batch_episode_lengths:',batch_episode_lengths)\n"
   ]
  },
  {
   "cell_type": "markdown",
   "metadata": {},
   "source": [
    "# Test forward pass"
   ]
  },
  {
   "cell_type": "code",
   "execution_count": 4,
   "metadata": {},
   "outputs": [
    {
     "name": "stdout",
     "output_type": "stream",
     "text": [
      "batch_episode_lengths: [17, 19, 9]\n",
      "batch_episode_lengths: [12, 28, 16]\n"
     ]
    }
   ],
   "source": [
    "\n",
    "# optimization parameters\n",
    "opt_parameters = {}\n",
    "opt_parameters['lr'] = 0.001\n",
    "opt_parameters['nb_episodes_per_batch'] = 3\n",
    "opt_parameters['nb_batches_per_epoch'] = 10\n",
    "opt_parameters['env_seed'] = torch.LongTensor(opt_parameters['nb_episodes_per_batch']).random_(1,10000)\n",
    "opt_parameters['gamma'] = 0.99\n",
    "\n",
    "batch_rewards, batch_log_probs, batch_episode_lengths = rollout_policy_net.rollout_batch_episodes(env, opt_parameters, policy_net)\n",
    "print('batch_episode_lengths:',batch_episode_lengths)\n",
    "\n",
    "batch_rewards_baseline, batch_log_probs_baseline, batch_episode_lengths_baseline = rollout_baseline_policy_net.rollout_batch_episodes(env, opt_parameters, policy_net)\n",
    "print('batch_episode_lengths:',batch_episode_lengths_baseline)\n"
   ]
  },
  {
   "cell_type": "markdown",
   "metadata": {},
   "source": [
    "# Test backward pass"
   ]
  },
  {
   "cell_type": "code",
   "execution_count": 5,
   "metadata": {},
   "outputs": [
    {
     "name": "stdout",
     "output_type": "stream",
     "text": [
      "loss: tensor(-35.9107, grad_fn=<MeanBackward0>)\n"
     ]
    }
   ],
   "source": [
    "\n",
    "# Loss\n",
    "loss = policy_net.loss(batch_rewards, batch_log_probs, batch_rewards_baseline)\n",
    "print('loss:',loss)\n",
    "\n",
    "# Backward pass\n",
    "lr = opt_parameters['lr']\n",
    "optimizer = torch.optim.Adam(policy_net.parameters(), lr=lr)\n",
    "optimizer.zero_grad()\n",
    "loss.backward()\n",
    "optimizer.step()\n"
   ]
  },
  {
   "cell_type": "markdown",
   "metadata": {},
   "source": [
    "# Train one epoch"
   ]
  },
  {
   "cell_type": "code",
   "execution_count": 6,
   "metadata": {},
   "outputs": [],
   "source": [
    "\n",
    "def train_one_epoch(env, policy_net, baseline_policy_net, opt_parameters):\n",
    "    \"\"\"\n",
    "    train one epoch\n",
    "    \"\"\"    \n",
    "    policy_net.train()\n",
    "    baseline_policy_net.eval()\n",
    "    rollout_policy = Rollout_Episodes()\n",
    "    rollout_baseline_policy = Rollout_Episodes()\n",
    "    epoch_loss = 0\n",
    "    nb_data = 0\n",
    "    epoch_episode_length = 0\n",
    "    epoch_episode_lengths = []\n",
    "    nb_batches_per_epoch = opt_parameters['nb_batches_per_epoch']\n",
    "    for iter in range(nb_batches_per_epoch):\n",
    "        opt_parameters['env_seed'] = torch.LongTensor(opt_parameters['nb_episodes_per_batch']).random_(1,10000)\n",
    "        batch_rewards, batch_log_probs, batch_episode_lengths = \\\n",
    "            rollout_policy.rollout_batch_episodes(env, opt_parameters, policy_net)\n",
    "        batch_rewards_baseline, batch_log_probs_baseline, batch_episode_lengths_baseline = \\\n",
    "            rollout_baseline_policy.rollout_batch_episodes(env, opt_parameters, baseline_policy_net)\n",
    "        loss = policy_net.loss(batch_rewards, batch_log_probs, batch_rewards_baseline)\n",
    "        optimizer.zero_grad()\n",
    "        loss.backward()\n",
    "        optimizer.step()\n",
    "        epoch_loss += loss.detach().item()\n",
    "        nb_data += len(batch_episode_lengths)\n",
    "        epoch_episode_length += torch.tensor(batch_episode_lengths).float().sum()\n",
    "        epoch_episode_lengths.append(epoch_episode_length)\n",
    "    epoch_loss /= nb_data\n",
    "    epoch_episode_length /= nb_data\n",
    "    return epoch_loss, epoch_episode_length, epoch_episode_lengths\n",
    "\n"
   ]
  },
  {
   "cell_type": "markdown",
   "metadata": {},
   "source": [
    "# Train NN"
   ]
  },
  {
   "cell_type": "code",
   "execution_count": 7,
   "metadata": {},
   "outputs": [
    {
     "name": "stdout",
     "output_type": "stream",
     "text": [
      "UPDATE BASELINE - epoch: 48\n",
      "Training done.\n",
      "Last episode length is 390.6000061035156, epoch is 48\n"
     ]
    }
   ],
   "source": [
    "\n",
    "# network parameters\n",
    "net_parameters = {}\n",
    "net_parameters['input_dim'] = 4\n",
    "net_parameters['hidden_dim'] = 256\n",
    "net_parameters['output_dim'] = 2\n",
    "\n",
    "# instantiate network\n",
    "policy_net = Policy_NN(net_parameters)\n",
    "print(policy_net)\n",
    "baseline_policy_net = Policy_NN(net_parameters)\n",
    "baseline_policy_net = baseline_policy_net.eval()\n",
    "print(baseline_policy_net)\n",
    "\n",
    "# optimization parameters\n",
    "opt_parameters = {}\n",
    "opt_parameters['lr'] = 0.0005\n",
    "opt_parameters['nb_episodes_per_batch'] = 5\n",
    "opt_parameters['nb_batches_per_epoch'] = 10\n",
    "\n",
    "optimizer = torch.optim.Adam(policy_net.parameters(), lr=opt_parameters['lr'])\n",
    "\n",
    "# select maximum episode length to learn\n",
    "env = gym.make('CartPole-v0')\n",
    "env._max_episode_steps = 400 # 200 400\n",
    "env.spec.reward_threshold = 0.975* env._max_episode_steps\n",
    "print('env._max_episode_steps',env._max_episode_steps)\n",
    "\n",
    "# train loop\n",
    "all_epoch_lengths = []\n",
    "start = time.time()\n",
    "for epoch in range(500): \n",
    "    \n",
    "    # train one epoch\n",
    "    epoch_train_loss, epoch_episode_length, epoch_episode_lengths = \\\n",
    "        train_one_epoch(env, policy_net, baseline_policy_net, opt_parameters)\n",
    "\n",
    "    # update baseline if current policy better\n",
    "    if epoch>0 and (not epoch%2):\n",
    "        opt_parameters['env_seed'] = torch.LongTensor(10).random_(1,10000)\n",
    "        _, _, batch_episode_lengths = Rollout_Episodes().rollout_batch_episodes(env, opt_parameters, policy_net)\n",
    "        _, _, batch_episode_lengths_baseline = Rollout_Episodes().rollout_batch_episodes(env, opt_parameters, baseline_policy_net)\n",
    "        if torch.Tensor(batch_episode_lengths).mean() > torch.Tensor(batch_episode_lengths_baseline).mean():\n",
    "            print('UPDATE BASELINE - epoch:',epoch)\n",
    "            baseline_policy_net.load_state_dict(policy_net.state_dict())\n",
    "        else:\n",
    "            print('NO UPDATE BASELINE - epoch:',epoch)\n",
    "    \n",
    "    # stop training when reward is high\n",
    "    if epoch_episode_length > env.spec.reward_threshold:\n",
    "        print('Training done.')\n",
    "        print(\"Last episode length is {}, epoch is {}\".\n",
    "              format(epoch_episode_length, epoch))\n",
    "        break\n",
    "\n",
    "    # print intermediate info\n",
    "    if not epoch%1:\n",
    "        print('Epoch: {}, time: {:.4f}, train_loss: {:.4f}, episode_length: {:.4f}'.format(epoch, time.time()-start, epoch_train_loss, epoch_episode_length))\n",
    "        print('           policy net eval: {:.4f}, baseline policy net eval: {:.4f}'.format(torch.Tensor(batch_episode_lengths).mean().item(), torch.Tensor(batch_episode_lengths_baseline).mean().item() ))\n",
    "      \n",
    "    # plot all epochs\n",
    "    all_epoch_lengths.append(epoch_episode_length)\n",
    "    if not epoch%1:\n",
    "        plt.figure(2)\n",
    "        plt.title('Training...')\n",
    "        plt.xlabel('Epochs')\n",
    "        plt.ylabel('Length of episodes batch')\n",
    "        plt.plot(torch.Tensor(all_epoch_lengths).numpy())\n",
    "        plt.pause(0.001)\n",
    "        display.clear_output(wait=True)\n"
   ]
  },
  {
   "cell_type": "code",
   "execution_count": 8,
   "metadata": {},
   "outputs": [
    {
     "name": "stdout",
     "output_type": "stream",
     "text": [
      "Last episode length is 390.6000061035156, epoch is 48\n"
     ]
    },
    {
     "data": {
      "image/png": "[encoded data removed]",
      "text/plain": [
       "<Figure size 432x288 with 1 Axes>"
      ]
     },
     "metadata": {
      "needs_background": "light"
     },
     "output_type": "display_data"
    }
   ],
   "source": [
    "# Final plot\n",
    "plt.figure(2)\n",
    "plt.title('Training...')\n",
    "plt.xlabel('Epochs')\n",
    "plt.ylabel('Length of episodes batch')\n",
    "plt.plot(torch.Tensor(all_epoch_lengths).numpy())\n",
    "print(\"Last episode length is {}, epoch is {}\".format(epoch_episode_length, epoch))\n",
    "       "
   ]
  },
  {
   "cell_type": "markdown",
   "metadata": {},
   "source": [
    "# Run it longer"
   ]
  },
  {
   "cell_type": "code",
   "execution_count": 16,
   "metadata": {},
   "outputs": [
    {
     "name": "stdout",
     "output_type": "stream",
     "text": [
      "1306\n"
     ]
    }
   ],
   "source": [
    "\n",
    "env._max_episode_steps = 5000\n",
    "\n",
    "state = env.reset() # reset environment\n",
    "for t in range(env._max_episode_steps): # rollout one episode until it finishes or stop after 200 steps\n",
    "    state_pytorch = torch.from_numpy(state).float().unsqueeze(0) # state=s\n",
    "    action, _ = policy_net.eval().select_action(state_pytorch)\n",
    "    state, reward, done, _ = env.step(action) # receive next state=s' and reward=r\n",
    "    env.render() # visualize state\n",
    "    if done:\n",
    "        print(t)\n",
    "        break\n",
    "        "
   ]
  },
  {
   "cell_type": "code",
   "execution_count": null,
   "metadata": {},
   "outputs": [],
   "source": []
  }
 ],
 "metadata": {
  "kernelspec": {
   "display_name": "Python 3",
   "language": "python",
   "name": "python3"
  },
  "language_info": {
   "codemirror_mode": {
    "name": "ipython",
    "version": 3
   },
   "file_extension": ".py",
   "mimetype": "text/x-python",
   "name": "python",
   "nbconvert_exporter": "python",
   "pygments_lexer": "ipython3",
   "version": "3.6.10"
  }
 },
 "nbformat": 4,
 "nbformat_minor": 4
}
