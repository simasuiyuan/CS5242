{
 "cells": [
  {
   "cell_type": "markdown",
   "metadata": {},
   "source": [
    "# Lab 01 : Deep Q-Learning (DQN) - demo\n"
   ]
  },
  {
   "cell_type": "code",
   "execution_count": 1,
   "metadata": {},
   "outputs": [],
   "source": [
    "\n",
    "import torch\n",
    "import torch.nn as nn\n",
    "torch.manual_seed(torch.randint(10000,())) # random seed for pythorch random generator\n",
    "\n",
    "import time\n",
    "import numpy as np\n",
    "\n",
    "import os\n",
    "import pickle\n",
    "\n",
    "import gym\n",
    "\n",
    "import matplotlib\n",
    "import matplotlib.pyplot as plt\n",
    "from IPython import display\n",
    "\n",
    "from collections import namedtuple\n",
    "import random\n",
    "from itertools import count\n"
   ]
  },
  {
   "cell_type": "markdown",
   "metadata": {},
   "source": [
    "# Dataset"
   ]
  },
  {
   "cell_type": "code",
   "execution_count": 2,
   "metadata": {},
   "outputs": [
    {
     "name": "stdout",
     "output_type": "stream",
     "text": [
      "init state: [ 0.03073904  0.00145001 -0.03088818 -0.03131252]\n",
      "t= 0 action= 1 state= [ 0.03077  0.197   -0.03151 -0.33358] reward= 1.0 done= False\n",
      "t= 1 action= 1 state= [ 0.03471  0.39256 -0.03819 -0.63603] reward= 1.0 done= False\n",
      "t= 2 action= 1 state= [ 0.04256  0.58819 -0.05091 -0.94049] reward= 1.0 done= False\n",
      "t= 3 action= 0 state= [ 0.05432  0.39379 -0.06972 -0.66423] reward= 1.0 done= False\n",
      "t= 4 action= 0 state= [ 0.0622   0.1997  -0.083   -0.39429] reward= 1.0 done= False\n",
      "t= 5 action= 0 state= [ 0.06619  0.00585 -0.09089 -0.12888] reward= 1.0 done= False\n",
      "t= 6 action= 0 state= [ 0.06631 -0.18786 -0.09346  0.1338 ] reward= 1.0 done= False\n",
      "t= 7 action= 0 state= [ 0.06255 -0.38153 -0.09079  0.39559] reward= 1.0 done= False\n",
      "t= 8 action= 1 state= [ 0.05492 -0.18524 -0.08288  0.07572] reward= 1.0 done= False\n",
      "t= 9 action= 1 state= [ 0.05122  0.01096 -0.08136 -0.24191] reward= 1.0 done= False\n",
      "t= 10 action= 0 state= [ 0.05144 -0.18291 -0.0862   0.02404] reward= 1.0 done= False\n",
      "t= 11 action= 0 state= [ 0.04778 -0.37669 -0.08572  0.28833] reward= 1.0 done= False\n",
      "t= 12 action= 0 state= [ 0.04024 -0.57049 -0.07995  0.55279] reward= 1.0 done= False\n",
      "t= 13 action= 0 state= [ 0.02883 -0.76441 -0.0689   0.81925] reward= 1.0 done= False\n",
      "t= 14 action= 1 state= [ 0.01355 -0.56841 -0.05251  0.50572] reward= 1.0 done= False\n",
      "t= 15 action= 1 state= [ 0.00218 -0.37259 -0.0424   0.19696] reward= 1.0 done= False\n",
      "t= 16 action= 0 state= [-0.00527 -0.56708 -0.03846  0.47597] reward= 1.0 done= False\n",
      "t= 17 action= 1 state= [-0.01662 -0.37144 -0.02894  0.17142] reward= 1.0 done= False\n",
      "t= 18 action= 1 state= [-0.02404 -0.17592 -0.02551 -0.13025] reward= 1.0 done= False\n",
      "t= 19 action= 0 state= [-0.02756 -0.37066 -0.02812  0.15428] reward= 1.0 done= False\n",
      "t= 20 action= 0 state= [-0.03498 -0.56537 -0.02503  0.43796] reward= 1.0 done= False\n",
      "t= 21 action= 0 state= [-0.04628 -0.76013 -0.01627  0.72265] reward= 1.0 done= False\n",
      "t= 22 action= 1 state= [-0.06149 -0.56479 -0.00182  0.42489] reward= 1.0 done= False\n",
      "t= 23 action= 1 state= [-0.07278 -0.36964  0.00668  0.13163] reward= 1.0 done= False\n",
      "t= 24 action= 0 state= [-0.08017 -0.56486  0.00931  0.42642] reward= 1.0 done= False\n",
      "t= 25 action= 0 state= [-0.09147 -0.76011  0.01784  0.72202] reward= 1.0 done= False\n",
      "t= 26 action= 0 state= [-0.10667 -0.95547  0.03228  1.02027] reward= 1.0 done= False\n",
      "t= 27 action= 0 state= [-0.12578 -1.15101  0.05269  1.32291] reward= 1.0 done= False\n",
      "t= 28 action= 1 state= [-0.1488  -0.95659  0.07914  1.04717] reward= 1.0 done= False\n",
      "t= 29 action= 1 state= [-0.16794 -0.76261  0.10009  0.78034] reward= 1.0 done= False\n",
      "t= 30 action= 1 state= [-0.18319 -0.56899  0.1157   0.52075] reward= 1.0 done= False\n",
      "t= 31 action= 1 state= [-0.19457 -0.37567  0.12611  0.26665] reward= 1.0 done= False\n",
      "t= 32 action= 1 state= [-0.20208 -0.18255  0.13144  0.01625] reward= 1.0 done= False\n",
      "t= 33 action= 1 state= [-0.20573  0.01046  0.13177 -0.23224] reward= 1.0 done= False\n",
      "t= 34 action= 1 state= [-0.20552  0.20348  0.12712 -0.48063] reward= 1.0 done= False\n",
      "t= 35 action= 0 state= [-0.20145  0.00681  0.11751 -0.15074] reward= 1.0 done= False\n",
      "t= 36 action= 0 state= [-0.20132 -0.18978  0.1145   0.17658] reward= 1.0 done= False\n",
      "t= 37 action= 0 state= [-0.20511 -0.38634  0.11803  0.50308] reward= 1.0 done= False\n",
      "t= 38 action= 1 state= [-0.21284 -0.19306  0.12809  0.2498 ] reward= 1.0 done= False\n",
      "t= 39 action= 1 state= [-2.16700e-01  2.31393e-05  1.33085e-01  1.03215e-04] reward= 1.0 done= False\n",
      "t= 40 action= 0 state= [-0.2167  -0.19673  0.13309  0.33164] reward= 1.0 done= False\n",
      "t= 41 action= 1 state= [-0.22063 -0.00373  0.13972  0.08371] reward= 1.0 done= False\n",
      "t= 42 action= 0 state= [-0.22071 -0.20055  0.14139  0.417  ] reward= 1.0 done= False\n",
      "t= 43 action= 1 state= [-0.22472 -0.00768  0.14973  0.17203] reward= 1.0 done= False\n",
      "t= 44 action= 0 state= [-0.22487 -0.2046   0.15317  0.50795] reward= 1.0 done= False\n",
      "t= 45 action= 1 state= [-0.22897 -0.01193  0.16333  0.26718] reward= 1.0 done= False\n",
      "t= 46 action= 1 state= [-0.2292   0.18053  0.16868  0.03014] reward= 1.0 done= False\n",
      "t= 47 action= 1 state= [-0.22559  0.37288  0.16928 -0.20493] reward= 1.0 done= False\n",
      "t= 48 action= 0 state= [-0.21814  0.1758   0.16518  0.136  ] reward= 1.0 done= False\n",
      "t= 49 action= 1 state= [-0.21462  0.36821  0.1679  -0.10035] reward= 1.0 done= False\n",
      "t= 50 action= 1 state= [-0.20726  0.56058  0.16589 -0.33572] reward= 1.0 done= False\n",
      "t= 51 action= 0 state= [-0.19604  0.36354  0.15918  0.00435] reward= 1.0 done= False\n",
      "t= 52 action= 1 state= [-0.18877  0.55606  0.15927 -0.23419] reward= 1.0 done= False\n",
      "t= 53 action= 0 state= [-0.17765  0.35906  0.15458  0.10419] reward= 1.0 done= False\n",
      "t= 54 action= 1 state= [-0.17047  0.55167  0.15667 -0.13601] reward= 1.0 done= False\n",
      "t= 55 action= 0 state= [-0.15944  0.35469  0.15395  0.20172] reward= 1.0 done= False\n",
      "t= 56 action= 0 state= [-0.15234  0.15774  0.15798  0.53873] reward= 1.0 done= False\n",
      "t= 57 action= 0 state= [-0.14919 -0.03921  0.16876  0.87673] reward= 1.0 done= False\n",
      "t= 58 action= 0 state= [-0.14997 -0.23617  0.18629  1.21735] reward= 1.0 done= False\n",
      "t= 59 action= 1 state= [-0.1547  -0.04387  0.21064  0.98835] reward= 1.0 done= True\n"
     ]
    }
   ],
   "source": [
    "\n",
    "#Env parameters\n",
    "env_seed = 1\n",
    "render = True # display on\n",
    "render = False # display off\n",
    "\n",
    "#Initialize the environment with the same seed/initialization value\n",
    "env = gym.make('CartPole-v0')\n",
    "env.seed(env_seed)\n",
    "\n",
    "#Reset the environment\n",
    "state = env.reset() \n",
    "print('init state:',state)\n",
    "\n",
    "#Rollout one episode until it finishes \n",
    "for t in count():  \n",
    "    action = torch.LongTensor(1).random_(0,2).item() # randomly generated action=a in {0,1}\n",
    "    state, reward, done, _ = env.step(action) # receive next state=s' and reward=r\n",
    "    print('t=',t, 'action=',action, 'state=',np.array_str(state, precision=5), 'reward=',reward, 'done=',done )\n",
    "    if render:\n",
    "        env.render() # see the state\n",
    "    if done:\n",
    "        break\n"
   ]
  },
  {
   "cell_type": "markdown",
   "metadata": {},
   "source": [
    "# Replay Memory "
   ]
  },
  {
   "cell_type": "code",
   "execution_count": 3,
   "metadata": {},
   "outputs": [],
   "source": [
    "Transition = namedtuple( 'Transition', ('state', 'action', 'next_state', 'reward', 'done') )\n",
    "\n",
    "# class of replay memory/experience \n",
    "class ReplayMemory(object):\n",
    "    \n",
    "    def __init__(self, capacity):\n",
    "        self.capacity = capacity\n",
    "        self.memory = []\n",
    "        self.position = 0\n",
    "\n",
    "    def write(self, *args): # store transitions (s, a, s', r)\n",
    "        if len(self.memory) < self.capacity:\n",
    "            self.memory.append(None)\n",
    "        self.memory[self.position] = Transition(*args)\n",
    "        self.position = (self.position + 1) % self.capacity\n",
    "\n",
    "    def read(self, batch_size): # select a random batch of transitions \n",
    "        return random.sample(self.memory, batch_size)\n",
    "\n",
    "    def __len__(self):\n",
    "        return len(self.memory) \n",
    "    "
   ]
  },
  {
   "cell_type": "code",
   "execution_count": 4,
   "metadata": {},
   "outputs": [
    {
     "name": "stdout",
     "output_type": "stream",
     "text": [
      "memory size 1\n",
      "batch_transitions [Transition(state=tensor([ 0.0273, -0.0448, -0.0430,  0.0015]), action=tensor(0), next_state=tensor([ 0.0189, -0.0040,  0.0402,  0.0275]), reward=tensor(1.), done=tensor(0))]\n"
     ]
    }
   ],
   "source": [
    "\n",
    "# Initialize the replay memory\n",
    "memory = ReplayMemory(10000) \n",
    "\n",
    "#Write/store the transition in memory       \n",
    "state = torch.FloatTensor(env.reset())\n",
    "action = torch.tensor(0).long()\n",
    "next_state = torch.FloatTensor(env.reset())\n",
    "reward = torch.tensor(1).float()\n",
    "done = torch.tensor(0).long()\n",
    "memory.write(state,action,next_state,reward,done)\n",
    "print('memory size',memory.__len__())\n",
    "\n",
    "#Read a batch of transitions (s, a, s', r) from replay memory \n",
    "batch_size = 1\n",
    "batch_transitions = memory.read(batch_size)  \n",
    "print('batch_transitions',batch_transitions)\n"
   ]
  },
  {
   "cell_type": "markdown",
   "metadata": {},
   "source": [
    "# Define the policy network"
   ]
  },
  {
   "cell_type": "code",
   "execution_count": 5,
   "metadata": {},
   "outputs": [],
   "source": [
    "\n",
    "# class of policy network\n",
    "class Q_NN(nn.Module): \n",
    "    \n",
    "    def __init__(self, net_parameters):\n",
    "        super(Q_NN, self).__init__()\n",
    "        input_dim = net_parameters['input_dim']\n",
    "        hidden_dim = net_parameters['hidden_dim']\n",
    "        output_dim = net_parameters['output_dim']\n",
    "        self.fc1 = nn.Linear(input_dim, hidden_dim, bias=True)\n",
    "        self.fc2 = nn.Linear(hidden_dim, output_dim, bias=True)\n",
    "        \n",
    "    def forward(self, x): \n",
    "        x = torch.relu(self.fc1(x))\n",
    "        Q_scores = self.fc2(x) # scores over actions \n",
    "        return Q_scores\n",
    "    \n",
    "    def select_action(self, state, rand_act_pr): # select action w/ Q network\n",
    "        Q_scores = self.forward(state) # Q(a|s) scores of action a in state s\n",
    "        coin = random.random()\n",
    "        if coin < rand_act_pr: # (state,action) exploration process parametrized by rand_act_pr\n",
    "            action = torch.randint(0,2,()).item()\n",
    "        else:\n",
    "            action = Q_scores.argmax().item()\n",
    "        return action\n",
    "    \n",
    "    def loss(self, memory, baseline_Q_net, opt_parameters):\n",
    "        batch_size = opt_parameters['batch_size']\n",
    "        gamma = opt_parameters['gamma']\n",
    "        if memory.__len__()>=batch_size: # read a batch of transitions (s,a,s',r) in replay memory \n",
    "            batch_transitions = Transition(*zip(*memory.read(batch_size)))\n",
    "        else:\n",
    "            batch_transitions = Transition(*zip(*memory.read(memory.__len__()))) \n",
    "        batch_states = torch.stack([x for x in batch_transitions.state]).float() # state=s, size=B x 4\n",
    "        batch_next_states = torch.stack([x for x in batch_transitions.next_state]).float() # next_state=s', size=B x 4\n",
    "        batch_rewards = torch.stack([x for x in batch_transitions.reward]).float() # reward=r, size=B \n",
    "        batch_actions = torch.stack([x for x in batch_transitions.action]).long() # action=a, size=B\n",
    "        batch_dones = torch.stack([x for x in batch_transitions.done]).float() # done, size=B\n",
    "        Q = self.forward(batch_states).gather(dim=1,index=batch_actions.unsqueeze(1)) # Q_W(a|s), size=B x 1\n",
    "        max_baseline_Q_net = baseline_Q_net.forward(batch_next_states).max(dim=1)[0].detach() * batch_dones \n",
    "        Q_target = batch_rewards.unsqueeze(1) + \\\n",
    "            gamma * max_baseline_Q_net.unsqueeze(1) # Q_target = r + gamma . max_a' Q_W^BL(a'|s'), size=B x 1 \n",
    "        loss = nn.MSELoss()(Q,Q_target) # MSE_Loss(error = Q_target - Q_W)\n",
    "        return loss\n",
    "    \n",
    "    \n",
    "# class of rollout episodes\n",
    "class Rollout_Episodes():\n",
    "    \n",
    "    def __init__(self):\n",
    "        super(Rollout_Episodes, self).__init__()\n",
    "        \n",
    "    def rollout_batch_episodes(self, env, memory, opt_parameters, Q_Net, write_memory=True):\n",
    "        nb_episodes_per_batch = opt_parameters['nb_episodes_per_batch']\n",
    "        env_seeds = opt_parameters['env_seed']\n",
    "        rand_act_pr = opt_parameters['rand_act_pr']\n",
    "        batch_episode_lengths = [] \n",
    "        for episode in range(nb_episodes_per_batch):\n",
    "            env.seed(env_seeds[episode].item()) # start with random seed\n",
    "            state = env.reset() # initial state\n",
    "            for t in range(1000): # rollout one episode until it finishes\n",
    "                state_pytorch = torch.from_numpy(state).float().unsqueeze(0) # state=s\n",
    "                action = Q_Net.select_action(state_pytorch, rand_act_pr) # select action=a from state=s\n",
    "                next_state, reward, done, _ = env.step(action) # receive next_state=s' and reward=r\n",
    "                done_mask = 0.0 if done else 1.0\n",
    "                if write_memory:\n",
    "                    memory.write(torch.tensor(state),torch.tensor(action),torch.tensor(next_state),\n",
    "                                 torch.tensor(reward),torch.tensor(done_mask)) \n",
    "                state = next_state\n",
    "                if done:\n",
    "                    batch_episode_lengths.append(t)\n",
    "                    break\n",
    "        return batch_episode_lengths\n",
    "    "
   ]
  },
  {
   "cell_type": "code",
   "execution_count": 6,
   "metadata": {},
   "outputs": [
    {
     "name": "stdout",
     "output_type": "stream",
     "text": [
      "Q_NN(\n",
      "  (fc1): Linear(in_features=4, out_features=128, bias=True)\n",
      "  (fc2): Linear(in_features=128, out_features=2, bias=True)\n",
      ")\n",
      "Q_NN(\n",
      "  (fc1): Linear(in_features=4, out_features=128, bias=True)\n",
      "  (fc2): Linear(in_features=128, out_features=2, bias=True)\n",
      ")\n",
      "memory size 0\n",
      "batch_episode_lengths: [8, 7, 9]\n",
      "memory size 27\n"
     ]
    }
   ],
   "source": [
    "\n",
    "# network parameters\n",
    "net_parameters = {}\n",
    "net_parameters['input_dim'] = 4\n",
    "net_parameters['hidden_dim'] = 128\n",
    "net_parameters['output_dim'] = 2\n",
    "\n",
    "# instantiate networks\n",
    "Qnet = Q_NN(net_parameters)\n",
    "print(Qnet)\n",
    "baseline_Qnet = Q_NN(net_parameters).eval() \n",
    "baseline_Qnet.load_state_dict(Qnet.state_dict()) \n",
    "print(baseline_Qnet)\n",
    "\n",
    "# instantiate rollout\n",
    "rollout_Qnet = Rollout_Episodes()\n",
    "memory = ReplayMemory(10000) \n",
    "print('memory size',memory.__len__())\n",
    "\n",
    "# optimization parameters\n",
    "opt_parameters = {}\n",
    "opt_parameters['nb_episodes_per_batch'] = 3\n",
    "opt_parameters['env_seed'] = torch.LongTensor(opt_parameters['nb_episodes_per_batch']).random_(1,10000)\n",
    "opt_parameters['rand_act_pr'] = 0.01\n",
    "\n",
    "env = gym.make('CartPole-v0')\n",
    "\n",
    "batch_episode_lengths = rollout_Qnet.rollout_batch_episodes(env, memory, opt_parameters, Qnet)\n",
    "print('batch_episode_lengths:',batch_episode_lengths)\n",
    "print('memory size',memory.__len__())\n"
   ]
  },
  {
   "cell_type": "markdown",
   "metadata": {},
   "source": [
    "# Test forward pass"
   ]
  },
  {
   "cell_type": "code",
   "execution_count": 7,
   "metadata": {},
   "outputs": [
    {
     "name": "stdout",
     "output_type": "stream",
     "text": [
      "batch_episode_lengths: [8, 7, 8]\n",
      "memory size 26\n"
     ]
    }
   ],
   "source": [
    "    \n",
    "# instantiate memory\n",
    "memory = ReplayMemory(10000) \n",
    "\n",
    "# optimization parameters\n",
    "opt_parameters = {}\n",
    "opt_parameters['lr'] = 0.001 \n",
    "opt_parameters['nb_episodes_per_batch'] = 3\n",
    "opt_parameters['nb_batches_per_epoch'] = 10\n",
    "opt_parameters['env_seed'] = torch.LongTensor(opt_parameters['nb_episodes_per_batch']).random_(1,10000)\n",
    "opt_parameters['batch_size'] = 10\n",
    "opt_parameters['gamma'] = 0.999\n",
    "opt_parameters['rand_act_pr'] = 0.01\n",
    "\n",
    "batch_episode_lengths = Rollout_Episodes().rollout_batch_episodes(env, memory, opt_parameters, Qnet)\n",
    "print('batch_episode_lengths:',batch_episode_lengths)\n",
    "print('memory size',memory.__len__())\n"
   ]
  },
  {
   "cell_type": "markdown",
   "metadata": {},
   "source": [
    "# Test backward pass"
   ]
  },
  {
   "cell_type": "code",
   "execution_count": 8,
   "metadata": {},
   "outputs": [
    {
     "name": "stdout",
     "output_type": "stream",
     "text": [
      "loss: tensor(0.9607, grad_fn=<MseLossBackward>)\n"
     ]
    }
   ],
   "source": [
    "\n",
    "# Loss\n",
    "loss = Qnet.loss(memory, baseline_Qnet, opt_parameters)\n",
    "print('loss:',loss)\n",
    "\n",
    "# Backward pass\n",
    "lr = opt_parameters['lr']\n",
    "optimizer = torch.optim.Adam(Qnet.parameters(), lr=lr)\n",
    "optimizer.zero_grad()\n",
    "loss.backward()\n",
    "optimizer.step()\n"
   ]
  },
  {
   "cell_type": "markdown",
   "metadata": {},
   "source": [
    "# Train one epoch"
   ]
  },
  {
   "cell_type": "code",
   "execution_count": 9,
   "metadata": {},
   "outputs": [],
   "source": [
    "\n",
    "def train_one_epoch(env, memory, Q_net, baseline_Q_net, opt_parameters, optimizer):\n",
    "    Q_net.train()\n",
    "    baseline_Q_net.eval()\n",
    "    rollout_Q_net = Rollout_Episodes()\n",
    "    epoch_loss = 0\n",
    "    nb_data = 0\n",
    "    epoch_episode_length = 0\n",
    "    epoch_episode_lengths = []\n",
    "    nb_batches_per_epoch = opt_parameters['nb_batches_per_epoch']\n",
    "    for iter in range(nb_batches_per_epoch):\n",
    "        opt_parameters['env_seed'] = torch.LongTensor(opt_parameters['nb_episodes_per_batch']).random_(1,10000)\n",
    "        batch_episode_lengths = rollout_Q_net.rollout_batch_episodes(env, memory, opt_parameters, Q_net)\n",
    "        loss = Q_net.loss(memory, baseline_Q_net, opt_parameters)\n",
    "        optimizer.zero_grad()\n",
    "        loss.backward()\n",
    "        optimizer.step()\n",
    "        epoch_loss += loss.detach().item() \n",
    "        nb_data += len(batch_episode_lengths)\n",
    "        epoch_episode_length += torch.tensor(batch_episode_lengths).float().sum()\n",
    "        epoch_episode_lengths.append(epoch_episode_length) \n",
    "    epoch_loss /= nb_data\n",
    "    epoch_episode_length /= nb_data\n",
    "    return epoch_loss, epoch_episode_length, epoch_episode_lengths\n",
    "\n"
   ]
  },
  {
   "cell_type": "markdown",
   "metadata": {},
   "source": [
    "# Train NN"
   ]
  },
  {
   "cell_type": "code",
   "execution_count": 10,
   "metadata": {},
   "outputs": [
    {
     "name": "stdout",
     "output_type": "stream",
     "text": [
      "NO UPDATE BASELINE - epoch: 150\n",
      "Training done.\n",
      "Last episode length is 393.0, epoch is 150, random_action_prob is 0.01\n"
     ]
    }
   ],
   "source": [
    "\n",
    "# network parameters\n",
    "net_parameters = {}\n",
    "net_parameters['input_dim'] = 4\n",
    "net_parameters['hidden_dim'] = 256\n",
    "net_parameters['output_dim'] = 2\n",
    "\n",
    "# instantiate network\n",
    "Q_net = Q_NN(net_parameters)\n",
    "baseline_Q_net = Q_NN(net_parameters).eval() \n",
    "baseline_Q_net.load_state_dict(Q_net.state_dict()) \n",
    "print(Q_net)\n",
    "print(baseline_Q_net)\n",
    "\n",
    "# instantiate memory\n",
    "memory = ReplayMemory(50000) \n",
    "\n",
    "# optimization parameters\n",
    "opt_parameters = {}\n",
    "opt_parameters['lr'] = 0.0005 \n",
    "opt_parameters['nb_episodes_per_batch'] = 1 \n",
    "opt_parameters['nb_batches_per_epoch'] = 50 \n",
    "opt_parameters['env_seed'] = torch.LongTensor(opt_parameters['nb_episodes_per_batch']).random_(1,10000)\n",
    "opt_parameters['batch_size'] = 128 \n",
    "opt_parameters['gamma'] = 0.999\n",
    "opt_parameters['baseline_update'] = 1\n",
    "init_rand_act_pr = 0.2 # starting random action prob\n",
    "opt_parameters['rand_act_pr'] = init_rand_act_pr \n",
    "opt_parameters_baseline = opt_parameters.copy()\n",
    "opt_parameters_baseline['nb_episodes_per_batch'] = 5\n",
    "opt_parameters_baseline['rand_act_pr'] = 0.0\n",
    "\n",
    "optimizer = torch.optim.Adam(Q_net.parameters(), lr=opt_parameters['lr'])\n",
    "\n",
    "# select maximum episode length to learn\n",
    "env = gym.make('CartPole-v0')\n",
    "env._max_episode_steps = 400 # 200 400\n",
    "env.spec.reward_threshold = 0.975* env._max_episode_steps\n",
    "print('env._max_episode_steps',env._max_episode_steps)\n",
    "\n",
    "# train loop\n",
    "running_length = 10\n",
    "all_epoch_lengths = []\n",
    "batch_episode_lengths_update = 0\n",
    "start = time.time()\n",
    "for epoch in range(200):\n",
    "    \n",
    "    # train one epoch\n",
    "    epoch_train_loss, epoch_episode_length, epoch_episode_lengths = \\\n",
    "        train_one_epoch(env, memory, Q_net, baseline_Q_net, opt_parameters, optimizer)\n",
    "    \n",
    "    # update random_action_prob(=lr), linear annealing from xx% to 1%  \n",
    "    opt_parameters['rand_act_pr'] = max(0.01, init_rand_act_pr - init_rand_act_pr*(epoch/float(100)))  \n",
    "        \n",
    "    # update baseline if current policy better (use greedy mode for evaluation)\n",
    "    if not epoch%opt_parameters['baseline_update']:\n",
    "        opt_parameters_baseline['env_seed'] = torch.LongTensor(opt_parameters_baseline['nb_episodes_per_batch']).random_(1,10000)\n",
    "        opt_parameters_baseline['rand_act_pr'] = opt_parameters['rand_act_pr']\n",
    "        batch_episode_lengths_update = Rollout_Episodes().rollout_batch_episodes(env, memory, opt_parameters, Q_net, False)\n",
    "        batch_episode_lengths_update_baseline = Rollout_Episodes().rollout_batch_episodes(env, memory, opt_parameters, Q_net, False)\n",
    "        if torch.Tensor(batch_episode_lengths_update).mean() > torch.Tensor(batch_episode_lengths_update_baseline).mean():\n",
    "            print('UPDATE BASELINE - epoch:',epoch)\n",
    "            baseline_Q_net.load_state_dict(Q_net.state_dict())\n",
    "        else:\n",
    "            print('NO UPDATE BASELINE - epoch:',epoch)\n",
    "              \n",
    "    # stop training when reward is high\n",
    "    if epoch_episode_length > env.spec.reward_threshold:\n",
    "        print('Training done.')\n",
    "        print(\"Last episode length is {}, epoch is {}, random_action_prob is {}\".\n",
    "              format(epoch_episode_length, epoch, opt_parameters['rand_act_pr']))\n",
    "        break\n",
    "        \n",
    "    # print intermediate info\n",
    "    if not epoch%1:\n",
    "        print('Epoch: {}, rand_act_pr: {:.4f}, time: {:.4f}, train_loss: {:.4f}, episode_length: {:.4f}'.format(epoch, opt_parameters['rand_act_pr'], time.time()-start, epoch_train_loss, epoch_episode_length))\n",
    "        print('           memory size: {}, Qnet eval: {:.4f}, Qnet baseline eval: {:.4f}'.format(memory.__len__(), torch.Tensor(batch_episode_lengths_update).mean().item(), torch.Tensor(batch_episode_lengths_update_baseline).mean().item() ))\n",
    "      \n",
    "    # plot all epochs\n",
    "    all_epoch_lengths.append(epoch_episode_length)\n",
    "    if not epoch%1:\n",
    "        plt.figure(2)\n",
    "        plt.title('Training...')\n",
    "        plt.xlabel('Epochs')\n",
    "        plt.ylabel('Length of episodes batch')\n",
    "        plt.plot(torch.Tensor(all_epoch_lengths).numpy())\n",
    "        plt.pause(0.001)\n",
    "        display.clear_output(wait=True)\n"
   ]
  },
  {
   "cell_type": "code",
   "execution_count": 11,
   "metadata": {},
   "outputs": [
    {
     "name": "stdout",
     "output_type": "stream",
     "text": [
      "Last episode length is 393.0, epoch is 150 and rand_act_pr 0.01\n"
     ]
    },
    {
     "data": {
      "image/png": "[encoded data removed]",
      "text/plain": [
       "<Figure size 432x288 with 1 Axes>"
      ]
     },
     "metadata": {
      "needs_background": "light"
     },
     "output_type": "display_data"
    }
   ],
   "source": [
    "# Final plot\n",
    "plt.figure(2)\n",
    "plt.title('Training...')\n",
    "plt.xlabel('Epochs')\n",
    "plt.ylabel('Length of episodes batch')\n",
    "plt.plot(torch.Tensor(all_epoch_lengths).numpy())\n",
    "print(\"Last episode length is {}, epoch is {} and rand_act_pr {}\".format(epoch_episode_length, epoch, opt_parameters['rand_act_pr']))\n",
    "       "
   ]
  },
  {
   "cell_type": "markdown",
   "metadata": {},
   "source": [
    "# Run it longer "
   ]
  },
  {
   "cell_type": "code",
   "execution_count": null,
   "metadata": {},
   "outputs": [],
   "source": [
    "\n",
    "env._max_episode_steps = 5000\n",
    "\n",
    "state = env.reset() # reset environment\n",
    "for t in range(env._max_episode_steps): # rollout one episode until it finishes or stop after 200 steps\n",
    "    state_pytorch = torch.from_numpy(state).float().unsqueeze(0) # state=s\n",
    "    action = Q_net.eval().select_action(state_pytorch, 0.0) # select action=a from state=s\n",
    "    state, reward, done, _ = env.step(action) # receive next state=s' and reward=r\n",
    "    env.render() # visualize state\n",
    "    if done:\n",
    "        print(t)\n",
    "        break\n",
    "        "
   ]
  },
  {
   "cell_type": "code",
   "execution_count": null,
   "metadata": {},
   "outputs": [],
   "source": []
  }
 ],
 "metadata": {
  "kernelspec": {
   "display_name": "Python 3",
   "language": "python",
   "name": "python3"
  },
  "language_info": {
   "codemirror_mode": {
    "name": "ipython",
    "version": 3
   },
   "file_extension": ".py",
   "mimetype": "text/x-python",
   "name": "python",
   "nbconvert_exporter": "python",
   "pygments_lexer": "ipython3",
   "version": "3.6.10"
  }
 },
 "nbformat": 4,
 "nbformat_minor": 4
}
