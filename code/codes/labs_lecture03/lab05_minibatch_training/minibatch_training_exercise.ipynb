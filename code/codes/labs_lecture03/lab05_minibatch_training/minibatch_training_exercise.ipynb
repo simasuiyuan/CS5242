{
 "cells": [
  {
   "cell_type": "markdown",
   "source": [
    "# Lab 05 : Train with mini-batches -- exercise"
   ],
   "metadata": {}
  },
  {
   "cell_type": "code",
   "execution_count": 1,
   "source": [
    "# For Google Colaboratory\r\n",
    "import sys, os\r\n",
    "if 'google.colab' in sys.modules:\r\n",
    "    # mount google drive\r\n",
    "    from google.colab import drive\r\n",
    "    drive.mount('/content/gdrive')\r\n",
    "    # find automatically the path of the folder containing \"file_name\" :\r\n",
    "    file_name = 'minibatch_training_exercise.ipynb'\r\n",
    "    import subprocess\r\n",
    "    path_to_file = subprocess.check_output('find . -type f -name ' + str(file_name), shell=True).decode(\"utf-8\")\r\n",
    "    path_to_file = path_to_file.replace(file_name,\"\").replace('\\n',\"\")\r\n",
    "    # if previous search failed or too long, comment the previous line and simply write down manually the path below :\r\n",
    "    #path_to_file = '/content/gdrive/My Drive/CS5242_2021_codes/codes/labs_lecture03/lab05_minibatch_training'\r\n",
    "    print(path_to_file)\r\n",
    "    # change current path to the folder containing \"file_name\"\r\n",
    "    os.chdir(path_to_file)\r\n",
    "    !pwd"
   ],
   "outputs": [],
   "metadata": {}
  },
  {
   "cell_type": "code",
   "execution_count": 2,
   "source": [
    "import torch\r\n",
    "import torch.nn as nn\r\n",
    "import torch.optim as optim\r\n",
    "from random import randint\r\n",
    "import utils"
   ],
   "outputs": [],
   "metadata": {}
  },
  {
   "cell_type": "markdown",
   "source": [
    "### Download the data and print the sizes"
   ],
   "metadata": {}
  },
  {
   "cell_type": "code",
   "execution_count": 3,
   "source": [
    "from utils import check_fashion_mnist_dataset_exists\r\n",
    "data_path=check_fashion_mnist_dataset_exists()"
   ],
   "outputs": [],
   "metadata": {}
  },
  {
   "cell_type": "code",
   "execution_count": 4,
   "source": [
    "train_data=torch.load(data_path+'fashion-mnist/train_data.pt')\r\n",
    "\r\n",
    "print(train_data.size())"
   ],
   "outputs": [
    {
     "output_type": "stream",
     "name": "stdout",
     "text": [
      "torch.Size([60000, 28, 28])\n"
     ]
    }
   ],
   "metadata": {}
  },
  {
   "cell_type": "code",
   "execution_count": 5,
   "source": [
    "train_label=torch.load(data_path+'fashion-mnist/train_label.pt')\r\n",
    "\r\n",
    "print(train_label.size())"
   ],
   "outputs": [
    {
     "output_type": "stream",
     "name": "stdout",
     "text": [
      "torch.Size([60000])\n"
     ]
    }
   ],
   "metadata": {}
  },
  {
   "cell_type": "code",
   "execution_count": 6,
   "source": [
    "test_data=torch.load(data_path+'fashion-mnist/test_data.pt')\r\n",
    "\r\n",
    "print(test_data.size())"
   ],
   "outputs": [
    {
     "output_type": "stream",
     "name": "stdout",
     "text": [
      "torch.Size([10000, 28, 28])\n"
     ]
    }
   ],
   "metadata": {}
  },
  {
   "cell_type": "markdown",
   "source": [
    "### Make a one layer net class "
   ],
   "metadata": {}
  },
  {
   "cell_type": "code",
   "execution_count": 8,
   "source": [
    "class one_layer_net(nn.Module):\r\n",
    "\r\n",
    "    def __init__(self, input_size, output_size):\r\n",
    "        super(one_layer_net , self).__init__()\r\n",
    "        \r\n",
    "        self.linear_layer = nn.Linear(in_features=input_size,out_features=output_size)\r\n",
    "        \r\n",
    "    def forward(self, x):\r\n",
    "        \r\n",
    "        y = self.linear_layer(x)\r\n",
    "        p = torch.softmax(x, dim=1)\r\n",
    "        return p"
   ],
   "outputs": [],
   "metadata": {}
  },
  {
   "cell_type": "markdown",
   "source": [
    "### Build the net"
   ],
   "metadata": {}
  },
  {
   "cell_type": "code",
   "execution_count": 9,
   "source": [
    "net=one_layer_net(784,10)\r\n",
    "print(net)"
   ],
   "outputs": [
    {
     "output_type": "stream",
     "name": "stdout",
     "text": [
      "one_layer_net(\n",
      "  (linear_layer): Linear(in_features=784, out_features=10, bias=True)\n",
      ")\n"
     ]
    }
   ],
   "metadata": {}
  },
  {
   "cell_type": "markdown",
   "source": [
    "### Choose the size of the mini-batches "
   ],
   "metadata": {}
  },
  {
   "cell_type": "code",
   "execution_count": null,
   "source": [
    "bs= # complete here"
   ],
   "outputs": [],
   "metadata": {}
  },
  {
   "cell_type": "markdown",
   "source": [
    "### Train the network (only 5000 iterations) on the train set"
   ],
   "metadata": {}
  },
  {
   "cell_type": "code",
   "execution_count": null,
   "source": [
    "criterion = nn.NLLLoss()\r\n",
    "optimizer=torch.optim.SGD(net.parameters() , lr=0.01 )\r\n",
    "\r\n",
    "for iter in range(1,5000):\r\n",
    "    \r\n",
    "    # create a minibatch\r\n",
    "    indices=          # complete here\r\n",
    "    minibatch_data =  # complete here\r\n",
    "    minibatch_label=  # complete here \r\n",
    "    \r\n",
    "    #reshape them to fit the network\r\n",
    "    inputs=   # complete here\r\n",
    "\r\n",
    "    # feed the input to the net  \r\n",
    "    inputs.requires_grad_()\r\n",
    "    prob= # complete here\r\n",
    "    \r\n",
    "    \r\n",
    "    # update the weights (all the magic happens here -- we will discuss it later)\r\n",
    "    log_prob=torch.log(prob)\r\n",
    "    loss = criterion(log_prob, minibatch_label)    \r\n",
    "    optimizer.zero_grad()       \r\n",
    "    loss.backward()\r\n",
    "    optimizer.step()"
   ],
   "outputs": [],
   "metadata": {}
  },
  {
   "cell_type": "markdown",
   "source": [
    "### Choose image at random from the test set and see how good/bad are the predictions"
   ],
   "metadata": {}
  },
  {
   "cell_type": "code",
   "execution_count": null,
   "source": [
    "# choose a picture at random\n",
    "idx=randint(0, 10000-1)\n",
    "im=test_data[idx]\n",
    "\n",
    "# diplay the picture\n",
    "utils.show(im)\n",
    "\n",
    "# feed it to the net and display the confidence scores\n",
    "prob =  net( im.view(1,784)) \n",
    "utils.show_prob_fashion_mnist(prob)"
   ],
   "outputs": [],
   "metadata": {}
  },
  {
   "cell_type": "code",
   "execution_count": null,
   "source": [],
   "outputs": [],
   "metadata": {}
  }
 ],
 "metadata": {
  "kernelspec": {
   "name": "python3",
   "display_name": "Python 3.7.10 64-bit ('deeplearn_course': conda)"
  },
  "language_info": {
   "codemirror_mode": {
    "name": "ipython",
    "version": 3
   },
   "file_extension": ".py",
   "mimetype": "text/x-python",
   "name": "python",
   "nbconvert_exporter": "python",
   "pygments_lexer": "ipython3",
   "version": "3.7.10"
  },
  "interpreter": {
   "hash": "188299b107256fe873ab79b6089594fb9be85d55d578db9419dca9181f4278ba"
  }
 },
 "nbformat": 4,
 "nbformat_minor": 2
}