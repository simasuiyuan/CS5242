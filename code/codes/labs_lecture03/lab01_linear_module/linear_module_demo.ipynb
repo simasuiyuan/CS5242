{
 "cells": [
  {
   "cell_type": "markdown",
   "metadata": {},
   "source": [
    "# Lab 01 : Linear module -- demo"
   ]
  },
  {
   "cell_type": "code",
   "execution_count": 1,
   "metadata": {},
   "outputs": [],
   "source": [
    "import torch\n",
    "import torch.nn as nn"
   ]
  },
  {
   "cell_type": "markdown",
   "metadata": {},
   "source": [
    "### Make a _Linear Module_ that takes input of size 5 and return output of size 3"
   ]
  },
  {
   "cell_type": "code",
   "execution_count": 2,
   "metadata": {},
   "outputs": [
    {
     "name": "stdout",
     "output_type": "stream",
     "text": [
      "Linear(in_features=5, out_features=3, bias=True)\n"
     ]
    }
   ],
   "source": [
    "mod = nn.Linear(5,3)\n",
    "print(mod)"
   ]
  },
  {
   "cell_type": "markdown",
   "metadata": {},
   "source": [
    "### Let's make a random tensor of size 5:"
   ]
  },
  {
   "cell_type": "code",
   "execution_count": 3,
   "metadata": {},
   "outputs": [
    {
     "name": "stdout",
     "output_type": "stream",
     "text": [
      "tensor([0.9613, 0.5040, 0.0465, 0.9019, 0.2782])\n",
      "torch.Size([5])\n"
     ]
    }
   ],
   "source": [
    "x=torch.rand(5)\n",
    "print(x)\n",
    "print(x.size())"
   ]
  },
  {
   "cell_type": "markdown",
   "metadata": {},
   "source": [
    "### Feed it to the module:"
   ]
  },
  {
   "cell_type": "code",
   "execution_count": 4,
   "metadata": {},
   "outputs": [
    {
     "name": "stdout",
     "output_type": "stream",
     "text": [
      "tensor([-0.2346, -0.3305,  0.3279], grad_fn=<AddBackward0>)\n"
     ]
    }
   ],
   "source": [
    "y=mod(x)\n",
    "print(y)"
   ]
  },
  {
   "cell_type": "markdown",
   "metadata": {},
   "source": [
    "### The output y is computed according to the formula:\n",
    "$$\n",
    "\\begin{bmatrix}\n",
    "y_1\\\\ y_2 \\\\y_3 \n",
    "\\end{bmatrix} =\n",
    "\\begin{bmatrix}\n",
    "w_{11} & w_{12} & w_{13}& w_{14}& w_{15} \\\\\n",
    "w_{21} & w_{22} & w_{23}& w_{24}& w_{25} \\\\\n",
    "w_{31} & w_{32} & w_{33}& w_{34}& w_{35} \\\\\n",
    "\\end{bmatrix}\n",
    "\\begin{bmatrix}\n",
    "x_1\\\\ x_2 \\\\x_3 \\\\ x_4 \\\\x_5\n",
    "\\end{bmatrix}\n",
    "+\n",
    "\\begin{bmatrix}\n",
    "b_1\\\\ b_2 \\\\b_3 \n",
    "\\end{bmatrix}\n",
    "$$\n",
    "### were the $w_{ij}$'s are the weight parameters and the $b_i$'s are the bias parameters. These internal parameters can be access as follow:"
   ]
  },
  {
   "cell_type": "code",
   "execution_count": 5,
   "metadata": {},
   "outputs": [
    {
     "name": "stdout",
     "output_type": "stream",
     "text": [
      "Parameter containing:\n",
      "tensor([[-0.1931, -0.3570,  0.3480, -0.4308,  0.2236],\n",
      "        [-0.1223, -0.3798,  0.1445, -0.3791, -0.0057],\n",
      "        [ 0.1766, -0.2205, -0.1097,  0.0042,  0.3296]], requires_grad=True)\n",
      "torch.Size([3, 5])\n"
     ]
    }
   ],
   "source": [
    "print(mod.weight)\n",
    "print(mod.weight.size())"
   ]
  },
  {
   "cell_type": "code",
   "execution_count": 6,
   "metadata": {},
   "outputs": [
    {
     "name": "stdout",
     "output_type": "stream",
     "text": [
      "Parameter containing:\n",
      "tensor([0.4411, 0.3153, 0.1789], requires_grad=True)\n",
      "torch.Size([3])\n"
     ]
    }
   ],
   "source": [
    "print(mod.bias)\n",
    "print(mod.bias.size())"
   ]
  },
  {
   "cell_type": "markdown",
   "metadata": {},
   "source": [
    "### If we want we can change the internal parameters of the module:"
   ]
  },
  {
   "cell_type": "code",
   "execution_count": 7,
   "metadata": {},
   "outputs": [
    {
     "name": "stdout",
     "output_type": "stream",
     "text": [
      "Parameter containing:\n",
      "tensor([[ 0.0000,  1.0000,  2.0000, -0.4308,  0.2236],\n",
      "        [-0.1223, -0.3798,  0.1445, -0.3791, -0.0057],\n",
      "        [ 0.1766, -0.2205, -0.1097,  0.0042,  0.3296]], requires_grad=True)\n"
     ]
    }
   ],
   "source": [
    "with torch.no_grad():\n",
    "    mod.weight[0,0]=0\n",
    "    mod.weight[0,1]=1\n",
    "    mod.weight[0,2]=2\n",
    "    print(mod.weight)"
   ]
  },
  {
   "cell_type": "markdown",
   "metadata": {},
   "source": [
    "### We can also make a Linear module without bias:"
   ]
  },
  {
   "cell_type": "code",
   "execution_count": 8,
   "metadata": {},
   "outputs": [
    {
     "name": "stdout",
     "output_type": "stream",
     "text": [
      "Linear(in_features=5, out_features=3, bias=False)\n"
     ]
    }
   ],
   "source": [
    "mod2 = nn.Linear(5,3,bias=False)\n",
    "print(mod2)"
   ]
  },
  {
   "cell_type": "code",
   "execution_count": 9,
   "metadata": {},
   "outputs": [
    {
     "name": "stdout",
     "output_type": "stream",
     "text": [
      "Parameter containing:\n",
      "tensor([[ 0.3412,  0.2392,  0.1311,  0.4381, -0.2030],\n",
      "        [ 0.1962, -0.1067, -0.0886, -0.0642,  0.0950],\n",
      "        [-0.0533, -0.2175,  0.1054,  0.4185, -0.2447]], requires_grad=True)\n"
     ]
    }
   ],
   "source": [
    "print(mod2.weight)"
   ]
  },
  {
   "cell_type": "code",
   "execution_count": 10,
   "metadata": {},
   "outputs": [
    {
     "name": "stdout",
     "output_type": "stream",
     "text": [
      "None\n"
     ]
    }
   ],
   "source": [
    "print(mod2.bias)"
   ]
  },
  {
   "cell_type": "code",
   "execution_count": null,
   "metadata": {},
   "outputs": [],
   "source": []
  }
 ],
 "metadata": {
  "kernelspec": {
   "display_name": "Python 3",
   "language": "python",
   "name": "python3"
  },
  "language_info": {
   "codemirror_mode": {
    "name": "ipython",
    "version": 3
   },
   "file_extension": ".py",
   "mimetype": "text/x-python",
   "name": "python",
   "nbconvert_exporter": "python",
   "pygments_lexer": "ipython3",
   "version": "3.7.10"
  }
 },
 "nbformat": 4,
 "nbformat_minor": 2
}
