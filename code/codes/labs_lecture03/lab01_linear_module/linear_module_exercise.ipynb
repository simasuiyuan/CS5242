{
 "cells": [
  {
   "cell_type": "markdown",
   "metadata": {},
   "source": [
    "# Lab 01 : Linear module -- exercise\n",
    "\n",
    "# Inspecting a linear module"
   ]
  },
  {
   "cell_type": "code",
   "execution_count": null,
   "metadata": {},
   "outputs": [],
   "source": [
    "import torch\n",
    "import torch.nn as nn"
   ]
  },
  {
   "cell_type": "markdown",
   "metadata": {},
   "source": [
    "### Make a linear module  WITHOUT bias that takes input of size 2 and return output of size 3. "
   ]
  },
  {
   "cell_type": "code",
   "execution_count": null,
   "metadata": {},
   "outputs": [],
   "source": [
    "mod=     # complete here\n",
    "print(mod)"
   ]
  },
  {
   "cell_type": "markdown",
   "metadata": {},
   "source": [
    "### Print the internal parameters of the module. Try to print the bias and double check that it return you \"None\""
   ]
  },
  {
   "cell_type": "code",
   "execution_count": null,
   "metadata": {},
   "outputs": [],
   "source": [
    "print(  # complete here  )\n",
    "print(  # complete here  )"
   ]
  },
  {
   "cell_type": "markdown",
   "metadata": {},
   "source": [
    "### Make a vector $x=\\begin{bmatrix}1\\\\1 \\end{bmatrix}$ and feed it to your linear module. What is the output?"
   ]
  },
  {
   "cell_type": "code",
   "execution_count": null,
   "metadata": {},
   "outputs": [],
   "source": [
    "x=  # complete here  \n",
    "print(x)\n",
    "y=  # complete here  \n",
    "print(y)"
   ]
  },
  {
   "cell_type": "markdown",
   "metadata": {},
   "source": [
    "### Change the internal parameters of your module so that the weights become $\n",
    "W=\\begin{bmatrix}\n",
    "1&2 \\\\ 3&4 \\\\ 5&6\n",
    "\\end{bmatrix}\n",
    "$. You need to write 6 lines, one per entry to be changed."
   ]
  },
  {
   "cell_type": "code",
   "execution_count": null,
   "metadata": {},
   "outputs": [],
   "source": [
    "with torch.no_grad():\n",
    "    # complete here  \n",
    "    # complete here  \n",
    "    # complete here  \n",
    "    # complete here  \n",
    "    # complete here  \n",
    "    # complete here  \n",
    "    print(mod.weight)"
   ]
  },
  {
   "cell_type": "markdown",
   "metadata": {},
   "source": [
    "### Feed the vector x to your module with updated parameters. What is the output? "
   ]
  },
  {
   "cell_type": "code",
   "execution_count": null,
   "metadata": {},
   "outputs": [],
   "source": [
    "y=  # complete here  \n",
    "print(y)"
   ]
  },
  {
   "cell_type": "markdown",
   "metadata": {},
   "source": [
    "### Compute by hand $y=Wx$ and check that pytorch got it correctly. \n",
    "\n",
    "$$\n",
    "\\begin{bmatrix}\n",
    "1&2 \\\\ 3&4 \\\\ 5&6\n",
    "\\end{bmatrix}\n",
    "\\begin{bmatrix}1\\\\1 \\end{bmatrix}=\n",
    "\\begin{bmatrix}?\\\\? \\\\ ? \\end{bmatrix}\n",
    "$$"
   ]
  },
  {
   "cell_type": "code",
   "execution_count": null,
   "metadata": {},
   "outputs": [],
   "source": []
  }
 ],
 "metadata": {
  "kernelspec": {
   "display_name": "Python 3",
   "language": "python",
   "name": "python3"
  },
  "language_info": {
   "codemirror_mode": {
    "name": "ipython",
    "version": 3
   },
   "file_extension": ".py",
   "mimetype": "text/x-python",
   "name": "python",
   "nbconvert_exporter": "python",
   "pygments_lexer": "ipython3",
   "version": "3.7.10"
  }
 },
 "nbformat": 4,
 "nbformat_minor": 2
}
