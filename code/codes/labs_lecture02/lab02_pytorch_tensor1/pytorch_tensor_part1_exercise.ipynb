{
 "cells": [
  {
   "cell_type": "markdown",
   "source": [
    "# Lab 02: Manipulate PyTorch Tensors -- exercise"
   ],
   "metadata": {}
  },
  {
   "cell_type": "code",
   "execution_count": 1,
   "source": [
    "import torch"
   ],
   "outputs": [],
   "metadata": {}
  },
  {
   "cell_type": "markdown",
   "source": [
    "### Make the matrices A and B below. Add them together to obtain a matrix C. Print these three matrices.\n",
    "$$\n",
    "A =\\begin{bmatrix}\n",
    "1 & 2 \\\\ 3 & 4\n",
    "\\end{bmatrix}  \n",
    "\\qquad \n",
    "B =\\begin{bmatrix}\n",
    "10 & 20 \\\\ 30 & 40\n",
    "\\end{bmatrix}  \\qquad C=A+B =?\n",
    "$$"
   ],
   "metadata": {}
  },
  {
   "cell_type": "code",
   "execution_count": 2,
   "source": [
    "\r\n",
    "# write your code here\r\n",
    "A = torch.Tensor([[1,2],[3,4]])\r\n",
    "B = torch.Tensor([[10,20],[30,40]])\r\n",
    "C = A + B\r\n",
    "\r\n",
    "print(f\"A = \\n {A}\")\r\n",
    "print(f\"B = \\n {B}\")\r\n",
    "print(f\"C = \\n {C}\")"
   ],
   "outputs": [
    {
     "output_type": "stream",
     "name": "stdout",
     "text": [
      "A = \n",
      " tensor([[1., 2.],\n",
      "        [3., 4.]])\n",
      "B = \n",
      " tensor([[10., 20.],\n",
      "        [30., 40.]])\n",
      "C = \n",
      " tensor([[11., 22.],\n",
      "        [33., 44.]])\n"
     ]
    }
   ],
   "metadata": {}
  },
  {
   "cell_type": "markdown",
   "source": [
    "### Print the dimension, size and type of the matrix A. Remember, the commands are dim(), size() and type()"
   ],
   "metadata": {}
  },
  {
   "cell_type": "code",
   "execution_count": 3,
   "source": [
    "\r\n",
    "# write your code here\r\n",
    "print(f\"A.dim() = {A.dim()}\")\r\n",
    "print(f\"A.size() = {A.size()}\")\r\n",
    "print(f\"A.type() = {A.type()}\")\r\n"
   ],
   "outputs": [
    {
     "output_type": "stream",
     "name": "stdout",
     "text": [
      "A.dim() = 2\n",
      "A.size() = torch.Size([2, 2])\n",
      "A.type() = torch.FloatTensor\n"
     ]
    }
   ],
   "metadata": {}
  },
  {
   "cell_type": "markdown",
   "source": [
    "### Convert the matrix A to be an integer matrix  (type LongTensor). Remember, the command is long(). Then print the type to check it was indeed converted."
   ],
   "metadata": {}
  },
  {
   "cell_type": "code",
   "execution_count": 12,
   "source": [
    "A = A.long()\r\n",
    "print(f\"A.long() = \\n {A}\")"
   ],
   "outputs": [
    {
     "output_type": "stream",
     "name": "stdout",
     "text": [
      "A.long() = \n",
      " tensor([[1, 2],\n",
      "        [3, 4]])\n"
     ]
    }
   ],
   "metadata": {}
  },
  {
   "cell_type": "markdown",
   "source": [
    "### Make a random 5 x 2 x 3 Tensor. The command is torch.rand.  Then do the following:   1) Print the tensor,  2) Print its type, 3) Print its dimension,  4) Print its size, 5) Print the size of its middle dimension."
   ],
   "metadata": {}
  },
  {
   "cell_type": "code",
   "execution_count": 14,
   "source": [
    "\r\n",
    "# write your code here\r\n",
    "A = torch.rand(5,2,3)\r\n",
    "print(f\"A = \\n {A}\")\r\n",
    "print(f\"A.dim() = {A.dim()}\")\r\n",
    "print(f\"A.size() = {A.size()}\")\r\n",
    "print(f\"A.type() = {A.type()}\")"
   ],
   "outputs": [
    {
     "output_type": "stream",
     "name": "stdout",
     "text": [
      "A = \n",
      " tensor([[[0.0903, 0.6273, 0.9577],\n",
      "         [0.7602, 0.9850, 0.6532]],\n",
      "\n",
      "        [[0.0418, 0.7229, 0.7469],\n",
      "         [0.2984, 0.6038, 0.8201]],\n",
      "\n",
      "        [[0.9545, 0.4702, 0.1261],\n",
      "         [0.7985, 0.1942, 0.8598]],\n",
      "\n",
      "        [[0.3500, 0.2591, 0.8583],\n",
      "         [0.2065, 0.1257, 0.2141]],\n",
      "\n",
      "        [[0.6040, 0.9815, 0.9226],\n",
      "         [0.3721, 0.5357, 0.2746]]])\n",
      "A.dim() = 3\n",
      "A.size() = torch.Size([5, 2, 3])\n",
      "A.type() = torch.FloatTensor\n"
     ]
    }
   ],
   "metadata": {}
  },
  {
   "cell_type": "markdown",
   "source": [
    "### Make 2 x 3 x 4 x 5 tensor filled with zeros then print it. (The command is torch.zeros). See if you can make sense of the display."
   ],
   "metadata": {}
  },
  {
   "cell_type": "code",
   "execution_count": 15,
   "source": [
    "\r\n",
    "# write your code here\r\n",
    "\r\n",
    "A = torch.zeros(2,3,4,5)\r\n",
    "print(f\"A = \\n {A}\")"
   ],
   "outputs": [
    {
     "output_type": "stream",
     "name": "stdout",
     "text": [
      "A = \n",
      " tensor([[[[0., 0., 0., 0., 0.],\n",
      "          [0., 0., 0., 0., 0.],\n",
      "          [0., 0., 0., 0., 0.],\n",
      "          [0., 0., 0., 0., 0.]],\n",
      "\n",
      "         [[0., 0., 0., 0., 0.],\n",
      "          [0., 0., 0., 0., 0.],\n",
      "          [0., 0., 0., 0., 0.],\n",
      "          [0., 0., 0., 0., 0.]],\n",
      "\n",
      "         [[0., 0., 0., 0., 0.],\n",
      "          [0., 0., 0., 0., 0.],\n",
      "          [0., 0., 0., 0., 0.],\n",
      "          [0., 0., 0., 0., 0.]]],\n",
      "\n",
      "\n",
      "        [[[0., 0., 0., 0., 0.],\n",
      "          [0., 0., 0., 0., 0.],\n",
      "          [0., 0., 0., 0., 0.],\n",
      "          [0., 0., 0., 0., 0.]],\n",
      "\n",
      "         [[0., 0., 0., 0., 0.],\n",
      "          [0., 0., 0., 0., 0.],\n",
      "          [0., 0., 0., 0., 0.],\n",
      "          [0., 0., 0., 0., 0.]],\n",
      "\n",
      "         [[0., 0., 0., 0., 0.],\n",
      "          [0., 0., 0., 0., 0.],\n",
      "          [0., 0., 0., 0., 0.],\n",
      "          [0., 0., 0., 0., 0.]]]])\n"
     ]
    }
   ],
   "metadata": {}
  },
  {
   "cell_type": "code",
   "execution_count": null,
   "source": [],
   "outputs": [],
   "metadata": {}
  }
 ],
 "metadata": {
  "kernelspec": {
   "name": "python3",
   "display_name": "Python 3.7.10 64-bit ('deeplearn_course': conda)"
  },
  "language_info": {
   "codemirror_mode": {
    "name": "ipython",
    "version": 3
   },
   "file_extension": ".py",
   "mimetype": "text/x-python",
   "name": "python",
   "nbconvert_exporter": "python",
   "pygments_lexer": "ipython3",
   "version": "3.7.10"
  },
  "interpreter": {
   "hash": "188299b107256fe873ab79b6089594fb9be85d55d578db9419dca9181f4278ba"
  }
 },
 "nbformat": 4,
 "nbformat_minor": 2
}