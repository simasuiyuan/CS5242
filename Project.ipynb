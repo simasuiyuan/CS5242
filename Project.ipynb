{
 "cells": [
  {
   "cell_type": "markdown",
   "id": "d7b97607",
   "metadata": {},
   "source": [
    "## Data Scraping\n",
    "We will be scraping acne images from https://dermnetnz.org/"
   ]
  },
  {
   "cell_type": "code",
   "execution_count": 34,
   "id": "94135ed3",
   "metadata": {},
   "outputs": [],
   "source": [
    "from bs4 import BeautifulSoup\n",
    "import requests\n",
    "import pandas as pd\n",
    "import shutil\n",
    "\n",
    "def download_image(image_url, image_name):\n",
    "    url = image_url\n",
    "    response = requests.get(url, stream=True)\n",
    "    with open(image_name, 'wb') as out_file:\n",
    "        shutil.copyfileobj(response.raw, out_file)\n",
    "    del response"
   ]
  },
  {
   "cell_type": "code",
   "execution_count": 40,
   "id": "2a332492",
   "metadata": {},
   "outputs": [],
   "source": [
    "def scrape_dermnet(url):\n",
    "    html_page = requests.get(url)\n",
    "    soup = BeautifulSoup(html_page.content, 'html.parser')\n",
    "    textBlock = soup.find('section', class_=\"textBlock\")\n",
    "    imgs = textBlock.findAll('img')\n",
    "    img_dataset = pd.DataFrame([[img.attrs['alt'], \"https://dermnetnz.org/\" + img.attrs['data-src']] for img in imgs], columns=['alt', 'image_url'])\n",
    "    img_dataset['image_name'] = [f'data/image_{e}.jpg' for e in range(img_dataset.shape[0])]\n",
    "    return img_dataset"
   ]
  },
  {
   "cell_type": "code",
   "execution_count": 6,
   "id": "d7a92779",
   "metadata": {},
   "outputs": [],
   "source": [
    "# Download images\n",
    "img_dataset = scrape_dermnet(\"https://dermnetnz.org/topics/acne-face-images\")\n",
    "for row in img_dataset.itertuples():\n",
    "    download_image(row.image_url, row.image_name)"
   ]
  },
  {
   "cell_type": "markdown",
   "id": "7dbebf79",
   "metadata": {},
   "source": [
    "## Sliding Window"
   ]
  },
  {
   "cell_type": "markdown",
   "id": "cc30c3fb",
   "metadata": {},
   "source": [
    "To construct smaller images based on size of sliding window"
   ]
  },
  {
   "cell_type": "code",
   "execution_count": 48,
   "id": "1162eb00",
   "metadata": {},
   "outputs": [],
   "source": [
    "from os import listdir\n",
    "from os.path import isfile, join\n",
    "import numpy as np\n",
    "import matplotlib.pyplot as plt\n",
    "from PIL import Image\n",
    "import pandas as pd"
   ]
  },
  {
   "cell_type": "code",
   "execution_count": 38,
   "id": "cdc646a1",
   "metadata": {},
   "outputs": [],
   "source": [
    "images = [join('scraped_data', f) for f in listdir('scraped_data') if isfile(join('scraped_data', f))]"
   ]
  },
  {
   "cell_type": "code",
   "execution_count": 39,
   "id": "689dea49",
   "metadata": {},
   "outputs": [],
   "source": [
    "# Set size of sliding window\n",
    "window_size = 50"
   ]
  },
  {
   "cell_type": "code",
   "execution_count": 42,
   "id": "09ba9357",
   "metadata": {},
   "outputs": [],
   "source": [
    "# Slicing images\n",
    "for image_path in images:\n",
    "    img = np.asarray(Image.open(image_path))\n",
    "    for i in range(0,img.shape[0],window_size):\n",
    "        for j in range(0,img.shape[1],window_size):\n",
    "            sub_img = img[i:i+window_size, j:j+window_size, :]\n",
    "            # Save image\n",
    "            img_name = image_path.split('/')[-1].split('.')[0]\n",
    "            Image.fromarray(sub_img).save(f'dataset/{img_name}_{i}_{j}.jpg')\n"
   ]
  },
  {
   "cell_type": "code",
   "execution_count": 53,
   "id": "40641d83",
   "metadata": {},
   "outputs": [],
   "source": [
    "# Create csv for tagging\n",
    "cropped_images = sorted([f for f in listdir('dataset') if isfile(join('dataset', f))])"
   ]
  },
  {
   "cell_type": "code",
   "execution_count": 56,
   "id": "327d88ba",
   "metadata": {},
   "outputs": [],
   "source": [
    "tagging_df = pd.DataFrame(cropped_images, columns=['Image File'])"
   ]
  },
  {
   "cell_type": "code",
   "execution_count": 57,
   "id": "4bf8aa86",
   "metadata": {},
   "outputs": [
    {
     "data": {
      "text/html": [
       "<div>\n",
       "<style scoped>\n",
       "    .dataframe tbody tr th:only-of-type {\n",
       "        vertical-align: middle;\n",
       "    }\n",
       "\n",
       "    .dataframe tbody tr th {\n",
       "        vertical-align: top;\n",
       "    }\n",
       "\n",
       "    .dataframe thead th {\n",
       "        text-align: right;\n",
       "    }\n",
       "</style>\n",
       "<table border=\"1\" class=\"dataframe\">\n",
       "  <thead>\n",
       "    <tr style=\"text-align: right;\">\n",
       "      <th></th>\n",
       "      <th>Image File</th>\n",
       "    </tr>\n",
       "  </thead>\n",
       "  <tbody>\n",
       "    <tr>\n",
       "      <th>0</th>\n",
       "      <td>image_0_0_0.jpg</td>\n",
       "    </tr>\n",
       "    <tr>\n",
       "      <th>1</th>\n",
       "      <td>image_0_0_100.jpg</td>\n",
       "    </tr>\n",
       "    <tr>\n",
       "      <th>2</th>\n",
       "      <td>image_0_0_150.jpg</td>\n",
       "    </tr>\n",
       "    <tr>\n",
       "      <th>3</th>\n",
       "      <td>image_0_0_200.jpg</td>\n",
       "    </tr>\n",
       "    <tr>\n",
       "      <th>4</th>\n",
       "      <td>image_0_0_250.jpg</td>\n",
       "    </tr>\n",
       "  </tbody>\n",
       "</table>\n",
       "</div>"
      ],
      "text/plain": [
       "          Image File\n",
       "0    image_0_0_0.jpg\n",
       "1  image_0_0_100.jpg\n",
       "2  image_0_0_150.jpg\n",
       "3  image_0_0_200.jpg\n",
       "4  image_0_0_250.jpg"
      ]
     },
     "execution_count": 57,
     "metadata": {},
     "output_type": "execute_result"
    }
   ],
   "source": [
    "tagging_df.head()"
   ]
  },
  {
   "cell_type": "code",
   "execution_count": 58,
   "id": "3605b78b",
   "metadata": {},
   "outputs": [],
   "source": [
    "tagging_df.to_csv('labels.csv', index=False)"
   ]
  }
 ],
 "metadata": {
  "kernelspec": {
   "display_name": "Python 3 (ipykernel)",
   "language": "python",
   "name": "python3"
  },
  "language_info": {
   "codemirror_mode": {
    "name": "ipython",
    "version": 3
   },
   "file_extension": ".py",
   "mimetype": "text/x-python",
   "name": "python",
   "nbconvert_exporter": "python",
   "pygments_lexer": "ipython3",
   "version": "3.7.10"
  }
 },
 "nbformat": 4,
 "nbformat_minor": 5
}
