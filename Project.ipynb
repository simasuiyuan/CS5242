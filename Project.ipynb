{
  "nbformat": 4,
  "nbformat_minor": 5,
  "metadata": {
    "colab": {
      "name": "Project.ipynb",
      "provenance": []
    },
    "kernelspec": {
      "display_name": "Python 3 (ipykernel)",
      "language": "python",
      "name": "python3"
    },
    "language_info": {
      "codemirror_mode": {
        "name": "ipython",
        "version": 3
      },
      "file_extension": ".py",
      "mimetype": "text/x-python",
      "name": "python",
      "nbconvert_exporter": "python",
      "pygments_lexer": "ipython3",
      "version": "3.7.10"
    },
    "accelerator": "GPU"
  },
  "cells": [
    {
      "cell_type": "markdown",
      "metadata": {
        "id": "45071339"
      },
      "source": [
        "# Project Motivation\n",
        "With the rise of telederm, users upload a photo of their face to aid dermatologists in the assessment. They then count and determine the type of every acne. However, this process is labour intensive, prone to bias and does not scale well. Hence, being able to identify the type of acne found on the face using computer vision, this creates room for automated acne diagnosis. Alternatively, in recommendation systems for skincare products on ecommerce sites, this data can empower the algorithms behind by acting as an additional source of information to recommend specific products which would be ideal to remedy the acne."
      ],
      "id": "45071339"
    },
    {
      "cell_type": "markdown",
      "metadata": {
        "id": "4b07fe93"
      },
      "source": [
        "# Project Description\n",
        "Using our learning model, users can take a photo of themselves and upload it. We will then segment the photo into windows and let the model classify the type of acne. With the output classification, we will then determine the count of every acne type on users’ faces. This will then provide the dermatologist with data to determine the best course of action for the user."
      ],
      "id": "4b07fe93"
    },
    {
      "cell_type": "markdown",
      "metadata": {
        "id": "f0e89190"
      },
      "source": [
        "# Steps"
      ],
      "id": "f0e89190"
    },
    {
      "cell_type": "markdown",
      "metadata": {
        "id": "bOxTIwxQRSwX"
      },
      "source": [
        "Get the latest files from the github repository."
      ],
      "id": "bOxTIwxQRSwX"
    },
    {
      "cell_type": "code",
      "metadata": {
        "colab": {
          "base_uri": "https://localhost:8080/"
        },
        "id": "7T9XJilWN1Cv",
        "outputId": "958d488f-658f-4196-ac4c-d5ab63925828"
      },
      "source": [
        "!pwd\n",
        "import os.path\n",
        "from os import path\n",
        "if not path.exists(\"/content/CS5242\"):\n",
        "  !git clone https://github.com/simasuiyuan/CS5242.git\n",
        "else:\n",
        "  !git pull https://github.com/simasuiyuan/CS5242.git\n",
        "%cd /content/CS5242"
      ],
      "id": "7T9XJilWN1Cv",
      "execution_count": 1,
      "outputs": [
        {
          "output_type": "stream",
          "name": "stdout",
          "text": [
            "/content\n",
            "fatal: not a git repository (or any of the parent directories): .git\n",
            "/content/CS5242\n"
          ]
        }
      ]
    },
    {
      "cell_type": "markdown",
      "metadata": {
        "id": "d7b97607"
      },
      "source": [
        "## 1. Data Scraping\n",
        "For our dataset, we will be scraping acne images from https://dermnetnz.org/. This section loops through `img` tag of the gallery using BeautifulSoup library and downloads them."
      ],
      "id": "d7b97607"
    },
    {
      "cell_type": "code",
      "metadata": {
        "id": "94135ed3"
      },
      "source": [
        "from bs4 import BeautifulSoup\n",
        "import requests\n",
        "import pandas as pd\n",
        "import shutil\n",
        "\n",
        "def download_image(image_url, image_name):\n",
        "    url = image_url\n",
        "    response = requests.get(url, stream=True)\n",
        "    with open(image_name, 'wb') as out_file:\n",
        "        shutil.copyfileobj(response.raw, out_file)\n",
        "    del response"
      ],
      "id": "94135ed3",
      "execution_count": 2,
      "outputs": []
    },
    {
      "cell_type": "code",
      "metadata": {
        "id": "2a332492"
      },
      "source": [
        "def scrape_dermnet(url):\n",
        "    html_page = requests.get(url)\n",
        "    soup = BeautifulSoup(html_page.content, 'html.parser')\n",
        "    textBlock = soup.find('section', class_=\"textBlock\")\n",
        "    imgs = textBlock.findAll('img')\n",
        "    img_dataset = pd.DataFrame([[img.attrs['alt'], \"https://dermnetnz.org/\" + img.attrs['data-src']] for img in imgs], columns=['alt', 'image_url'])\n",
        "    img_dataset['image_name'] = [f'scraped_data/image_{e}.jpg' for e in range(img_dataset.shape[0])]\n",
        "    return img_dataset"
      ],
      "id": "2a332492",
      "execution_count": 3,
      "outputs": []
    },
    {
      "cell_type": "code",
      "metadata": {
        "colab": {
          "base_uri": "https://localhost:8080/"
        },
        "id": "d7a92779",
        "outputId": "b6f35e77-487c-4870-85db-baef7893b0a1"
      },
      "source": [
        "# Download images\n",
        "img_dataset = scrape_dermnet(\"https://dermnetnz.org/topics/acne-face-images\")\n",
        "import os\n",
        "print(os.getcwd())\n",
        "import os.path\n",
        "from os import path\n",
        "!pwd\n",
        "if not path.exists(\"scraped_data\"):\n",
        "    !mkdir -p scraped_data\n",
        "    for row in img_dataset.itertuples():\n",
        "        print(row)\n",
        "        download_image(row.image_url, row.image_name)"
      ],
      "id": "d7a92779",
      "execution_count": 4,
      "outputs": [
        {
          "output_type": "stream",
          "name": "stdout",
          "text": [
            "/content/CS5242\n",
            "/content/CS5242\n"
          ]
        }
      ]
    },
    {
      "cell_type": "markdown",
      "metadata": {
        "id": "2f264b6f"
      },
      "source": [
        "253 images were successfully scraped."
      ],
      "id": "2f264b6f"
    },
    {
      "cell_type": "markdown",
      "metadata": {
        "id": "7dbebf79"
      },
      "source": [
        "## 2. Sliding Window"
      ],
      "id": "7dbebf79"
    },
    {
      "cell_type": "markdown",
      "metadata": {
        "id": "3c1a9552"
      },
      "source": [
        "As each facial image may contain multiple acne of different acne types, it will be best to break it into smaller patches to aid with the counting. We will construct a sliding window of size 50 x 50 and stride 50, iterating across each image to generate patches."
      ],
      "id": "3c1a9552"
    },
    {
      "cell_type": "code",
      "metadata": {
        "id": "1162eb00"
      },
      "source": [
        "from os import listdir, rename\n",
        "from os.path import isfile, join\n",
        "import numpy as np\n",
        "import matplotlib.pyplot as plt\n",
        "from PIL import Image\n",
        "import pandas as pd\n",
        "import random"
      ],
      "id": "1162eb00",
      "execution_count": 5,
      "outputs": []
    },
    {
      "cell_type": "code",
      "metadata": {
        "id": "cdc646a1"
      },
      "source": [
        "images = [join('scraped_data', f) for f in listdir('scraped_data') if isfile(join('scraped_data', f))]"
      ],
      "id": "cdc646a1",
      "execution_count": 6,
      "outputs": []
    },
    {
      "cell_type": "code",
      "metadata": {
        "id": "04ecb4d5"
      },
      "source": [
        "# Set size of sliding window\n",
        "window_size = 50"
      ],
      "id": "04ecb4d5",
      "execution_count": 7,
      "outputs": []
    },
    {
      "cell_type": "code",
      "metadata": {
        "colab": {
          "base_uri": "https://localhost:8080/"
        },
        "id": "cb605ec7",
        "outputId": "862762a7-0d56-4404-be5a-9b0f52290a78"
      },
      "source": [
        "# Slicing images\n",
        "import os\n",
        "print(os.getcwd())\n",
        "!mkdir -p temp_dataset\n",
        "counter = 0\n",
        "for image_path in images:\n",
        "    img = np.asarray(Image.open(image_path))\n",
        "    for i in range(0,img.shape[0],window_size):\n",
        "        for j in range(0,img.shape[1],window_size):\n",
        "            sub_img = img[i:i+window_size, j:j+window_size, :]\n",
        "            # Save image\n",
        "            img_name = image_path.split('/')[-1].split('.')[0]\n",
        "            Image.fromarray(sub_img).save(f'temp_dataset/{counter}.jpg')\n",
        "            counter += 1"
      ],
      "id": "cb605ec7",
      "execution_count": 8,
      "outputs": [
        {
          "output_type": "stream",
          "name": "stdout",
          "text": [
            "/content/CS5242\n"
          ]
        }
      ]
    },
    {
      "cell_type": "code",
      "metadata": {
        "id": "fb561b34"
      },
      "source": [
        "# Create csv for tagging\n",
        "cropped_images = sorted([f for f in listdir('temp_dataset') if isfile(join('temp_dataset', f))])\n",
        "shuffled_images_name = cropped_images.copy()\n",
        "random.shuffle(shuffled_images_name)\n",
        "filenames_rows = list(zip(cropped_images, shuffled_images_name))"
      ],
      "id": "fb561b34",
      "execution_count": 9,
      "outputs": []
    },
    {
      "cell_type": "code",
      "metadata": {
        "id": "6cc82e9b"
      },
      "source": [
        "tagging_df = pd.DataFrame(filenames_rows, columns=['Image File', 'New Image Name'])"
      ],
      "id": "6cc82e9b",
      "execution_count": 10,
      "outputs": []
    },
    {
      "cell_type": "code",
      "metadata": {
        "id": "536e64b9"
      },
      "source": [
        "# Rename files with shuffled names. Just for illustration. Do not do this as the files are in the downloaded repo already\n",
        "# print(os.getcwd())\n",
        "# !mkdir -p dataset\n",
        "# for idx, row in tagging_df.iterrows():\n",
        "#     rename(f'temp_dataset/{row[\"Image File\"]}', f'dataset/{row[\"New Image Name\"]}')"
      ],
      "id": "536e64b9",
      "execution_count": 11,
      "outputs": []
    },
    {
      "cell_type": "code",
      "metadata": {
        "colab": {
          "base_uri": "https://localhost:8080/",
          "height": 206
        },
        "id": "26a935e8",
        "outputId": "b4cf1bd4-6500-4522-8061-d432141bb543"
      },
      "source": [
        "tagging_df.head()"
      ],
      "id": "26a935e8",
      "execution_count": 12,
      "outputs": [
        {
          "output_type": "execute_result",
          "data": {
            "text/html": [
              "<div>\n",
              "<style scoped>\n",
              "    .dataframe tbody tr th:only-of-type {\n",
              "        vertical-align: middle;\n",
              "    }\n",
              "\n",
              "    .dataframe tbody tr th {\n",
              "        vertical-align: top;\n",
              "    }\n",
              "\n",
              "    .dataframe thead th {\n",
              "        text-align: right;\n",
              "    }\n",
              "</style>\n",
              "<table border=\"1\" class=\"dataframe\">\n",
              "  <thead>\n",
              "    <tr style=\"text-align: right;\">\n",
              "      <th></th>\n",
              "      <th>Image File</th>\n",
              "      <th>New Image Name</th>\n",
              "    </tr>\n",
              "  </thead>\n",
              "  <tbody>\n",
              "    <tr>\n",
              "      <th>0</th>\n",
              "      <td>0.jpg</td>\n",
              "      <td>5748.jpg</td>\n",
              "    </tr>\n",
              "    <tr>\n",
              "      <th>1</th>\n",
              "      <td>1.jpg</td>\n",
              "      <td>954.jpg</td>\n",
              "    </tr>\n",
              "    <tr>\n",
              "      <th>2</th>\n",
              "      <td>10.jpg</td>\n",
              "      <td>7048.jpg</td>\n",
              "    </tr>\n",
              "    <tr>\n",
              "      <th>3</th>\n",
              "      <td>100.jpg</td>\n",
              "      <td>3134.jpg</td>\n",
              "    </tr>\n",
              "    <tr>\n",
              "      <th>4</th>\n",
              "      <td>1000.jpg</td>\n",
              "      <td>649.jpg</td>\n",
              "    </tr>\n",
              "  </tbody>\n",
              "</table>\n",
              "</div>"
            ],
            "text/plain": [
              "  Image File New Image Name\n",
              "0      0.jpg       5748.jpg\n",
              "1      1.jpg        954.jpg\n",
              "2     10.jpg       7048.jpg\n",
              "3    100.jpg       3134.jpg\n",
              "4   1000.jpg        649.jpg"
            ]
          },
          "metadata": {},
          "execution_count": 12
        }
      ]
    },
    {
      "cell_type": "code",
      "metadata": {
        "id": "e53be53c"
      },
      "source": [
        "tagging_df.to_csv('original_filename.csv', index=False)"
      ],
      "id": "e53be53c",
      "execution_count": 13,
      "outputs": []
    },
    {
      "cell_type": "markdown",
      "metadata": {
        "id": "2db79a18"
      },
      "source": [
        "Through this process, we generated approximately 7,500 patches. We then manually labelled 1,500 patches as our dataset to split into train and test later on. These patches were labelled as one of these 6 classes:\n",
        "- Not face - 0\n",
        "- Normal skin - 1\n",
        "- Pustule - 2\n",
        "- Whitehead - 3\n",
        "- Blackhead - 4\n",
        "- Cyst - 5\n"
      ],
      "id": "2db79a18"
    },
    {
      "cell_type": "markdown",
      "metadata": {
        "id": "adae3943"
      },
      "source": [
        "## 3. Getting Label\n",
        "At this point, we manually labelled almost 2000 images into 1 of the 6 classes above."
      ],
      "id": "adae3943"
    },
    {
      "cell_type": "code",
      "metadata": {
        "id": "3be4ee8b"
      },
      "source": [
        "# labels already downloaded in github repo\n",
        "import pandas as pd\n",
        "# !wget \"https://raw.githubusercontent.com/simasuiyuan/CS5242/master/labels.csv\"\n",
        "# labels = pd.read_csv('labels.csv')"
      ],
      "id": "3be4ee8b",
      "execution_count": 14,
      "outputs": []
    },
    {
      "cell_type": "markdown",
      "metadata": {
        "id": "94b351ba"
      },
      "source": [
        "## 4. Data Exploration and Preprocessing\n",
        "We load the images and performed image augmentation such that we have an equal number balance of images across the different labels for our training and test set to pick from."
      ],
      "id": "94b351ba"
    },
    {
      "cell_type": "code",
      "metadata": {
        "id": "d5aecb23"
      },
      "source": [
        "import numpy as np\n",
        "import cv2\n",
        "import matplotlib.pyplot as plt\n",
        "# from PIL import Image\n",
        "\n",
        "from keras.preprocessing.image import load_img \n",
        "from keras.applications.vgg16 import preprocess_input \n",
        "\n",
        "from os import listdir, rename\n",
        "from os.path import isfile, join\n",
        "import numpy as np\n",
        "import matplotlib.pyplot as plt\n",
        "from PIL import Image\n",
        "import pandas as pd\n",
        "import random\n",
        "from sklearn.model_selection import train_test_split\n",
        "from collections import Counter\n",
        "from skimage.transform import rotate, AffineTransform, warp\n",
        "from skimage.util import random_noise\n",
        "\n",
        "%load_ext autoreload\n",
        "%autoreload\n",
        "from project.src.dataLoader import dataLoader\n",
        "from project.src.utils import image_utils"
      ],
      "id": "d5aecb23",
      "execution_count": 15,
      "outputs": []
    },
    {
      "cell_type": "code",
      "metadata": {
        "id": "280adc8a"
      },
      "source": [
        "def load_images(labels):\n",
        "    X = []\n",
        "    y = []\n",
        "    for row in labels.itertuples():\n",
        "        img_path = join('./dataset', row.filename)\n",
        "        # print(row.filename)\n",
        "        # print(img_path)\n",
        "        # img = np.asarray(Image.open(img_path))\n",
        "        # img = np.array(img) \n",
        "        img = load_img(img_path, target_size=(50,50))\n",
        "        img = np.asarray(img)\n",
        "        # Keep squares for now\n",
        "        if img.shape[0] == img.shape[1]:\n",
        "            y.append(row.label)\n",
        "            X.append(img)\n",
        "    return X, y"
      ],
      "id": "280adc8a",
      "execution_count": 16,
      "outputs": []
    },
    {
      "cell_type": "code",
      "metadata": {
        "id": "c9d14745"
      },
      "source": [
        "def augment_data_no_dist_balance(X_train, y_train):\n",
        "    final_X_train = []\n",
        "    final_y_train = []\n",
        "    label_distribution = Counter(y_train)\n",
        "    plt.bar(label_distribution.keys(), label_distribution.values())\n",
        "    plt.show()\n",
        "    print(label_distribution)\n",
        "    for i in range(len(X_train)):\n",
        "        final_X_train.append(X_train[i])\n",
        "        final_X_train.append(rotate(X_train[i], angle=45, mode = 'wrap'))\n",
        "        final_X_train.append(np.fliplr(X_train[i]))\n",
        "        final_X_train.append(np.flipud(X_train[i]))\n",
        "        final_X_train.append(random_noise(X_train[i],var=0.05**2))\n",
        "        \n",
        "        final_y_train += [y_train[i]] * 5\n",
        "    label_distribution = Counter(final_y_train)\n",
        "    print(label_distribution)\n",
        "    plt.bar(label_distribution.keys(), label_distribution.values())\n",
        "    plt.show()\n",
        "    return final_X_train, final_y_train\n",
        "\n",
        "def augment_data(X_train, y_train):\n",
        "    final_X_train = []\n",
        "    final_y_train = []\n",
        "    label_distribution = Counter(y_train)\n",
        "    plt.bar(label_distribution.keys(), label_distribution.values())\n",
        "    plt.show()\n",
        "    print(label_distribution)\n",
        "    max_count_label = max(label_distribution, key=label_distribution.get)\n",
        "    min_count_label = min(label_distribution, key=label_distribution.get)\n",
        "    for i in range(len(X_train)):\n",
        "        label_key = y_train[i]\n",
        "        if label_distribution[max_count_label] - label_distribution[label_key] >= 10 or label_distribution[max_count_label] - label_distribution[min_count_label] <= 6:\n",
        "            final_X_train.append(X_train[i])\n",
        "            angle = 90\n",
        "            while angle < 360:\n",
        "                final_X_train.append(rotate(X_train[i], angle=angle, mode = 'wrap'))\n",
        "                angle+=90\n",
        "            \n",
        "            final_X_train.append(random_noise(X_train[i],var=0.05**2))\n",
        "        \n",
        "            final_y_train += [y_train[i]] * 5\n",
        "            label_distribution = Counter(final_y_train)\n",
        "            max_count = max(label_distribution, key=label_distribution.get)\n",
        "            min_count = min(label_distribution, key=label_distribution.get)\n",
        "    print(label_distribution)\n",
        "    plt.bar(label_distribution.keys(), label_distribution.values())\n",
        "    plt.show()\n",
        "    return final_X_train, final_y_train"
      ],
      "id": "c9d14745",
      "execution_count": 17,
      "outputs": []
    },
    {
      "cell_type": "code",
      "metadata": {
        "colab": {
          "base_uri": "https://localhost:8080/",
          "height": 0
        },
        "id": "4680a3ca",
        "outputId": "36f1cfa7-fa6b-473b-84cf-2d6fd3bb26a7"
      },
      "source": [
        "labels = pd.read_csv('labels.csv')\n",
        "display(labels.head())\n",
        "labels.shape"
      ],
      "id": "4680a3ca",
      "execution_count": 18,
      "outputs": [
        {
          "output_type": "display_data",
          "data": {
            "text/html": [
              "<div>\n",
              "<style scoped>\n",
              "    .dataframe tbody tr th:only-of-type {\n",
              "        vertical-align: middle;\n",
              "    }\n",
              "\n",
              "    .dataframe tbody tr th {\n",
              "        vertical-align: top;\n",
              "    }\n",
              "\n",
              "    .dataframe thead th {\n",
              "        text-align: right;\n",
              "    }\n",
              "</style>\n",
              "<table border=\"1\" class=\"dataframe\">\n",
              "  <thead>\n",
              "    <tr style=\"text-align: right;\">\n",
              "      <th></th>\n",
              "      <th>filename</th>\n",
              "      <th>label</th>\n",
              "    </tr>\n",
              "  </thead>\n",
              "  <tbody>\n",
              "    <tr>\n",
              "      <th>0</th>\n",
              "      <td>1.jpg</td>\n",
              "      <td>1</td>\n",
              "    </tr>\n",
              "    <tr>\n",
              "      <th>1</th>\n",
              "      <td>2.jpg</td>\n",
              "      <td>5</td>\n",
              "    </tr>\n",
              "    <tr>\n",
              "      <th>2</th>\n",
              "      <td>4.jpg</td>\n",
              "      <td>1</td>\n",
              "    </tr>\n",
              "    <tr>\n",
              "      <th>3</th>\n",
              "      <td>5.jpg</td>\n",
              "      <td>2</td>\n",
              "    </tr>\n",
              "    <tr>\n",
              "      <th>4</th>\n",
              "      <td>6.jpg</td>\n",
              "      <td>1</td>\n",
              "    </tr>\n",
              "  </tbody>\n",
              "</table>\n",
              "</div>"
            ],
            "text/plain": [
              "  filename  label\n",
              "0    1.jpg      1\n",
              "1    2.jpg      5\n",
              "2    4.jpg      1\n",
              "3    5.jpg      2\n",
              "4    6.jpg      1"
            ]
          },
          "metadata": {}
        },
        {
          "output_type": "execute_result",
          "data": {
            "text/plain": [
              "(1939, 2)"
            ]
          },
          "metadata": {},
          "execution_count": 18
        }
      ]
    },
    {
      "cell_type": "code",
      "metadata": {
        "colab": {
          "base_uri": "https://localhost:8080/"
        },
        "id": "af0e5e07",
        "outputId": "c1da362a-de07-4f83-bd96-c16568d602e4"
      },
      "source": [
        "X, y = load_images(labels)\n",
        "np.array(X).shape"
      ],
      "id": "af0e5e07",
      "execution_count": 19,
      "outputs": [
        {
          "output_type": "execute_result",
          "data": {
            "text/plain": [
              "(1939, 50, 50, 3)"
            ]
          },
          "metadata": {},
          "execution_count": 19
        }
      ]
    },
    {
      "cell_type": "markdown",
      "metadata": {
        "id": "Hc_mHtvVTsd7"
      },
      "source": [
        "The distribution of the number of raw images and the augmented balanced dataset is show below. Afterwards, we separate the balanced dataset into train and test set with an equal split."
      ],
      "id": "Hc_mHtvVTsd7"
    },
    {
      "cell_type": "code",
      "metadata": {
        "id": "3bd0f53f"
      },
      "source": [
        "# if no balancing is required, use this instead.\n",
        "# X_train, X_test, y_train_df, y_test_df = train_test_split(X, labels, test_size = 0.5, random_state = 12, stratify=y)\n",
        "# y_train = y_train_df.label.values\n",
        "# y_test = y_test_df.label.values\n",
        "# X_train, y_train = augment_data_no_dist_balance(X_train, y_train)"
      ],
      "id": "3bd0f53f",
      "execution_count": 20,
      "outputs": []
    },
    {
      "cell_type": "code",
      "metadata": {
        "colab": {
          "base_uri": "https://localhost:8080/",
          "height": 0
        },
        "id": "ae3b7c6a",
        "outputId": "25d89c34-085a-4c01-e0f0-cbe9a5a7d854"
      },
      "source": [
        "import torch\n",
        "from sklearn.model_selection import train_test_split\n",
        "\n",
        "X_train, X_test, y_train_df, y_test_df = train_test_split(X, labels, test_size = 0.5, random_state = 45, stratify=y)\n",
        "y_train = y_train_df.label.values\n",
        "y_test = y_test_df.label.values\n",
        "X_train, y_train = augment_data(X_train, y_train)\n",
        "np.array(X_train).shape"
      ],
      "id": "ae3b7c6a",
      "execution_count": 21,
      "outputs": [
        {
          "output_type": "display_data",
          "data": {
            "image/png": "[encoded data removed]",
            "text/plain": [
              "<Figure size 432x288 with 1 Axes>"
            ]
          },
          "metadata": {
            "needs_background": "light"
          }
        },
        {
          "output_type": "stream",
          "name": "stdout",
          "text": [
            "Counter({1: 233, 2: 183, 3: 163, 0: 148, 4: 141, 5: 101})\n",
            "Counter({1: 515, 2: 515, 0: 510, 4: 510, 3: 510, 5: 505})\n"
          ]
        },
        {
          "output_type": "display_data",
          "data": {
            "image/png": "[encoded data removed]",
            "text/plain": [
              "<Figure size 432x288 with 1 Axes>"
            ]
          },
          "metadata": {
            "needs_background": "light"
          }
        },
        {
          "output_type": "execute_result",
          "data": {
            "text/plain": [
              "(3065, 50, 50, 3)"
            ]
          },
          "metadata": {},
          "execution_count": 21
        }
      ]
    },
    {
      "cell_type": "markdown",
      "metadata": {
        "id": "-82WWCVHXrv2"
      },
      "source": [
        "## 5. Networks and Models\n",
        "\n",
        "The RGB to HSV color space conversion class as well as the different networks  and models used are shown below."
      ],
      "id": "-82WWCVHXrv2"
    },
    {
      "cell_type": "code",
      "metadata": {
        "id": "BUzKN5XEXxUe"
      },
      "source": [
        "import torch\n",
        "import torch.nn as nn\n",
        "\n",
        "class RGB2HSV(nn.Module):\n",
        "    def __init__(self):\n",
        "        super(RGB2HSV, self).__init__()\n",
        "\n",
        "    def rgb2hsv(self, input, epsilon=1e-5):\n",
        "        assert(input.shape[1] == 3)\n",
        "        r, g, b = input[:, 0], input[:, 1], input[:, 2]\n",
        "        max_rgb, argmax_rgb = input.max(1)\n",
        "        min_rgb, argmin_rgb = input.min(1)\n",
        "        max_min = max_rgb - min_rgb + epsilon\n",
        "        h1 = 60.0 * (g - r) / max_min + 60.0\n",
        "        h2 = 60.0 * (b - g) / max_min + 180.0\n",
        "        h3 = 60.0 * (r - b) / max_min + 300.0\n",
        "        h = torch.stack((h2, h3, h1), dim=0).gather(dim=0, index=argmin_rgb.unsqueeze(0)).squeeze(0)\n",
        "        s = max_min / (max_rgb + epsilon)\n",
        "        v = max_rgb\n",
        "        return torch.stack((h, s, v), dim=1)\n",
        "\n",
        "    def forward(self,x):\n",
        "        x = self.rgb2hsv(x)\n",
        "        scores = x\n",
        "        return scores\n",
        "# ================================================================================\n",
        "class MLP1(nn.Module):\n",
        "\n",
        "    def __init__(self, input_size, output_size):\n",
        "        super(MLP1, self).__init__()\n",
        "\n",
        "        self.layer1 = nn.Linear(in_features=input_size, out_features=output_size, bias=True)\n",
        "\n",
        "    def forward(self,x):\n",
        "        x = self.layer1(x)\n",
        "        scores = x\n",
        "        return scores\n",
        "# ================================================================================\n",
        "class MLP3(nn.Module):\n",
        "\n",
        "    def __init__(self, input_size, hidden_size_1, hidden_size_2, output_size):\n",
        "        super(MLP3, self).__init__()\n",
        "\n",
        "        self.layer1 = nn.Linear(in_features=input_size,    out_features=hidden_size_1, bias=True)\n",
        "        self.layer2 = nn.Linear(in_features=hidden_size_1, out_features=hidden_size_2, bias=True)\n",
        "        self.layer3 = nn.Linear(in_features=hidden_size_2, out_features=output_size,   bias=True)\n",
        "\n",
        "    def forward(self, x):\n",
        "        x = x.view(-1,self.layer1.in_features)\n",
        "        x = self.layer1(x)\n",
        "        x = torch.relu(x)\n",
        "        x = self.layer2(x)\n",
        "        x = torch.relu(x)\n",
        "        x = self.layer3(x)\n",
        "        scores = x\n",
        "        return scores\n",
        "# ================================================================================\n",
        "class CNN(nn.Module):\n",
        "\n",
        "    def __init__(self, channel_size):\n",
        "        super(CNN, self).__init__()\n",
        "\n",
        "        # Conv2d parameters\n",
        "        in_channels       = 3\n",
        "        conv_kernel_size  = 3\n",
        "        conv_stride       = 1\n",
        "        conv_padding      = 1\n",
        "        bias              = True\n",
        "\n",
        "        # MaxPool2d parameters\n",
        "        pool_kernel_size  = 2\n",
        "        pool_stride       = 2\n",
        "        pool_padding      = 0\n",
        "        \n",
        "        # block 1\n",
        "        self.layer1a = nn.Conv2d(in_channels=in_channels,    out_channels=channel_size*1, kernel_size=conv_kernel_size, stride=conv_stride, padding=conv_padding, bias=bias)\n",
        "        self.layer1b = nn.Conv2d(in_channels=channel_size*1, out_channels=channel_size*1, kernel_size=conv_kernel_size, stride=conv_stride, padding=conv_padding, bias=bias)\n",
        "        self.pool1   = nn.MaxPool2d(kernel_size=pool_kernel_size, stride=pool_stride, padding=pool_padding)\n",
        "\n",
        "        # block 2\n",
        "        self.layer2a = nn.Conv2d(in_channels=channel_size*1, out_channels=channel_size*2, kernel_size=conv_kernel_size, stride=conv_stride, padding=conv_padding, bias=bias)\n",
        "        self.layer2b = nn.Conv2d(in_channels=channel_size*2, out_channels=channel_size*2, kernel_size=conv_kernel_size, stride=conv_stride, padding=conv_padding, bias=bias)\n",
        "        self.pool2   = nn.MaxPool2d(kernel_size=pool_kernel_size, stride=pool_stride, padding=pool_padding)\n",
        "\n",
        "        # block 3\n",
        "        self.layer3a = nn.Conv2d(in_channels=channel_size*2, out_channels=channel_size*4, kernel_size=conv_kernel_size, stride=conv_stride, padding=conv_padding, bias=bias)\n",
        "        self.layer3b = nn.Conv2d(in_channels=channel_size*4, out_channels=channel_size*4, kernel_size=conv_kernel_size, stride=conv_stride, padding=conv_padding, bias=bias)\n",
        "        self.pool3   = nn.MaxPool2d(kernel_size=pool_kernel_size, stride=pool_stride, padding=pool_padding)\n",
        "\n",
        "        # block 4\n",
        "        self.layer4a = nn.Conv2d(in_channels=channel_size*4, out_channels=channel_size*8, kernel_size=conv_kernel_size, stride=conv_stride, padding=conv_padding, bias=bias)\n",
        "        self.pool4   = nn.MaxPool2d(kernel_size=pool_kernel_size, stride=pool_stride, padding=pool_padding)\n",
        "\n",
        "    def forward(self, x):\n",
        "        # block 1\n",
        "        x = self.layer1a(x)\n",
        "        x = torch.relu(x)\n",
        "        x = self.layer1b(x)\n",
        "        x = torch.relu(x)\n",
        "        x = self.pool1(x)\n",
        "\n",
        "        # block 2\n",
        "        x = self.layer2a(x)\n",
        "        x = torch.relu(x)\n",
        "        x = self.layer2b(x)\n",
        "        x = torch.relu(x)\n",
        "        x = self.pool2(x)\n",
        "\n",
        "        # block 3\n",
        "        x = self.layer3a(x)\n",
        "        x = torch.relu(x)\n",
        "        x = self.layer3b(x)\n",
        "        x = torch.relu(x)\n",
        "        x = self.pool3(x)\n",
        "\n",
        "        # block 4\n",
        "        x = self.layer4a(x)\n",
        "        x = torch.relu(x)\n",
        "        x = self.pool4(x)\n",
        "\n",
        "        scores = x\n",
        "        return scores\n",
        "# ================================================================================\n",
        "class Combined_MLP3(nn.Module):\n",
        "\n",
        "    def __init__(self, color_space, mlp3, COLOR_TRANS):\n",
        "        super(Combined_MLP3, self).__init__()\n",
        "        self.color_space = color_space\n",
        "        self.mlp3 = mlp3\n",
        "        self.color_trans = COLOR_TRANS\n",
        "\n",
        "    def forward(self, x):\n",
        "        if self.color_trans: x = self.color_space(x)\n",
        "        x = self.mlp3(x)\n",
        "        scores = x\n",
        "        return scores\n",
        "# ================================================================================\n",
        "class Combined_CNN_MLP3(nn.Module):\n",
        "\n",
        "    def __init__(self, color_space, cnn, mlp3, COLOR_TRANS):\n",
        "        super(Combined_CNN_MLP3, self).__init__()\n",
        "        self.color_space = color_space\n",
        "        self.cnn  = cnn\n",
        "        self.mlp3 = mlp3\n",
        "        self.color_trans = COLOR_TRANS\n",
        "\n",
        "    def forward(self, x):\n",
        "        if self.color_trans: x = self.color_space(x)\n",
        "        x = self.cnn(x)\n",
        "        x = self.mlp3(x)\n",
        "        scores = x\n",
        "        return scores\n"
      ],
      "id": "BUzKN5XEXxUe",
      "execution_count": 22,
      "outputs": []
    },
    {
      "cell_type": "markdown",
      "metadata": {
        "id": "x6F1AO-bVLNp"
      },
      "source": [
        "Some helper functions for evaluating the accuracy and error scores."
      ],
      "id": "x6F1AO-bVLNp"
    },
    {
      "cell_type": "code",
      "metadata": {
        "id": "a55f6e6d"
      },
      "source": [
        "def get_accuracy(scores, labels):\n",
        "    num_data = scores.size(0)\n",
        "    predicted_labels = scores.argmax(dim=1)\n",
        "    indicator = (predicted_labels == labels)\n",
        "    num_matches = indicator.sum()\n",
        "    return 100*num_matches.float()/num_data  \n",
        "\n",
        "def get_error( scores , labels ):\n",
        "\n",
        "    bs=scores.size(0)\n",
        "    predicted_labels = scores.argmax(dim=1)\n",
        "    indicator = (predicted_labels == labels)\n",
        "    num_matches=indicator.sum()\n",
        "    \n",
        "    return 1-num_matches.float()/bs   \n",
        "\n",
        "def eval_on_test_set(test_data, test_label, net, mean, std, bs, device):\n",
        "\n",
        "    running_error=0\n",
        "    running_acc = 0\n",
        "    num_batches=0\n",
        "\n",
        "    for i in range(0,100,bs):\n",
        "\n",
        "        minibatch_data =  test_data[i:i+bs].to(device)\n",
        "        minibatch_label = test_label[i:i+bs].to(device)\n",
        "        \n",
        "        inputs = (minibatch_data - mean)/std\n",
        "\n",
        "        scores= net( inputs ) \n",
        "\n",
        "        error = get_error( scores.detach() , minibatch_label)\n",
        "        acc = get_accuracy( scores.detach() , minibatch_label)\n",
        "\n",
        "        running_error += error.item()\n",
        "        running_acc += acc.item()\n",
        "\n",
        "        num_batches+=1\n",
        "\n",
        "    total_error = running_error/num_batches\n",
        "    total_acc = running_acc/num_batches\n",
        "    # print(running_error, num_batches)\n",
        "    print( 'error rate on test set =', total_error*100 ,'percent')\n",
        "    print('accuracy =', total_acc)\n",
        "    return total_error, total_acc"
      ],
      "id": "a55f6e6d",
      "execution_count": 23,
      "outputs": []
    },
    {
      "cell_type": "markdown",
      "metadata": {
        "id": "FkBpDciZWIew"
      },
      "source": [
        "# 6. Training loop\n",
        "\n",
        "We do an early stop if the model underperforms and is unlikely to improve, or performs well enough (around the best ballpark results we have seen so far) after 50 epochs."
      ],
      "id": "FkBpDciZWIew"
    },
    {
      "cell_type": "code",
      "metadata": {
        "id": "2cBGaMAU5Ou2"
      },
      "source": [
        "import torch\n",
        "import torch.nn as nn\n",
        "import torch.optim as optim\n",
        "import time\n",
        "\n",
        "def train_net_MLP(net1, X_train, y_train, X_test, y_test, device, optimizer_func):\n",
        "    log = {\n",
        "        \"train_loss\": [],\n",
        "        \"train_error\": [],\n",
        "        \"train_accuracy\": [],\n",
        "        \"test_error\": [],\n",
        "        \"test_accuracy\": [],\n",
        "    }\n",
        "    # parameters\n",
        "    epoch_count      = 100\n",
        "    batch_size       = 128\n",
        "    learning_rate    = 0.001\n",
        "\n",
        "    X_train = X_train.view(-1, 3, 50, 50)\n",
        "    X_test = X_test.view(-1, 3, 50, 50)\n",
        "    train_data_count = X_train.shape[0]\n",
        "    mean = X_train.mean().to(device)\n",
        "    std = X_train.std().to(device)\n",
        "\n",
        "    # objects\n",
        "    criterion = nn.CrossEntropyLoss()\n",
        "\n",
        "    # training loop\n",
        "    start = time.time()\n",
        "    for epoch in range(epoch_count):\n",
        "\n",
        "        # statistics\n",
        "        running_loss=0\n",
        "        running_error=0\n",
        "        running_accuracy = 0\n",
        "        num_batches=0\n",
        "\n",
        "        # objects - new optimizer each epoch\n",
        "\n",
        "        optimizer = optimizer_func(net1.parameters(), lr=learning_rate)\n",
        "\n",
        "        # sample inputs randomly\n",
        "        shuffled_indices = torch.randperm(train_data_count)\n",
        "\n",
        "        # minibatch loop\n",
        "        for count in range(0, train_data_count, batch_size):\n",
        "\n",
        "            # reset gradients\n",
        "            optimizer.zero_grad()\n",
        "\n",
        "            # create minibatch\n",
        "            indices = shuffled_indices[count:count+batch_size].to(device)\n",
        "            minibatch_data =  X_train[indices].to(device)\n",
        "            minibatch_label =  y_train[indices].to(device)\n",
        "            \n",
        "            # forward pass\n",
        "            inputs = (minibatch_data - mean) / std\n",
        "            inputs.requires_grad_()\n",
        "            scores = net1(inputs)\n",
        "            loss   = criterion(scores, minibatch_label)\n",
        "\n",
        "            # backward pass\n",
        "            loss.backward()\n",
        "            optimizer.step()\n",
        "\n",
        "            # statistics (with detach to prevent accumulation)\n",
        "            running_loss += loss.detach().item()\n",
        "            error = get_error( scores.detach() , minibatch_label)\n",
        "            acc = get_accuracy(scores.detach() , minibatch_label)\n",
        "            running_error += error.item()\n",
        "            running_accuracy += acc.item()\n",
        "            num_batches +=1\n",
        "\n",
        "\n",
        "        # compute stats for the full training set\n",
        "        total_loss = running_loss/num_batches\n",
        "        total_error = running_error/num_batches\n",
        "        total_acc = running_accuracy/num_batches\n",
        "        log[\"train_loss\"].append(total_loss)\n",
        "        log[\"train_error\"].append(total_error)\n",
        "        log[\"train_accuracy\"].append(total_acc)\n",
        "    \n",
        "        print('epoch=',epoch, '\\t loss=', total_loss , '\\t error=', total_error*100 ,'percent')\n",
        "        print('accuracy =', total_acc)\n",
        "        print(' ')\n",
        "\n",
        "        test_error,test_acc = eval_on_test_set(X_test, y_test, net1, mean, std, batch_size,device=device)\n",
        "\n",
        "        log[\"test_error\"].append(test_error)\n",
        "        log[\"test_accuracy\"].append(test_acc)\n",
        "        print(\"=\"*50)\n",
        "\n",
        "        if (epoch > 50 and ((abs(total_acc-test_acc)<0) or test_acc>38 or test_acc<20)) or (epoch > 50 and abs(total_acc-test_acc)>30): break\n",
        "    return log\n",
        "# ================================================================================\n",
        "def train_net_VGG(net1, X_train, y_train, X_test, y_test, device, optimizer_func, learning_rate=3e-6, early_stop=True):\n",
        "    log = {\n",
        "        \"train_loss\": [],\n",
        "        \"train_error\": [],\n",
        "        \"train_accuracy\": [],\n",
        "        \"test_error\": [],\n",
        "        \"test_accuracy\": [],\n",
        "    }\n",
        "    # parameters\n",
        "    epoch_count      = 100\n",
        "    batch_size       = 128\n",
        "    learning_rate    = learning_rate\n",
        "\n",
        "    X_train = X_train.view(-1, 3, 50, 50)\n",
        "    X_test = X_test.view(-1, 3, 50, 50)\n",
        "    train_data_count = X_train.shape[0]\n",
        "    mean = X_train.mean().to(device)\n",
        "    std = X_train.std().to(device)\n",
        "\n",
        "    # objects\n",
        "    criterion = nn.CrossEntropyLoss()\n",
        "\n",
        "    # training loop\n",
        "    start = time.time()\n",
        "    for epoch in range(epoch_count):\n",
        "\n",
        "        # statistics\n",
        "        running_loss=0\n",
        "        running_error=0\n",
        "        running_accuracy = 0\n",
        "        num_batches=0\n",
        "\n",
        "        # objects - new optimizer each epoch\n",
        "\n",
        "        optimizer = optimizer_func(net1.parameters(), lr=learning_rate)\n",
        "\n",
        "        # sample inputs randomly\n",
        "        shuffled_indices = torch.randperm(train_data_count)\n",
        "\n",
        "        # minibatch loop\n",
        "        for count in range(0, train_data_count, batch_size):\n",
        "\n",
        "            # reset gradients\n",
        "            optimizer.zero_grad()\n",
        "\n",
        "            # create minibatch\n",
        "            indices = shuffled_indices[count:count+batch_size].to(device)\n",
        "            minibatch_data =  X_train[indices].to(device)\n",
        "            minibatch_label =  y_train[indices].to(device)\n",
        "            \n",
        "            # forward pass\n",
        "            inputs = (minibatch_data - mean) / std\n",
        "            inputs.requires_grad_()\n",
        "            scores = net1(inputs)\n",
        "            loss   = criterion(scores, minibatch_label)\n",
        "\n",
        "            # backward pass\n",
        "            loss.backward()\n",
        "            optimizer.step()\n",
        "\n",
        "            # statistics (with detach to prevent accumulation)\n",
        "            running_loss += loss.detach().item()\n",
        "            error = get_error( scores.detach() , minibatch_label)\n",
        "            acc = get_accuracy(scores.detach() , minibatch_label)\n",
        "            running_error += error.item()\n",
        "            running_accuracy += acc.item()\n",
        "            num_batches +=1\n",
        "\n",
        "\n",
        "        # compute stats for the full training set\n",
        "        total_loss = running_loss/num_batches\n",
        "        total_error = running_error/num_batches\n",
        "        total_acc = running_accuracy/num_batches\n",
        "        log[\"train_loss\"].append(total_loss)\n",
        "        log[\"train_error\"].append(total_error)\n",
        "        log[\"train_accuracy\"].append(total_acc)\n",
        "    \n",
        "        print('epoch=',epoch, '\\t loss=', total_loss , '\\t error=', total_error*100 ,'percent')\n",
        "        print('accuracy =', total_acc)\n",
        "        print(' ')\n",
        "\n",
        "        test_error,test_acc = eval_on_test_set(X_test, y_test, net1, mean, std, batch_size,device=device)\n",
        "\n",
        "        log[\"test_error\"].append(test_error)\n",
        "        log[\"test_accuracy\"].append(test_acc)\n",
        "        print(\"=\"*50)\n",
        "        if early_stop:\n",
        "            if (epoch > 50 and ((abs(total_acc-test_acc)<0) or test_acc>38 or test_acc<20)) or (epoch > 50 and abs(total_acc-test_acc)>30): break\n",
        "    return log"
      ],
      "id": "2cBGaMAU5Ou2",
      "execution_count": 24,
      "outputs": []
    },
    {
      "cell_type": "markdown",
      "metadata": {
        "id": "2i2l18yyXsAl"
      },
      "source": [
        "## 7. Network instantiation\n",
        "\n",
        "We define for 1 MLP model with 3 layers and a VGG model that uses both CNN layers and 3 linear layers."
      ],
      "id": "2i2l18yyXsAl"
    },
    {
      "cell_type": "code",
      "metadata": {
        "id": "QWH-h8GAWbB0"
      },
      "source": [
        "def create_net_MLP(num_class=6, COLOR_TRANS=True):\n",
        "    # parameters\n",
        "    input_size    = 3*50*50\n",
        "    hidden_size_1 = 4608*2\n",
        "    hidden_size_2 = 2048\n",
        "    output_size   = num_class\n",
        "\n",
        "    # modules\n",
        "    rgb_to_hsv = RGB2HSV()\n",
        "    mlp3 = MLP3(input_size=input_size, hidden_size_1=hidden_size_1, hidden_size_2=hidden_size_2, output_size=output_size)\n",
        "    net1 = Combined_MLP3(color_space=rgb_to_hsv, mlp3=mlp3, COLOR_TRANS=False)\n",
        "    return net1\n",
        "# ================================================================================\n",
        "def create_net_VGG(num_class=6, COLOR_TRANS=True):\n",
        "    # parameters\n",
        "    channel_size  = 64\n",
        "    input_size    = 4608\n",
        "    hidden_size_1 = 4608*2\n",
        "    hidden_size_2 = 2048\n",
        "    output_size   = num_class\n",
        "\n",
        "    # modules\n",
        "    rgb_to_hsv = RGB2HSV()\n",
        "    cnn  = CNN(channel_size=channel_size) # 4608\n",
        "    mlp3 = MLP3(input_size=input_size, hidden_size_1=hidden_size_1, hidden_size_2=hidden_size_2, output_size=output_size)\n",
        "    net1 = Combined_CNN_MLP3(color_space=rgb_to_hsv, cnn=cnn, mlp3=mlp3, COLOR_TRANS=COLOR_TRANS)\n",
        "    return net1"
      ],
      "id": "QWH-h8GAWbB0",
      "execution_count": 25,
      "outputs": []
    },
    {
      "cell_type": "code",
      "metadata": {
        "id": "o1ugVSanWepD"
      },
      "source": [
        "def case_MLP(X_train, y_train, X_test, y_test, device=torch.device('cuda' if torch.cuda.is_available() else 'cpu')):\n",
        "    net = create_net_MLP(num_class=6, COLOR_TRANS=False).to(device) # RGB\n",
        "    X_train = torch.from_numpy(np.array(X_train).astype(np.float32))\n",
        "    y_train = torch.from_numpy(np.array(y_train).astype(np.float32)).type(torch.LongTensor)\n",
        "    X_test = torch.from_numpy(np.array(X_test).astype(np.float32))\n",
        "    y_test = torch.from_numpy(np.array(y_test).astype(np.float32)).type(torch.LongTensor)\n",
        "    log = train_net_MLP(net, X_train, y_train, X_test, y_test, device=device, optimizer_func=torch.optim.Adam) # Adam\n",
        "    return net,log\n",
        "# ================================================================================\n",
        "def case_VGG1(X_train, y_train, X_test, y_test, device=torch.device('cuda' if torch.cuda.is_available() else 'cpu')):\n",
        "    net = create_net_VGG(num_class=6, COLOR_TRANS=True).to(device) # HSV\n",
        "    X_train = torch.from_numpy(np.array(X_train).astype(np.float32))\n",
        "    y_train = torch.from_numpy(np.array(y_train).astype(np.float32)).type(torch.LongTensor)\n",
        "    X_test = torch.from_numpy(np.array(X_test).astype(np.float32))\n",
        "    y_test = torch.from_numpy(np.array(y_test).astype(np.float32)).type(torch.LongTensor)\n",
        "    log = train_net_VGG(net, X_train, y_train, X_test, y_test, device=device, optimizer_func=torch.optim.SGD) # SGD\n",
        "    return net,log\n",
        "# ================================================================================\n",
        "def case_VGG2(X_train, y_train, X_test, y_test, device=torch.device('cuda' if torch.cuda.is_available() else 'cpu')):\n",
        "    net = create_net_VGG(num_class=6, COLOR_TRANS=False).to(device) # RGB\n",
        "    X_train = torch.from_numpy(np.array(X_train).astype(np.float32))\n",
        "    y_train = torch.from_numpy(np.array(y_train).astype(np.float32)).type(torch.LongTensor)\n",
        "    X_test = torch.from_numpy(np.array(X_test).astype(np.float32))\n",
        "    y_test = torch.from_numpy(np.array(y_test).astype(np.float32)).type(torch.LongTensor)\n",
        "    log = train_net_VGG(net, X_train, y_train, X_test, y_test, device=device, optimizer_func=torch.optim.Adam) # Adam\n",
        "    return net,log\n",
        "# ================================================================================\n",
        "def case_VGG3(X_train, y_train, X_test, y_test, device=torch.device('cuda' if torch.cuda.is_available() else 'cpu')):\n",
        "    net = create_net_VGG(num_class=6, COLOR_TRANS=True).to(device) # HSV\n",
        "    X_train = torch.from_numpy(np.array(X_train).astype(np.float32))\n",
        "    y_train = torch.from_numpy(np.array(y_train).astype(np.float32)).type(torch.LongTensor)\n",
        "    X_test = torch.from_numpy(np.array(X_test).astype(np.float32))\n",
        "    y_test = torch.from_numpy(np.array(y_test).astype(np.float32)).type(torch.LongTensor)\n",
        "    log = train_net_VGG(net, X_train, y_train, X_test, y_test, device=device, optimizer_func=torch.optim.Adam) # Adam\n",
        "    return net,log\n",
        "# ================================================================================\n",
        "def case_VGG4(X_train, y_train, X_test, y_test, device=torch.device('cuda' if torch.cuda.is_available() else 'cpu')):\n",
        "    net = create_net_VGG(num_class=6, COLOR_TRANS=True).to(device) # HSV\n",
        "    X_train = torch.from_numpy(np.array(X_train).astype(np.float32))\n",
        "    y_train = torch.from_numpy(np.array(y_train).astype(np.float32)).type(torch.LongTensor)\n",
        "    X_test = torch.from_numpy(np.array(X_test).astype(np.float32))\n",
        "    y_test = torch.from_numpy(np.array(y_test).astype(np.float32)).type(torch.LongTensor)\n",
        "    log = train_net_VGG(net, X_train, y_train, X_test, y_test, device=device, optimizer_func=torch.optim.Adam, learning_rate=3e-7, early_stop=False) # Adam\n",
        "    return net,log"
      ],
      "id": "o1ugVSanWepD",
      "execution_count": 26,
      "outputs": []
    },
    {
      "cell_type": "markdown",
      "metadata": {
        "id": "0035a9f5"
      },
      "source": [
        "## 8. Training\n",
        "Select a model to train. We have 5 different configurations here.\n",
        "The configurations are as follows:\n",
        "\n",
        "Network Model      | optimizer        |color space       |learning rate\n",
        "-------------------|------------------|------------------|------------------\n",
        "MLP                | Adam             | RGB              | 1e-3\n",
        "VGG16              | SGD              | HSV              | 3e-6\n",
        "VGG16              | Adam             | RGB              | 3e-6\n",
        "VGG16              | Adam             | HSV              | 3e-6\n",
        "VGG16              | Adam             | HSV              | 3e-7\n",
        "\n",
        "For the sake of brevity of the notebook, we only run the best model and display the results and plots below."
      ],
      "id": "0035a9f5"
    },
    {
      "cell_type": "code",
      "metadata": {
        "colab": {
          "base_uri": "https://localhost:8080/"
        },
        "id": "b516f159",
        "outputId": "68fd1b81-9393-4987-c8ca-34c5ce145768"
      },
      "source": [
        "# net_model, log = case_MLP(X_train, y_train, X_test, y_test)\n",
        "# net_model, log = case_VGG1(X_train, y_train, X_test, y_test)\n",
        "# net_model, log = case_VGG2(X_train, y_train, X_test, y_test)\n",
        "net_model, log = case_VGG3(X_train, y_train, X_test, y_test) # best model\n",
        "# net_model, log = case_VGG4(X_train, y_train, X_test, y_test)"
      ],
      "id": "b516f159",
      "execution_count": 27,
      "outputs": [
        {
          "output_type": "stream",
          "name": "stdout",
          "text": [
            "epoch= 0 \t loss= 1.7887578457593918 \t error= 80.60326278209686 percent\n",
            "accuracy = 19.396737217903137\n",
            " \n",
            "error rate on test set = 82.8125 percent\n",
            "accuracy = 17.1875\n",
            "==================================================\n",
            "epoch= 1 \t loss= 1.7773738950490952 \t error= 77.02872107426325 percent\n",
            "accuracy = 22.97127882639567\n",
            " \n",
            "error rate on test set = 83.59375 percent\n",
            "accuracy = 16.40625\n",
            "==================================================\n",
            "epoch= 2 \t loss= 1.7609353810548782 \t error= 75.1006156206131 percent\n",
            "accuracy = 24.899384419123333\n",
            " \n",
            "error rate on test set = 63.28125 percent\n",
            "accuracy = 36.71875\n",
            "==================================================\n",
            "epoch= 3 \t loss= 1.7421503514051437 \t error= 73.99949431419373 percent\n",
            "accuracy = 26.000505685806274\n",
            " \n",
            "error rate on test set = 70.3125 percent\n",
            "accuracy = 29.6875\n",
            "==================================================\n",
            "epoch= 4 \t loss= 1.7193641364574432 \t error= 72.09075838327408 percent\n",
            "accuracy = 27.909241517384846\n",
            " \n",
            "error rate on test set = 77.34375 percent\n",
            "accuracy = 22.65625\n",
            "==================================================\n",
            "epoch= 5 \t loss= 1.6999711493651073 \t error= 71.21508046984673 percent\n",
            "accuracy = 28.784919500350952\n",
            " \n",
            "error rate on test set = 71.875 percent\n",
            "accuracy = 28.125\n",
            "==================================================\n",
            "epoch= 6 \t loss= 1.6889334966739018 \t error= 71.88979635636011 percent\n",
            "accuracy = 28.110203584035236\n",
            " \n",
            "error rate on test set = 64.0625 percent\n",
            "accuracy = 35.9375\n",
            "==================================================\n",
            "epoch= 7 \t loss= 1.675491879383723 \t error= 70.19278357426325 percent\n",
            "accuracy = 29.80721632639567\n",
            " \n",
            "error rate on test set = 73.4375 percent\n",
            "accuracy = 26.5625\n",
            "==================================================\n",
            "epoch= 8 \t loss= 1.6690548658370972 \t error= 70.85001294811568 percent\n",
            "accuracy = 29.14998706181844\n",
            " \n",
            "error rate on test set = 70.3125 percent\n",
            "accuracy = 29.6875\n",
            "==================================================\n",
            "epoch= 9 \t loss= 1.660032108426094 \t error= 69.0365120768547 percent\n",
            "accuracy = 30.96348778406779\n",
            " \n",
            "error rate on test set = 65.625 percent\n",
            "accuracy = 34.375\n",
            "==================================================\n",
            "epoch= 10 \t loss= 1.6513579537471135 \t error= 69.32759781678519 percent\n",
            "accuracy = 30.672402222951252\n",
            " \n",
            "error rate on test set = 69.53125 percent\n",
            "accuracy = 30.46875\n",
            "==================================================\n",
            "epoch= 11 \t loss= 1.646629457672437 \t error= 68.78739446401596 percent\n",
            "accuracy = 31.212605396906536\n",
            " \n",
            "error rate on test set = 71.09375 percent\n",
            "accuracy = 28.90625\n",
            "==================================================\n",
            "epoch= 12 \t loss= 1.6467764228582382 \t error= 69.50918982426325 percent\n",
            "accuracy = 30.49081007639567\n",
            " \n",
            "error rate on test set = 72.65625 percent\n",
            "accuracy = 27.34375\n",
            "==================================================\n",
            "epoch= 13 \t loss= 1.636498178044955 \t error= 68.54069828987122 percent\n",
            "accuracy = 31.459301789601643\n",
            " \n",
            "error rate on test set = 67.1875 percent\n",
            "accuracy = 32.8125\n",
            "==================================================\n",
            "epoch= 14 \t loss= 1.6330525825421016 \t error= 68.0693656206131 percent\n",
            "accuracy = 31.930634419123333\n",
            " \n",
            "error rate on test set = 67.1875 percent\n",
            "accuracy = 32.8125\n",
            "==================================================\n",
            "epoch= 15 \t loss= 1.628412887454033 \t error= 67.93727402885756 percent\n",
            "accuracy = 32.062725941340126\n",
            " \n",
            "error rate on test set = 61.71875 percent\n",
            "accuracy = 38.28125\n",
            "==================================================\n",
            "epoch= 16 \t loss= 1.628496989607811 \t error= 69.11910300453505 percent\n",
            "accuracy = 30.880897045135498\n",
            " \n",
            "error rate on test set = 63.28125 percent\n",
            "accuracy = 36.71875\n",
            "==================================================\n",
            "epoch= 17 \t loss= 1.6205816268920898 \t error= 67.47966160376868 percent\n",
            "accuracy = 32.52033829689026\n",
            " \n",
            "error rate on test set = 65.625 percent\n",
            "accuracy = 34.375\n",
            "==================================================\n",
            "epoch= 18 \t loss= 1.623103216290474 \t error= 67.11593916018805 percent\n",
            "accuracy = 32.88406070073446\n",
            " \n",
            "error rate on test set = 64.84375 percent\n",
            "accuracy = 35.15625\n",
            "==================================================\n",
            "epoch= 19 \t loss= 1.619026005268097 \t error= 67.6787406206131 percent\n",
            "accuracy = 32.32125941912333\n",
            " \n",
            "error rate on test set = 72.65625 percent\n",
            "accuracy = 27.34375\n",
            "==================================================\n",
            "epoch= 20 \t loss= 1.6168469140926998 \t error= 67.09091986219087 percent\n",
            "accuracy = 32.9090801080068\n",
            " \n",
            "error rate on test set = 75.0 percent\n",
            "accuracy = 25.0\n",
            "==================================================\n",
            "epoch= 21 \t loss= 1.612384299437205 \t error= 68.80299796660742 percent\n",
            "accuracy = 31.197001934051514\n",
            " \n",
            "error rate on test set = 60.9375 percent\n",
            "accuracy = 39.0625\n",
            "==================================================\n",
            "epoch= 22 \t loss= 1.6097599516312282 \t error= 67.98542961478233 percent\n",
            "accuracy = 32.01457039515177\n",
            " \n",
            "error rate on test set = 71.875 percent\n",
            "accuracy = 28.125\n",
            "==================================================\n",
            "epoch= 23 \t loss= 1.6170596430699031 \t error= 67.11028963327408 percent\n",
            "accuracy = 32.88971026738485\n",
            " \n",
            "error rate on test set = 70.3125 percent\n",
            "accuracy = 29.6875\n",
            "==================================================\n",
            "epoch= 24 \t loss= 1.6050307601690292 \t error= 66.38661126295725 percent\n",
            "accuracy = 33.61338885625204\n",
            " \n",
            "error rate on test set = 69.53125 percent\n",
            "accuracy = 30.46875\n",
            "==================================================\n",
            "epoch= 25 \t loss= 1.6073914915323257 \t error= 67.49149883786836 percent\n",
            "accuracy = 32.50850121180216\n",
            " \n",
            "error rate on test set = 63.28125 percent\n",
            "accuracy = 36.71875\n",
            "==================================================\n",
            "epoch= 26 \t loss= 1.6034087240695953 \t error= 66.40598103404045 percent\n",
            "accuracy = 33.59401893615723\n",
            " \n",
            "error rate on test set = 64.0625 percent\n",
            "accuracy = 35.9375\n",
            "==================================================\n",
            "epoch= 27 \t loss= 1.5994838227828343 \t error= 66.86117202043533 percent\n",
            "accuracy = 33.138827880223594\n",
            " \n",
            "error rate on test set = 66.40625 percent\n",
            "accuracy = 33.59375\n",
            "==================================================\n",
            "epoch= 28 \t loss= 1.5952601432800293 \t error= 66.84987296660742 percent\n",
            "accuracy = 33.150126934051514\n",
            " \n",
            "error rate on test set = 67.1875 percent\n",
            "accuracy = 32.8125\n",
            "==================================================\n",
            "epoch= 29 \t loss= 1.5931438853343327 \t error= 66.08422646919885 percent\n",
            "accuracy = 33.91577339172363\n",
            " \n",
            "error rate on test set = 63.28125 percent\n",
            "accuracy = 36.71875\n",
            "==================================================\n",
            "epoch= 30 \t loss= 1.5915370931228001 \t error= 65.93841463327408 percent\n",
            "accuracy = 34.06158526738485\n",
            " \n",
            "error rate on test set = 67.1875 percent\n",
            "accuracy = 32.8125\n",
            "==================================================\n",
            "epoch= 31 \t loss= 1.5907229433457057 \t error= 66.3997933268547 percent\n",
            "accuracy = 33.60020653406779\n",
            " \n",
            "error rate on test set = 64.84375 percent\n",
            "accuracy = 35.15625\n",
            "==================================================\n",
            "epoch= 32 \t loss= 1.5870613207419713 \t error= 65.45013338327408 percent\n",
            "accuracy = 34.54986651738485\n",
            " \n",
            "error rate on test set = 65.625 percent\n",
            "accuracy = 34.375\n",
            "==================================================\n",
            "epoch= 33 \t loss= 1.5877375652392705 \t error= 66.61447584629059 percent\n",
            "accuracy = 33.3855242729187\n",
            " \n",
            "error rate on test set = 64.84375 percent\n",
            "accuracy = 35.15625\n",
            "==================================================\n",
            "epoch= 34 \t loss= 1.5835253596305847 \t error= 65.38126294811568 percent\n",
            "accuracy = 34.61873706181844\n",
            " \n",
            "error rate on test set = 61.71875 percent\n",
            "accuracy = 38.28125\n",
            "==================================================\n",
            "epoch= 35 \t loss= 1.5851943343877792 \t error= 67.3093686501185 percent\n",
            "accuracy = 32.69063138961792\n",
            " \n",
            "error rate on test set = 65.625 percent\n",
            "accuracy = 34.375\n",
            "==================================================\n",
            "epoch= 36 \t loss= 1.5783816973368328 \t error= 65.39444526036581 percent\n",
            "accuracy = 34.605554819107056\n",
            " \n",
            "error rate on test set = 65.625 percent\n",
            "accuracy = 34.375\n",
            "==================================================\n",
            "epoch= 37 \t loss= 1.5776261786619823 \t error= 65.27984042962393 percent\n",
            "accuracy = 34.720159689585365\n",
            " \n",
            "error rate on test set = 65.625 percent\n",
            "accuracy = 34.375\n",
            "==================================================\n",
            "epoch= 38 \t loss= 1.5765596081813176 \t error= 65.08829419811568 percent\n",
            "accuracy = 34.91170581181844\n",
            " \n",
            "error rate on test set = 67.1875 percent\n",
            "accuracy = 32.8125\n",
            "==================================================\n",
            "epoch= 39 \t loss= 1.577981839577357 \t error= 65.06704116861025 percent\n",
            "accuracy = 34.93295876185099\n",
            " \n",
            "error rate on test set = 59.375 percent\n",
            "accuracy = 40.625\n",
            "==================================================\n",
            "epoch= 40 \t loss= 1.573812261223793 \t error= 65.35059412320456 percent\n",
            "accuracy = 34.64940595626831\n",
            " \n",
            "error rate on test set = 64.84375 percent\n",
            "accuracy = 35.15625\n",
            "==================================================\n",
            "epoch= 41 \t loss= 1.5677505632241566 \t error= 65.55908868710199 percent\n",
            "accuracy = 34.44091121355692\n",
            " \n",
            "error rate on test set = 64.84375 percent\n",
            "accuracy = 35.15625\n",
            "==================================================\n",
            "epoch= 42 \t loss= 1.5715825458367665 \t error= 64.8472473025322 percent\n",
            "accuracy = 35.1527525583903\n",
            " \n",
            "error rate on test set = 66.40625 percent\n",
            "accuracy = 33.59375\n",
            "==================================================\n",
            "epoch= 43 \t loss= 1.5642266819874446 \t error= 64.49482391277948 percent\n",
            "accuracy = 35.50517590840658\n",
            " \n",
            "error rate on test set = 63.28125 percent\n",
            "accuracy = 36.71875\n",
            "==================================================\n",
            "epoch= 44 \t loss= 1.56273319820563 \t error= 64.47922041018805 percent\n",
            "accuracy = 35.52077945073446\n",
            " \n",
            "error rate on test set = 64.84375 percent\n",
            "accuracy = 35.15625\n",
            "==================================================\n",
            "epoch= 45 \t loss= 1.5627248187859852 \t error= 64.5943634212017 percent\n",
            "accuracy = 35.405636628468834\n",
            " \n",
            "error rate on test set = 69.53125 percent\n",
            "accuracy = 30.46875\n",
            "==================================================\n",
            "epoch= 46 \t loss= 1.5583708137273788 \t error= 64.56934412320456 percent\n",
            "accuracy = 35.43065595626831\n",
            " \n",
            "error rate on test set = 73.4375 percent\n",
            "accuracy = 26.5625\n",
            "==================================================\n",
            "epoch= 47 \t loss= 1.5593682130177815 \t error= 64.63256503144899 percent\n",
            "accuracy = 35.36743497848511\n",
            " \n",
            "error rate on test set = 62.5 percent\n",
            "accuracy = 37.5\n",
            "==================================================\n",
            "epoch= 48 \t loss= 1.5554827352364857 \t error= 64.96185213327408 percent\n",
            "accuracy = 35.03814776738485\n",
            " \n",
            "error rate on test set = 59.375 percent\n",
            "accuracy = 40.625\n",
            "==================================================\n",
            "epoch= 49 \t loss= 1.5490476886431377 \t error= 64.59624667962393 percent\n",
            "accuracy = 35.403753439585365\n",
            " \n",
            "error rate on test set = 66.40625 percent\n",
            "accuracy = 33.59375\n",
            "==================================================\n",
            "epoch= 50 \t loss= 1.5504802664120991 \t error= 64.09424493710199 percent\n",
            "accuracy = 35.90575496355692\n",
            " \n",
            "error rate on test set = 61.71875 percent\n",
            "accuracy = 38.28125\n",
            "==================================================\n",
            "epoch= 51 \t loss= 1.5511437555154164 \t error= 65.17276813586554 percent\n",
            "accuracy = 34.82723172505697\n",
            " \n",
            "error rate on test set = 65.625 percent\n",
            "accuracy = 34.375\n",
            "==================================================\n",
            "epoch= 52 \t loss= 1.5507258623838425 \t error= 63.55269675453504 percent\n",
            "accuracy = 36.4473032951355\n",
            " \n",
            "error rate on test set = 64.84375 percent\n",
            "accuracy = 35.15625\n",
            "==================================================\n",
            "epoch= 53 \t loss= 1.5417351524035137 \t error= 62.507263819376625 percent\n",
            "accuracy = 37.492736180623375\n",
            " \n",
            "error rate on test set = 63.28125 percent\n",
            "accuracy = 36.71875\n",
            "==================================================\n",
            "epoch= 54 \t loss= 1.5447418491045635 \t error= 63.364917039871216 percent\n",
            "accuracy = 36.635083039601646\n",
            " \n",
            "error rate on test set = 65.625 percent\n",
            "accuracy = 34.375\n",
            "==================================================\n",
            "epoch= 55 \t loss= 1.5442386915286381 \t error= 62.97617504994074 percent\n",
            "accuracy = 37.02382485071818\n",
            " \n",
            "error rate on test set = 66.40625 percent\n",
            "accuracy = 33.59375\n",
            "==================================================\n",
            "epoch= 56 \t loss= 1.5394144107898076 \t error= 63.03751294811567 percent\n",
            "accuracy = 36.96248706181844\n",
            " \n",
            "error rate on test set = 64.84375 percent\n",
            "accuracy = 35.15625\n",
            "==================================================\n",
            "epoch= 57 \t loss= 1.5350502679745357 \t error= 62.624289840459824 percent\n",
            "accuracy = 37.37571016947428\n",
            " \n",
            "error rate on test set = 61.71875 percent\n",
            "accuracy = 38.28125\n",
            "==================================================\n"
          ]
        }
      ]
    },
    {
      "cell_type": "code",
      "metadata": {
        "id": "8zz95S9BmpMG"
      },
      "source": [
        "# to save the model if needed\n",
        "\n",
        "# model = net_model\n",
        "# torch.save(model.state_dict(), \"./models/net_model\")\n",
        "# model = create_net_VGG(num_class=6, COLOR_TRANS=True).to(device)\n",
        "# model.load_state_dict(torch.load(\"./models/net_model\"))\n",
        "# model.eval()"
      ],
      "id": "8zz95S9BmpMG",
      "execution_count": 28,
      "outputs": []
    },
    {
      "cell_type": "markdown",
      "metadata": {
        "id": "908506ee"
      },
      "source": [
        "## 9. Plotting"
      ],
      "id": "908506ee"
    },
    {
      "cell_type": "code",
      "metadata": {
        "colab": {
          "base_uri": "https://localhost:8080/",
          "height": 424
        },
        "id": "a16ac7f5",
        "outputId": "c23cd0ac-ef9c-4a16-a6df-539fa5680ac2"
      },
      "source": [
        "index_df = y_test_df.copy()\n",
        "index_df[\"file_idx\"] = index_df.filename.str.split('.').str[0].astype(int)\n",
        "index_df = index_df.reset_index()\n",
        "index_df\n"
      ],
      "id": "a16ac7f5",
      "execution_count": 29,
      "outputs": [
        {
          "output_type": "execute_result",
          "data": {
            "text/html": [
              "<div>\n",
              "<style scoped>\n",
              "    .dataframe tbody tr th:only-of-type {\n",
              "        vertical-align: middle;\n",
              "    }\n",
              "\n",
              "    .dataframe tbody tr th {\n",
              "        vertical-align: top;\n",
              "    }\n",
              "\n",
              "    .dataframe thead th {\n",
              "        text-align: right;\n",
              "    }\n",
              "</style>\n",
              "<table border=\"1\" class=\"dataframe\">\n",
              "  <thead>\n",
              "    <tr style=\"text-align: right;\">\n",
              "      <th></th>\n",
              "      <th>index</th>\n",
              "      <th>filename</th>\n",
              "      <th>label</th>\n",
              "      <th>file_idx</th>\n",
              "    </tr>\n",
              "  </thead>\n",
              "  <tbody>\n",
              "    <tr>\n",
              "      <th>0</th>\n",
              "      <td>357</td>\n",
              "      <td>400.jpg</td>\n",
              "      <td>2</td>\n",
              "      <td>400</td>\n",
              "    </tr>\n",
              "    <tr>\n",
              "      <th>1</th>\n",
              "      <td>1133</td>\n",
              "      <td>1270.jpg</td>\n",
              "      <td>1</td>\n",
              "      <td>1270</td>\n",
              "    </tr>\n",
              "    <tr>\n",
              "      <th>2</th>\n",
              "      <td>137</td>\n",
              "      <td>151.jpg</td>\n",
              "      <td>2</td>\n",
              "      <td>151</td>\n",
              "    </tr>\n",
              "    <tr>\n",
              "      <th>3</th>\n",
              "      <td>540</td>\n",
              "      <td>597.jpg</td>\n",
              "      <td>2</td>\n",
              "      <td>597</td>\n",
              "    </tr>\n",
              "    <tr>\n",
              "      <th>4</th>\n",
              "      <td>825</td>\n",
              "      <td>927.jpg</td>\n",
              "      <td>2</td>\n",
              "      <td>927</td>\n",
              "    </tr>\n",
              "    <tr>\n",
              "      <th>...</th>\n",
              "      <td>...</td>\n",
              "      <td>...</td>\n",
              "      <td>...</td>\n",
              "      <td>...</td>\n",
              "    </tr>\n",
              "    <tr>\n",
              "      <th>965</th>\n",
              "      <td>1155</td>\n",
              "      <td>1293.jpg</td>\n",
              "      <td>4</td>\n",
              "      <td>1293</td>\n",
              "    </tr>\n",
              "    <tr>\n",
              "      <th>966</th>\n",
              "      <td>964</td>\n",
              "      <td>1081.jpg</td>\n",
              "      <td>2</td>\n",
              "      <td>1081</td>\n",
              "    </tr>\n",
              "    <tr>\n",
              "      <th>967</th>\n",
              "      <td>128</td>\n",
              "      <td>142.jpg</td>\n",
              "      <td>0</td>\n",
              "      <td>142</td>\n",
              "    </tr>\n",
              "    <tr>\n",
              "      <th>968</th>\n",
              "      <td>458</td>\n",
              "      <td>506.jpg</td>\n",
              "      <td>1</td>\n",
              "      <td>506</td>\n",
              "    </tr>\n",
              "    <tr>\n",
              "      <th>969</th>\n",
              "      <td>1631</td>\n",
              "      <td>4373.jpg</td>\n",
              "      <td>4</td>\n",
              "      <td>4373</td>\n",
              "    </tr>\n",
              "  </tbody>\n",
              "</table>\n",
              "<p>970 rows × 4 columns</p>\n",
              "</div>"
            ],
            "text/plain": [
              "     index  filename  label  file_idx\n",
              "0      357   400.jpg      2       400\n",
              "1     1133  1270.jpg      1      1270\n",
              "2      137   151.jpg      2       151\n",
              "3      540   597.jpg      2       597\n",
              "4      825   927.jpg      2       927\n",
              "..     ...       ...    ...       ...\n",
              "965   1155  1293.jpg      4      1293\n",
              "966    964  1081.jpg      2      1081\n",
              "967    128   142.jpg      0       142\n",
              "968    458   506.jpg      1       506\n",
              "969   1631  4373.jpg      4      4373\n",
              "\n",
              "[970 rows x 4 columns]"
            ]
          },
          "metadata": {},
          "execution_count": 29
        }
      ]
    },
    {
      "cell_type": "code",
      "metadata": {
        "id": "6cbd67cb"
      },
      "source": [
        "# Dont run this unless you confirm to modify label\n",
        "\n",
        "# def modify_label(df, image_idx, label):\n",
        "#     file_name = str(image_idx)+\".jpg\"\n",
        "#     display(df.loc[df[\"filename\"]==file_name])\n",
        "#     df.loc[df[\"filename\"]==file_name, \"label\"] = label\n",
        "#     display(df.loc[df[\"filename\"]==file_name])\n",
        "\n",
        "# modify = True\n",
        "# if modify:\n",
        "#     modify_label(labels, idx, 1)"
      ],
      "id": "6cbd67cb",
      "execution_count": 30,
      "outputs": []
    },
    {
      "cell_type": "markdown",
      "metadata": {
        "id": "Su-yXprdpyfI"
      },
      "source": [
        "Select an image at random and show its label probability."
      ],
      "id": "Su-yXprdpyfI"
    },
    {
      "cell_type": "code",
      "metadata": {
        "colab": {
          "base_uri": "https://localhost:8080/",
          "height": 1000
        },
        "id": "5a3c7533",
        "outputId": "3638e7f9-a265-4ed8-e3cc-7a1882ba105a"
      },
      "source": [
        "from random import randint\n",
        "def rand_show_prob(net_model):\n",
        "    # choose a picture at random\n",
        "    for times in range(2):\n",
        "        idx=randint(0, len(X_test))\n",
        "        # f_idx = np.random.choice(np.sort(index_df.file_idx)[-50:])\n",
        "        # idx = index_df[index_df.file_idx==f_idx].index[0]\n",
        "\n",
        "        # idx=randint(0, len(X))\n",
        "\n",
        "        # idx = np.where(y_test_df.index.values == idx)\n",
        "        label = ('Not Skin', 'Normal', 'Pustule', 'Whitehead', 'Blackhead', 'Cyst',)\n",
        "        print(idx)\n",
        "        im=X_test[idx].astype(np.uint8)\n",
        "\n",
        "        # data_sourcing = \"test\" if np.isin(idx,y_test_df.index) else \"train\"\n",
        "\n",
        "        # X_train, X_test, y_train, y_test\n",
        "        # diplay the picture\n",
        "        image_label = f\"label index: {y_test[idx]}; label is {label[y_test[idx]]}; image name is {y_test_df.reset_index().iloc[idx,1]}\"\n",
        "        image_utils().plot_image(im,title=image_label, figsize=(5,5))\n",
        "\n",
        "        device = torch.device('cuda' if torch.cuda.is_available() else 'cpu')\n",
        "        im=X_test[idx].astype(np.uint8)\n",
        "        im = torch.from_numpy(np.array(im).astype(np.float32)).to(device)\n",
        "        X_train_ = torch.from_numpy(np.array(X_train).astype(np.float32))\n",
        "        X_train_ = X_train_.view(-1, 3, 50, 50)\n",
        "        mean= X_train_.mean()\n",
        "        std= X_train_.std()\n",
        "        # # send to device, rescale, and view as a batch of 1 \n",
        "        # im = im.to(device)\n",
        "        im= (im-mean) / std\n",
        "        im=im.view(1,3,50,50)\n",
        "\n",
        "        # feed it to the net and display the confidence scores\n",
        "        scores = net_model(im) \n",
        "        probs= torch.softmax(scores, dim=1)\n",
        "        image_utils().show_prob_pimples(probs.cpu())\n",
        "\n",
        "rand_show_prob(net_model)"
      ],
      "id": "5a3c7533",
      "execution_count": 31,
      "outputs": [
        {
          "output_type": "stream",
          "name": "stdout",
          "text": [
            "494\n"
          ]
        },
        {
          "output_type": "display_data",
          "data": {
            "image/png": "[encoded data removed]",
            "text/plain": [
              "<Figure size 360x360 with 1 Axes>"
            ]
          },
          "metadata": {
            "needs_background": "light"
          }
        },
        {
          "output_type": "display_data",
          "data": {
            "image/png": "[encoded data removed]",
            "text/plain": [
              "<Figure size 640x480 with 1 Axes>"
            ]
          },
          "metadata": {}
        },
        {
          "output_type": "stream",
          "name": "stdout",
          "text": [
            "794\n"
          ]
        },
        {
          "output_type": "display_data",
          "data": {
            "image/png": "[encoded data removed]",
            "text/plain": [
              "<Figure size 500x500 with 1 Axes>"
            ]
          },
          "metadata": {}
        },
        {
          "output_type": "display_data",
          "data": {
            "image/png": "[encoded data removed]",
            "text/plain": [
              "<Figure size 640x480 with 1 Axes>"
            ]
          },
          "metadata": {}
        }
      ]
    },
    {
      "cell_type": "markdown",
      "metadata": {
        "id": "n5WXO2Top8kS"
      },
      "source": [
        "Plot the loss, accuracy, and error graphs."
      ],
      "id": "n5WXO2Top8kS"
    },
    {
      "cell_type": "code",
      "metadata": {
        "colab": {
          "base_uri": "https://localhost:8080/",
          "height": 1000
        },
        "id": "ed5cd753",
        "outputId": "a6100534-eb6a-460d-99cc-126a46b6fd55"
      },
      "source": [
        "import plotly.express as px\n",
        "def show_plot(log):\n",
        "    log_df = pd.DataFrame.from_dict(log)\n",
        "    log_df = log_df.reset_index()\n",
        "    fig = px.line(log_df.iloc[1:], x=\"index\", y=\"train_loss\")\n",
        "    fig.update_layout(width=1000)\n",
        "    fig.show()\n",
        "    type = \"accuracy\"\n",
        "    df1 = log_df[['index', f\"train_{type}\", f\"test_{type}\"]].melt(id_vars=['index'], var_name='log_type')\n",
        "    fig = px.line(df1, x=\"index\", y=\"value\", color='log_type')\n",
        "    fig.update_layout(width=1000)\n",
        "    fig.show()\n",
        "\n",
        "    type = \"error\"\n",
        "    df1 = log_df[['index', f\"train_{type}\", f\"test_{type}\"]].melt(id_vars=['index'], var_name='log_type')\n",
        "    fig = px.line(df1, x=\"index\", y=\"value\", color='log_type')\n",
        "    fig.update_layout(width=1000)\n",
        "    fig.show()\n",
        "\n",
        "show_plot(log)"
      ],
      "id": "ed5cd753",
      "execution_count": 32,
      "outputs": [
        {
          "output_type": "display_data",
          "data": {
            "text/html": [
              "<html>\n",
              "<head><meta charset=\"utf-8\" /></head>\n",
              "<body>\n",
              "    <div>\n",
              "            <script src=\"https://cdnjs.cloudflare.com/ajax/libs/mathjax/2.7.5/MathJax.js?config=TeX-AMS-MML_SVG\"></script><script type=\"text/javascript\">if (window.MathJax) {MathJax.Hub.Config({SVG: {font: \"STIX-Web\"}});}</script>\n",
              "                <script type=\"text/javascript\">window.PlotlyConfig = {MathJaxConfig: 'local'};</script>\n",
              "        <script src=\"https://cdn.plot.ly/plotly-latest.min.js\"></script>    \n",
              "            <div id=\"6e8a0086-b868-433b-ba00-ed4781d2b1af\" class=\"plotly-graph-div\" style=\"height:525px; width:1000px;\"></div>\n",
              "            <script type=\"text/javascript\">\n",
              "                \n",
              "                    window.PLOTLYENV=window.PLOTLYENV || {};\n",
              "                    \n",
              "                if (document.getElementById(\"6e8a0086-b868-433b-ba00-ed4781d2b1af\")) {\n",
              "                    Plotly.newPlot(\n",
              "                        '6e8a0086-b868-433b-ba00-ed4781d2b1af',\n",
              "                        [{\"hoverlabel\": {\"namelength\": 0}, \"hovertemplate\": \"index=%{x}<br>train_loss=%{y}\", \"legendgroup\": \"\", \"line\": {\"color\": \"#636efa\", \"dash\": \"solid\"}, \"mode\": \"lines\", \"name\": \"\", \"showlegend\": false, \"type\": \"scatter\", \"x\": [1, 2, 3, 4, 5, 6, 7, 8, 9, 10, 11, 12, 13, 14, 15, 16, 17, 18, 19, 20, 21, 22, 23, 24, 25, 26, 27, 28, 29, 30, 31, 32, 33, 34, 35, 36, 37, 38, 39, 40, 41, 42, 43, 44, 45, 46, 47, 48, 49, 50, 51, 52, 53, 54, 55, 56, 57], \"xaxis\": \"x\", \"y\": [1.7773738950490952, 1.7609353810548782, 1.7421503514051437, 1.7193641364574432, 1.6999711493651073, 1.6889334966739018, 1.675491879383723, 1.6690548658370972, 1.660032108426094, 1.6513579537471135, 1.646629457672437, 1.6467764228582382, 1.636498178044955, 1.6330525825421016, 1.628412887454033, 1.628496989607811, 1.6205816268920898, 1.623103216290474, 1.619026005268097, 1.6168469140926998, 1.612384299437205, 1.6097599516312282, 1.6170596430699031, 1.6050307601690292, 1.6073914915323257, 1.6034087240695953, 1.5994838227828343, 1.5952601432800293, 1.5931438853343327, 1.5915370931228001, 1.5907229433457057, 1.5870613207419713, 1.5877375652392705, 1.5835253596305847, 1.5851943343877792, 1.5783816973368328, 1.5776261786619823, 1.5765596081813176, 1.577981839577357, 1.573812261223793, 1.5677505632241566, 1.5715825458367665, 1.5642266819874446, 1.56273319820563, 1.5627248187859852, 1.5583708137273788, 1.5593682130177815, 1.5554827352364857, 1.5490476886431377, 1.5504802664120991, 1.5511437555154164, 1.5507258623838425, 1.5417351524035137, 1.5447418491045635, 1.5442386915286381, 1.5394144107898076, 1.5350502679745357], \"yaxis\": \"y\"}],\n",
              "                        {\"legend\": {\"tracegroupgap\": 0}, \"margin\": {\"t\": 60}, \"template\": {\"data\": {\"bar\": [{\"error_x\": {\"color\": \"#2a3f5f\"}, \"error_y\": {\"color\": \"#2a3f5f\"}, \"marker\": {\"line\": {\"color\": \"#E5ECF6\", \"width\": 0.5}}, \"type\": \"bar\"}], \"barpolar\": [{\"marker\": {\"line\": {\"color\": \"#E5ECF6\", \"width\": 0.5}}, \"type\": \"barpolar\"}], \"carpet\": [{\"aaxis\": {\"endlinecolor\": \"#2a3f5f\", \"gridcolor\": \"white\", \"linecolor\": \"white\", \"minorgridcolor\": \"white\", \"startlinecolor\": \"#2a3f5f\"}, \"baxis\": {\"endlinecolor\": \"#2a3f5f\", \"gridcolor\": \"white\", \"linecolor\": \"white\", \"minorgridcolor\": \"white\", \"startlinecolor\": \"#2a3f5f\"}, \"type\": \"carpet\"}], \"choropleth\": [{\"colorbar\": {\"outlinewidth\": 0, \"ticks\": \"\"}, \"type\": \"choropleth\"}], \"contour\": [{\"colorbar\": {\"outlinewidth\": 0, \"ticks\": \"\"}, \"colorscale\": [[0.0, \"#0d0887\"], [0.1111111111111111, \"#46039f\"], [0.2222222222222222, \"#7201a8\"], [0.3333333333333333, \"#9c179e\"], [0.4444444444444444, \"#bd3786\"], [0.5555555555555556, \"#d8576b\"], [0.6666666666666666, \"#ed7953\"], [0.7777777777777778, \"#fb9f3a\"], [0.8888888888888888, \"#fdca26\"], [1.0, \"#f0f921\"]], \"type\": \"contour\"}], \"contourcarpet\": [{\"colorbar\": {\"outlinewidth\": 0, \"ticks\": \"\"}, \"type\": \"contourcarpet\"}], \"heatmap\": [{\"colorbar\": {\"outlinewidth\": 0, \"ticks\": \"\"}, \"colorscale\": [[0.0, \"#0d0887\"], [0.1111111111111111, \"#46039f\"], [0.2222222222222222, \"#7201a8\"], [0.3333333333333333, \"#9c179e\"], [0.4444444444444444, \"#bd3786\"], [0.5555555555555556, \"#d8576b\"], [0.6666666666666666, \"#ed7953\"], [0.7777777777777778, \"#fb9f3a\"], [0.8888888888888888, \"#fdca26\"], [1.0, \"#f0f921\"]], \"type\": \"heatmap\"}], \"heatmapgl\": [{\"colorbar\": {\"outlinewidth\": 0, \"ticks\": \"\"}, \"colorscale\": [[0.0, \"#0d0887\"], [0.1111111111111111, \"#46039f\"], [0.2222222222222222, \"#7201a8\"], [0.3333333333333333, \"#9c179e\"], [0.4444444444444444, \"#bd3786\"], [0.5555555555555556, \"#d8576b\"], [0.6666666666666666, \"#ed7953\"], [0.7777777777777778, \"#fb9f3a\"], [0.8888888888888888, \"#fdca26\"], [1.0, \"#f0f921\"]], \"type\": \"heatmapgl\"}], \"histogram\": [{\"marker\": {\"colorbar\": {\"outlinewidth\": 0, \"ticks\": \"\"}}, \"type\": \"histogram\"}], \"histogram2d\": [{\"colorbar\": {\"outlinewidth\": 0, \"ticks\": \"\"}, \"colorscale\": [[0.0, \"#0d0887\"], [0.1111111111111111, \"#46039f\"], [0.2222222222222222, \"#7201a8\"], [0.3333333333333333, \"#9c179e\"], [0.4444444444444444, \"#bd3786\"], [0.5555555555555556, \"#d8576b\"], [0.6666666666666666, \"#ed7953\"], [0.7777777777777778, \"#fb9f3a\"], [0.8888888888888888, \"#fdca26\"], [1.0, \"#f0f921\"]], \"type\": \"histogram2d\"}], \"histogram2dcontour\": [{\"colorbar\": {\"outlinewidth\": 0, \"ticks\": \"\"}, \"colorscale\": [[0.0, \"#0d0887\"], [0.1111111111111111, \"#46039f\"], [0.2222222222222222, \"#7201a8\"], [0.3333333333333333, \"#9c179e\"], [0.4444444444444444, \"#bd3786\"], [0.5555555555555556, \"#d8576b\"], [0.6666666666666666, \"#ed7953\"], [0.7777777777777778, \"#fb9f3a\"], [0.8888888888888888, \"#fdca26\"], [1.0, \"#f0f921\"]], \"type\": \"histogram2dcontour\"}], \"mesh3d\": [{\"colorbar\": {\"outlinewidth\": 0, \"ticks\": \"\"}, \"type\": \"mesh3d\"}], \"parcoords\": [{\"line\": {\"colorbar\": {\"outlinewidth\": 0, \"ticks\": \"\"}}, \"type\": \"parcoords\"}], \"pie\": [{\"automargin\": true, \"type\": \"pie\"}], \"scatter\": [{\"marker\": {\"colorbar\": {\"outlinewidth\": 0, \"ticks\": \"\"}}, \"type\": \"scatter\"}], \"scatter3d\": [{\"line\": {\"colorbar\": {\"outlinewidth\": 0, \"ticks\": \"\"}}, \"marker\": {\"colorbar\": {\"outlinewidth\": 0, \"ticks\": \"\"}}, \"type\": \"scatter3d\"}], \"scattercarpet\": [{\"marker\": {\"colorbar\": {\"outlinewidth\": 0, \"ticks\": \"\"}}, \"type\": \"scattercarpet\"}], \"scattergeo\": [{\"marker\": {\"colorbar\": {\"outlinewidth\": 0, \"ticks\": \"\"}}, \"type\": \"scattergeo\"}], \"scattergl\": [{\"marker\": {\"colorbar\": {\"outlinewidth\": 0, \"ticks\": \"\"}}, \"type\": \"scattergl\"}], \"scattermapbox\": [{\"marker\": {\"colorbar\": {\"outlinewidth\": 0, \"ticks\": \"\"}}, \"type\": \"scattermapbox\"}], \"scatterpolar\": [{\"marker\": {\"colorbar\": {\"outlinewidth\": 0, \"ticks\": \"\"}}, \"type\": \"scatterpolar\"}], \"scatterpolargl\": [{\"marker\": {\"colorbar\": {\"outlinewidth\": 0, \"ticks\": \"\"}}, \"type\": \"scatterpolargl\"}], \"scatterternary\": [{\"marker\": {\"colorbar\": {\"outlinewidth\": 0, \"ticks\": \"\"}}, \"type\": \"scatterternary\"}], \"surface\": [{\"colorbar\": {\"outlinewidth\": 0, \"ticks\": \"\"}, \"colorscale\": [[0.0, \"#0d0887\"], [0.1111111111111111, \"#46039f\"], [0.2222222222222222, \"#7201a8\"], [0.3333333333333333, \"#9c179e\"], [0.4444444444444444, \"#bd3786\"], [0.5555555555555556, \"#d8576b\"], [0.6666666666666666, \"#ed7953\"], [0.7777777777777778, \"#fb9f3a\"], [0.8888888888888888, \"#fdca26\"], [1.0, \"#f0f921\"]], \"type\": \"surface\"}], \"table\": [{\"cells\": {\"fill\": {\"color\": \"#EBF0F8\"}, \"line\": {\"color\": \"white\"}}, \"header\": {\"fill\": {\"color\": \"#C8D4E3\"}, \"line\": {\"color\": \"white\"}}, \"type\": \"table\"}]}, \"layout\": {\"annotationdefaults\": {\"arrowcolor\": \"#2a3f5f\", \"arrowhead\": 0, \"arrowwidth\": 1}, \"coloraxis\": {\"colorbar\": {\"outlinewidth\": 0, \"ticks\": \"\"}}, \"colorscale\": {\"diverging\": [[0, \"#8e0152\"], [0.1, \"#c51b7d\"], [0.2, \"#de77ae\"], [0.3, \"#f1b6da\"], [0.4, \"#fde0ef\"], [0.5, \"#f7f7f7\"], [0.6, \"#e6f5d0\"], [0.7, \"#b8e186\"], [0.8, \"#7fbc41\"], [0.9, \"#4d9221\"], [1, \"#276419\"]], \"sequential\": [[0.0, \"#0d0887\"], [0.1111111111111111, \"#46039f\"], [0.2222222222222222, \"#7201a8\"], [0.3333333333333333, \"#9c179e\"], [0.4444444444444444, \"#bd3786\"], [0.5555555555555556, \"#d8576b\"], [0.6666666666666666, \"#ed7953\"], [0.7777777777777778, \"#fb9f3a\"], [0.8888888888888888, \"#fdca26\"], [1.0, \"#f0f921\"]], \"sequentialminus\": [[0.0, \"#0d0887\"], [0.1111111111111111, \"#46039f\"], [0.2222222222222222, \"#7201a8\"], [0.3333333333333333, \"#9c179e\"], [0.4444444444444444, \"#bd3786\"], [0.5555555555555556, \"#d8576b\"], [0.6666666666666666, \"#ed7953\"], [0.7777777777777778, \"#fb9f3a\"], [0.8888888888888888, \"#fdca26\"], [1.0, \"#f0f921\"]]}, \"colorway\": [\"#636efa\", \"#EF553B\", \"#00cc96\", \"#ab63fa\", \"#FFA15A\", \"#19d3f3\", \"#FF6692\", \"#B6E880\", \"#FF97FF\", \"#FECB52\"], \"font\": {\"color\": \"#2a3f5f\"}, \"geo\": {\"bgcolor\": \"white\", \"lakecolor\": \"white\", \"landcolor\": \"#E5ECF6\", \"showlakes\": true, \"showland\": true, \"subunitcolor\": \"white\"}, \"hoverlabel\": {\"align\": \"left\"}, \"hovermode\": \"closest\", \"mapbox\": {\"style\": \"light\"}, \"paper_bgcolor\": \"white\", \"plot_bgcolor\": \"#E5ECF6\", \"polar\": {\"angularaxis\": {\"gridcolor\": \"white\", \"linecolor\": \"white\", \"ticks\": \"\"}, \"bgcolor\": \"#E5ECF6\", \"radialaxis\": {\"gridcolor\": \"white\", \"linecolor\": \"white\", \"ticks\": \"\"}}, \"scene\": {\"xaxis\": {\"backgroundcolor\": \"#E5ECF6\", \"gridcolor\": \"white\", \"gridwidth\": 2, \"linecolor\": \"white\", \"showbackground\": true, \"ticks\": \"\", \"zerolinecolor\": \"white\"}, \"yaxis\": {\"backgroundcolor\": \"#E5ECF6\", \"gridcolor\": \"white\", \"gridwidth\": 2, \"linecolor\": \"white\", \"showbackground\": true, \"ticks\": \"\", \"zerolinecolor\": \"white\"}, \"zaxis\": {\"backgroundcolor\": \"#E5ECF6\", \"gridcolor\": \"white\", \"gridwidth\": 2, \"linecolor\": \"white\", \"showbackground\": true, \"ticks\": \"\", \"zerolinecolor\": \"white\"}}, \"shapedefaults\": {\"line\": {\"color\": \"#2a3f5f\"}}, \"ternary\": {\"aaxis\": {\"gridcolor\": \"white\", \"linecolor\": \"white\", \"ticks\": \"\"}, \"baxis\": {\"gridcolor\": \"white\", \"linecolor\": \"white\", \"ticks\": \"\"}, \"bgcolor\": \"#E5ECF6\", \"caxis\": {\"gridcolor\": \"white\", \"linecolor\": \"white\", \"ticks\": \"\"}}, \"title\": {\"x\": 0.05}, \"xaxis\": {\"automargin\": true, \"gridcolor\": \"white\", \"linecolor\": \"white\", \"ticks\": \"\", \"title\": {\"standoff\": 15}, \"zerolinecolor\": \"white\", \"zerolinewidth\": 2}, \"yaxis\": {\"automargin\": true, \"gridcolor\": \"white\", \"linecolor\": \"white\", \"ticks\": \"\", \"title\": {\"standoff\": 15}, \"zerolinecolor\": \"white\", \"zerolinewidth\": 2}}}, \"width\": 1000, \"xaxis\": {\"anchor\": \"y\", \"domain\": [0.0, 1.0], \"title\": {\"text\": \"index\"}}, \"yaxis\": {\"anchor\": \"x\", \"domain\": [0.0, 1.0], \"title\": {\"text\": \"train_loss\"}}},\n",
              "                        {\"responsive\": true}\n",
              "                    ).then(function(){\n",
              "                            \n",
              "var gd = document.getElementById('6e8a0086-b868-433b-ba00-ed4781d2b1af');\n",
              "var x = new MutationObserver(function (mutations, observer) {{\n",
              "        var display = window.getComputedStyle(gd).display;\n",
              "        if (!display || display === 'none') {{\n",
              "            console.log([gd, 'removed!']);\n",
              "            Plotly.purge(gd);\n",
              "            observer.disconnect();\n",
              "        }}\n",
              "}});\n",
              "\n",
              "// Listen for the removal of the full notebook cells\n",
              "var notebookContainer = gd.closest('#notebook-container');\n",
              "if (notebookContainer) {{\n",
              "    x.observe(notebookContainer, {childList: true});\n",
              "}}\n",
              "\n",
              "// Listen for the clearing of the current output cell\n",
              "var outputEl = gd.closest('.output');\n",
              "if (outputEl) {{\n",
              "    x.observe(outputEl, {childList: true});\n",
              "}}\n",
              "\n",
              "                        })\n",
              "                };\n",
              "                \n",
              "            </script>\n",
              "        </div>\n",
              "</body>\n",
              "</html>"
            ]
          },
          "metadata": {}
        },
        {
          "output_type": "display_data",
          "data": {
            "text/html": [
              "<html>\n",
              "<head><meta charset=\"utf-8\" /></head>\n",
              "<body>\n",
              "    <div>\n",
              "            <script src=\"https://cdnjs.cloudflare.com/ajax/libs/mathjax/2.7.5/MathJax.js?config=TeX-AMS-MML_SVG\"></script><script type=\"text/javascript\">if (window.MathJax) {MathJax.Hub.Config({SVG: {font: \"STIX-Web\"}});}</script>\n",
              "                <script type=\"text/javascript\">window.PlotlyConfig = {MathJaxConfig: 'local'};</script>\n",
              "        <script src=\"https://cdn.plot.ly/plotly-latest.min.js\"></script>    \n",
              "            <div id=\"f82a590a-eec1-4bf0-b460-1261404e58cc\" class=\"plotly-graph-div\" style=\"height:525px; width:1000px;\"></div>\n",
              "            <script type=\"text/javascript\">\n",
              "                \n",
              "                    window.PLOTLYENV=window.PLOTLYENV || {};\n",
              "                    \n",
              "                if (document.getElementById(\"f82a590a-eec1-4bf0-b460-1261404e58cc\")) {\n",
              "                    Plotly.newPlot(\n",
              "                        'f82a590a-eec1-4bf0-b460-1261404e58cc',\n",
              "                        [{\"hoverlabel\": {\"namelength\": 0}, \"hovertemplate\": \"log_type=train_accuracy<br>index=%{x}<br>value=%{y}\", \"legendgroup\": \"log_type=train_accuracy\", \"line\": {\"color\": \"#636efa\", \"dash\": \"solid\"}, \"mode\": \"lines\", \"name\": \"log_type=train_accuracy\", \"showlegend\": true, \"type\": \"scatter\", \"x\": [0, 1, 2, 3, 4, 5, 6, 7, 8, 9, 10, 11, 12, 13, 14, 15, 16, 17, 18, 19, 20, 21, 22, 23, 24, 25, 26, 27, 28, 29, 30, 31, 32, 33, 34, 35, 36, 37, 38, 39, 40, 41, 42, 43, 44, 45, 46, 47, 48, 49, 50, 51, 52, 53, 54, 55, 56, 57], \"xaxis\": \"x\", \"y\": [19.396737217903137, 22.97127882639567, 24.899384419123333, 26.000505685806274, 27.909241517384846, 28.784919500350952, 28.110203584035236, 29.80721632639567, 29.14998706181844, 30.96348778406779, 30.672402222951252, 31.212605396906536, 30.49081007639567, 31.459301789601643, 31.930634419123333, 32.062725941340126, 30.880897045135498, 32.52033829689026, 32.88406070073446, 32.32125941912333, 32.9090801080068, 31.197001934051514, 32.01457039515177, 32.88971026738485, 33.61338885625204, 32.50850121180216, 33.59401893615723, 33.138827880223594, 33.150126934051514, 33.91577339172363, 34.06158526738485, 33.60020653406779, 34.54986651738485, 33.3855242729187, 34.61873706181844, 32.69063138961792, 34.605554819107056, 34.720159689585365, 34.91170581181844, 34.93295876185099, 34.64940595626831, 34.44091121355692, 35.1527525583903, 35.50517590840658, 35.52077945073446, 35.405636628468834, 35.43065595626831, 35.36743497848511, 35.03814776738485, 35.403753439585365, 35.90575496355692, 34.82723172505697, 36.4473032951355, 37.492736180623375, 36.635083039601646, 37.02382485071818, 36.96248706181844, 37.37571016947428], \"yaxis\": \"y\"}, {\"hoverlabel\": {\"namelength\": 0}, \"hovertemplate\": \"log_type=test_accuracy<br>index=%{x}<br>value=%{y}\", \"legendgroup\": \"log_type=test_accuracy\", \"line\": {\"color\": \"#EF553B\", \"dash\": \"solid\"}, \"mode\": \"lines\", \"name\": \"log_type=test_accuracy\", \"showlegend\": true, \"type\": \"scatter\", \"x\": [0, 1, 2, 3, 4, 5, 6, 7, 8, 9, 10, 11, 12, 13, 14, 15, 16, 17, 18, 19, 20, 21, 22, 23, 24, 25, 26, 27, 28, 29, 30, 31, 32, 33, 34, 35, 36, 37, 38, 39, 40, 41, 42, 43, 44, 45, 46, 47, 48, 49, 50, 51, 52, 53, 54, 55, 56, 57], \"xaxis\": \"x\", \"y\": [17.1875, 16.40625, 36.71875, 29.6875, 22.65625, 28.125, 35.9375, 26.5625, 29.6875, 34.375, 30.46875, 28.90625, 27.34375, 32.8125, 32.8125, 38.28125, 36.71875, 34.375, 35.15625, 27.34375, 25.0, 39.0625, 28.125, 29.6875, 30.46875, 36.71875, 35.9375, 33.59375, 32.8125, 36.71875, 32.8125, 35.15625, 34.375, 35.15625, 38.28125, 34.375, 34.375, 34.375, 32.8125, 40.625, 35.15625, 35.15625, 33.59375, 36.71875, 35.15625, 30.46875, 26.5625, 37.5, 40.625, 33.59375, 38.28125, 34.375, 35.15625, 36.71875, 34.375, 33.59375, 35.15625, 38.28125], \"yaxis\": \"y\"}],\n",
              "                        {\"legend\": {\"tracegroupgap\": 0}, \"margin\": {\"t\": 60}, \"template\": {\"data\": {\"bar\": [{\"error_x\": {\"color\": \"#2a3f5f\"}, \"error_y\": {\"color\": \"#2a3f5f\"}, \"marker\": {\"line\": {\"color\": \"#E5ECF6\", \"width\": 0.5}}, \"type\": \"bar\"}], \"barpolar\": [{\"marker\": {\"line\": {\"color\": \"#E5ECF6\", \"width\": 0.5}}, \"type\": \"barpolar\"}], \"carpet\": [{\"aaxis\": {\"endlinecolor\": \"#2a3f5f\", \"gridcolor\": \"white\", \"linecolor\": \"white\", \"minorgridcolor\": \"white\", \"startlinecolor\": \"#2a3f5f\"}, \"baxis\": {\"endlinecolor\": \"#2a3f5f\", \"gridcolor\": \"white\", \"linecolor\": \"white\", \"minorgridcolor\": \"white\", \"startlinecolor\": \"#2a3f5f\"}, \"type\": \"carpet\"}], \"choropleth\": [{\"colorbar\": {\"outlinewidth\": 0, \"ticks\": \"\"}, \"type\": \"choropleth\"}], \"contour\": [{\"colorbar\": {\"outlinewidth\": 0, \"ticks\": \"\"}, \"colorscale\": [[0.0, \"#0d0887\"], [0.1111111111111111, \"#46039f\"], [0.2222222222222222, \"#7201a8\"], [0.3333333333333333, \"#9c179e\"], [0.4444444444444444, \"#bd3786\"], [0.5555555555555556, \"#d8576b\"], [0.6666666666666666, \"#ed7953\"], [0.7777777777777778, \"#fb9f3a\"], [0.8888888888888888, \"#fdca26\"], [1.0, \"#f0f921\"]], \"type\": \"contour\"}], \"contourcarpet\": [{\"colorbar\": {\"outlinewidth\": 0, \"ticks\": \"\"}, \"type\": \"contourcarpet\"}], \"heatmap\": [{\"colorbar\": {\"outlinewidth\": 0, \"ticks\": \"\"}, \"colorscale\": [[0.0, \"#0d0887\"], [0.1111111111111111, \"#46039f\"], [0.2222222222222222, \"#7201a8\"], [0.3333333333333333, \"#9c179e\"], [0.4444444444444444, \"#bd3786\"], [0.5555555555555556, \"#d8576b\"], [0.6666666666666666, \"#ed7953\"], [0.7777777777777778, \"#fb9f3a\"], [0.8888888888888888, \"#fdca26\"], [1.0, \"#f0f921\"]], \"type\": \"heatmap\"}], \"heatmapgl\": [{\"colorbar\": {\"outlinewidth\": 0, \"ticks\": \"\"}, \"colorscale\": [[0.0, \"#0d0887\"], [0.1111111111111111, \"#46039f\"], [0.2222222222222222, \"#7201a8\"], [0.3333333333333333, \"#9c179e\"], [0.4444444444444444, \"#bd3786\"], [0.5555555555555556, \"#d8576b\"], [0.6666666666666666, \"#ed7953\"], [0.7777777777777778, \"#fb9f3a\"], [0.8888888888888888, \"#fdca26\"], [1.0, \"#f0f921\"]], \"type\": \"heatmapgl\"}], \"histogram\": [{\"marker\": {\"colorbar\": {\"outlinewidth\": 0, \"ticks\": \"\"}}, \"type\": \"histogram\"}], \"histogram2d\": [{\"colorbar\": {\"outlinewidth\": 0, \"ticks\": \"\"}, \"colorscale\": [[0.0, \"#0d0887\"], [0.1111111111111111, \"#46039f\"], [0.2222222222222222, \"#7201a8\"], [0.3333333333333333, \"#9c179e\"], [0.4444444444444444, \"#bd3786\"], [0.5555555555555556, \"#d8576b\"], [0.6666666666666666, \"#ed7953\"], [0.7777777777777778, \"#fb9f3a\"], [0.8888888888888888, \"#fdca26\"], [1.0, \"#f0f921\"]], \"type\": \"histogram2d\"}], \"histogram2dcontour\": [{\"colorbar\": {\"outlinewidth\": 0, \"ticks\": \"\"}, \"colorscale\": [[0.0, \"#0d0887\"], [0.1111111111111111, \"#46039f\"], [0.2222222222222222, \"#7201a8\"], [0.3333333333333333, \"#9c179e\"], [0.4444444444444444, \"#bd3786\"], [0.5555555555555556, \"#d8576b\"], [0.6666666666666666, \"#ed7953\"], [0.7777777777777778, \"#fb9f3a\"], [0.8888888888888888, \"#fdca26\"], [1.0, \"#f0f921\"]], \"type\": \"histogram2dcontour\"}], \"mesh3d\": [{\"colorbar\": {\"outlinewidth\": 0, \"ticks\": \"\"}, \"type\": \"mesh3d\"}], \"parcoords\": [{\"line\": {\"colorbar\": {\"outlinewidth\": 0, \"ticks\": \"\"}}, \"type\": \"parcoords\"}], \"pie\": [{\"automargin\": true, \"type\": \"pie\"}], \"scatter\": [{\"marker\": {\"colorbar\": {\"outlinewidth\": 0, \"ticks\": \"\"}}, \"type\": \"scatter\"}], \"scatter3d\": [{\"line\": {\"colorbar\": {\"outlinewidth\": 0, \"ticks\": \"\"}}, \"marker\": {\"colorbar\": {\"outlinewidth\": 0, \"ticks\": \"\"}}, \"type\": \"scatter3d\"}], \"scattercarpet\": [{\"marker\": {\"colorbar\": {\"outlinewidth\": 0, \"ticks\": \"\"}}, \"type\": \"scattercarpet\"}], \"scattergeo\": [{\"marker\": {\"colorbar\": {\"outlinewidth\": 0, \"ticks\": \"\"}}, \"type\": \"scattergeo\"}], \"scattergl\": [{\"marker\": {\"colorbar\": {\"outlinewidth\": 0, \"ticks\": \"\"}}, \"type\": \"scattergl\"}], \"scattermapbox\": [{\"marker\": {\"colorbar\": {\"outlinewidth\": 0, \"ticks\": \"\"}}, \"type\": \"scattermapbox\"}], \"scatterpolar\": [{\"marker\": {\"colorbar\": {\"outlinewidth\": 0, \"ticks\": \"\"}}, \"type\": \"scatterpolar\"}], \"scatterpolargl\": [{\"marker\": {\"colorbar\": {\"outlinewidth\": 0, \"ticks\": \"\"}}, \"type\": \"scatterpolargl\"}], \"scatterternary\": [{\"marker\": {\"colorbar\": {\"outlinewidth\": 0, \"ticks\": \"\"}}, \"type\": \"scatterternary\"}], \"surface\": [{\"colorbar\": {\"outlinewidth\": 0, \"ticks\": \"\"}, \"colorscale\": [[0.0, \"#0d0887\"], [0.1111111111111111, \"#46039f\"], [0.2222222222222222, \"#7201a8\"], [0.3333333333333333, \"#9c179e\"], [0.4444444444444444, \"#bd3786\"], [0.5555555555555556, \"#d8576b\"], [0.6666666666666666, \"#ed7953\"], [0.7777777777777778, \"#fb9f3a\"], [0.8888888888888888, \"#fdca26\"], [1.0, \"#f0f921\"]], \"type\": \"surface\"}], \"table\": [{\"cells\": {\"fill\": {\"color\": \"#EBF0F8\"}, \"line\": {\"color\": \"white\"}}, \"header\": {\"fill\": {\"color\": \"#C8D4E3\"}, \"line\": {\"color\": \"white\"}}, \"type\": \"table\"}]}, \"layout\": {\"annotationdefaults\": {\"arrowcolor\": \"#2a3f5f\", \"arrowhead\": 0, \"arrowwidth\": 1}, \"coloraxis\": {\"colorbar\": {\"outlinewidth\": 0, \"ticks\": \"\"}}, \"colorscale\": {\"diverging\": [[0, \"#8e0152\"], [0.1, \"#c51b7d\"], [0.2, \"#de77ae\"], [0.3, \"#f1b6da\"], [0.4, \"#fde0ef\"], [0.5, \"#f7f7f7\"], [0.6, \"#e6f5d0\"], [0.7, \"#b8e186\"], [0.8, \"#7fbc41\"], [0.9, \"#4d9221\"], [1, \"#276419\"]], \"sequential\": [[0.0, \"#0d0887\"], [0.1111111111111111, \"#46039f\"], [0.2222222222222222, \"#7201a8\"], [0.3333333333333333, \"#9c179e\"], [0.4444444444444444, \"#bd3786\"], [0.5555555555555556, \"#d8576b\"], [0.6666666666666666, \"#ed7953\"], [0.7777777777777778, \"#fb9f3a\"], [0.8888888888888888, \"#fdca26\"], [1.0, \"#f0f921\"]], \"sequentialminus\": [[0.0, \"#0d0887\"], [0.1111111111111111, \"#46039f\"], [0.2222222222222222, \"#7201a8\"], [0.3333333333333333, \"#9c179e\"], [0.4444444444444444, \"#bd3786\"], [0.5555555555555556, \"#d8576b\"], [0.6666666666666666, \"#ed7953\"], [0.7777777777777778, \"#fb9f3a\"], [0.8888888888888888, \"#fdca26\"], [1.0, \"#f0f921\"]]}, \"colorway\": [\"#636efa\", \"#EF553B\", \"#00cc96\", \"#ab63fa\", \"#FFA15A\", \"#19d3f3\", \"#FF6692\", \"#B6E880\", \"#FF97FF\", \"#FECB52\"], \"font\": {\"color\": \"#2a3f5f\"}, \"geo\": {\"bgcolor\": \"white\", \"lakecolor\": \"white\", \"landcolor\": \"#E5ECF6\", \"showlakes\": true, \"showland\": true, \"subunitcolor\": \"white\"}, \"hoverlabel\": {\"align\": \"left\"}, \"hovermode\": \"closest\", \"mapbox\": {\"style\": \"light\"}, \"paper_bgcolor\": \"white\", \"plot_bgcolor\": \"#E5ECF6\", \"polar\": {\"angularaxis\": {\"gridcolor\": \"white\", \"linecolor\": \"white\", \"ticks\": \"\"}, \"bgcolor\": \"#E5ECF6\", \"radialaxis\": {\"gridcolor\": \"white\", \"linecolor\": \"white\", \"ticks\": \"\"}}, \"scene\": {\"xaxis\": {\"backgroundcolor\": \"#E5ECF6\", \"gridcolor\": \"white\", \"gridwidth\": 2, \"linecolor\": \"white\", \"showbackground\": true, \"ticks\": \"\", \"zerolinecolor\": \"white\"}, \"yaxis\": {\"backgroundcolor\": \"#E5ECF6\", \"gridcolor\": \"white\", \"gridwidth\": 2, \"linecolor\": \"white\", \"showbackground\": true, \"ticks\": \"\", \"zerolinecolor\": \"white\"}, \"zaxis\": {\"backgroundcolor\": \"#E5ECF6\", \"gridcolor\": \"white\", \"gridwidth\": 2, \"linecolor\": \"white\", \"showbackground\": true, \"ticks\": \"\", \"zerolinecolor\": \"white\"}}, \"shapedefaults\": {\"line\": {\"color\": \"#2a3f5f\"}}, \"ternary\": {\"aaxis\": {\"gridcolor\": \"white\", \"linecolor\": \"white\", \"ticks\": \"\"}, \"baxis\": {\"gridcolor\": \"white\", \"linecolor\": \"white\", \"ticks\": \"\"}, \"bgcolor\": \"#E5ECF6\", \"caxis\": {\"gridcolor\": \"white\", \"linecolor\": \"white\", \"ticks\": \"\"}}, \"title\": {\"x\": 0.05}, \"xaxis\": {\"automargin\": true, \"gridcolor\": \"white\", \"linecolor\": \"white\", \"ticks\": \"\", \"title\": {\"standoff\": 15}, \"zerolinecolor\": \"white\", \"zerolinewidth\": 2}, \"yaxis\": {\"automargin\": true, \"gridcolor\": \"white\", \"linecolor\": \"white\", \"ticks\": \"\", \"title\": {\"standoff\": 15}, \"zerolinecolor\": \"white\", \"zerolinewidth\": 2}}}, \"width\": 1000, \"xaxis\": {\"anchor\": \"y\", \"domain\": [0.0, 1.0], \"title\": {\"text\": \"index\"}}, \"yaxis\": {\"anchor\": \"x\", \"domain\": [0.0, 1.0], \"title\": {\"text\": \"value\"}}},\n",
              "                        {\"responsive\": true}\n",
              "                    ).then(function(){\n",
              "                            \n",
              "var gd = document.getElementById('f82a590a-eec1-4bf0-b460-1261404e58cc');\n",
              "var x = new MutationObserver(function (mutations, observer) {{\n",
              "        var display = window.getComputedStyle(gd).display;\n",
              "        if (!display || display === 'none') {{\n",
              "            console.log([gd, 'removed!']);\n",
              "            Plotly.purge(gd);\n",
              "            observer.disconnect();\n",
              "        }}\n",
              "}});\n",
              "\n",
              "// Listen for the removal of the full notebook cells\n",
              "var notebookContainer = gd.closest('#notebook-container');\n",
              "if (notebookContainer) {{\n",
              "    x.observe(notebookContainer, {childList: true});\n",
              "}}\n",
              "\n",
              "// Listen for the clearing of the current output cell\n",
              "var outputEl = gd.closest('.output');\n",
              "if (outputEl) {{\n",
              "    x.observe(outputEl, {childList: true});\n",
              "}}\n",
              "\n",
              "                        })\n",
              "                };\n",
              "                \n",
              "            </script>\n",
              "        </div>\n",
              "</body>\n",
              "</html>"
            ]
          },
          "metadata": {}
        },
        {
          "output_type": "display_data",
          "data": {
            "text/html": [
              "<html>\n",
              "<head><meta charset=\"utf-8\" /></head>\n",
              "<body>\n",
              "    <div>\n",
              "            <script src=\"https://cdnjs.cloudflare.com/ajax/libs/mathjax/2.7.5/MathJax.js?config=TeX-AMS-MML_SVG\"></script><script type=\"text/javascript\">if (window.MathJax) {MathJax.Hub.Config({SVG: {font: \"STIX-Web\"}});}</script>\n",
              "                <script type=\"text/javascript\">window.PlotlyConfig = {MathJaxConfig: 'local'};</script>\n",
              "        <script src=\"https://cdn.plot.ly/plotly-latest.min.js\"></script>    \n",
              "            <div id=\"133be5b1-ba8e-410e-90d8-d8cc20810e84\" class=\"plotly-graph-div\" style=\"height:525px; width:1000px;\"></div>\n",
              "            <script type=\"text/javascript\">\n",
              "                \n",
              "                    window.PLOTLYENV=window.PLOTLYENV || {};\n",
              "                    \n",
              "                if (document.getElementById(\"133be5b1-ba8e-410e-90d8-d8cc20810e84\")) {\n",
              "                    Plotly.newPlot(\n",
              "                        '133be5b1-ba8e-410e-90d8-d8cc20810e84',\n",
              "                        [{\"hoverlabel\": {\"namelength\": 0}, \"hovertemplate\": \"log_type=train_error<br>index=%{x}<br>value=%{y}\", \"legendgroup\": \"log_type=train_error\", \"line\": {\"color\": \"#636efa\", \"dash\": \"solid\"}, \"mode\": \"lines\", \"name\": \"log_type=train_error\", \"showlegend\": true, \"type\": \"scatter\", \"x\": [0, 1, 2, 3, 4, 5, 6, 7, 8, 9, 10, 11, 12, 13, 14, 15, 16, 17, 18, 19, 20, 21, 22, 23, 24, 25, 26, 27, 28, 29, 30, 31, 32, 33, 34, 35, 36, 37, 38, 39, 40, 41, 42, 43, 44, 45, 46, 47, 48, 49, 50, 51, 52, 53, 54, 55, 56, 57], \"xaxis\": \"x\", \"y\": [0.8060326278209686, 0.7702872107426325, 0.751006156206131, 0.7399949431419373, 0.7209075838327408, 0.7121508046984673, 0.7188979635636011, 0.7019278357426325, 0.7085001294811567, 0.6903651207685471, 0.6932759781678518, 0.6878739446401596, 0.6950918982426325, 0.6854069828987122, 0.680693656206131, 0.6793727402885755, 0.6911910300453504, 0.6747966160376867, 0.6711593916018804, 0.676787406206131, 0.6709091986219088, 0.6880299796660742, 0.6798542961478233, 0.6711028963327408, 0.6638661126295725, 0.6749149883786837, 0.6640598103404045, 0.6686117202043533, 0.6684987296660742, 0.6608422646919886, 0.6593841463327408, 0.6639979332685471, 0.6545013338327408, 0.6661447584629059, 0.6538126294811567, 0.6730936865011851, 0.6539444526036581, 0.6527984042962393, 0.6508829419811567, 0.6506704116861025, 0.6535059412320455, 0.65559088687102, 0.648472473025322, 0.6449482391277949, 0.6447922041018804, 0.6459436342120171, 0.6456934412320455, 0.64632565031449, 0.6496185213327408, 0.6459624667962393, 0.64094244937102, 0.6517276813586553, 0.6355269675453504, 0.6250726381937662, 0.6336491703987122, 0.6297617504994074, 0.6303751294811567, 0.6262428984045982], \"yaxis\": \"y\"}, {\"hoverlabel\": {\"namelength\": 0}, \"hovertemplate\": \"log_type=test_error<br>index=%{x}<br>value=%{y}\", \"legendgroup\": \"log_type=test_error\", \"line\": {\"color\": \"#EF553B\", \"dash\": \"solid\"}, \"mode\": \"lines\", \"name\": \"log_type=test_error\", \"showlegend\": true, \"type\": \"scatter\", \"x\": [0, 1, 2, 3, 4, 5, 6, 7, 8, 9, 10, 11, 12, 13, 14, 15, 16, 17, 18, 19, 20, 21, 22, 23, 24, 25, 26, 27, 28, 29, 30, 31, 32, 33, 34, 35, 36, 37, 38, 39, 40, 41, 42, 43, 44, 45, 46, 47, 48, 49, 50, 51, 52, 53, 54, 55, 56, 57], \"xaxis\": \"x\", \"y\": [0.828125, 0.8359375, 0.6328125, 0.703125, 0.7734375, 0.71875, 0.640625, 0.734375, 0.703125, 0.65625, 0.6953125, 0.7109375, 0.7265625, 0.671875, 0.671875, 0.6171875, 0.6328125, 0.65625, 0.6484375, 0.7265625, 0.75, 0.609375, 0.71875, 0.703125, 0.6953125, 0.6328125, 0.640625, 0.6640625, 0.671875, 0.6328125, 0.671875, 0.6484375, 0.65625, 0.6484375, 0.6171875, 0.65625, 0.65625, 0.65625, 0.671875, 0.59375, 0.6484375, 0.6484375, 0.6640625, 0.6328125, 0.6484375, 0.6953125, 0.734375, 0.625, 0.59375, 0.6640625, 0.6171875, 0.65625, 0.6484375, 0.6328125, 0.65625, 0.6640625, 0.6484375, 0.6171875], \"yaxis\": \"y\"}],\n",
              "                        {\"legend\": {\"tracegroupgap\": 0}, \"margin\": {\"t\": 60}, \"template\": {\"data\": {\"bar\": [{\"error_x\": {\"color\": \"#2a3f5f\"}, \"error_y\": {\"color\": \"#2a3f5f\"}, \"marker\": {\"line\": {\"color\": \"#E5ECF6\", \"width\": 0.5}}, \"type\": \"bar\"}], \"barpolar\": [{\"marker\": {\"line\": {\"color\": \"#E5ECF6\", \"width\": 0.5}}, \"type\": \"barpolar\"}], \"carpet\": [{\"aaxis\": {\"endlinecolor\": \"#2a3f5f\", \"gridcolor\": \"white\", \"linecolor\": \"white\", \"minorgridcolor\": \"white\", \"startlinecolor\": \"#2a3f5f\"}, \"baxis\": {\"endlinecolor\": \"#2a3f5f\", \"gridcolor\": \"white\", \"linecolor\": \"white\", \"minorgridcolor\": \"white\", \"startlinecolor\": \"#2a3f5f\"}, \"type\": \"carpet\"}], \"choropleth\": [{\"colorbar\": {\"outlinewidth\": 0, \"ticks\": \"\"}, \"type\": \"choropleth\"}], \"contour\": [{\"colorbar\": {\"outlinewidth\": 0, \"ticks\": \"\"}, \"colorscale\": [[0.0, \"#0d0887\"], [0.1111111111111111, \"#46039f\"], [0.2222222222222222, \"#7201a8\"], [0.3333333333333333, \"#9c179e\"], [0.4444444444444444, \"#bd3786\"], [0.5555555555555556, \"#d8576b\"], [0.6666666666666666, \"#ed7953\"], [0.7777777777777778, \"#fb9f3a\"], [0.8888888888888888, \"#fdca26\"], [1.0, \"#f0f921\"]], \"type\": \"contour\"}], \"contourcarpet\": [{\"colorbar\": {\"outlinewidth\": 0, \"ticks\": \"\"}, \"type\": \"contourcarpet\"}], \"heatmap\": [{\"colorbar\": {\"outlinewidth\": 0, \"ticks\": \"\"}, \"colorscale\": [[0.0, \"#0d0887\"], [0.1111111111111111, \"#46039f\"], [0.2222222222222222, \"#7201a8\"], [0.3333333333333333, \"#9c179e\"], [0.4444444444444444, \"#bd3786\"], [0.5555555555555556, \"#d8576b\"], [0.6666666666666666, \"#ed7953\"], [0.7777777777777778, \"#fb9f3a\"], [0.8888888888888888, \"#fdca26\"], [1.0, \"#f0f921\"]], \"type\": \"heatmap\"}], \"heatmapgl\": [{\"colorbar\": {\"outlinewidth\": 0, \"ticks\": \"\"}, \"colorscale\": [[0.0, \"#0d0887\"], [0.1111111111111111, \"#46039f\"], [0.2222222222222222, \"#7201a8\"], [0.3333333333333333, \"#9c179e\"], [0.4444444444444444, \"#bd3786\"], [0.5555555555555556, \"#d8576b\"], [0.6666666666666666, \"#ed7953\"], [0.7777777777777778, \"#fb9f3a\"], [0.8888888888888888, \"#fdca26\"], [1.0, \"#f0f921\"]], \"type\": \"heatmapgl\"}], \"histogram\": [{\"marker\": {\"colorbar\": {\"outlinewidth\": 0, \"ticks\": \"\"}}, \"type\": \"histogram\"}], \"histogram2d\": [{\"colorbar\": {\"outlinewidth\": 0, \"ticks\": \"\"}, \"colorscale\": [[0.0, \"#0d0887\"], [0.1111111111111111, \"#46039f\"], [0.2222222222222222, \"#7201a8\"], [0.3333333333333333, \"#9c179e\"], [0.4444444444444444, \"#bd3786\"], [0.5555555555555556, \"#d8576b\"], [0.6666666666666666, \"#ed7953\"], [0.7777777777777778, \"#fb9f3a\"], [0.8888888888888888, \"#fdca26\"], [1.0, \"#f0f921\"]], \"type\": \"histogram2d\"}], \"histogram2dcontour\": [{\"colorbar\": {\"outlinewidth\": 0, \"ticks\": \"\"}, \"colorscale\": [[0.0, \"#0d0887\"], [0.1111111111111111, \"#46039f\"], [0.2222222222222222, \"#7201a8\"], [0.3333333333333333, \"#9c179e\"], [0.4444444444444444, \"#bd3786\"], [0.5555555555555556, \"#d8576b\"], [0.6666666666666666, \"#ed7953\"], [0.7777777777777778, \"#fb9f3a\"], [0.8888888888888888, \"#fdca26\"], [1.0, \"#f0f921\"]], \"type\": \"histogram2dcontour\"}], \"mesh3d\": [{\"colorbar\": {\"outlinewidth\": 0, \"ticks\": \"\"}, \"type\": \"mesh3d\"}], \"parcoords\": [{\"line\": {\"colorbar\": {\"outlinewidth\": 0, \"ticks\": \"\"}}, \"type\": \"parcoords\"}], \"pie\": [{\"automargin\": true, \"type\": \"pie\"}], \"scatter\": [{\"marker\": {\"colorbar\": {\"outlinewidth\": 0, \"ticks\": \"\"}}, \"type\": \"scatter\"}], \"scatter3d\": [{\"line\": {\"colorbar\": {\"outlinewidth\": 0, \"ticks\": \"\"}}, \"marker\": {\"colorbar\": {\"outlinewidth\": 0, \"ticks\": \"\"}}, \"type\": \"scatter3d\"}], \"scattercarpet\": [{\"marker\": {\"colorbar\": {\"outlinewidth\": 0, \"ticks\": \"\"}}, \"type\": \"scattercarpet\"}], \"scattergeo\": [{\"marker\": {\"colorbar\": {\"outlinewidth\": 0, \"ticks\": \"\"}}, \"type\": \"scattergeo\"}], \"scattergl\": [{\"marker\": {\"colorbar\": {\"outlinewidth\": 0, \"ticks\": \"\"}}, \"type\": \"scattergl\"}], \"scattermapbox\": [{\"marker\": {\"colorbar\": {\"outlinewidth\": 0, \"ticks\": \"\"}}, \"type\": \"scattermapbox\"}], \"scatterpolar\": [{\"marker\": {\"colorbar\": {\"outlinewidth\": 0, \"ticks\": \"\"}}, \"type\": \"scatterpolar\"}], \"scatterpolargl\": [{\"marker\": {\"colorbar\": {\"outlinewidth\": 0, \"ticks\": \"\"}}, \"type\": \"scatterpolargl\"}], \"scatterternary\": [{\"marker\": {\"colorbar\": {\"outlinewidth\": 0, \"ticks\": \"\"}}, \"type\": \"scatterternary\"}], \"surface\": [{\"colorbar\": {\"outlinewidth\": 0, \"ticks\": \"\"}, \"colorscale\": [[0.0, \"#0d0887\"], [0.1111111111111111, \"#46039f\"], [0.2222222222222222, \"#7201a8\"], [0.3333333333333333, \"#9c179e\"], [0.4444444444444444, \"#bd3786\"], [0.5555555555555556, \"#d8576b\"], [0.6666666666666666, \"#ed7953\"], [0.7777777777777778, \"#fb9f3a\"], [0.8888888888888888, \"#fdca26\"], [1.0, \"#f0f921\"]], \"type\": \"surface\"}], \"table\": [{\"cells\": {\"fill\": {\"color\": \"#EBF0F8\"}, \"line\": {\"color\": \"white\"}}, \"header\": {\"fill\": {\"color\": \"#C8D4E3\"}, \"line\": {\"color\": \"white\"}}, \"type\": \"table\"}]}, \"layout\": {\"annotationdefaults\": {\"arrowcolor\": \"#2a3f5f\", \"arrowhead\": 0, \"arrowwidth\": 1}, \"coloraxis\": {\"colorbar\": {\"outlinewidth\": 0, \"ticks\": \"\"}}, \"colorscale\": {\"diverging\": [[0, \"#8e0152\"], [0.1, \"#c51b7d\"], [0.2, \"#de77ae\"], [0.3, \"#f1b6da\"], [0.4, \"#fde0ef\"], [0.5, \"#f7f7f7\"], [0.6, \"#e6f5d0\"], [0.7, \"#b8e186\"], [0.8, \"#7fbc41\"], [0.9, \"#4d9221\"], [1, \"#276419\"]], \"sequential\": [[0.0, \"#0d0887\"], [0.1111111111111111, \"#46039f\"], [0.2222222222222222, \"#7201a8\"], [0.3333333333333333, \"#9c179e\"], [0.4444444444444444, \"#bd3786\"], [0.5555555555555556, \"#d8576b\"], [0.6666666666666666, \"#ed7953\"], [0.7777777777777778, \"#fb9f3a\"], [0.8888888888888888, \"#fdca26\"], [1.0, \"#f0f921\"]], \"sequentialminus\": [[0.0, \"#0d0887\"], [0.1111111111111111, \"#46039f\"], [0.2222222222222222, \"#7201a8\"], [0.3333333333333333, \"#9c179e\"], [0.4444444444444444, \"#bd3786\"], [0.5555555555555556, \"#d8576b\"], [0.6666666666666666, \"#ed7953\"], [0.7777777777777778, \"#fb9f3a\"], [0.8888888888888888, \"#fdca26\"], [1.0, \"#f0f921\"]]}, \"colorway\": [\"#636efa\", \"#EF553B\", \"#00cc96\", \"#ab63fa\", \"#FFA15A\", \"#19d3f3\", \"#FF6692\", \"#B6E880\", \"#FF97FF\", \"#FECB52\"], \"font\": {\"color\": \"#2a3f5f\"}, \"geo\": {\"bgcolor\": \"white\", \"lakecolor\": \"white\", \"landcolor\": \"#E5ECF6\", \"showlakes\": true, \"showland\": true, \"subunitcolor\": \"white\"}, \"hoverlabel\": {\"align\": \"left\"}, \"hovermode\": \"closest\", \"mapbox\": {\"style\": \"light\"}, \"paper_bgcolor\": \"white\", \"plot_bgcolor\": \"#E5ECF6\", \"polar\": {\"angularaxis\": {\"gridcolor\": \"white\", \"linecolor\": \"white\", \"ticks\": \"\"}, \"bgcolor\": \"#E5ECF6\", \"radialaxis\": {\"gridcolor\": \"white\", \"linecolor\": \"white\", \"ticks\": \"\"}}, \"scene\": {\"xaxis\": {\"backgroundcolor\": \"#E5ECF6\", \"gridcolor\": \"white\", \"gridwidth\": 2, \"linecolor\": \"white\", \"showbackground\": true, \"ticks\": \"\", \"zerolinecolor\": \"white\"}, \"yaxis\": {\"backgroundcolor\": \"#E5ECF6\", \"gridcolor\": \"white\", \"gridwidth\": 2, \"linecolor\": \"white\", \"showbackground\": true, \"ticks\": \"\", \"zerolinecolor\": \"white\"}, \"zaxis\": {\"backgroundcolor\": \"#E5ECF6\", \"gridcolor\": \"white\", \"gridwidth\": 2, \"linecolor\": \"white\", \"showbackground\": true, \"ticks\": \"\", \"zerolinecolor\": \"white\"}}, \"shapedefaults\": {\"line\": {\"color\": \"#2a3f5f\"}}, \"ternary\": {\"aaxis\": {\"gridcolor\": \"white\", \"linecolor\": \"white\", \"ticks\": \"\"}, \"baxis\": {\"gridcolor\": \"white\", \"linecolor\": \"white\", \"ticks\": \"\"}, \"bgcolor\": \"#E5ECF6\", \"caxis\": {\"gridcolor\": \"white\", \"linecolor\": \"white\", \"ticks\": \"\"}}, \"title\": {\"x\": 0.05}, \"xaxis\": {\"automargin\": true, \"gridcolor\": \"white\", \"linecolor\": \"white\", \"ticks\": \"\", \"title\": {\"standoff\": 15}, \"zerolinecolor\": \"white\", \"zerolinewidth\": 2}, \"yaxis\": {\"automargin\": true, \"gridcolor\": \"white\", \"linecolor\": \"white\", \"ticks\": \"\", \"title\": {\"standoff\": 15}, \"zerolinecolor\": \"white\", \"zerolinewidth\": 2}}}, \"width\": 1000, \"xaxis\": {\"anchor\": \"y\", \"domain\": [0.0, 1.0], \"title\": {\"text\": \"index\"}}, \"yaxis\": {\"anchor\": \"x\", \"domain\": [0.0, 1.0], \"title\": {\"text\": \"value\"}}},\n",
              "                        {\"responsive\": true}\n",
              "                    ).then(function(){\n",
              "                            \n",
              "var gd = document.getElementById('133be5b1-ba8e-410e-90d8-d8cc20810e84');\n",
              "var x = new MutationObserver(function (mutations, observer) {{\n",
              "        var display = window.getComputedStyle(gd).display;\n",
              "        if (!display || display === 'none') {{\n",
              "            console.log([gd, 'removed!']);\n",
              "            Plotly.purge(gd);\n",
              "            observer.disconnect();\n",
              "        }}\n",
              "}});\n",
              "\n",
              "// Listen for the removal of the full notebook cells\n",
              "var notebookContainer = gd.closest('#notebook-container');\n",
              "if (notebookContainer) {{\n",
              "    x.observe(notebookContainer, {childList: true});\n",
              "}}\n",
              "\n",
              "// Listen for the clearing of the current output cell\n",
              "var outputEl = gd.closest('.output');\n",
              "if (outputEl) {{\n",
              "    x.observe(outputEl, {childList: true});\n",
              "}}\n",
              "\n",
              "                        })\n",
              "                };\n",
              "                \n",
              "            </script>\n",
              "        </div>\n",
              "</body>\n",
              "</html>"
            ]
          },
          "metadata": {}
        }
      ]
    },
    {
      "cell_type": "markdown",
      "metadata": {
        "id": "pyoxFRxpqHwx"
      },
      "source": [
        "## 10. Confusion matrix\n",
        "Show the confusion matrix for the current model."
      ],
      "id": "pyoxFRxpqHwx"
    },
    {
      "cell_type": "code",
      "metadata": {
        "id": "99455a37"
      },
      "source": [
        "from sklearn.metrics import confusion_matrix\n",
        "def compute_acc_and_conf_mat(scores, actual_labels):\n",
        "    y_pred = scores.detach().numpy()\n",
        "    y_pred = np.argmax(y_pred, axis=1)\n",
        "    indicator = (y_pred == actual_labels)\n",
        "    num_matches = indicator.sum()\n",
        "    acc = 100*num_matches/len(y_pred)\n",
        "    conf_mat = confusion_matrix(actual_labels, y_pred)\n",
        "    return acc, conf_mat\n",
        "\n",
        "import plotly.graph_objects as go\n",
        "def plot_confusion_matrix(cm, labels, title):\n",
        "    # cm : confusion matrix list(list)\n",
        "    # labels : name of the data list(str)\n",
        "    # title : title for the heatmap\n",
        "    data = go.Heatmap(z=cm, y=labels, x=labels, colorscale=\"BuPu\")\n",
        "    annotations = []\n",
        "    for i, row in enumerate(cm):\n",
        "        for j, value in enumerate(row):\n",
        "            annotations.append(\n",
        "                {\n",
        "                    \"x\": labels[i],\n",
        "                    \"y\": labels[j],\n",
        "                    \"font\": {\"color\": \"white\"},\n",
        "                    \"text\": str(value),\n",
        "                    \"xref\": \"x1\",\n",
        "                    \"yref\": \"y1\",\n",
        "                    \"showarrow\": False\n",
        "                }\n",
        "            )\n",
        "    layout = {\n",
        "        \"title\": title,\n",
        "        \"xaxis\": {\"title\": \"Predicted value\"},\n",
        "        \"yaxis\": {\"title\": \"Real value\"},\n",
        "        \"annotations\": annotations,\n",
        "        \"width\":500,\n",
        "        \"height\":500,\n",
        "    }\n",
        "    fig = go.Figure(data=data, layout=layout)\n",
        "    return fig\n",
        "\n",
        "def show_conf_matrix(net_model):\n",
        "    device = torch.device('cuda' if torch.cuda.is_available() else 'cpu')\n",
        "    X_test_ = torch.from_numpy(np.array(X_test).astype(np.float32)).to(device)\n",
        "    X_train_ = torch.from_numpy(np.array(X_train).astype(np.float32))\n",
        "    X_train_ = X_train_.view(-1, 3, 50, 50)\n",
        "    mean= X_train_.mean()\n",
        "    std= X_train_.std()\n",
        "    X_test_= (X_test_-mean) / std\n",
        "    X_test_ = X_test_.view(-1, 3, 50, 50)\n",
        "    scores =  net_model(X_test_)\n",
        "    acc, conf_mat = compute_acc_and_conf_mat(scores.cpu(),y_test)\n",
        "    label = ('Not Skin', 'Normal', 'Pustule', 'Whitehead', 'Blackhead', 'Cyst',)\n",
        "    plot_confusion_matrix(conf_mat, label, \"confusion matrix\")\n",
        "    return conf_mat\n",
        "\n",
        "conf_mat = show_conf_matrix(net_model)"
      ],
      "id": "99455a37",
      "execution_count": 33,
      "outputs": []
    },
    {
      "cell_type": "code",
      "metadata": {
        "colab": {
          "base_uri": "https://localhost:8080/",
          "height": 517
        },
        "id": "ca7ec358",
        "outputId": "82ca3d6b-cfef-4c94-c395-525892736448"
      },
      "source": [
        "# # conf_mat_to_tabel(conf_mat)\n",
        "# pd.DataFrame(conf_mat)\n",
        "\n",
        "import plotly.graph_objects as go\n",
        "def plot_confusion_matrix(cm, labels, title):\n",
        "    # cm : confusion matrix list(list)\n",
        "    # labels : name of the data list(str)\n",
        "    # title : title for the heatmap\n",
        "    data = go.Heatmap(z=cm, y=labels, x=labels, colorscale=\"BuPu\")#Bluered\n",
        "    annotations = []\n",
        "    for i, row in enumerate(cm):\n",
        "        for j, value in enumerate(row):\n",
        "            annotations.append(\n",
        "                {\n",
        "                    \"x\": labels[i],\n",
        "                    \"y\": labels[j],\n",
        "                    \"font\": {\"color\": \"white\"},\n",
        "                    \"text\": str(value),\n",
        "                    \"xref\": \"x1\",\n",
        "                    \"yref\": \"y1\",\n",
        "                    \"showarrow\": False\n",
        "                }\n",
        "            )\n",
        "    layout = {\n",
        "        \"title\": title,\n",
        "        \"xaxis\": {\"title\": \"Predicted value\"},\n",
        "        \"yaxis\": {\"title\": \"Real value\"},\n",
        "        \"annotations\": annotations,\n",
        "        \"width\":500,\n",
        "        \"height\":500,\n",
        "    }\n",
        "    fig = go.Figure(data=data, layout=layout)\n",
        "    return fig\n",
        "    \n",
        "label = ('Not Skin', 'Normal', 'Pustule', 'Whitehead', 'Blackhead', 'Cyst',)\n",
        "plot_confusion_matrix(conf_mat, label, \"confusion matrix\")"
      ],
      "id": "ca7ec358",
      "execution_count": 34,
      "outputs": [
        {
          "output_type": "display_data",
          "data": {
            "text/html": [
              "<html>\n",
              "<head><meta charset=\"utf-8\" /></head>\n",
              "<body>\n",
              "    <div>\n",
              "            <script src=\"https://cdnjs.cloudflare.com/ajax/libs/mathjax/2.7.5/MathJax.js?config=TeX-AMS-MML_SVG\"></script><script type=\"text/javascript\">if (window.MathJax) {MathJax.Hub.Config({SVG: {font: \"STIX-Web\"}});}</script>\n",
              "                <script type=\"text/javascript\">window.PlotlyConfig = {MathJaxConfig: 'local'};</script>\n",
              "        <script src=\"https://cdn.plot.ly/plotly-latest.min.js\"></script>    \n",
              "            <div id=\"24b6ae49-1649-41fb-a44a-7064ce1fadbf\" class=\"plotly-graph-div\" style=\"height:500px; width:500px;\"></div>\n",
              "            <script type=\"text/javascript\">\n",
              "                \n",
              "                    window.PLOTLYENV=window.PLOTLYENV || {};\n",
              "                    \n",
              "                if (document.getElementById(\"24b6ae49-1649-41fb-a44a-7064ce1fadbf\")) {\n",
              "                    Plotly.newPlot(\n",
              "                        '24b6ae49-1649-41fb-a44a-7064ce1fadbf',\n",
              "                        [{\"colorscale\": [[0.0, \"rgb(247,252,253)\"], [0.125, \"rgb(224,236,244)\"], [0.25, \"rgb(191,211,230)\"], [0.375, \"rgb(158,188,218)\"], [0.5, \"rgb(140,150,198)\"], [0.625, \"rgb(140,107,177)\"], [0.75, \"rgb(136,65,157)\"], [0.875, \"rgb(129,15,124)\"], [1.0, \"rgb(77,0,75)\"]], \"type\": \"heatmap\", \"x\": [\"Not Skin\", \"Normal\", \"Pustule\", \"Whitehead\", \"Blackhead\", \"Cyst\"], \"y\": [\"Not Skin\", \"Normal\", \"Pustule\", \"Whitehead\", \"Blackhead\", \"Cyst\"], \"z\": [[94, 16, 21, 5, 4, 9], [34, 87, 72, 12, 11, 18], [19, 40, 78, 4, 13, 29], [9, 32, 78, 10, 5, 29], [12, 34, 56, 2, 20, 16], [10, 21, 45, 2, 5, 18]]}],\n",
              "                        {\"annotations\": [{\"font\": {\"color\": \"white\"}, \"showarrow\": false, \"text\": \"94\", \"x\": \"Not Skin\", \"xref\": \"x\", \"y\": \"Not Skin\", \"yref\": \"y\"}, {\"font\": {\"color\": \"white\"}, \"showarrow\": false, \"text\": \"16\", \"x\": \"Not Skin\", \"xref\": \"x\", \"y\": \"Normal\", \"yref\": \"y\"}, {\"font\": {\"color\": \"white\"}, \"showarrow\": false, \"text\": \"21\", \"x\": \"Not Skin\", \"xref\": \"x\", \"y\": \"Pustule\", \"yref\": \"y\"}, {\"font\": {\"color\": \"white\"}, \"showarrow\": false, \"text\": \"5\", \"x\": \"Not Skin\", \"xref\": \"x\", \"y\": \"Whitehead\", \"yref\": \"y\"}, {\"font\": {\"color\": \"white\"}, \"showarrow\": false, \"text\": \"4\", \"x\": \"Not Skin\", \"xref\": \"x\", \"y\": \"Blackhead\", \"yref\": \"y\"}, {\"font\": {\"color\": \"white\"}, \"showarrow\": false, \"text\": \"9\", \"x\": \"Not Skin\", \"xref\": \"x\", \"y\": \"Cyst\", \"yref\": \"y\"}, {\"font\": {\"color\": \"white\"}, \"showarrow\": false, \"text\": \"34\", \"x\": \"Normal\", \"xref\": \"x\", \"y\": \"Not Skin\", \"yref\": \"y\"}, {\"font\": {\"color\": \"white\"}, \"showarrow\": false, \"text\": \"87\", \"x\": \"Normal\", \"xref\": \"x\", \"y\": \"Normal\", \"yref\": \"y\"}, {\"font\": {\"color\": \"white\"}, \"showarrow\": false, \"text\": \"72\", \"x\": \"Normal\", \"xref\": \"x\", \"y\": \"Pustule\", \"yref\": \"y\"}, {\"font\": {\"color\": \"white\"}, \"showarrow\": false, \"text\": \"12\", \"x\": \"Normal\", \"xref\": \"x\", \"y\": \"Whitehead\", \"yref\": \"y\"}, {\"font\": {\"color\": \"white\"}, \"showarrow\": false, \"text\": \"11\", \"x\": \"Normal\", \"xref\": \"x\", \"y\": \"Blackhead\", \"yref\": \"y\"}, {\"font\": {\"color\": \"white\"}, \"showarrow\": false, \"text\": \"18\", \"x\": \"Normal\", \"xref\": \"x\", \"y\": \"Cyst\", \"yref\": \"y\"}, {\"font\": {\"color\": \"white\"}, \"showarrow\": false, \"text\": \"19\", \"x\": \"Pustule\", \"xref\": \"x\", \"y\": \"Not Skin\", \"yref\": \"y\"}, {\"font\": {\"color\": \"white\"}, \"showarrow\": false, \"text\": \"40\", \"x\": \"Pustule\", \"xref\": \"x\", \"y\": \"Normal\", \"yref\": \"y\"}, {\"font\": {\"color\": \"white\"}, \"showarrow\": false, \"text\": \"78\", \"x\": \"Pustule\", \"xref\": \"x\", \"y\": \"Pustule\", \"yref\": \"y\"}, {\"font\": {\"color\": \"white\"}, \"showarrow\": false, \"text\": \"4\", \"x\": \"Pustule\", \"xref\": \"x\", \"y\": \"Whitehead\", \"yref\": \"y\"}, {\"font\": {\"color\": \"white\"}, \"showarrow\": false, \"text\": \"13\", \"x\": \"Pustule\", \"xref\": \"x\", \"y\": \"Blackhead\", \"yref\": \"y\"}, {\"font\": {\"color\": \"white\"}, \"showarrow\": false, \"text\": \"29\", \"x\": \"Pustule\", \"xref\": \"x\", \"y\": \"Cyst\", \"yref\": \"y\"}, {\"font\": {\"color\": \"white\"}, \"showarrow\": false, \"text\": \"9\", \"x\": \"Whitehead\", \"xref\": \"x\", \"y\": \"Not Skin\", \"yref\": \"y\"}, {\"font\": {\"color\": \"white\"}, \"showarrow\": false, \"text\": \"32\", \"x\": \"Whitehead\", \"xref\": \"x\", \"y\": \"Normal\", \"yref\": \"y\"}, {\"font\": {\"color\": \"white\"}, \"showarrow\": false, \"text\": \"78\", \"x\": \"Whitehead\", \"xref\": \"x\", \"y\": \"Pustule\", \"yref\": \"y\"}, {\"font\": {\"color\": \"white\"}, \"showarrow\": false, \"text\": \"10\", \"x\": \"Whitehead\", \"xref\": \"x\", \"y\": \"Whitehead\", \"yref\": \"y\"}, {\"font\": {\"color\": \"white\"}, \"showarrow\": false, \"text\": \"5\", \"x\": \"Whitehead\", \"xref\": \"x\", \"y\": \"Blackhead\", \"yref\": \"y\"}, {\"font\": {\"color\": \"white\"}, \"showarrow\": false, \"text\": \"29\", \"x\": \"Whitehead\", \"xref\": \"x\", \"y\": \"Cyst\", \"yref\": \"y\"}, {\"font\": {\"color\": \"white\"}, \"showarrow\": false, \"text\": \"12\", \"x\": \"Blackhead\", \"xref\": \"x\", \"y\": \"Not Skin\", \"yref\": \"y\"}, {\"font\": {\"color\": \"white\"}, \"showarrow\": false, \"text\": \"34\", \"x\": \"Blackhead\", \"xref\": \"x\", \"y\": \"Normal\", \"yref\": \"y\"}, {\"font\": {\"color\": \"white\"}, \"showarrow\": false, \"text\": \"56\", \"x\": \"Blackhead\", \"xref\": \"x\", \"y\": \"Pustule\", \"yref\": \"y\"}, {\"font\": {\"color\": \"white\"}, \"showarrow\": false, \"text\": \"2\", \"x\": \"Blackhead\", \"xref\": \"x\", \"y\": \"Whitehead\", \"yref\": \"y\"}, {\"font\": {\"color\": \"white\"}, \"showarrow\": false, \"text\": \"20\", \"x\": \"Blackhead\", \"xref\": \"x\", \"y\": \"Blackhead\", \"yref\": \"y\"}, {\"font\": {\"color\": \"white\"}, \"showarrow\": false, \"text\": \"16\", \"x\": \"Blackhead\", \"xref\": \"x\", \"y\": \"Cyst\", \"yref\": \"y\"}, {\"font\": {\"color\": \"white\"}, \"showarrow\": false, \"text\": \"10\", \"x\": \"Cyst\", \"xref\": \"x\", \"y\": \"Not Skin\", \"yref\": \"y\"}, {\"font\": {\"color\": \"white\"}, \"showarrow\": false, \"text\": \"21\", \"x\": \"Cyst\", \"xref\": \"x\", \"y\": \"Normal\", \"yref\": \"y\"}, {\"font\": {\"color\": \"white\"}, \"showarrow\": false, \"text\": \"45\", \"x\": \"Cyst\", \"xref\": \"x\", \"y\": \"Pustule\", \"yref\": \"y\"}, {\"font\": {\"color\": \"white\"}, \"showarrow\": false, \"text\": \"2\", \"x\": \"Cyst\", \"xref\": \"x\", \"y\": \"Whitehead\", \"yref\": \"y\"}, {\"font\": {\"color\": \"white\"}, \"showarrow\": false, \"text\": \"5\", \"x\": \"Cyst\", \"xref\": \"x\", \"y\": \"Blackhead\", \"yref\": \"y\"}, {\"font\": {\"color\": \"white\"}, \"showarrow\": false, \"text\": \"18\", \"x\": \"Cyst\", \"xref\": \"x\", \"y\": \"Cyst\", \"yref\": \"y\"}], \"height\": 500, \"template\": {\"data\": {\"bar\": [{\"error_x\": {\"color\": \"#2a3f5f\"}, \"error_y\": {\"color\": \"#2a3f5f\"}, \"marker\": {\"line\": {\"color\": \"#E5ECF6\", \"width\": 0.5}}, \"type\": \"bar\"}], \"barpolar\": [{\"marker\": {\"line\": {\"color\": \"#E5ECF6\", \"width\": 0.5}}, \"type\": \"barpolar\"}], \"carpet\": [{\"aaxis\": {\"endlinecolor\": \"#2a3f5f\", \"gridcolor\": \"white\", \"linecolor\": \"white\", \"minorgridcolor\": \"white\", \"startlinecolor\": \"#2a3f5f\"}, \"baxis\": {\"endlinecolor\": \"#2a3f5f\", \"gridcolor\": \"white\", \"linecolor\": \"white\", \"minorgridcolor\": \"white\", \"startlinecolor\": \"#2a3f5f\"}, \"type\": \"carpet\"}], \"choropleth\": [{\"colorbar\": {\"outlinewidth\": 0, \"ticks\": \"\"}, \"type\": \"choropleth\"}], \"contour\": [{\"colorbar\": {\"outlinewidth\": 0, \"ticks\": \"\"}, \"colorscale\": [[0.0, \"#0d0887\"], [0.1111111111111111, \"#46039f\"], [0.2222222222222222, \"#7201a8\"], [0.3333333333333333, \"#9c179e\"], [0.4444444444444444, \"#bd3786\"], [0.5555555555555556, \"#d8576b\"], [0.6666666666666666, \"#ed7953\"], [0.7777777777777778, \"#fb9f3a\"], [0.8888888888888888, \"#fdca26\"], [1.0, \"#f0f921\"]], \"type\": \"contour\"}], \"contourcarpet\": [{\"colorbar\": {\"outlinewidth\": 0, \"ticks\": \"\"}, \"type\": \"contourcarpet\"}], \"heatmap\": [{\"colorbar\": {\"outlinewidth\": 0, \"ticks\": \"\"}, \"colorscale\": [[0.0, \"#0d0887\"], [0.1111111111111111, \"#46039f\"], [0.2222222222222222, \"#7201a8\"], [0.3333333333333333, \"#9c179e\"], [0.4444444444444444, \"#bd3786\"], [0.5555555555555556, \"#d8576b\"], [0.6666666666666666, \"#ed7953\"], [0.7777777777777778, \"#fb9f3a\"], [0.8888888888888888, \"#fdca26\"], [1.0, \"#f0f921\"]], \"type\": \"heatmap\"}], \"heatmapgl\": [{\"colorbar\": {\"outlinewidth\": 0, \"ticks\": \"\"}, \"colorscale\": [[0.0, \"#0d0887\"], [0.1111111111111111, \"#46039f\"], [0.2222222222222222, \"#7201a8\"], [0.3333333333333333, \"#9c179e\"], [0.4444444444444444, \"#bd3786\"], [0.5555555555555556, \"#d8576b\"], [0.6666666666666666, \"#ed7953\"], [0.7777777777777778, \"#fb9f3a\"], [0.8888888888888888, \"#fdca26\"], [1.0, \"#f0f921\"]], \"type\": \"heatmapgl\"}], \"histogram\": [{\"marker\": {\"colorbar\": {\"outlinewidth\": 0, \"ticks\": \"\"}}, \"type\": \"histogram\"}], \"histogram2d\": [{\"colorbar\": {\"outlinewidth\": 0, \"ticks\": \"\"}, \"colorscale\": [[0.0, \"#0d0887\"], [0.1111111111111111, \"#46039f\"], [0.2222222222222222, \"#7201a8\"], [0.3333333333333333, \"#9c179e\"], [0.4444444444444444, \"#bd3786\"], [0.5555555555555556, \"#d8576b\"], [0.6666666666666666, \"#ed7953\"], [0.7777777777777778, \"#fb9f3a\"], [0.8888888888888888, \"#fdca26\"], [1.0, \"#f0f921\"]], \"type\": \"histogram2d\"}], \"histogram2dcontour\": [{\"colorbar\": {\"outlinewidth\": 0, \"ticks\": \"\"}, \"colorscale\": [[0.0, \"#0d0887\"], [0.1111111111111111, \"#46039f\"], [0.2222222222222222, \"#7201a8\"], [0.3333333333333333, \"#9c179e\"], [0.4444444444444444, \"#bd3786\"], [0.5555555555555556, \"#d8576b\"], [0.6666666666666666, \"#ed7953\"], [0.7777777777777778, \"#fb9f3a\"], [0.8888888888888888, \"#fdca26\"], [1.0, \"#f0f921\"]], \"type\": \"histogram2dcontour\"}], \"mesh3d\": [{\"colorbar\": {\"outlinewidth\": 0, \"ticks\": \"\"}, \"type\": \"mesh3d\"}], \"parcoords\": [{\"line\": {\"colorbar\": {\"outlinewidth\": 0, \"ticks\": \"\"}}, \"type\": \"parcoords\"}], \"pie\": [{\"automargin\": true, \"type\": \"pie\"}], \"scatter\": [{\"marker\": {\"colorbar\": {\"outlinewidth\": 0, \"ticks\": \"\"}}, \"type\": \"scatter\"}], \"scatter3d\": [{\"line\": {\"colorbar\": {\"outlinewidth\": 0, \"ticks\": \"\"}}, \"marker\": {\"colorbar\": {\"outlinewidth\": 0, \"ticks\": \"\"}}, \"type\": \"scatter3d\"}], \"scattercarpet\": [{\"marker\": {\"colorbar\": {\"outlinewidth\": 0, \"ticks\": \"\"}}, \"type\": \"scattercarpet\"}], \"scattergeo\": [{\"marker\": {\"colorbar\": {\"outlinewidth\": 0, \"ticks\": \"\"}}, \"type\": \"scattergeo\"}], \"scattergl\": [{\"marker\": {\"colorbar\": {\"outlinewidth\": 0, \"ticks\": \"\"}}, \"type\": \"scattergl\"}], \"scattermapbox\": [{\"marker\": {\"colorbar\": {\"outlinewidth\": 0, \"ticks\": \"\"}}, \"type\": \"scattermapbox\"}], \"scatterpolar\": [{\"marker\": {\"colorbar\": {\"outlinewidth\": 0, \"ticks\": \"\"}}, \"type\": \"scatterpolar\"}], \"scatterpolargl\": [{\"marker\": {\"colorbar\": {\"outlinewidth\": 0, \"ticks\": \"\"}}, \"type\": \"scatterpolargl\"}], \"scatterternary\": [{\"marker\": {\"colorbar\": {\"outlinewidth\": 0, \"ticks\": \"\"}}, \"type\": \"scatterternary\"}], \"surface\": [{\"colorbar\": {\"outlinewidth\": 0, \"ticks\": \"\"}, \"colorscale\": [[0.0, \"#0d0887\"], [0.1111111111111111, \"#46039f\"], [0.2222222222222222, \"#7201a8\"], [0.3333333333333333, \"#9c179e\"], [0.4444444444444444, \"#bd3786\"], [0.5555555555555556, \"#d8576b\"], [0.6666666666666666, \"#ed7953\"], [0.7777777777777778, \"#fb9f3a\"], [0.8888888888888888, \"#fdca26\"], [1.0, \"#f0f921\"]], \"type\": \"surface\"}], \"table\": [{\"cells\": {\"fill\": {\"color\": \"#EBF0F8\"}, \"line\": {\"color\": \"white\"}}, \"header\": {\"fill\": {\"color\": \"#C8D4E3\"}, \"line\": {\"color\": \"white\"}}, \"type\": \"table\"}]}, \"layout\": {\"annotationdefaults\": {\"arrowcolor\": \"#2a3f5f\", \"arrowhead\": 0, \"arrowwidth\": 1}, \"coloraxis\": {\"colorbar\": {\"outlinewidth\": 0, \"ticks\": \"\"}}, \"colorscale\": {\"diverging\": [[0, \"#8e0152\"], [0.1, \"#c51b7d\"], [0.2, \"#de77ae\"], [0.3, \"#f1b6da\"], [0.4, \"#fde0ef\"], [0.5, \"#f7f7f7\"], [0.6, \"#e6f5d0\"], [0.7, \"#b8e186\"], [0.8, \"#7fbc41\"], [0.9, \"#4d9221\"], [1, \"#276419\"]], \"sequential\": [[0.0, \"#0d0887\"], [0.1111111111111111, \"#46039f\"], [0.2222222222222222, \"#7201a8\"], [0.3333333333333333, \"#9c179e\"], [0.4444444444444444, \"#bd3786\"], [0.5555555555555556, \"#d8576b\"], [0.6666666666666666, \"#ed7953\"], [0.7777777777777778, \"#fb9f3a\"], [0.8888888888888888, \"#fdca26\"], [1.0, \"#f0f921\"]], \"sequentialminus\": [[0.0, \"#0d0887\"], [0.1111111111111111, \"#46039f\"], [0.2222222222222222, \"#7201a8\"], [0.3333333333333333, \"#9c179e\"], [0.4444444444444444, \"#bd3786\"], [0.5555555555555556, \"#d8576b\"], [0.6666666666666666, \"#ed7953\"], [0.7777777777777778, \"#fb9f3a\"], [0.8888888888888888, \"#fdca26\"], [1.0, \"#f0f921\"]]}, \"colorway\": [\"#636efa\", \"#EF553B\", \"#00cc96\", \"#ab63fa\", \"#FFA15A\", \"#19d3f3\", \"#FF6692\", \"#B6E880\", \"#FF97FF\", \"#FECB52\"], \"font\": {\"color\": \"#2a3f5f\"}, \"geo\": {\"bgcolor\": \"white\", \"lakecolor\": \"white\", \"landcolor\": \"#E5ECF6\", \"showlakes\": true, \"showland\": true, \"subunitcolor\": \"white\"}, \"hoverlabel\": {\"align\": \"left\"}, \"hovermode\": \"closest\", \"mapbox\": {\"style\": \"light\"}, \"paper_bgcolor\": \"white\", \"plot_bgcolor\": \"#E5ECF6\", \"polar\": {\"angularaxis\": {\"gridcolor\": \"white\", \"linecolor\": \"white\", \"ticks\": \"\"}, \"bgcolor\": \"#E5ECF6\", \"radialaxis\": {\"gridcolor\": \"white\", \"linecolor\": \"white\", \"ticks\": \"\"}}, \"scene\": {\"xaxis\": {\"backgroundcolor\": \"#E5ECF6\", \"gridcolor\": \"white\", \"gridwidth\": 2, \"linecolor\": \"white\", \"showbackground\": true, \"ticks\": \"\", \"zerolinecolor\": \"white\"}, \"yaxis\": {\"backgroundcolor\": \"#E5ECF6\", \"gridcolor\": \"white\", \"gridwidth\": 2, \"linecolor\": \"white\", \"showbackground\": true, \"ticks\": \"\", \"zerolinecolor\": \"white\"}, \"zaxis\": {\"backgroundcolor\": \"#E5ECF6\", \"gridcolor\": \"white\", \"gridwidth\": 2, \"linecolor\": \"white\", \"showbackground\": true, \"ticks\": \"\", \"zerolinecolor\": \"white\"}}, \"shapedefaults\": {\"line\": {\"color\": \"#2a3f5f\"}}, \"ternary\": {\"aaxis\": {\"gridcolor\": \"white\", \"linecolor\": \"white\", \"ticks\": \"\"}, \"baxis\": {\"gridcolor\": \"white\", \"linecolor\": \"white\", \"ticks\": \"\"}, \"bgcolor\": \"#E5ECF6\", \"caxis\": {\"gridcolor\": \"white\", \"linecolor\": \"white\", \"ticks\": \"\"}}, \"title\": {\"x\": 0.05}, \"xaxis\": {\"automargin\": true, \"gridcolor\": \"white\", \"linecolor\": \"white\", \"ticks\": \"\", \"title\": {\"standoff\": 15}, \"zerolinecolor\": \"white\", \"zerolinewidth\": 2}, \"yaxis\": {\"automargin\": true, \"gridcolor\": \"white\", \"linecolor\": \"white\", \"ticks\": \"\", \"title\": {\"standoff\": 15}, \"zerolinecolor\": \"white\", \"zerolinewidth\": 2}}}, \"title\": {\"text\": \"confusion matrix\"}, \"width\": 500, \"xaxis\": {\"title\": {\"text\": \"Predicted value\"}}, \"yaxis\": {\"title\": {\"text\": \"Real value\"}}},\n",
              "                        {\"responsive\": true}\n",
              "                    ).then(function(){\n",
              "                            \n",
              "var gd = document.getElementById('24b6ae49-1649-41fb-a44a-7064ce1fadbf');\n",
              "var x = new MutationObserver(function (mutations, observer) {{\n",
              "        var display = window.getComputedStyle(gd).display;\n",
              "        if (!display || display === 'none') {{\n",
              "            console.log([gd, 'removed!']);\n",
              "            Plotly.purge(gd);\n",
              "            observer.disconnect();\n",
              "        }}\n",
              "}});\n",
              "\n",
              "// Listen for the removal of the full notebook cells\n",
              "var notebookContainer = gd.closest('#notebook-container');\n",
              "if (notebookContainer) {{\n",
              "    x.observe(notebookContainer, {childList: true});\n",
              "}}\n",
              "\n",
              "// Listen for the clearing of the current output cell\n",
              "var outputEl = gd.closest('.output');\n",
              "if (outputEl) {{\n",
              "    x.observe(outputEl, {childList: true});\n",
              "}}\n",
              "\n",
              "                        })\n",
              "                };\n",
              "                \n",
              "            </script>\n",
              "        </div>\n",
              "</body>\n",
              "</html>"
            ]
          },
          "metadata": {}
        }
      ]
    }
  ]
}