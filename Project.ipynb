{
  "nbformat": 4,
  "nbformat_minor": 5,
  "metadata": {
    "colab": {
      "name": "Project.ipynb",
      "provenance": []
    },
    "kernelspec": {
      "display_name": "Python 3 (ipykernel)",
      "language": "python",
      "name": "python3"
    },
    "language_info": {
      "codemirror_mode": {
        "name": "ipython",
        "version": 3
      },
      "file_extension": ".py",
      "mimetype": "text/x-python",
      "name": "python",
      "nbconvert_exporter": "python",
      "pygments_lexer": "ipython3",
      "version": "3.7.10"
    },
    "accelerator": "GPU"
  },
  "cells": [
    {
      "cell_type": "markdown",
      "metadata": {
        "id": "45071339"
      },
      "source": [
        "# Project Motivation\n",
        "With the rise of telederm, users upload a photo of their face to aid dermatologists in the assessment. They then count and determine the type of every acne. However, this process is labour intensive, prone to bias and does not scale well. Hence, being able to identify the type of acne found on the face using computer vision, this creates room for automated acne diagnosis. Alternatively, in recommendation systems for skincare products on ecommerce sites, this data can empower the algorithms behind by acting as an additional source of information to recommend specific products which would be ideal to remedy the acne."
      ],
      "id": "45071339"
    },
    {
      "cell_type": "markdown",
      "metadata": {
        "id": "4b07fe93"
      },
      "source": [
        "# Project Description\n",
        "Using our learning model, users can take a photo of themselves and upload it. We will then segment the photo into windows and let the model classify the type of acne. With the output classification, we will then determine the count of every acne type on users’ faces. This will then provide the dermatologist with data to determine the best course of action for the user."
      ],
      "id": "4b07fe93"
    },
    {
      "cell_type": "code",
      "metadata": {
        "colab": {
          "base_uri": "https://localhost:8080/"
        },
        "id": "5JYEdu9muUwz",
        "outputId": "b70186b4-2d99-4926-a9c1-182fe201a963"
      },
      "source": [
        "!git clone https://github.com/simasuiyuan/CS5242.git\n",
        "%cd CS5242/\n",
        "!git pull"
      ],
      "id": "5JYEdu9muUwz",
      "execution_count": 1,
      "outputs": [
        {
          "output_type": "stream",
          "name": "stdout",
          "text": [
            "Cloning into 'CS5242'...\n",
            "remote: Enumerating objects: 8397, done.\u001b[K\n",
            "remote: Counting objects: 100% (184/184), done.\u001b[K\n",
            "remote: Compressing objects: 100% (145/145), done.\u001b[K\n",
            "remote: Total 8397 (delta 79), reused 131 (delta 35), pack-reused 8213\u001b[K\n",
            "Receiving objects: 100% (8397/8397), 368.07 MiB | 27.26 MiB/s, done.\n",
            "Resolving deltas: 100% (7468/7468), done.\n",
            "Checking out files: 100% (15529/15529), done.\n",
            "/content/CS5242\n",
            "Already up to date.\n"
          ]
        }
      ]
    },
    {
      "cell_type": "markdown",
      "metadata": {
        "id": "f0e89190"
      },
      "source": [
        "# Steps"
      ],
      "id": "f0e89190"
    },
    {
      "cell_type": "markdown",
      "metadata": {
        "id": "d7b97607"
      },
      "source": [
        "## 1. Data Scraping\n",
        "For our dataset, we will be scraping acne images from https://dermnetnz.org/. This section loops through `img` tag of the gallery using BeautifulSoup library and downloads them."
      ],
      "id": "d7b97607"
    },
    {
      "cell_type": "code",
      "metadata": {
        "id": "94135ed3"
      },
      "source": [
        "from bs4 import BeautifulSoup\n",
        "import requests\n",
        "import pandas as pd\n",
        "import shutil\n",
        "\n",
        "def download_image(image_url, image_name):\n",
        "    url = image_url\n",
        "    response = requests.get(url, stream=True)\n",
        "    with open(image_name, 'wb') as out_file:\n",
        "        shutil.copyfileobj(response.raw, out_file)\n",
        "    del response"
      ],
      "id": "94135ed3",
      "execution_count": 2,
      "outputs": []
    },
    {
      "cell_type": "code",
      "metadata": {
        "id": "2a332492"
      },
      "source": [
        "def scrape_dermnet(url):\n",
        "    html_page = requests.get(url)\n",
        "    soup = BeautifulSoup(html_page.content, 'html.parser')\n",
        "    textBlock = soup.find('section', class_=\"textBlock\")\n",
        "    imgs = textBlock.findAll('img')\n",
        "    img_dataset = pd.DataFrame([[img.attrs['alt'], \"https://dermnetnz.org/\" + img.attrs['data-src']] for img in imgs], columns=['alt', 'image_url'])\n",
        "    img_dataset['image_name'] = [f'scraped_data/image_{e}.jpg' for e in range(img_dataset.shape[0])]\n",
        "    return img_dataset"
      ],
      "id": "2a332492",
      "execution_count": 3,
      "outputs": []
    },
    {
      "cell_type": "code",
      "metadata": {
        "colab": {
          "base_uri": "https://localhost:8080/"
        },
        "id": "d7a92779",
        "outputId": "fe6bdb64-909f-4734-e033-75d00ec6e88a"
      },
      "source": [
        "# Download images\n",
        "img_dataset = scrape_dermnet(\"https://dermnetnz.org/topics/acne-face-images\")\n",
        "import os\n",
        "print(os.getcwd())\n",
        "!mkdir -p scraped_data\n",
        "for row in img_dataset.itertuples():\n",
        "    print(row)\n",
        "    download_image(row.image_url, row.image_name)"
      ],
      "id": "d7a92779",
      "execution_count": 4,
      "outputs": [
        {
          "output_type": "stream",
          "name": "stdout",
          "text": [
            "/content/CS5242\n",
            "Pandas(Index=0, alt='Folliculitis', image_url='https://dermnetnz.org//assets/Uploads/acne/folliculitis/2652__ProtectWyJQcm90ZWN0Il0_FocusFillWzI5NCwyMjIsIngiLDBd.jpg', image_name='scraped_data/image_0.jpg')\n",
            "Pandas(Index=1, alt='Perioral acne', image_url='https://dermnetnz.org//assets/Uploads/acne-039-v2__ProtectWyJQcm90ZWN0Il0_FocusFillWzI5NCwyMjIsIngiLDFd.JPG', image_name='scraped_data/image_1.jpg')\n",
            "Pandas(Index=2, alt='Perioral acne', image_url='https://dermnetnz.org//assets/Uploads/acne-077-v2__ProtectWyJQcm90ZWN0Il0_FocusFillWzI5NCwyMjIsIngiLDFd.JPG', image_name='scraped_data/image_2.jpg')\n",
            "Pandas(Index=3, alt='Perioral acne', image_url='https://dermnetnz.org//assets/Uploads/acne-089-v2__ProtectWyJQcm90ZWN0Il0_FocusFillWzI5NCwyMjIsIngiLDFd.JPG', image_name='scraped_data/image_3.jpg')\n",
            "Pandas(Index=4, alt='Perioral acne', image_url='https://dermnetnz.org//assets/Uploads/acne-187-v2__ProtectWyJQcm90ZWN0Il0_FocusFillWzI5NCwyMjIsIngiLDFd.JPG', image_name='scraped_data/image_4.jpg')\n",
            "Pandas(Index=5, alt='Perioral acne', image_url='https://dermnetnz.org//assets/Uploads/acne-205-v2__ProtectWyJQcm90ZWN0Il0_FocusFillWzI5NCwyMjIsIngiLDFd.JPG', image_name='scraped_data/image_5.jpg')\n",
            "Pandas(Index=6, alt='Perioral acne', image_url='https://dermnetnz.org//assets/Uploads/acne-268-v2__ProtectWyJQcm90ZWN0Il0_FocusFillWzI5NCwyMjIsIngiLDFd.JPG', image_name='scraped_data/image_6.jpg')\n",
            "Pandas(Index=7, alt='Perioral acne', image_url='https://dermnetnz.org//assets/Uploads/acne-comedones-57-v2__ProtectWyJQcm90ZWN0Il0_FocusFillWzI5NCwyMjIsIngiLDE3XQ.JPG', image_name='scraped_data/image_7.jpg')\n",
            "Pandas(Index=8, alt='Perioral acne', image_url='https://dermnetnz.org//assets/Uploads/perioral-acne-58-v2__ProtectWyJQcm90ZWN0Il0_FocusFillWzI5NCwyMjIsIngiLDFd.JPG', image_name='scraped_data/image_8.jpg')\n",
            "Pandas(Index=9, alt='Facial acne', image_url='https://dermnetnz.org//assets/Uploads/acne/acne-face/acne-face-1__ProtectWyJQcm90ZWN0Il0_FocusFillWzI5NCwyMjIsIngiLDFd.jpg', image_name='scraped_data/image_9.jpg')\n",
            "Pandas(Index=10, alt='Facial acne', image_url='https://dermnetnz.org//assets/Uploads/acne/acne-face/acne-face-1-1__ProtectWyJQcm90ZWN0Il0_FocusFillWzI5NCwyMjIsInkiLDg1XQ.jpg', image_name='scraped_data/image_10.jpg')\n",
            "Pandas(Index=11, alt='Facial acne', image_url='https://dermnetnz.org//assets/Uploads/acne/acne-face/acne-face-2__ProtectWyJQcm90ZWN0Il0_FocusFillWzI5NCwyMjIsIngiLDFd.jpg', image_name='scraped_data/image_11.jpg')\n",
            "Pandas(Index=12, alt='Facial acne', image_url='https://dermnetnz.org//assets/Uploads/acne/acne-face/acne-face-3__ProtectWyJQcm90ZWN0Il0_FocusFillWzI5NCwyMjIsIngiLDFd.jpg', image_name='scraped_data/image_12.jpg')\n",
            "Pandas(Index=13, alt='Facial acne', image_url='https://dermnetnz.org//assets/Uploads/acne/acne-face/acne-face-4__ProtectWyJQcm90ZWN0Il0_FocusFillWzI5NCwyMjIsIngiLDFd.jpg', image_name='scraped_data/image_13.jpg')\n",
            "Pandas(Index=14, alt='Facial acne', image_url='https://dermnetnz.org//assets/Uploads/acne/acne-face/acne-face-5__ProtectWyJQcm90ZWN0Il0_FocusFillWzI5NCwyMjIsIngiLDFd.jpg', image_name='scraped_data/image_14.jpg')\n",
            "Pandas(Index=15, alt='Facial acne', image_url='https://dermnetnz.org//assets/Uploads/acne/acne-face/acne-face-1-2__ProtectWyJQcm90ZWN0Il0_FocusFillWzI5NCwyMjIsIngiLDFd.jpg', image_name='scraped_data/image_15.jpg')\n",
            "Pandas(Index=16, alt='Facial acne', image_url='https://dermnetnz.org//assets/Uploads/acne/acne-face/acne-face-6__ProtectWyJQcm90ZWN0Il0_FocusFillWzI5NCwyMjIsIngiLDFd.jpg', image_name='scraped_data/image_16.jpg')\n",
            "Pandas(Index=17, alt='Facial acne', image_url='https://dermnetnz.org//assets/Uploads/acne/acne-face/acne-face-7__ProtectWyJQcm90ZWN0Il0_FocusFillWzI5NCwyMjIsIngiLDFd.jpg', image_name='scraped_data/image_17.jpg')\n",
            "Pandas(Index=18, alt='Facial acne', image_url='https://dermnetnz.org//assets/Uploads/acne/acne-face/acne-face-8__ProtectWyJQcm90ZWN0Il0_FocusFillWzI5NCwyMjIsIngiLDFd.jpg', image_name='scraped_data/image_18.jpg')\n",
            "Pandas(Index=19, alt='Facial acne', image_url='https://dermnetnz.org//assets/Uploads/acne/acne-face/acne-face-1-3__ProtectWyJQcm90ZWN0Il0_FocusFillWzI5NCwyMjIsIngiLDFd.jpg', image_name='scraped_data/image_19.jpg')\n",
            "Pandas(Index=20, alt='Facial acne', image_url='https://dermnetnz.org//assets/Uploads/acne/acne-face/acne-face-9__ProtectWyJQcm90ZWN0Il0_FocusFillWzI5NCwyMjIsIngiLDFd.jpg', image_name='scraped_data/image_20.jpg')\n",
            "Pandas(Index=21, alt='Facial acne', image_url='https://dermnetnz.org//assets/Uploads/acne/acne-face/acne-face-10__ProtectWyJQcm90ZWN0Il0_FocusFillWzI5NCwyMjIsIngiLDFd.jpg', image_name='scraped_data/image_21.jpg')\n",
            "Pandas(Index=22, alt='Facial acne', image_url='https://dermnetnz.org//assets/Uploads/acne/acne-face/acne-face-1-4__ProtectWyJQcm90ZWN0Il0_FocusFillWzI5NCwyMjIsIngiLDFd.jpg', image_name='scraped_data/image_22.jpg')\n",
            "Pandas(Index=23, alt='Facial acne', image_url='https://dermnetnz.org//assets/Uploads/acne/acne-face/acne-face-1-5__ProtectWyJQcm90ZWN0Il0_FocusFillWzI5NCwyMjIsIngiLDFd.jpg', image_name='scraped_data/image_23.jpg')\n",
            "Pandas(Index=24, alt='Facial acne', image_url='https://dermnetnz.org//assets/Uploads/acne/acne-face/acne-face-11__ProtectWyJQcm90ZWN0Il0_FocusFillWzI5NCwyMjIsIngiLDFd.jpg', image_name='scraped_data/image_24.jpg')\n",
            "Pandas(Index=25, alt='Facial acne', image_url='https://dermnetnz.org//assets/Uploads/acne/acne-face/acne-face-12__ProtectWyJQcm90ZWN0Il0_FocusFillWzI5NCwyMjIsIngiLDFd.jpg', image_name='scraped_data/image_25.jpg')\n",
            "Pandas(Index=26, alt='Facial acne', image_url='https://dermnetnz.org//assets/Uploads/acne/acne-face/acne-face-1-6__ProtectWyJQcm90ZWN0Il0_FocusFillWzI5NCwyMjIsIngiLDFd.jpg', image_name='scraped_data/image_26.jpg')\n",
            "Pandas(Index=27, alt='Facial acne', image_url='https://dermnetnz.org//assets/Uploads/acne/acne-face/acne-face-2-1__ProtectWyJQcm90ZWN0Il0_FocusFillWzI5NCwyMjIsIngiLDFd.jpg', image_name='scraped_data/image_27.jpg')\n",
            "Pandas(Index=28, alt='Facial acne', image_url='https://dermnetnz.org//assets/Uploads/acne/acne-face/acne-face-3-1__ProtectWyJQcm90ZWN0Il0_FocusFillWzI5NCwyMjIsIngiLDFd.jpg', image_name='scraped_data/image_28.jpg')\n",
            "Pandas(Index=29, alt='Facial acne', image_url='https://dermnetnz.org//assets/Uploads/acne/acne-face/acne-face-4-1__ProtectWyJQcm90ZWN0Il0_FocusFillWzI5NCwyMjIsIngiLDFd.jpg', image_name='scraped_data/image_29.jpg')\n",
            "Pandas(Index=30, alt='Facial acne', image_url='https://dermnetnz.org//assets/Uploads/acne/acne-face/acne-face-13__ProtectWyJQcm90ZWN0Il0_FocusFillWzI5NCwyMjIsIngiLDFd.jpg', image_name='scraped_data/image_30.jpg')\n",
            "Pandas(Index=31, alt='Facial acne', image_url='https://dermnetnz.org//assets/Uploads/acne/acne-face/acne-face-14__ProtectWyJQcm90ZWN0Il0_FocusFillWzI5NCwyMjIsInkiLDg1XQ.jpg', image_name='scraped_data/image_31.jpg')\n",
            "Pandas(Index=32, alt='Facial acne', image_url='https://dermnetnz.org//assets/Uploads/acne/acne-face/acne-face-1-7__ProtectWyJQcm90ZWN0Il0_FocusFillWzI5NCwyMjIsIngiLDFd.jpg', image_name='scraped_data/image_32.jpg')\n",
            "Pandas(Index=33, alt='Facial acne', image_url='https://dermnetnz.org//assets/Uploads/acne/acne-face/acne-face-5-1__ProtectWyJQcm90ZWN0Il0_FocusFillWzI5NCwyMjIsIngiLDFd.jpg', image_name='scraped_data/image_33.jpg')\n",
            "Pandas(Index=34, alt='Facial acne', image_url='https://dermnetnz.org//assets/Uploads/acne/acne-face/acne-face-15__ProtectWyJQcm90ZWN0Il0_FocusFillWzI5NCwyMjIsIngiLDFd.jpg', image_name='scraped_data/image_34.jpg')\n",
            "Pandas(Index=35, alt='Facial acne', image_url='https://dermnetnz.org//assets/Uploads/acne/acne-face/acne-face-16__ProtectWyJQcm90ZWN0Il0_FocusFillWzI5NCwyMjIsIngiLDFd.jpg', image_name='scraped_data/image_35.jpg')\n",
            "Pandas(Index=36, alt='Facial acne', image_url='https://dermnetnz.org//assets/Uploads/acne/acne-face/acne-face-17__ProtectWyJQcm90ZWN0Il0_FocusFillWzI5NCwyMjIsIngiLDE4XQ.jpg', image_name='scraped_data/image_36.jpg')\n",
            "Pandas(Index=37, alt='Facial acne', image_url='https://dermnetnz.org//assets/Uploads/acne/acne-face/acne-face-18__ProtectWyJQcm90ZWN0Il0_FocusFillWzI5NCwyMjIsIngiLDE4XQ.jpg', image_name='scraped_data/image_37.jpg')\n",
            "Pandas(Index=38, alt='Facial acne', image_url='https://dermnetnz.org//assets/Uploads/acne/acne-face/acne-face-1-8__ProtectWyJQcm90ZWN0Il0_FocusFillWzI5NCwyMjIsIngiLDFd.jpg', image_name='scraped_data/image_38.jpg')\n",
            "Pandas(Index=39, alt='Facial acne', image_url='https://dermnetnz.org//assets/Uploads/acne/acne-face/acne-face-2-2__ProtectWyJQcm90ZWN0Il0_FocusFillWzI5NCwyMjIsIngiLDE4XQ.jpg', image_name='scraped_data/image_39.jpg')\n",
            "Pandas(Index=40, alt='Facial acne', image_url='https://dermnetnz.org//assets/Uploads/acne/acne-face/acne-face-3-2__ProtectWyJQcm90ZWN0Il0_FocusFillWzI5NCwyMjIsIngiLDE4XQ.jpg', image_name='scraped_data/image_40.jpg')\n",
            "Pandas(Index=41, alt='Facial acne', image_url='https://dermnetnz.org//assets/Uploads/acne/acne-face/acne-face-4-2__ProtectWyJQcm90ZWN0Il0_FocusFillWzI5NCwyMjIsIngiLDFd.jpg', image_name='scraped_data/image_41.jpg')\n",
            "Pandas(Index=42, alt='acne-face_5_2', image_url='https://dermnetnz.org//assets/Uploads/acne/acne-face/acne-face-5-2__ProtectWyJQcm90ZWN0Il0_FocusFillWzI5NCwyMjIsInkiLDEwOF0.jpg', image_name='scraped_data/image_42.jpg')\n",
            "Pandas(Index=43, alt='acne-face_6_1', image_url='https://dermnetnz.org//assets/Uploads/acne/acne-face/acne-face-6-1__ProtectWyJQcm90ZWN0Il0_FocusFillWzI5NCwyMjIsInkiLDEwOF0.jpg', image_name='scraped_data/image_43.jpg')\n",
            "Pandas(Index=44, alt='acne-face_7_1', image_url='https://dermnetnz.org//assets/Uploads/acne/acne-face/acne-face-7-1__ProtectWyJQcm90ZWN0Il0_FocusFillWzI5NCwyMjIsIngiLDE4XQ.jpg', image_name='scraped_data/image_44.jpg')\n",
            "Pandas(Index=45, alt='acne-face_8_1', image_url='https://dermnetnz.org//assets/Uploads/acne/acne-face/acne-face-8-1__ProtectWyJQcm90ZWN0Il0_FocusFillWzI5NCwyMjIsInkiLDEwOF0.jpg', image_name='scraped_data/image_45.jpg')\n",
            "Pandas(Index=46, alt='acne-face_2_3', image_url='https://dermnetnz.org//assets/Uploads/acne/acne-face/acne-face-2-3__ProtectWyJQcm90ZWN0Il0_FocusFillWzI5NCwyMjIsIngiLDFd.jpg', image_name='scraped_data/image_46.jpg')\n",
            "Pandas(Index=47, alt='acne-face_3_3', image_url='https://dermnetnz.org//assets/Uploads/acne/acne-face/acne-face-3-3__ProtectWyJQcm90ZWN0Il0_FocusFillWzI5NCwyMjIsIngiLDFd.jpg', image_name='scraped_data/image_47.jpg')\n",
            "Pandas(Index=48, alt='acne-face_1_9', image_url='https://dermnetnz.org//assets/Uploads/acne/acne-face/acne-face-1-9__ProtectWyJQcm90ZWN0Il0_FocusFillWzI5NCwyMjIsIngiLDE4XQ.jpg', image_name='scraped_data/image_48.jpg')\n",
            "Pandas(Index=49, alt='acne-face_19', image_url='https://dermnetnz.org//assets/Uploads/acne/acne-face/acne-face-19__ProtectWyJQcm90ZWN0Il0_FocusFillWzI5NCwyMjIsIngiLDE4XQ.jpg', image_name='scraped_data/image_49.jpg')\n",
            "Pandas(Index=50, alt='acne-face_1_10', image_url='https://dermnetnz.org//assets/Uploads/acne/acne-face/acne-face-1-10__ProtectWyJQcm90ZWN0Il0_FocusFillWzI5NCwyMjIsIngiLDFd.jpg', image_name='scraped_data/image_50.jpg')\n",
            "Pandas(Index=51, alt='acne-face_2_4', image_url='https://dermnetnz.org//assets/Uploads/acne/acne-face/acne-face-2-4__ProtectWyJQcm90ZWN0Il0_FocusFillWzI5NCwyMjIsIngiLDFd.jpg', image_name='scraped_data/image_51.jpg')\n",
            "Pandas(Index=52, alt='acne-face_20', image_url='https://dermnetnz.org//assets/Uploads/acne/acne-face/acne-face-20__ProtectWyJQcm90ZWN0Il0_FocusFillWzI5NCwyMjIsIngiLDE4XQ.jpg', image_name='scraped_data/image_52.jpg')\n",
            "Pandas(Index=53, alt='acne-face_21', image_url='https://dermnetnz.org//assets/Uploads/acne/acne-face/acne-face-21__ProtectWyJQcm90ZWN0Il0_FocusFillWzI5NCwyMjIsIngiLDE4XQ.jpg', image_name='scraped_data/image_53.jpg')\n",
            "Pandas(Index=54, alt='Facial acne', image_url='https://dermnetnz.org//assets/Uploads/acne/acne-face/acne-face-1-11__ProtectWyJQcm90ZWN0Il0_FocusFillWzI5NCwyMjIsIngiLDE4XQ.jpg', image_name='scraped_data/image_54.jpg')\n",
            "Pandas(Index=55, alt='Facial acne', image_url='https://dermnetnz.org//assets/Uploads/acne/acne-face/acne-face-22__ProtectWyJQcm90ZWN0Il0_FocusFillWzI5NCwyMjIsIngiLDFd.jpg', image_name='scraped_data/image_55.jpg')\n",
            "Pandas(Index=56, alt='Facial acne', image_url='https://dermnetnz.org//assets/Uploads/acne/acne-face/acne-face-1-12__ProtectWyJQcm90ZWN0Il0_FocusFillWzI5NCwyMjIsIngiLDFd.jpg', image_name='scraped_data/image_56.jpg')\n",
            "Pandas(Index=57, alt='Facial acne', image_url='https://dermnetnz.org//assets/Uploads/acne/acne-face/acne-face-2-5__ProtectWyJQcm90ZWN0Il0_FocusFillWzI5NCwyMjIsIngiLDFd.jpg', image_name='scraped_data/image_57.jpg')\n",
            "Pandas(Index=58, alt='Facial acne', image_url='https://dermnetnz.org//assets/Uploads/acne/acne-face/acne-face-3-4__ProtectWyJQcm90ZWN0Il0_FocusFillWzI5NCwyMjIsIngiLDFd.jpg', image_name='scraped_data/image_58.jpg')\n",
            "Pandas(Index=59, alt='Facial acne', image_url='https://dermnetnz.org//assets/Uploads/acne/acne-face/acne-face-23__ProtectWyJQcm90ZWN0Il0_FocusFillWzI5NCwyMjIsIngiLDFd.jpg', image_name='scraped_data/image_59.jpg')\n",
            "Pandas(Index=60, alt='Facial acne', image_url='https://dermnetnz.org//assets/Uploads/acne/acne-face/acne-face-24__ProtectWyJQcm90ZWN0Il0_FocusFillWzI5NCwyMjIsIngiLDFd.jpg', image_name='scraped_data/image_60.jpg')\n",
            "Pandas(Index=61, alt='Facial acne', image_url='https://dermnetnz.org//assets/Uploads/acne/acne-face/acne-face-1-13__ProtectWyJQcm90ZWN0Il0_FocusFillWzI5NCwyMjIsIngiLDFd.jpg', image_name='scraped_data/image_61.jpg')\n",
            "Pandas(Index=62, alt='Facial acne', image_url='https://dermnetnz.org//assets/Uploads/acne/acne-face/acne-face-4-3__ProtectWyJQcm90ZWN0Il0_FocusFillWzI5NCwyMjIsIngiLDFd.jpg', image_name='scraped_data/image_62.jpg')\n",
            "Pandas(Index=63, alt='Facial acne', image_url='https://dermnetnz.org//assets/Uploads/acne/acne-face/acne-face-25__ProtectWyJQcm90ZWN0Il0_FocusFillWzI5NCwyMjIsIngiLDE4XQ.jpg', image_name='scraped_data/image_63.jpg')\n",
            "Pandas(Index=64, alt='Facial acne', image_url='https://dermnetnz.org//assets/Uploads/acne/acne-face/acne-face-5-3__ProtectWyJQcm90ZWN0Il0_FocusFillWzI5NCwyMjIsIngiLDFd.jpg', image_name='scraped_data/image_64.jpg')\n",
            "Pandas(Index=65, alt='Facial acne', image_url='https://dermnetnz.org//assets/Uploads/acne/acne-face/acne-face-1-14__ProtectWyJQcm90ZWN0Il0_FocusFillWzI5NCwyMjIsIngiLDE4XQ.jpg', image_name='scraped_data/image_65.jpg')\n",
            "Pandas(Index=66, alt='Facial acne', image_url='https://dermnetnz.org//assets/Uploads/acne/acne-face/acne-face-2-6__ProtectWyJQcm90ZWN0Il0_FocusFillWzI5NCwyMjIsIngiLDE4XQ.jpg', image_name='scraped_data/image_66.jpg')\n",
            "Pandas(Index=67, alt='Facial acne', image_url='https://dermnetnz.org//assets/Uploads/acne/acne-face/acne-face-3-5__ProtectWyJQcm90ZWN0Il0_FocusFillWzI5NCwyMjIsIngiLDE4XQ.jpg', image_name='scraped_data/image_67.jpg')\n",
            "Pandas(Index=68, alt='Facial acne', image_url='https://dermnetnz.org//assets/Uploads/acne/acne-face/acne-face-4-4__ProtectWyJQcm90ZWN0Il0_FocusFillWzI5NCwyMjIsIngiLDFd.jpg', image_name='scraped_data/image_68.jpg')\n",
            "Pandas(Index=69, alt='Facial acne', image_url='https://dermnetnz.org//assets/Uploads/acne/acne-face/acne-face-5-4__ProtectWyJQcm90ZWN0Il0_FocusFillWzI5NCwyMjIsIngiLDFd.jpg', image_name='scraped_data/image_69.jpg')\n",
            "Pandas(Index=70, alt='Facial acne', image_url='https://dermnetnz.org//assets/Uploads/acne/acne-face/acne-face-6-2__ProtectWyJQcm90ZWN0Il0_FocusFillWzI5NCwyMjIsIngiLDFd.jpg', image_name='scraped_data/image_70.jpg')\n",
            "Pandas(Index=71, alt='Facial acne', image_url='https://dermnetnz.org//assets/Uploads/acne/acne-face/acne-face-7-2__ProtectWyJQcm90ZWN0Il0_FocusFillWzI5NCwyMjIsIngiLDFd.jpg', image_name='scraped_data/image_71.jpg')\n",
            "Pandas(Index=72, alt='Facial acne', image_url='https://dermnetnz.org//assets/Uploads/acne/acne-face/acne-face-8-2__ProtectWyJQcm90ZWN0Il0_FocusFillWzI5NCwyMjIsIngiLDFd.jpg', image_name='scraped_data/image_72.jpg')\n",
            "Pandas(Index=73, alt='Facial acne', image_url='https://dermnetnz.org//assets/Uploads/acne/acne-face/acne-face-9-1__ProtectWyJQcm90ZWN0Il0_FocusFillWzI5NCwyMjIsIngiLDE5XQ.jpg', image_name='scraped_data/image_73.jpg')\n",
            "Pandas(Index=74, alt='Facial acne', image_url='https://dermnetnz.org//assets/Uploads/acne/acne-face/acne-face-10-1__ProtectWyJQcm90ZWN0Il0_FocusFillWzI5NCwyMjIsInkiLDg1XQ.jpg', image_name='scraped_data/image_74.jpg')\n",
            "Pandas(Index=75, alt='Facial acne', image_url='https://dermnetnz.org//assets/Uploads/acne/acne-face/acne-face-11-1__ProtectWyJQcm90ZWN0Il0_FocusFillWzI5NCwyMjIsIngiLDFd.jpg', image_name='scraped_data/image_75.jpg')\n",
            "Pandas(Index=76, alt='Facial acne', image_url='https://dermnetnz.org//assets/Uploads/acne/acne-face/acne-face-12-1__ProtectWyJQcm90ZWN0Il0_FocusFillWzI5NCwyMjIsInkiLDg1XQ.jpg', image_name='scraped_data/image_76.jpg')\n",
            "Pandas(Index=77, alt='Facial acne', image_url='https://dermnetnz.org//assets/Uploads/acne/acne-face/acne-face-13-1__ProtectWyJQcm90ZWN0Il0_FocusFillWzI5NCwyMjIsIngiLDFd.jpg', image_name='scraped_data/image_77.jpg')\n",
            "Pandas(Index=78, alt='acne-face_14_1', image_url='https://dermnetnz.org//assets/Uploads/acne/acne-face/acne-face-14-1__ProtectWyJQcm90ZWN0Il0_FocusFillWzI5NCwyMjIsIngiLDFd.jpg', image_name='scraped_data/image_78.jpg')\n",
            "Pandas(Index=79, alt='acne-face_1_15', image_url='https://dermnetnz.org//assets/Uploads/acne/acne-face/acne-face-1-15__ProtectWyJQcm90ZWN0Il0_FocusFillWzI5NCwyMjIsIngiLDFd.jpg', image_name='scraped_data/image_79.jpg')\n",
            "Pandas(Index=80, alt='acne-face_2_7', image_url='https://dermnetnz.org//assets/Uploads/acne/acne-face/acne-face-2-7__ProtectWyJQcm90ZWN0Il0_FocusFillWzI5NCwyMjIsIngiLDFd.jpg', image_name='scraped_data/image_80.jpg')\n",
            "Pandas(Index=81, alt='acne-face_15_1', image_url='https://dermnetnz.org//assets/Uploads/acne/acne-face/acne-face-15-1__ProtectWyJQcm90ZWN0Il0_FocusFillWzI5NCwyMjIsIngiLDFd.jpg', image_name='scraped_data/image_81.jpg')\n",
            "Pandas(Index=82, alt='acne-face_16_1', image_url='https://dermnetnz.org//assets/Uploads/acne/acne-face/acne-face-16-1__ProtectWyJQcm90ZWN0Il0_FocusFillWzI5NCwyMjIsInkiLDg1XQ.jpg', image_name='scraped_data/image_82.jpg')\n",
            "Pandas(Index=83, alt='acne-face_17_1', image_url='https://dermnetnz.org//assets/Uploads/acne/acne-face/acne-face-17-1__ProtectWyJQcm90ZWN0Il0_FocusFillWzI5NCwyMjIsIngiLDFd.jpg', image_name='scraped_data/image_83.jpg')\n",
            "Pandas(Index=84, alt='acne-face_18_1', image_url='https://dermnetnz.org//assets/Uploads/acne/acne-face/acne-face-18-1__ProtectWyJQcm90ZWN0Il0_FocusFillWzI5NCwyMjIsInkiLDg1XQ.jpg', image_name='scraped_data/image_84.jpg')\n",
            "Pandas(Index=85, alt='acne-face_19_1', image_url='https://dermnetnz.org//assets/Uploads/acne/acne-face/acne-face-19-1__ProtectWyJQcm90ZWN0Il0_FocusFillWzI5NCwyMjIsIngiLDFd.jpg', image_name='scraped_data/image_85.jpg')\n",
            "Pandas(Index=86, alt='acne-face_20_1', image_url='https://dermnetnz.org//assets/Uploads/acne/acne-face/acne-face-20-1__ProtectWyJQcm90ZWN0Il0_FocusFillWzI5NCwyMjIsIngiLDFd.jpg', image_name='scraped_data/image_86.jpg')\n",
            "Pandas(Index=87, alt='acne-face_21_1', image_url='https://dermnetnz.org//assets/Uploads/acne/acne-face/acne-face-21-1__ProtectWyJQcm90ZWN0Il0_FocusFillWzI5NCwyMjIsIngiLDFd.jpg', image_name='scraped_data/image_87.jpg')\n",
            "Pandas(Index=88, alt='acne-face_22_1', image_url='https://dermnetnz.org//assets/Uploads/acne/acne-face/acne-face-22-1__ProtectWyJQcm90ZWN0Il0_FocusFillWzI5NCwyMjIsInkiLDg1XQ.jpg', image_name='scraped_data/image_88.jpg')\n",
            "Pandas(Index=89, alt='acne-face_23_1', image_url='https://dermnetnz.org//assets/Uploads/acne/acne-face/acne-face-23-1__ProtectWyJQcm90ZWN0Il0_FocusFillWzI5NCwyMjIsInkiLDg1XQ.jpg', image_name='scraped_data/image_89.jpg')\n",
            "Pandas(Index=90, alt='Facial acne', image_url='https://dermnetnz.org//assets/Uploads/acne/acne-face/acne-face-24-1__ProtectWyJQcm90ZWN0Il0_FocusFillWzI5NCwyMjIsInkiLDg1XQ.jpg', image_name='scraped_data/image_90.jpg')\n",
            "Pandas(Index=91, alt='Facial acne', image_url='https://dermnetnz.org//assets/Uploads/acne/acne-face/acne-face-25-1__ProtectWyJQcm90ZWN0Il0_FocusFillWzI5NCwyMjIsInkiLDg1XQ.jpg', image_name='scraped_data/image_91.jpg')\n",
            "Pandas(Index=92, alt='Facial acne', image_url='https://dermnetnz.org//assets/Uploads/acne/acne-face/acne-face-26__ProtectWyJQcm90ZWN0Il0_FocusFillWzI5NCwyMjIsInkiLDg1XQ.jpg', image_name='scraped_data/image_92.jpg')\n",
            "Pandas(Index=93, alt='Facial acne', image_url='https://dermnetnz.org//assets/Uploads/acne/acne-face/acne-face-3-6__ProtectWyJQcm90ZWN0Il0_FocusFillWzI5NCwyMjIsIngiLDFd.jpg', image_name='scraped_data/image_93.jpg')\n",
            "Pandas(Index=94, alt='Facial acne', image_url='https://dermnetnz.org//assets/Uploads/acne/acne-face/acne-face-4-5__ProtectWyJQcm90ZWN0Il0_FocusFillWzI5NCwyMjIsIngiLDFd.jpg', image_name='scraped_data/image_94.jpg')\n",
            "Pandas(Index=95, alt='Facial acne', image_url='https://dermnetnz.org//assets/Uploads/acne/acne-face/acne-face-27__ProtectWyJQcm90ZWN0Il0_FocusFillWzI5NCwyMjIsIngiLDFd.jpg', image_name='scraped_data/image_95.jpg')\n",
            "Pandas(Index=96, alt='Facial acne', image_url='https://dermnetnz.org//assets/Uploads/acne/acne-face/acne-face-1-16__ProtectWyJQcm90ZWN0Il0_FocusFillWzI5NCwyMjIsInkiLDg1XQ.jpg', image_name='scraped_data/image_96.jpg')\n",
            "Pandas(Index=97, alt='Facial acne', image_url='https://dermnetnz.org//assets/Uploads/acne/acne-face/acne-face-2-8__ProtectWyJQcm90ZWN0Il0_FocusFillWzI5NCwyMjIsIngiLDFd.jpg', image_name='scraped_data/image_97.jpg')\n",
            "Pandas(Index=98, alt='Facial acne', image_url='https://dermnetnz.org//assets/Uploads/acne/acne-face/acne-face-3-7__ProtectWyJQcm90ZWN0Il0_FocusFillWzI5NCwyMjIsIngiLDFd.jpg', image_name='scraped_data/image_98.jpg')\n",
            "Pandas(Index=99, alt='Facial acne', image_url='https://dermnetnz.org//assets/Uploads/acne/acne-face/acne-face-4-6__ProtectWyJQcm90ZWN0Il0_FocusFillWzI5NCwyMjIsIngiLDFd.jpg', image_name='scraped_data/image_99.jpg')\n",
            "Pandas(Index=100, alt='Facial acne', image_url='https://dermnetnz.org//assets/Uploads/acne/acne-face/acne-face-5-5__ProtectWyJQcm90ZWN0Il0_FocusFillWzI5NCwyMjIsIngiLDFd.jpg', image_name='scraped_data/image_100.jpg')\n",
            "Pandas(Index=101, alt='Facial acne', image_url='https://dermnetnz.org//assets/Uploads/acne/acne-face/acne-face-28__ProtectWyJQcm90ZWN0Il0_FocusFillWzI5NCwyMjIsIngiLDFd.jpg', image_name='scraped_data/image_101.jpg')\n",
            "Pandas(Index=102, alt='Facial acne', image_url='https://dermnetnz.org//assets/Uploads/acne/acne-face/acne-face-29__ProtectWyJQcm90ZWN0Il0_FocusFillWzI5NCwyMjIsIngiLDFd.jpg', image_name='scraped_data/image_102.jpg')\n",
            "Pandas(Index=103, alt='Facial acne', image_url='https://dermnetnz.org//assets/Uploads/acne/acne-face/acne-face-1-17__ProtectWyJQcm90ZWN0Il0_FocusFillWzI5NCwyMjIsIngiLDFd.jpg', image_name='scraped_data/image_103.jpg')\n",
            "Pandas(Index=104, alt='Facial acne', image_url='https://dermnetnz.org//assets/Uploads/acne/acne-face/acne-face-2-9__ProtectWyJQcm90ZWN0Il0_FocusFillWzI5NCwyMjIsInkiLDg1XQ.jpg', image_name='scraped_data/image_104.jpg')\n",
            "Pandas(Index=105, alt='Facial acne', image_url='https://dermnetnz.org//assets/Uploads/acne/acne-face/acne-face-30__ProtectWyJQcm90ZWN0Il0_FocusFillWzI5NCwyMjIsIngiLDFd.jpg', image_name='scraped_data/image_105.jpg')\n",
            "Pandas(Index=106, alt='Facial acne', image_url='https://dermnetnz.org//assets/Uploads/acne/acne-face/acne-face-31__ProtectWyJQcm90ZWN0Il0_FocusFillWzI5NCwyMjIsIngiLDFd.jpg', image_name='scraped_data/image_106.jpg')\n",
            "Pandas(Index=107, alt='Facial acne', image_url='https://dermnetnz.org//assets/Uploads/acne/acne-face/acne-face-1-18__ProtectWyJQcm90ZWN0Il0_FocusFillWzI5NCwyMjIsIngiLDFd.jpg', image_name='scraped_data/image_107.jpg')\n",
            "Pandas(Index=108, alt='Facial acne', image_url='https://dermnetnz.org//assets/Uploads/acne/acne-face/acne-face-32__ProtectWyJQcm90ZWN0Il0_FocusFillWzI5NCwyMjIsIngiLDFd.jpg', image_name='scraped_data/image_108.jpg')\n",
            "Pandas(Index=109, alt='Facial acne', image_url='https://dermnetnz.org//assets/Uploads/acne/acne-face/acne-face-1-19__ProtectWyJQcm90ZWN0Il0_FocusFillWzI5NCwyMjIsIngiLDFd.jpg', image_name='scraped_data/image_109.jpg')\n",
            "Pandas(Index=110, alt='Facial acne', image_url='https://dermnetnz.org//assets/Uploads/acne/acne-face/acne-face-2-10__ProtectWyJQcm90ZWN0Il0_FocusFillWzI5NCwyMjIsIngiLDFd.jpg', image_name='scraped_data/image_110.jpg')\n",
            "Pandas(Index=111, alt='Facial acne', image_url='https://dermnetnz.org//assets/Uploads/acne/acne-face/acne-face-1-20__ProtectWyJQcm90ZWN0Il0_FocusFillWzI5NCwyMjIsIngiLDFd.jpg', image_name='scraped_data/image_111.jpg')\n",
            "Pandas(Index=112, alt='Facial acne', image_url='https://dermnetnz.org//assets/Uploads/acne/acne-face/acne-face-2-11__ProtectWyJQcm90ZWN0Il0_FocusFillWzI5NCwyMjIsIngiLDFd.jpg', image_name='scraped_data/image_112.jpg')\n",
            "Pandas(Index=113, alt='Facial acne', image_url='https://dermnetnz.org//assets/Uploads/acne/acne-face/acne-face-3-8__ProtectWyJQcm90ZWN0Il0_FocusFillWzI5NCwyMjIsIngiLDFd.jpg', image_name='scraped_data/image_113.jpg')\n",
            "Pandas(Index=114, alt='acne-face_4_7', image_url='https://dermnetnz.org//assets/Uploads/acne/acne-face/acne-face-4-7__ProtectWyJQcm90ZWN0Il0_FocusFillWzI5NCwyMjIsIngiLDFd.jpg', image_name='scraped_data/image_114.jpg')\n",
            "Pandas(Index=115, alt='acne-face_5_6', image_url='https://dermnetnz.org//assets/Uploads/acne/acne-face/acne-face-5-6__ProtectWyJQcm90ZWN0Il0_FocusFillWzI5NCwyMjIsIngiLDFd.jpg', image_name='scraped_data/image_115.jpg')\n",
            "Pandas(Index=116, alt='acne-face_6_3', image_url='https://dermnetnz.org//assets/Uploads/acne/acne-face/acne-face-6-3__ProtectWyJQcm90ZWN0Il0_FocusFillWzI5NCwyMjIsIngiLDFd.jpg', image_name='scraped_data/image_116.jpg')\n",
            "Pandas(Index=117, alt='acne-face_33', image_url='https://dermnetnz.org//assets/Uploads/acne/acne-face/acne-face-33__ProtectWyJQcm90ZWN0Il0_FocusFillWzI5NCwyMjIsInkiLDg1XQ.jpg', image_name='scraped_data/image_117.jpg')\n",
            "Pandas(Index=118, alt='acne-face_34', image_url='https://dermnetnz.org//assets/Uploads/acne/acne-face/acne-face-34__ProtectWyJQcm90ZWN0Il0_FocusFillWzI5NCwyMjIsIngiLDFd.jpg', image_name='scraped_data/image_118.jpg')\n",
            "Pandas(Index=119, alt='acne-face_1_21', image_url='https://dermnetnz.org//assets/Uploads/acne/acne-face/acne-face-1-21__ProtectWyJQcm90ZWN0Il0_FocusFillWzI5NCwyMjIsInkiLDg1XQ.jpg', image_name='scraped_data/image_119.jpg')\n",
            "Pandas(Index=120, alt='acne-face_35', image_url='https://dermnetnz.org//assets/Uploads/acne/acne-face/acne-face-35__ProtectWyJQcm90ZWN0Il0_FocusFillWzI5NCwyMjIsIngiLDFd.jpg', image_name='scraped_data/image_120.jpg')\n",
            "Pandas(Index=121, alt='acne-face_1_22', image_url='https://dermnetnz.org//assets/Uploads/acne/acne-face/acne-face-1-22__ProtectWyJQcm90ZWN0Il0_FocusFillWzI5NCwyMjIsIngiLDFd.jpg', image_name='scraped_data/image_121.jpg')\n",
            "Pandas(Index=122, alt='acne-face_2_12', image_url='https://dermnetnz.org//assets/Uploads/acne/acne-face/acne-face-2-12__ProtectWyJQcm90ZWN0Il0_FocusFillWzI5NCwyMjIsIngiLDFd.jpg', image_name='scraped_data/image_122.jpg')\n",
            "Pandas(Index=123, alt='acne-face_36', image_url='https://dermnetnz.org//assets/Uploads/acne/acne-face/acne-face-36__ProtectWyJQcm90ZWN0Il0_FocusFillWzI5NCwyMjIsIngiLDFd.jpg', image_name='scraped_data/image_123.jpg')\n",
            "Pandas(Index=124, alt='acne-face_1_23', image_url='https://dermnetnz.org//assets/Uploads/acne/acne-face/acne-face-1-23__ProtectWyJQcm90ZWN0Il0_FocusFillWzI5NCwyMjIsInkiLDg1XQ.jpg', image_name='scraped_data/image_124.jpg')\n",
            "Pandas(Index=125, alt='acne-face_2_13', image_url='https://dermnetnz.org//assets/Uploads/acne/acne-face/acne-face-2-13__ProtectWyJQcm90ZWN0Il0_FocusFillWzI5NCwyMjIsIngiLDFd.jpg', image_name='scraped_data/image_125.jpg')\n",
            "Pandas(Index=126, alt='acne-face_37', image_url='https://dermnetnz.org//assets/Uploads/acne/acne-face/acne-face-37__ProtectWyJQcm90ZWN0Il0_FocusFillWzI5NCwyMjIsIngiLDFd.jpg', image_name='scraped_data/image_126.jpg')\n",
            "Pandas(Index=127, alt='acne-face_1_24', image_url='https://dermnetnz.org//assets/Uploads/acne/acne-face/acne-face-1-24__ProtectWyJQcm90ZWN0Il0_FocusFillWzI5NCwyMjIsIngiLDFd.jpg', image_name='scraped_data/image_127.jpg')\n",
            "Pandas(Index=128, alt='acne-face_2_14', image_url='https://dermnetnz.org//assets/Uploads/acne/acne-face/acne-face-2-14__ProtectWyJQcm90ZWN0Il0_FocusFillWzI5NCwyMjIsIngiLDFd.jpg', image_name='scraped_data/image_128.jpg')\n",
            "Pandas(Index=129, alt='acne-face_38', image_url='https://dermnetnz.org//assets/Uploads/acne/acne-face/acne-face-38__ProtectWyJQcm90ZWN0Il0_FocusFillWzI5NCwyMjIsIngiLDFd.jpg', image_name='scraped_data/image_129.jpg')\n",
            "Pandas(Index=130, alt='acne-face_1_25', image_url='https://dermnetnz.org//assets/Uploads/acne/acne-face/acne-face-1-25__ProtectWyJQcm90ZWN0Il0_FocusFillWzI5NCwyMjIsIngiLDFd.jpg', image_name='scraped_data/image_130.jpg')\n",
            "Pandas(Index=131, alt='acne-face_39', image_url='https://dermnetnz.org//assets/Uploads/acne/acne-face/acne-face-39__ProtectWyJQcm90ZWN0Il0_FocusFillWzI5NCwyMjIsIngiLDE5XQ.jpg', image_name='scraped_data/image_131.jpg')\n",
            "Pandas(Index=132, alt='acne-face_1_26', image_url='https://dermnetnz.org//assets/Uploads/acne/acne-face/acne-face-1-26__ProtectWyJQcm90ZWN0Il0_FocusFillWzI5NCwyMjIsIngiLDFd.jpg', image_name='scraped_data/image_132.jpg')\n",
            "Pandas(Index=133, alt='acne-face_2_15', image_url='https://dermnetnz.org//assets/Uploads/acne/acne-face/acne-face-2-15__ProtectWyJQcm90ZWN0Il0_FocusFillWzI5NCwyMjIsIngiLDFd.jpg', image_name='scraped_data/image_133.jpg')\n",
            "Pandas(Index=134, alt='acne-face_40', image_url='https://dermnetnz.org//assets/Uploads/acne/acne-face/acne-face-40__ProtectWyJQcm90ZWN0Il0_FocusFillWzI5NCwyMjIsIngiLDFd.jpg', image_name='scraped_data/image_134.jpg')\n",
            "Pandas(Index=135, alt='acne-face_41', image_url='https://dermnetnz.org//assets/Uploads/acne/acne-face/acne-face-41__ProtectWyJQcm90ZWN0Il0_FocusFillWzI5NCwyMjIsIngiLDFd.jpg', image_name='scraped_data/image_135.jpg')\n",
            "Pandas(Index=136, alt='acne-face_42', image_url='https://dermnetnz.org//assets/Uploads/acne/acne-face/acne-face-42__ProtectWyJQcm90ZWN0Il0_FocusFillWzI5NCwyMjIsIngiLDFd.jpg', image_name='scraped_data/image_136.jpg')\n",
            "Pandas(Index=137, alt='acne-face_1_27', image_url='https://dermnetnz.org//assets/Uploads/acne/acne-face/acne-face-1-27__ProtectWyJQcm90ZWN0Il0_FocusFillWzI5NCwyMjIsIngiLDFd.jpg', image_name='scraped_data/image_137.jpg')\n",
            "Pandas(Index=138, alt='acne-face_2_16', image_url='https://dermnetnz.org//assets/Uploads/acne/acne-face/acne-face-2-16__ProtectWyJQcm90ZWN0Il0_FocusFillWzI5NCwyMjIsInkiLDg1XQ.jpg', image_name='scraped_data/image_138.jpg')\n",
            "Pandas(Index=139, alt='acne-face_43', image_url='https://dermnetnz.org//assets/Uploads/acne/acne-face/acne-face-43__ProtectWyJQcm90ZWN0Il0_FocusFillWzI5NCwyMjIsIngiLDFd.jpg', image_name='scraped_data/image_139.jpg')\n",
            "Pandas(Index=140, alt='acne-face_1_28', image_url='https://dermnetnz.org//assets/Uploads/acne/acne-face/acne-face-1-28__ProtectWyJQcm90ZWN0Il0_FocusFillWzI5NCwyMjIsIngiLDFd.jpg', image_name='scraped_data/image_140.jpg')\n",
            "Pandas(Index=141, alt='acne-face_2_17', image_url='https://dermnetnz.org//assets/Uploads/acne/acne-face/acne-face-2-17__ProtectWyJQcm90ZWN0Il0_FocusFillWzI5NCwyMjIsIngiLDFd.jpg', image_name='scraped_data/image_141.jpg')\n",
            "Pandas(Index=142, alt='acne-face_3_9', image_url='https://dermnetnz.org//assets/Uploads/acne/acne-face/acne-face-3-9__ProtectWyJQcm90ZWN0Il0_FocusFillWzI5NCwyMjIsIngiLDFd.jpg', image_name='scraped_data/image_142.jpg')\n",
            "Pandas(Index=143, alt='acne-face_4_8', image_url='https://dermnetnz.org//assets/Uploads/acne/acne-face/acne-face-4-8__ProtectWyJQcm90ZWN0Il0_FocusFillWzI5NCwyMjIsIngiLDFd.jpg', image_name='scraped_data/image_143.jpg')\n",
            "Pandas(Index=144, alt='acne-face_5_7', image_url='https://dermnetnz.org//assets/Uploads/acne/acne-face/acne-face-5-7__ProtectWyJQcm90ZWN0Il0_FocusFillWzI5NCwyMjIsIngiLDFd.jpg', image_name='scraped_data/image_144.jpg')\n",
            "Pandas(Index=145, alt='acne-face_44', image_url='https://dermnetnz.org//assets/Uploads/acne/acne-face/acne-face-44__ProtectWyJQcm90ZWN0Il0_FocusFillWzI5NCwyMjIsIngiLDFd.jpg', image_name='scraped_data/image_145.jpg')\n",
            "Pandas(Index=146, alt='acne-face_1_29', image_url='https://dermnetnz.org//assets/Uploads/acne/acne-face/acne-face-1-29__ProtectWyJQcm90ZWN0Il0_FocusFillWzI5NCwyMjIsIngiLDFd.jpg', image_name='scraped_data/image_146.jpg')\n",
            "Pandas(Index=147, alt='acne-face_45', image_url='https://dermnetnz.org//assets/Uploads/acne/acne-face/acne-face-45__ProtectWyJQcm90ZWN0Il0_FocusFillWzI5NCwyMjIsIngiLDFd.jpg', image_name='scraped_data/image_147.jpg')\n",
            "Pandas(Index=148, alt='acne-face_46', image_url='https://dermnetnz.org//assets/Uploads/acne/acne-face/acne-face-46__ProtectWyJQcm90ZWN0Il0_FocusFillWzI5NCwyMjIsIngiLDFd.jpg', image_name='scraped_data/image_148.jpg')\n",
            "Pandas(Index=149, alt='acne-face_47', image_url='https://dermnetnz.org//assets/Uploads/acne/acne-face/acne-face-47__ProtectWyJQcm90ZWN0Il0_FocusFillWzI5NCwyMjIsIngiLDFd.jpg', image_name='scraped_data/image_149.jpg')\n",
            "Pandas(Index=150, alt='acne-face_1_30', image_url='https://dermnetnz.org//assets/Uploads/acne/acne-face/acne-face-1-30__ProtectWyJQcm90ZWN0Il0_FocusFillWzI5NCwyMjIsIngiLDFd.jpg', image_name='scraped_data/image_150.jpg')\n",
            "Pandas(Index=151, alt='acne-face_2_18', image_url='https://dermnetnz.org//assets/Uploads/acne/acne-face/acne-face-2-18__ProtectWyJQcm90ZWN0Il0_FocusFillWzI5NCwyMjIsInkiLDEyXQ.jpg', image_name='scraped_data/image_151.jpg')\n",
            "Pandas(Index=152, alt='acne-face_48', image_url='https://dermnetnz.org//assets/Uploads/acne/acne-face/acne-face-48__ProtectWyJQcm90ZWN0Il0_FocusFillWzI5NCwyMjIsIngiLDFd.jpg', image_name='scraped_data/image_152.jpg')\n",
            "Pandas(Index=153, alt='acne-face_49', image_url='https://dermnetnz.org//assets/Uploads/acne/acne-face/acne-face-49__ProtectWyJQcm90ZWN0Il0_FocusFillWzI5NCwyMjIsIngiLDFd.jpg', image_name='scraped_data/image_153.jpg')\n",
            "Pandas(Index=154, alt='acne-face_1_31', image_url='https://dermnetnz.org//assets/Uploads/acne/acne-face/acne-face-1-31__ProtectWyJQcm90ZWN0Il0_FocusFillWzI5NCwyMjIsIngiLDFd.jpg', image_name='scraped_data/image_154.jpg')\n",
            "Pandas(Index=155, alt='acne-face_50', image_url='https://dermnetnz.org//assets/Uploads/acne/acne-face/acne-face-50__ProtectWyJQcm90ZWN0Il0_FocusFillWzI5NCwyMjIsIngiLDFd.jpg', image_name='scraped_data/image_155.jpg')\n",
            "Pandas(Index=156, alt='acne-face_1_32', image_url='https://dermnetnz.org//assets/Uploads/acne/acne-face/acne-face-1-32__ProtectWyJQcm90ZWN0Il0_FocusFillWzI5NCwyMjIsIngiLDIwXQ.jpg', image_name='scraped_data/image_156.jpg')\n",
            "Pandas(Index=157, alt='acne-face_2_19', image_url='https://dermnetnz.org//assets/Uploads/acne/acne-face/acne-face-2-19__ProtectWyJQcm90ZWN0Il0_FocusFillWzI5NCwyMjIsIngiLDFd.jpg', image_name='scraped_data/image_157.jpg')\n",
            "Pandas(Index=158, alt='acne-face_51', image_url='https://dermnetnz.org//assets/Uploads/acne/acne-face/acne-face-51__ProtectWyJQcm90ZWN0Il0_FocusFillWzI5NCwyMjIsIngiLDFd.jpg', image_name='scraped_data/image_158.jpg')\n",
            "Pandas(Index=159, alt='acne-face_52', image_url='https://dermnetnz.org//assets/Uploads/acne/acne-face/acne-face-52__ProtectWyJQcm90ZWN0Il0_FocusFillWzI5NCwyMjIsIngiLDFd.jpg', image_name='scraped_data/image_159.jpg')\n",
            "Pandas(Index=160, alt='acne-face_1_33', image_url='https://dermnetnz.org//assets/Uploads/acne/acne-face/acne-face-1-33__ProtectWyJQcm90ZWN0Il0_FocusFillWzI5NCwyMjIsIngiLDFd.jpg', image_name='scraped_data/image_160.jpg')\n",
            "Pandas(Index=161, alt='acne-face_2_20', image_url='https://dermnetnz.org//assets/Uploads/acne/acne-face/acne-face-2-20__ProtectWyJQcm90ZWN0Il0_FocusFillWzI5NCwyMjIsInkiLDg1XQ.jpg', image_name='scraped_data/image_161.jpg')\n",
            "Pandas(Index=162, alt='acne-face_3_10', image_url='https://dermnetnz.org//assets/Uploads/acne/acne-face/acne-face-3-10__ProtectWyJQcm90ZWN0Il0_FocusFillWzI5NCwyMjIsInkiLDg1XQ.jpg', image_name='scraped_data/image_162.jpg')\n",
            "Pandas(Index=163, alt='acne-face_53', image_url='https://dermnetnz.org//assets/Uploads/acne/acne-face/acne-face-53__ProtectWyJQcm90ZWN0Il0_FocusFillWzI5NCwyMjIsInkiLDg1XQ.jpg', image_name='scraped_data/image_163.jpg')\n",
            "Pandas(Index=164, alt='acne-face_1_34', image_url='https://dermnetnz.org//assets/Uploads/acne/acne-face/acne-face-1-34__ProtectWyJQcm90ZWN0Il0_FocusFillWzI5NCwyMjIsInkiLDg1XQ.jpg', image_name='scraped_data/image_164.jpg')\n",
            "Pandas(Index=165, alt='acne-face_2_21', image_url='https://dermnetnz.org//assets/Uploads/acne/acne-face/acne-face-2-21__ProtectWyJQcm90ZWN0Il0_FocusFillWzI5NCwyMjIsInkiLDg1XQ.jpg', image_name='scraped_data/image_165.jpg')\n",
            "Pandas(Index=166, alt='acne-face_54', image_url='https://dermnetnz.org//assets/Uploads/acne/acne-face/acne-face-54__ProtectWyJQcm90ZWN0Il0_FocusFillWzI5NCwyMjIsIngiLDFd.jpg', image_name='scraped_data/image_166.jpg')\n",
            "Pandas(Index=167, alt='acne-face_1_35', image_url='https://dermnetnz.org//assets/Uploads/acne/acne-face/acne-face-1-35__ProtectWyJQcm90ZWN0Il0_FocusFillWzI5NCwyMjIsIngiLDFd.jpg', image_name='scraped_data/image_167.jpg')\n",
            "Pandas(Index=168, alt='acne-face_2_22', image_url='https://dermnetnz.org//assets/Uploads/acne/acne-face/acne-face-2-22__ProtectWyJQcm90ZWN0Il0_FocusFillWzI5NCwyMjIsIngiLDFd.jpg', image_name='scraped_data/image_168.jpg')\n",
            "Pandas(Index=169, alt='acne-face_3_11', image_url='https://dermnetnz.org//assets/Uploads/acne/acne-face/acne-face-3-11__ProtectWyJQcm90ZWN0Il0_FocusFillWzI5NCwyMjIsIngiLDFd.jpg', image_name='scraped_data/image_169.jpg')\n",
            "Pandas(Index=170, alt='acne-face_55', image_url='https://dermnetnz.org//assets/Uploads/acne/acne-face/acne-face-55__ProtectWyJQcm90ZWN0Il0_FocusFillWzI5NCwyMjIsIngiLDFd.jpg', image_name='scraped_data/image_170.jpg')\n",
            "Pandas(Index=171, alt='acne-face_56', image_url='https://dermnetnz.org//assets/Uploads/acne/acne-face/acne-face-56__ProtectWyJQcm90ZWN0Il0_FocusFillWzI5NCwyMjIsIngiLDFd.jpg', image_name='scraped_data/image_171.jpg')\n",
            "Pandas(Index=172, alt='acne-face_1_36', image_url='https://dermnetnz.org//assets/Uploads/acne/acne-face/acne-face-1-36__ProtectWyJQcm90ZWN0Il0_FocusFillWzI5NCwyMjIsIngiLDFd.jpg', image_name='scraped_data/image_172.jpg')\n",
            "Pandas(Index=173, alt='acne-face_2_23', image_url='https://dermnetnz.org//assets/Uploads/acne/acne-face/acne-face-2-23__ProtectWyJQcm90ZWN0Il0_FocusFillWzI5NCwyMjIsIngiLDFd.jpg', image_name='scraped_data/image_173.jpg')\n",
            "Pandas(Index=174, alt='acne-face_3_12', image_url='https://dermnetnz.org//assets/Uploads/acne/acne-face/acne-face-3-12__ProtectWyJQcm90ZWN0Il0_FocusFillWzI5NCwyMjIsIngiLDFd.jpg', image_name='scraped_data/image_174.jpg')\n",
            "Pandas(Index=175, alt='acne-face_4_9', image_url='https://dermnetnz.org//assets/Uploads/acne/acne-face/acne-face-4-9__ProtectWyJQcm90ZWN0Il0_FocusFillWzI5NCwyMjIsIngiLDFd.jpg', image_name='scraped_data/image_175.jpg')\n",
            "Pandas(Index=176, alt='acne-face_57', image_url='https://dermnetnz.org//assets/Uploads/acne/acne-face/acne-face-57__ProtectWyJQcm90ZWN0Il0_FocusFillWzI5NCwyMjIsIngiLDFd.jpg', image_name='scraped_data/image_176.jpg')\n",
            "Pandas(Index=177, alt='acne-face_58', image_url='https://dermnetnz.org//assets/Uploads/acne/acne-face/acne-face-58__ProtectWyJQcm90ZWN0Il0_FocusFillWzI5NCwyMjIsIngiLDFd.jpg', image_name='scraped_data/image_177.jpg')\n",
            "Pandas(Index=178, alt='acne-face_1_37', image_url='https://dermnetnz.org//assets/Uploads/acne/acne-face/acne-face-1-37__ProtectWyJQcm90ZWN0Il0_FocusFillWzI5NCwyMjIsIngiLDFd.jpg', image_name='scraped_data/image_178.jpg')\n",
            "Pandas(Index=179, alt='acne-face_2_24', image_url='https://dermnetnz.org//assets/Uploads/acne/acne-face/acne-face-2-24__ProtectWyJQcm90ZWN0Il0_FocusFillWzI5NCwyMjIsIngiLDFd.jpg', image_name='scraped_data/image_179.jpg')\n",
            "Pandas(Index=180, alt='acne-face_3_13', image_url='https://dermnetnz.org//assets/Uploads/acne/acne-face/acne-face-3-13__ProtectWyJQcm90ZWN0Il0_FocusFillWzI5NCwyMjIsIngiLDFd.jpg', image_name='scraped_data/image_180.jpg')\n",
            "Pandas(Index=181, alt='acne-face_59', image_url='https://dermnetnz.org//assets/Uploads/acne/acne-face/acne-face-59__ProtectWyJQcm90ZWN0Il0_FocusFillWzI5NCwyMjIsIngiLDFd.jpg', image_name='scraped_data/image_181.jpg')\n",
            "Pandas(Index=182, alt='acne-face_1_38', image_url='https://dermnetnz.org//assets/Uploads/acne/acne-face/acne-face-1-38__ProtectWyJQcm90ZWN0Il0_FocusFillWzI5NCwyMjIsIngiLDFd.jpg', image_name='scraped_data/image_182.jpg')\n",
            "Pandas(Index=183, alt='acne-face_2_25', image_url='https://dermnetnz.org//assets/Uploads/acne/acne-face/acne-face-2-25__ProtectWyJQcm90ZWN0Il0_FocusFillWzI5NCwyMjIsIngiLDFd.jpg', image_name='scraped_data/image_183.jpg')\n",
            "Pandas(Index=184, alt='acne-face_3_14', image_url='https://dermnetnz.org//assets/Uploads/acne/acne-face/acne-face-3-14__ProtectWyJQcm90ZWN0Il0_FocusFillWzI5NCwyMjIsIngiLDFd.jpg', image_name='scraped_data/image_184.jpg')\n",
            "Pandas(Index=185, alt='acne-face_4_10', image_url='https://dermnetnz.org//assets/Uploads/acne/acne-face/acne-face-4-10__ProtectWyJQcm90ZWN0Il0_FocusFillWzI5NCwyMjIsIngiLDIwXQ.jpg', image_name='scraped_data/image_185.jpg')\n",
            "Pandas(Index=186, alt='acne-face_5_8', image_url='https://dermnetnz.org//assets/Uploads/acne/acne-face/acne-face-5-8__ProtectWyJQcm90ZWN0Il0_FocusFillWzI5NCwyMjIsIngiLDFd.jpg', image_name='scraped_data/image_186.jpg')\n",
            "Pandas(Index=187, alt='acne-face_1_39', image_url='https://dermnetnz.org//assets/Uploads/acne/acne-face/acne-face-1-39__ProtectWyJQcm90ZWN0Il0_FocusFillWzI5NCwyMjIsInkiLDg1XQ.jpg', image_name='scraped_data/image_187.jpg')\n",
            "Pandas(Index=188, alt='acne-face_2_26', image_url='https://dermnetnz.org//assets/Uploads/acne/acne-face/acne-face-2-26__ProtectWyJQcm90ZWN0Il0_FocusFillWzI5NCwyMjIsInkiLDg1XQ.jpg', image_name='scraped_data/image_188.jpg')\n",
            "Pandas(Index=189, alt='acne-face_3_15', image_url='https://dermnetnz.org//assets/Uploads/acne/acne-face/acne-face-3-15__ProtectWyJQcm90ZWN0Il0_FocusFillWzI5NCwyMjIsInkiLDg1XQ.jpg', image_name='scraped_data/image_189.jpg')\n",
            "Pandas(Index=190, alt='acne-face_4_11', image_url='https://dermnetnz.org//assets/Uploads/acne/acne-face/acne-face-4-11__ProtectWyJQcm90ZWN0Il0_FocusFillWzI5NCwyMjIsInkiLDg1XQ.jpg', image_name='scraped_data/image_190.jpg')\n",
            "Pandas(Index=191, alt='acne-face_61', image_url='https://dermnetnz.org//assets/Uploads/acne/acne-face/acne-face-61__ProtectWyJQcm90ZWN0Il0_FocusFillWzI5NCwyMjIsInkiLDg1XQ.jpg', image_name='scraped_data/image_191.jpg')\n",
            "Pandas(Index=192, alt='acne-face_1_40', image_url='https://dermnetnz.org//assets/Uploads/acne/acne-face/acne-face-1-40__ProtectWyJQcm90ZWN0Il0_FocusFillWzI5NCwyMjIsInkiLDUyXQ.jpg', image_name='scraped_data/image_192.jpg')\n",
            "Pandas(Index=193, alt='acne-face_62', image_url='https://dermnetnz.org//assets/Uploads/acne/acne-face/acne-face-62__ProtectWyJQcm90ZWN0Il0_FocusFillWzI5NCwyMjIsIngiLDFd.jpg', image_name='scraped_data/image_193.jpg')\n",
            "Pandas(Index=194, alt='acne-face_1_41', image_url='https://dermnetnz.org//assets/Uploads/acne/acne-face/acne-face-1-41__ProtectWyJQcm90ZWN0Il0_FocusFillWzI5NCwyMjIsInkiLDMxXQ.jpg', image_name='scraped_data/image_194.jpg')\n",
            "Pandas(Index=195, alt='acne-face_2_27', image_url='https://dermnetnz.org//assets/Uploads/acne/acne-face/acne-face-2-27__ProtectWyJQcm90ZWN0Il0_FocusFillWzI5NCwyMjIsIngiLDFd.jpg', image_name='scraped_data/image_195.jpg')\n",
            "Pandas(Index=196, alt='acne-face_3_16', image_url='https://dermnetnz.org//assets/Uploads/acne/acne-face/acne-face-3-16__ProtectWyJQcm90ZWN0Il0_FocusFillWzI5NCwyMjIsIngiLDFd.jpg', image_name='scraped_data/image_196.jpg')\n",
            "Pandas(Index=197, alt='Facial acne', image_url='https://dermnetnz.org//assets/Uploads/acne-face-60__ProtectWyJQcm90ZWN0Il0_FocusFillWzI5NCwyMjIsIngiLDFd.JPG', image_name='scraped_data/image_197.jpg')\n",
            "Pandas(Index=198, alt='acne-face_63', image_url='https://dermnetnz.org//assets/Uploads/acne/acne-face/acne-face-63__ProtectWyJQcm90ZWN0Il0_FocusFillWzI5NCwyMjIsIngiLDFd.jpg', image_name='scraped_data/image_198.jpg')\n",
            "Pandas(Index=199, alt='acne-face_1_42', image_url='https://dermnetnz.org//assets/Uploads/acne/acne-face/acne-face-1-42__ProtectWyJQcm90ZWN0Il0_FocusFillWzI5NCwyMjIsIngiLDFd.jpg', image_name='scraped_data/image_199.jpg')\n",
            "Pandas(Index=200, alt='acne-face_2_28', image_url='https://dermnetnz.org//assets/Uploads/acne/acne-face/acne-face-2-28__ProtectWyJQcm90ZWN0Il0_FocusFillWzI5NCwyMjIsIngiLDFd.jpg', image_name='scraped_data/image_200.jpg')\n",
            "Pandas(Index=201, alt='acne-face_3_17', image_url='https://dermnetnz.org//assets/Uploads/acne/acne-face/acne-face-3-17__ProtectWyJQcm90ZWN0Il0_FocusFillWzI5NCwyMjIsIngiLDFd.jpg', image_name='scraped_data/image_201.jpg')\n",
            "Pandas(Index=202, alt='acne-face_64', image_url='https://dermnetnz.org//assets/Uploads/acne/acne-face/acne-face-64__ProtectWyJQcm90ZWN0Il0_FocusFillWzI5NCwyMjIsIngiLDFd.jpg', image_name='scraped_data/image_202.jpg')\n",
            "Pandas(Index=203, alt='acne-face_1_43', image_url='https://dermnetnz.org//assets/Uploads/acne/acne-face/acne-face-1-43__ProtectWyJQcm90ZWN0Il0_FocusFillWzI5NCwyMjIsIngiLDFd.jpg', image_name='scraped_data/image_203.jpg')\n",
            "Pandas(Index=204, alt='acne-face_65', image_url='https://dermnetnz.org//assets/Uploads/acne/acne-face/acne-face-65__ProtectWyJQcm90ZWN0Il0_FocusFillWzI5NCwyMjIsIngiLDFd.jpg', image_name='scraped_data/image_204.jpg')\n",
            "Pandas(Index=205, alt='acne-face_1_44', image_url='https://dermnetnz.org//assets/Uploads/acne/acne-face/acne-face-1-44__ProtectWyJQcm90ZWN0Il0_FocusFillWzI5NCwyMjIsInkiLDg1XQ.jpg', image_name='scraped_data/image_205.jpg')\n",
            "Pandas(Index=206, alt='acne-face_66', image_url='https://dermnetnz.org//assets/Uploads/acne/acne-face/acne-face-66__ProtectWyJQcm90ZWN0Il0_FocusFillWzI5NCwyMjIsIngiLDFd.jpg', image_name='scraped_data/image_206.jpg')\n",
            "Pandas(Index=207, alt='acne-face_67', image_url='https://dermnetnz.org//assets/Uploads/acne/acne-face/acne-face-67__ProtectWyJQcm90ZWN0Il0_FocusFillWzI5NCwyMjIsInkiLDg1XQ.jpg', image_name='scraped_data/image_207.jpg')\n",
            "Pandas(Index=208, alt='acne-face_68', image_url='https://dermnetnz.org//assets/Uploads/acne/acne-face/acne-face-68__ProtectWyJQcm90ZWN0Il0_FocusFillWzI5NCwyMjIsIngiLDFd.jpg', image_name='scraped_data/image_208.jpg')\n",
            "Pandas(Index=209, alt='acne-face_1_45', image_url='https://dermnetnz.org//assets/Uploads/acne/acne-face/acne-face-1-45__ProtectWyJQcm90ZWN0Il0_FocusFillWzI5NCwyMjIsIngiLDFd.jpg', image_name='scraped_data/image_209.jpg')\n",
            "Pandas(Index=210, alt='acne-face_69', image_url='https://dermnetnz.org//assets/Uploads/acne/acne-face/acne-face-69__ProtectWyJQcm90ZWN0Il0_FocusFillWzI5NCwyMjIsIngiLDFd.jpg', image_name='scraped_data/image_210.jpg')\n",
            "Pandas(Index=211, alt='acne-face_1_46', image_url='https://dermnetnz.org//assets/Uploads/acne/acne-face/acne-face-1-46__ProtectWyJQcm90ZWN0Il0_FocusFillWzI5NCwyMjIsIngiLDFd.jpg', image_name='scraped_data/image_211.jpg')\n",
            "Pandas(Index=212, alt='acne-face_2_29', image_url='https://dermnetnz.org//assets/Uploads/acne/acne-face/acne-face-2-29__ProtectWyJQcm90ZWN0Il0_FocusFillWzI5NCwyMjIsIngiLDFd.jpg', image_name='scraped_data/image_212.jpg')\n",
            "Pandas(Index=213, alt='acne-face_70', image_url='https://dermnetnz.org//assets/Uploads/acne/acne-face/acne-face-70__ProtectWyJQcm90ZWN0Il0_FocusFillWzI5NCwyMjIsIngiLDFd.jpg', image_name='scraped_data/image_213.jpg')\n",
            "Pandas(Index=214, alt='acne-face_1_47', image_url='https://dermnetnz.org//assets/Uploads/acne/acne-face/acne-face-1-47__ProtectWyJQcm90ZWN0Il0_FocusFillWzI5NCwyMjIsIngiLDFd.jpg', image_name='scraped_data/image_214.jpg')\n",
            "Pandas(Index=215, alt='acne-face_71', image_url='https://dermnetnz.org//assets/Uploads/acne/acne-face/acne-face-71__ProtectWyJQcm90ZWN0Il0_FocusFillWzI5NCwyMjIsIngiLDFd.jpg', image_name='scraped_data/image_215.jpg')\n",
            "Pandas(Index=216, alt='acne-face_1_48', image_url='https://dermnetnz.org//assets/Uploads/acne/acne-face/acne-face-1-48__ProtectWyJQcm90ZWN0Il0_FocusFillWzI5NCwyMjIsIngiLDFd.jpg', image_name='scraped_data/image_216.jpg')\n",
            "Pandas(Index=217, alt='acne-face_2_30', image_url='https://dermnetnz.org//assets/Uploads/acne/acne-face/acne-face-2-30__ProtectWyJQcm90ZWN0Il0_FocusFillWzI5NCwyMjIsIngiLDFd.jpg', image_name='scraped_data/image_217.jpg')\n",
            "Pandas(Index=218, alt='acne-face_3_18', image_url='https://dermnetnz.org//assets/Uploads/acne/acne-face/acne-face-3-18__ProtectWyJQcm90ZWN0Il0_FocusFillWzI5NCwyMjIsIngiLDFd.jpg', image_name='scraped_data/image_218.jpg')\n",
            "Pandas(Index=219, alt='acne-face_72', image_url='https://dermnetnz.org//assets/Uploads/acne/acne-face/acne-face-72__ProtectWyJQcm90ZWN0Il0_FocusFillWzI5NCwyMjIsIngiLDFd.jpg', image_name='scraped_data/image_219.jpg')\n",
            "Pandas(Index=220, alt='acne-face_73', image_url='https://dermnetnz.org//assets/Uploads/acne/acne-face/acne-face-73__ProtectWyJQcm90ZWN0Il0_FocusFillWzI5NCwyMjIsIngiLDFd.jpg', image_name='scraped_data/image_220.jpg')\n",
            "Pandas(Index=221, alt='acne-face_1_49', image_url='https://dermnetnz.org//assets/Uploads/acne/acne-face/acne-face-1-49__ProtectWyJQcm90ZWN0Il0_FocusFillWzI5NCwyMjIsIngiLDFd.jpg', image_name='scraped_data/image_221.jpg')\n",
            "Pandas(Index=222, alt='acne-face_2_31', image_url='https://dermnetnz.org//assets/Uploads/acne/acne-face/acne-face-2-31__ProtectWyJQcm90ZWN0Il0_FocusFillWzI5NCwyMjIsIngiLDFd.jpg', image_name='scraped_data/image_222.jpg')\n",
            "Pandas(Index=223, alt='Skin phototype 3', image_url='https://dermnetnz.org//assets/Uploads/acne/acne-face/acne-face-3-19__ProtectWyJQcm90ZWN0Il0_FocusFillWzI5NCwyMjIsIngiLDFd.jpg', image_name='scraped_data/image_223.jpg')\n",
            "Pandas(Index=224, alt='acne-face_4_12', image_url='https://dermnetnz.org//assets/Uploads/acne/acne-face/acne-face-4-12__ProtectWyJQcm90ZWN0Il0_FocusFillWzI5NCwyMjIsInkiLDg1XQ.jpg', image_name='scraped_data/image_224.jpg')\n",
            "Pandas(Index=225, alt='acne-face_74', image_url='https://dermnetnz.org//assets/Uploads/acne/acne-face/acne-face-74__ProtectWyJQcm90ZWN0Il0_FocusFillWzI5NCwyMjIsIngiLDFd.jpg', image_name='scraped_data/image_225.jpg')\n",
            "Pandas(Index=226, alt='acne-face_1_50', image_url='https://dermnetnz.org//assets/Uploads/acne/acne-face/acne-face-1-50__ProtectWyJQcm90ZWN0Il0_FocusFillWzI5NCwyMjIsIngiLDFd.jpg', image_name='scraped_data/image_226.jpg')\n",
            "Pandas(Index=227, alt='acne-face_2_32', image_url='https://dermnetnz.org//assets/Uploads/acne/acne-face/acne-face-2-32__ProtectWyJQcm90ZWN0Il0_FocusFillWzI5NCwyMjIsIngiLDFd.jpg', image_name='scraped_data/image_227.jpg')\n",
            "Pandas(Index=228, alt='acne-face_3_20', image_url='https://dermnetnz.org//assets/Uploads/acne/acne-face/acne-face-3-20__ProtectWyJQcm90ZWN0Il0_FocusFillWzI5NCwyMjIsIngiLDFd.jpg', image_name='scraped_data/image_228.jpg')\n",
            "Pandas(Index=229, alt='acne-face_4_13', image_url='https://dermnetnz.org//assets/Uploads/acne/acne-face/acne-face-4-13__ProtectWyJQcm90ZWN0Il0_FocusFillWzI5NCwyMjIsIngiLDFd.jpg', image_name='scraped_data/image_229.jpg')\n",
            "Pandas(Index=230, alt='acne-face_5_9', image_url='https://dermnetnz.org//assets/Uploads/acne/acne-face/acne-face-5-9__ProtectWyJQcm90ZWN0Il0_FocusFillWzI5NCwyMjIsIngiLDFd.jpg', image_name='scraped_data/image_230.jpg')\n",
            "Pandas(Index=231, alt='acne-face_6_4', image_url='https://dermnetnz.org//assets/Uploads/acne/acne-face/acne-face-6-4__ProtectWyJQcm90ZWN0Il0_FocusFillWzI5NCwyMjIsIngiLDFd.jpg', image_name='scraped_data/image_231.jpg')\n",
            "Pandas(Index=232, alt='acne-face_7_3', image_url='https://dermnetnz.org//assets/Uploads/acne/acne-face/acne-face-7-3__ProtectWyJQcm90ZWN0Il0_FocusFillWzI5NCwyMjIsIngiLDFd.jpg', image_name='scraped_data/image_232.jpg')\n",
            "Pandas(Index=233, alt='acne-face_8_3', image_url='https://dermnetnz.org//assets/Uploads/acne/acne-face/acne-face-8-3__ProtectWyJQcm90ZWN0Il0_FocusFillWzI5NCwyMjIsIngiLDFd.jpg', image_name='scraped_data/image_233.jpg')\n",
            "Pandas(Index=234, alt='acne-face_75', image_url='https://dermnetnz.org//assets/Uploads/acne/acne-face/acne-face-75__ProtectWyJQcm90ZWN0Il0_FocusFillWzI5NCwyMjIsIngiLDFd.jpg', image_name='scraped_data/image_234.jpg')\n",
            "Pandas(Index=235, alt='acne-face_1_51', image_url='https://dermnetnz.org//assets/Uploads/acne/acne-face/acne-face-1-51__ProtectWyJQcm90ZWN0Il0_FocusFillWzI5NCwyMjIsIngiLDFd.jpg', image_name='scraped_data/image_235.jpg')\n",
            "Pandas(Index=236, alt='acne-face_76', image_url='https://dermnetnz.org//assets/Uploads/acne/acne-face/acne-face-76__ProtectWyJQcm90ZWN0Il0_FocusFillWzI5NCwyMjIsIngiLDFd.jpg', image_name='scraped_data/image_236.jpg')\n",
            "Pandas(Index=237, alt='acne-face_1_52', image_url='https://dermnetnz.org//assets/Uploads/acne/acne-face/acne-face-1-52__ProtectWyJQcm90ZWN0Il0_FocusFillWzI5NCwyMjIsIngiLDFd.jpg', image_name='scraped_data/image_237.jpg')\n",
            "Pandas(Index=238, alt='acne-face_2_33', image_url='https://dermnetnz.org//assets/Uploads/acne/acne-face/acne-face-2-33__ProtectWyJQcm90ZWN0Il0_FocusFillWzI5NCwyMjIsIngiLDFd.jpg', image_name='scraped_data/image_238.jpg')\n",
            "Pandas(Index=239, alt='acne-face_3_21', image_url='https://dermnetnz.org//assets/Uploads/acne/acne-face/acne-face-3-21__ProtectWyJQcm90ZWN0Il0_FocusFillWzI5NCwyMjIsIngiLDFd.jpg', image_name='scraped_data/image_239.jpg')\n",
            "Pandas(Index=240, alt='acne-face_77', image_url='https://dermnetnz.org//assets/Uploads/acne/acne-face/acne-face-77__ProtectWyJQcm90ZWN0Il0_FocusFillWzI5NCwyMjIsIngiLDFd.jpg', image_name='scraped_data/image_240.jpg')\n",
            "Pandas(Index=241, alt='acne-face_78', image_url='https://dermnetnz.org//assets/Uploads/acne/acne-face/acne-face-78__ProtectWyJQcm90ZWN0Il0_FocusFillWzI5NCwyMjIsIngiLDFd.jpg', image_name='scraped_data/image_241.jpg')\n",
            "Pandas(Index=242, alt='acne-face_1_53', image_url='https://dermnetnz.org//assets/Uploads/acne/acne-face/acne-face-1-53__ProtectWyJQcm90ZWN0Il0_FocusFillWzI5NCwyMjIsIngiLDFd.jpg', image_name='scraped_data/image_242.jpg')\n",
            "Pandas(Index=243, alt='acne-face_2_34', image_url='https://dermnetnz.org//assets/Uploads/acne/acne-face/acne-face-2-34__ProtectWyJQcm90ZWN0Il0_FocusFillWzI5NCwyMjIsIngiLDFd.jpg', image_name='scraped_data/image_243.jpg')\n",
            "Pandas(Index=244, alt='acne-face_3_22', image_url='https://dermnetnz.org//assets/Uploads/acne/acne-face/acne-face-3-22__ProtectWyJQcm90ZWN0Il0_FocusFillWzI5NCwyMjIsIngiLDFd.jpg', image_name='scraped_data/image_244.jpg')\n",
            "Pandas(Index=245, alt='acne-face_4_14', image_url='https://dermnetnz.org//assets/Uploads/acne/acne-face/acne-face-4-14__ProtectWyJQcm90ZWN0Il0_FocusFillWzI5NCwyMjIsIngiLDFd.jpg', image_name='scraped_data/image_245.jpg')\n",
            "Pandas(Index=246, alt='acne-face_79', image_url='https://dermnetnz.org//assets/Uploads/acne/acne-face/acne-face-79__ProtectWyJQcm90ZWN0Il0_FocusFillWzI5NCwyMjIsIngiLDFd.jpg', image_name='scraped_data/image_246.jpg')\n",
            "Pandas(Index=247, alt='acne-face_2_35', image_url='https://dermnetnz.org//assets/Uploads/acne/acne-face/acne-face-2-35__ProtectWyJQcm90ZWN0Il0_FocusFillWzI5NCwyMjIsIngiLDFd.jpg', image_name='scraped_data/image_247.jpg')\n",
            "Pandas(Index=248, alt='acne-face_3_23', image_url='https://dermnetnz.org//assets/Uploads/acne/acne-face/acne-face-3-23__ProtectWyJQcm90ZWN0Il0_FocusFillWzI5NCwyMjIsIngiLDFd.jpg', image_name='scraped_data/image_248.jpg')\n",
            "Pandas(Index=249, alt='acne-face_6_5', image_url='https://dermnetnz.org//assets/Uploads/acne/acne-face/acne-face-6-5__ProtectWyJQcm90ZWN0Il0_FocusFillWzI5NCwyMjIsInkiLDVd.jpg', image_name='scraped_data/image_249.jpg')\n",
            "Pandas(Index=250, alt='acne-face_2_36', image_url='https://dermnetnz.org//assets/Uploads/acne/acne-face/acne-face-2-36__ProtectWyJQcm90ZWN0Il0_FocusFillWzI5NCwyMjIsIngiLDFd.jpg', image_name='scraped_data/image_250.jpg')\n",
            "Pandas(Index=251, alt='acne-face_4_15', image_url='https://dermnetnz.org//assets/Uploads/acne/acne-face/acne-face-4-15__ProtectWyJQcm90ZWN0Il0_FocusFillWzI5NCwyMjIsIngiLDFd.jpg', image_name='scraped_data/image_251.jpg')\n",
            "Pandas(Index=252, alt='Comedonal acne', image_url='https://dermnetnz.org//assets/Uploads/aknekomedot__ProtectWyJQcm90ZWN0Il0_FocusFillWzI5NCwyMjIsIngiLDE5XQ.JPG', image_name='scraped_data/image_252.jpg')\n",
            "Pandas(Index=253, alt='Facial acne', image_url='https://dermnetnz.org//assets/Uploads/acne/acne-face/acne-face-80__ProtectWyJQcm90ZWN0Il0_FocusFillWzI5NCwyMjIsIngiLDIzXQ.jpg', image_name='scraped_data/image_253.jpg')\n"
          ]
        }
      ]
    },
    {
      "cell_type": "markdown",
      "metadata": {
        "id": "z6IE9Vfb3TZd"
      },
      "source": [
        "# New section"
      ],
      "id": "z6IE9Vfb3TZd"
    },
    {
      "cell_type": "markdown",
      "metadata": {
        "id": "2f264b6f"
      },
      "source": [
        "253 images were successfully scraped."
      ],
      "id": "2f264b6f"
    },
    {
      "cell_type": "markdown",
      "metadata": {
        "id": "7dbebf79"
      },
      "source": [
        "## 1.1 Sliding Window"
      ],
      "id": "7dbebf79"
    },
    {
      "cell_type": "markdown",
      "metadata": {
        "id": "3c1a9552"
      },
      "source": [
        "As each facial image may contain multiple acne of different acne types, it will be best to break it into smaller patches to aid with the counting. We will construct a sliding window of size 50 x 50 and stride 50, iterating across each image to generate patches."
      ],
      "id": "3c1a9552"
    },
    {
      "cell_type": "code",
      "metadata": {
        "id": "1162eb00"
      },
      "source": [
        "from os import listdir, rename\n",
        "from os.path import isfile, join\n",
        "import numpy as np\n",
        "import matplotlib.pyplot as plt\n",
        "from PIL import Image\n",
        "import pandas as pd\n",
        "import random"
      ],
      "id": "1162eb00",
      "execution_count": 5,
      "outputs": []
    },
    {
      "cell_type": "code",
      "metadata": {
        "id": "cdc646a1"
      },
      "source": [
        "images = [join('scraped_data', f) for f in listdir('scraped_data') if isfile(join('scraped_data', f))]"
      ],
      "id": "cdc646a1",
      "execution_count": 6,
      "outputs": []
    },
    {
      "cell_type": "code",
      "metadata": {
        "id": "04ecb4d5"
      },
      "source": [
        "# Set size of sliding window\n",
        "window_size = 50"
      ],
      "id": "04ecb4d5",
      "execution_count": 7,
      "outputs": []
    },
    {
      "cell_type": "code",
      "metadata": {
        "colab": {
          "base_uri": "https://localhost:8080/"
        },
        "id": "cb605ec7",
        "outputId": "339be4b5-b721-401a-afa6-cccd3f122026"
      },
      "source": [
        "# Slicing images\n",
        "import os\n",
        "print(os.getcwd())\n",
        "!mkdir -p temp_dataset\n",
        "counter = 0\n",
        "for image_path in images:\n",
        "    img = np.asarray(Image.open(image_path))\n",
        "    for i in range(0,img.shape[0],window_size):\n",
        "        for j in range(0,img.shape[1],window_size):\n",
        "            sub_img = img[i:i+window_size, j:j+window_size, :]\n",
        "            # Save image\n",
        "            img_name = image_path.split('/')[-1].split('.')[0]\n",
        "            Image.fromarray(sub_img).save(f'temp_dataset/{counter}.jpg')\n",
        "            counter += 1"
      ],
      "id": "cb605ec7",
      "execution_count": 8,
      "outputs": [
        {
          "output_type": "stream",
          "name": "stdout",
          "text": [
            "/content/CS5242\n"
          ]
        }
      ]
    },
    {
      "cell_type": "code",
      "metadata": {
        "id": "fb561b34"
      },
      "source": [
        "# Create csv for tagging\n",
        "cropped_images = sorted([f for f in listdir('temp_dataset') if isfile(join('temp_dataset', f))])\n",
        "shuffled_images_name = cropped_images.copy()\n",
        "random.shuffle(shuffled_images_name)\n",
        "filenames_rows = list(zip(cropped_images, shuffled_images_name))"
      ],
      "id": "fb561b34",
      "execution_count": 9,
      "outputs": []
    },
    {
      "cell_type": "code",
      "metadata": {
        "id": "6cc82e9b"
      },
      "source": [
        "tagging_df = pd.DataFrame(filenames_rows, columns=['Image File', 'New Image Name'])"
      ],
      "id": "6cc82e9b",
      "execution_count": 10,
      "outputs": []
    },
    {
      "cell_type": "code",
      "metadata": {
        "id": "536e64b9"
      },
      "source": [
        "# Rename files with shuffled names\n",
        "# print(os.getcwd())\n",
        "# !mkdir -p dataset\n",
        "# for idx, row in tagging_df.iterrows():\n",
        "#     rename(f'temp_dataset/{row[\"Image File\"]}', f'dataset/{row[\"New Image Name\"]}')"
      ],
      "id": "536e64b9",
      "execution_count": 11,
      "outputs": []
    },
    {
      "cell_type": "code",
      "metadata": {
        "colab": {
          "base_uri": "https://localhost:8080/",
          "height": 206
        },
        "id": "26a935e8",
        "outputId": "dedff11b-1928-49bc-fcf9-44501deba919"
      },
      "source": [
        "tagging_df.head()"
      ],
      "id": "26a935e8",
      "execution_count": 12,
      "outputs": [
        {
          "output_type": "execute_result",
          "data": {
            "text/html": [
              "<div>\n",
              "<style scoped>\n",
              "    .dataframe tbody tr th:only-of-type {\n",
              "        vertical-align: middle;\n",
              "    }\n",
              "\n",
              "    .dataframe tbody tr th {\n",
              "        vertical-align: top;\n",
              "    }\n",
              "\n",
              "    .dataframe thead th {\n",
              "        text-align: right;\n",
              "    }\n",
              "</style>\n",
              "<table border=\"1\" class=\"dataframe\">\n",
              "  <thead>\n",
              "    <tr style=\"text-align: right;\">\n",
              "      <th></th>\n",
              "      <th>Image File</th>\n",
              "      <th>New Image Name</th>\n",
              "    </tr>\n",
              "  </thead>\n",
              "  <tbody>\n",
              "    <tr>\n",
              "      <th>0</th>\n",
              "      <td>0.jpg</td>\n",
              "      <td>4243.jpg</td>\n",
              "    </tr>\n",
              "    <tr>\n",
              "      <th>1</th>\n",
              "      <td>1.jpg</td>\n",
              "      <td>5928.jpg</td>\n",
              "    </tr>\n",
              "    <tr>\n",
              "      <th>2</th>\n",
              "      <td>10.jpg</td>\n",
              "      <td>3321.jpg</td>\n",
              "    </tr>\n",
              "    <tr>\n",
              "      <th>3</th>\n",
              "      <td>100.jpg</td>\n",
              "      <td>1276.jpg</td>\n",
              "    </tr>\n",
              "    <tr>\n",
              "      <th>4</th>\n",
              "      <td>1000.jpg</td>\n",
              "      <td>2186.jpg</td>\n",
              "    </tr>\n",
              "  </tbody>\n",
              "</table>\n",
              "</div>"
            ],
            "text/plain": [
              "  Image File New Image Name\n",
              "0      0.jpg       4243.jpg\n",
              "1      1.jpg       5928.jpg\n",
              "2     10.jpg       3321.jpg\n",
              "3    100.jpg       1276.jpg\n",
              "4   1000.jpg       2186.jpg"
            ]
          },
          "metadata": {},
          "execution_count": 12
        }
      ]
    },
    {
      "cell_type": "code",
      "metadata": {
        "id": "e53be53c"
      },
      "source": [
        "tagging_df.to_csv('original_filename.csv', index=False)"
      ],
      "id": "e53be53c",
      "execution_count": 13,
      "outputs": []
    },
    {
      "cell_type": "markdown",
      "metadata": {
        "id": "2db79a18"
      },
      "source": [
        "Through this process, we generated approximately 7,500 patches. We then manually labelled 1,500 patches as our dataset to split into train and test later on. These patches were labelled as one of these 6 classes:\n",
        "- Not face - 0\n",
        "- Normal skin - 1\n",
        "- Pustule - 2\n",
        "- Whitehead - 3\n",
        "- Blackhead - 4\n",
        "- Cyst - 5\n"
      ],
      "id": "2db79a18"
    },
    {
      "cell_type": "markdown",
      "metadata": {
        "id": "adae3943"
      },
      "source": [
        "# Getting Label"
      ],
      "id": "adae3943"
    },
    {
      "cell_type": "code",
      "metadata": {
        "id": "3be4ee8b"
      },
      "source": [
        "import pandas as pd\n",
        "\n",
        "# !wget \"https://raw.githubusercontent.com/simasuiyuan/CS5242/zhunhung_dev/labels.csv\"\n",
        "# labels = pd.read_csv('labels.csv')"
      ],
      "id": "3be4ee8b",
      "execution_count": 14,
      "outputs": []
    },
    {
      "cell_type": "markdown",
      "metadata": {
        "id": "94b351ba"
      },
      "source": [
        "## 2. Data Exploration and Preprocessing"
      ],
      "id": "94b351ba"
    },
    {
      "cell_type": "code",
      "metadata": {
        "id": "d5aecb23"
      },
      "source": [
        "import numpy as np\n",
        "import cv2\n",
        "import matplotlib.pyplot as plt\n",
        "# from PIL import Image\n",
        "\n",
        "from keras.preprocessing.image import load_img \n",
        "from keras.applications.vgg16 import preprocess_input \n",
        "\n",
        "from os import listdir, rename\n",
        "from os.path import isfile, join\n",
        "import numpy as np\n",
        "import matplotlib.pyplot as plt\n",
        "from PIL import Image\n",
        "import pandas as pd\n",
        "import random\n",
        "from sklearn.model_selection import train_test_split\n",
        "from collections import Counter\n",
        "from skimage.transform import rotate, AffineTransform, warp\n",
        "from skimage.util import random_noise\n",
        "\n",
        "%load_ext autoreload\n",
        "%autoreload\n",
        "from project.src.dataLoader import dataLoader\n",
        "from project.src.utils import image_utils"
      ],
      "id": "d5aecb23",
      "execution_count": 15,
      "outputs": []
    },
    {
      "cell_type": "code",
      "metadata": {
        "id": "280adc8a"
      },
      "source": [
        "def load_images(labels):\n",
        "    X = []\n",
        "    y = []\n",
        "    for row in labels.itertuples():\n",
        "        img_path = join('./dataset', row.filename)\n",
        "        # print(row.filename)\n",
        "        # print(img_path)\n",
        "        # img = np.asarray(Image.open(img_path))\n",
        "        # img = np.array(img) \n",
        "        img = load_img(img_path, target_size=(50,50))\n",
        "        img = np.asarray(img)\n",
        "        # Keep squares for now\n",
        "        if img.shape[0] == img.shape[1]:\n",
        "            y.append(row.label)\n",
        "            X.append(img)\n",
        "    return X, y"
      ],
      "id": "280adc8a",
      "execution_count": 16,
      "outputs": []
    },
    {
      "cell_type": "code",
      "metadata": {
        "id": "c9d14745"
      },
      "source": [
        "def augment_data_no_dist_balance(X_train, y_train):\n",
        "    final_X_train = []\n",
        "    final_y_train = []\n",
        "    label_distribution = Counter(y_train)\n",
        "    plt.bar(label_distribution.keys(), label_distribution.values())\n",
        "    plt.show()\n",
        "    print(label_distribution)\n",
        "    for i in range(len(X_train)):\n",
        "        final_X_train.append(X_train[i])\n",
        "        final_X_train.append(rotate(X_train[i], angle=45, mode = 'wrap'))\n",
        "        final_X_train.append(np.fliplr(X_train[i]))\n",
        "        final_X_train.append(np.flipud(X_train[i]))\n",
        "        final_X_train.append(random_noise(X_train[i],var=0.05**2))\n",
        "        \n",
        "        final_y_train += [y_train[i]] * 5\n",
        "    label_distribution = Counter(final_y_train)\n",
        "    print(label_distribution)\n",
        "    plt.bar(label_distribution.keys(), label_distribution.values())\n",
        "    plt.show()\n",
        "    return final_X_train, final_y_train\n",
        "\n",
        "def augment_data(X_train, y_train):\n",
        "    final_X_train = []\n",
        "    final_y_train = []\n",
        "    label_distribution = Counter(y_train)\n",
        "    plt.bar(label_distribution.keys(), label_distribution.values())\n",
        "    plt.show()\n",
        "    print(label_distribution)\n",
        "    max_count_label = max(label_distribution, key=label_distribution.get)\n",
        "    min_count_label = min(label_distribution, key=label_distribution.get)\n",
        "    for i in range(len(X_train)):\n",
        "        label_key = y_train[i]\n",
        "        if label_distribution[max_count_label] - label_distribution[label_key] >= 10 or label_distribution[max_count_label] - label_distribution[min_count_label] <= 6:\n",
        "            final_X_train.append(X_train[i])\n",
        "            angle = 90\n",
        "            while angle < 360:\n",
        "                final_X_train.append(rotate(X_train[i], angle=angle, mode = 'wrap'))\n",
        "                angle+=90\n",
        "            \n",
        "            final_X_train.append(random_noise(X_train[i],var=0.05**2))\n",
        "        \n",
        "            final_y_train += [y_train[i]] * 5\n",
        "            label_distribution = Counter(final_y_train)\n",
        "            max_count = max(label_distribution, key=label_distribution.get)\n",
        "            min_count = min(label_distribution, key=label_distribution.get)\n",
        "    print(label_distribution)\n",
        "    plt.bar(label_distribution.keys(), label_distribution.values())\n",
        "    plt.show()\n",
        "    return final_X_train, final_y_train"
      ],
      "id": "c9d14745",
      "execution_count": 17,
      "outputs": []
    },
    {
      "cell_type": "code",
      "metadata": {
        "colab": {
          "base_uri": "https://localhost:8080/",
          "height": 0
        },
        "id": "4680a3ca",
        "outputId": "64f6a7d0-6923-4d67-e7d5-9b02e42ae02b"
      },
      "source": [
        "labels = pd.read_csv('labels.csv')\n",
        "display(labels.head())\n",
        "labels.shape"
      ],
      "id": "4680a3ca",
      "execution_count": 18,
      "outputs": [
        {
          "output_type": "display_data",
          "data": {
            "text/html": [
              "<div>\n",
              "<style scoped>\n",
              "    .dataframe tbody tr th:only-of-type {\n",
              "        vertical-align: middle;\n",
              "    }\n",
              "\n",
              "    .dataframe tbody tr th {\n",
              "        vertical-align: top;\n",
              "    }\n",
              "\n",
              "    .dataframe thead th {\n",
              "        text-align: right;\n",
              "    }\n",
              "</style>\n",
              "<table border=\"1\" class=\"dataframe\">\n",
              "  <thead>\n",
              "    <tr style=\"text-align: right;\">\n",
              "      <th></th>\n",
              "      <th>filename</th>\n",
              "      <th>label</th>\n",
              "    </tr>\n",
              "  </thead>\n",
              "  <tbody>\n",
              "    <tr>\n",
              "      <th>0</th>\n",
              "      <td>1.jpg</td>\n",
              "      <td>1</td>\n",
              "    </tr>\n",
              "    <tr>\n",
              "      <th>1</th>\n",
              "      <td>2.jpg</td>\n",
              "      <td>5</td>\n",
              "    </tr>\n",
              "    <tr>\n",
              "      <th>2</th>\n",
              "      <td>4.jpg</td>\n",
              "      <td>1</td>\n",
              "    </tr>\n",
              "    <tr>\n",
              "      <th>3</th>\n",
              "      <td>5.jpg</td>\n",
              "      <td>2</td>\n",
              "    </tr>\n",
              "    <tr>\n",
              "      <th>4</th>\n",
              "      <td>6.jpg</td>\n",
              "      <td>1</td>\n",
              "    </tr>\n",
              "  </tbody>\n",
              "</table>\n",
              "</div>"
            ],
            "text/plain": [
              "  filename  label\n",
              "0    1.jpg      1\n",
              "1    2.jpg      5\n",
              "2    4.jpg      1\n",
              "3    5.jpg      2\n",
              "4    6.jpg      1"
            ]
          },
          "metadata": {}
        },
        {
          "output_type": "execute_result",
          "data": {
            "text/plain": [
              "(1939, 2)"
            ]
          },
          "metadata": {},
          "execution_count": 18
        }
      ]
    },
    {
      "cell_type": "code",
      "metadata": {
        "colab": {
          "base_uri": "https://localhost:8080/"
        },
        "id": "af0e5e07",
        "outputId": "223e02e5-8c6d-444e-82bb-8b262751fbff"
      },
      "source": [
        "X, y = load_images(labels)\n",
        "np.array(X).shape"
      ],
      "id": "af0e5e07",
      "execution_count": 19,
      "outputs": [
        {
          "output_type": "execute_result",
          "data": {
            "text/plain": [
              "(1939, 50, 50, 3)"
            ]
          },
          "metadata": {},
          "execution_count": 19
        }
      ]
    },
    {
      "cell_type": "code",
      "metadata": {
        "id": "3bd0f53f"
      },
      "source": [
        "# X_train, X_test, y_train_df, y_test_df = train_test_split(X, labels, test_size = 0.5, random_state = 45, stratify=y)\n",
        "# y_train = y_train_df.label.values\n",
        "# y_test = y_test_df.label.values\n",
        "# X_train, y_train = augment_data_no_dist_balance(X_train, y_train)"
      ],
      "id": "3bd0f53f",
      "execution_count": 20,
      "outputs": []
    },
    {
      "cell_type": "code",
      "metadata": {
        "colab": {
          "base_uri": "https://localhost:8080/",
          "height": 0
        },
        "id": "ae3b7c6a",
        "outputId": "5c06ea4c-3bf1-4732-f9fa-0fd7b1c1642b"
      },
      "source": [
        "X_train, X_test, y_train_df, y_test_df = train_test_split(X, labels, test_size = 0.5, random_state = 45, stratify=y)\n",
        "y_train = y_train_df.label.values\n",
        "y_test = y_test_df.label.values\n",
        "X_train, y_train = augment_data(X_train, y_train)\n",
        "np.array(X_train).shape"
      ],
      "id": "ae3b7c6a",
      "execution_count": 21,
      "outputs": [
        {
          "output_type": "display_data",
          "data": {
            "image/png": "[encoded data removed]",
            "text/plain": [
              "<Figure size 432x288 with 1 Axes>"
            ]
          },
          "metadata": {
            "needs_background": "light"
          }
        },
        {
          "output_type": "stream",
          "name": "stdout",
          "text": [
            "Counter({1: 233, 2: 183, 3: 163, 0: 148, 4: 141, 5: 101})\n",
            "Counter({1: 515, 2: 515, 0: 510, 4: 510, 3: 510, 5: 505})\n"
          ]
        },
        {
          "output_type": "display_data",
          "data": {
            "image/png": "[encoded data removed]",
            "text/plain": [
              "<Figure size 432x288 with 1 Axes>"
            ]
          },
          "metadata": {
            "needs_background": "light"
          }
        },
        {
          "output_type": "execute_result",
          "data": {
            "text/plain": [
              "(3065, 50, 50, 3)"
            ]
          },
          "metadata": {},
          "execution_count": 21
        }
      ]
    },
    {
      "cell_type": "markdown",
      "metadata": {
        "id": "-82WWCVHXrv2"
      },
      "source": [
        "#3 MLP Modelling"
      ],
      "id": "-82WWCVHXrv2"
    },
    {
      "cell_type": "code",
      "metadata": {
        "id": "BUzKN5XEXxUe"
      },
      "source": [
        "# networks\n",
        "import torch\n",
        "import torch.nn as nn\n",
        "\n",
        "class RGB2HSV(nn.Module):\n",
        "    def __init__(self):\n",
        "        super(RGB2HSV, self).__init__()\n",
        "\n",
        "    def rgb2hsv(self, input, epsilon=1e-5):\n",
        "        assert(input.shape[1] == 3)\n",
        "        r, g, b = input[:, 0], input[:, 1], input[:, 2]\n",
        "        max_rgb, argmax_rgb = input.max(1)\n",
        "        min_rgb, argmin_rgb = input.min(1)\n",
        "        max_min = max_rgb - min_rgb + epsilon\n",
        "        h1 = 60.0 * (g - r) / max_min + 60.0\n",
        "        h2 = 60.0 * (b - g) / max_min + 180.0\n",
        "        h3 = 60.0 * (r - b) / max_min + 300.0\n",
        "        h = torch.stack((h2, h3, h1), dim=0).gather(dim=0, index=argmin_rgb.unsqueeze(0)).squeeze(0)\n",
        "        s = max_min / (max_rgb + epsilon)\n",
        "        v = max_rgb\n",
        "        return torch.stack((h, s, v), dim=1)\n",
        "\n",
        "    def forward(self,x):\n",
        "        x = self.rgb2hsv(x)\n",
        "        scores = x\n",
        "        return scores\n",
        "# ==========================\n",
        "# ================================================================================\n",
        "class MLP1(nn.Module):\n",
        "\n",
        "    def __init__(self, input_size, output_size):\n",
        "        super(MLP1, self).__init__()\n",
        "\n",
        "        self.layer1 = nn.Linear(in_features=input_size, out_features=output_size, bias=True)\n",
        "\n",
        "    def forward(self,x):\n",
        "        x = self.layer1(x)\n",
        "        scores = x\n",
        "        return scores\n",
        "# ================================================================================\n",
        "class MLP3(nn.Module):\n",
        "\n",
        "    def __init__(self, input_size, hidden_size_1, hidden_size_2, output_size):\n",
        "        super(MLP3, self).__init__()\n",
        "\n",
        "        self.layer1 = nn.Linear(in_features=input_size,    out_features=hidden_size_1, bias=True)\n",
        "        self.layer2 = nn.Linear(in_features=hidden_size_1, out_features=hidden_size_2, bias=True)\n",
        "        self.layer3 = nn.Linear(in_features=hidden_size_2, out_features=output_size,   bias=True)\n",
        "\n",
        "    def forward(self, x):\n",
        "        x = x.view(-1,self.layer1.in_features)\n",
        "        x = self.layer1(x)\n",
        "        x = torch.relu(x)\n",
        "        x = self.layer2(x)\n",
        "        x = torch.relu(x)\n",
        "        x = self.layer3(x)\n",
        "        scores = x\n",
        "        return scores\n",
        "# ================================================================================\n",
        "class CNN(nn.Module):\n",
        "\n",
        "    def __init__(self, channel_size):\n",
        "        super(CNN, self).__init__()\n",
        "\n",
        "        # Conv2d parameters\n",
        "        in_channels       = 3\n",
        "        conv_kernel_size  = 3\n",
        "        conv_stride       = 1\n",
        "        conv_padding      = 1\n",
        "        bias              = True\n",
        "\n",
        "        # MaxPool2d parameters\n",
        "        pool_kernel_size  = 2\n",
        "        pool_stride       = 2\n",
        "        pool_padding      = 0\n",
        "        \n",
        "        # block 1\n",
        "        self.layer1a = nn.Conv2d(in_channels=in_channels,    out_channels=channel_size*1, kernel_size=conv_kernel_size, stride=conv_stride, padding=conv_padding, bias=bias)\n",
        "        self.layer1b = nn.Conv2d(in_channels=channel_size*1, out_channels=channel_size*1, kernel_size=conv_kernel_size, stride=conv_stride, padding=conv_padding, bias=bias)\n",
        "        self.pool1   = nn.MaxPool2d(kernel_size=pool_kernel_size, stride=pool_stride, padding=pool_padding)\n",
        "\n",
        "        # block 2\n",
        "        self.layer2a = nn.Conv2d(in_channels=channel_size*1, out_channels=channel_size*2, kernel_size=conv_kernel_size, stride=conv_stride, padding=conv_padding, bias=bias)\n",
        "        self.layer2b = nn.Conv2d(in_channels=channel_size*2, out_channels=channel_size*2, kernel_size=conv_kernel_size, stride=conv_stride, padding=conv_padding, bias=bias)\n",
        "        self.pool2   = nn.MaxPool2d(kernel_size=pool_kernel_size, stride=pool_stride, padding=pool_padding)\n",
        "\n",
        "        # block 3\n",
        "        self.layer3a = nn.Conv2d(in_channels=channel_size*2, out_channels=channel_size*4, kernel_size=conv_kernel_size, stride=conv_stride, padding=conv_padding, bias=bias)\n",
        "        self.layer3b = nn.Conv2d(in_channels=channel_size*4, out_channels=channel_size*4, kernel_size=conv_kernel_size, stride=conv_stride, padding=conv_padding, bias=bias)\n",
        "        self.pool3   = nn.MaxPool2d(kernel_size=pool_kernel_size, stride=pool_stride, padding=pool_padding)\n",
        "\n",
        "        # block 4\n",
        "        self.layer4a = nn.Conv2d(in_channels=channel_size*4, out_channels=channel_size*8, kernel_size=conv_kernel_size, stride=conv_stride, padding=conv_padding, bias=bias)\n",
        "        self.pool4   = nn.MaxPool2d(kernel_size=pool_kernel_size, stride=pool_stride, padding=pool_padding)\n",
        "\n",
        "    def forward(self, x):\n",
        "        # block 1\n",
        "        x = self.layer1a(x)\n",
        "        x = torch.relu(x)\n",
        "        x = self.layer1b(x)\n",
        "        x = torch.relu(x)\n",
        "        x = self.pool1(x)\n",
        "\n",
        "        # block 2\n",
        "        x = self.layer2a(x)\n",
        "        x = torch.relu(x)\n",
        "        x = self.layer2b(x)\n",
        "        x = torch.relu(x)\n",
        "        x = self.pool2(x)\n",
        "\n",
        "        # block 3\n",
        "        x = self.layer3a(x)\n",
        "        x = torch.relu(x)\n",
        "        x = self.layer3b(x)\n",
        "        x = torch.relu(x)\n",
        "        x = self.pool3(x)\n",
        "\n",
        "        # block 4\n",
        "        x = self.layer4a(x)\n",
        "        x = torch.relu(x)\n",
        "        x = self.pool4(x)\n",
        "\n",
        "        scores = x\n",
        "        return scores\n",
        "# ================================================================================\n",
        "# class RNN(nn.Module):\n",
        "\n",
        "#     def __init__(self, vocab_size, hidden_size):\n",
        "#         super(RNN, self).__init__()\n",
        "\n",
        "#         # layers\n",
        "#         self.layer1 = nn.Embedding(num_embeddings=vocab_size, embedding_dim=hidden_size)\n",
        "#         self.layer2 = nn.LSTM(hidden_size, hidden_size)\n",
        "        \n",
        "#     def forward(self, word_seq, h_init, c_init):\n",
        "#         g_seq                    = self.layer1(word_seq)\n",
        "#         h_seq, (h_final,c_final) = self.layer2(g_seq, (h_init, c_init))\n",
        "#         return h_seq, h_final, c_final\n",
        "# ================================================================================\n",
        "class Combined_CNN_MLP3(nn.Module):\n",
        "\n",
        "    def __init__(self, color_space, cnn, mlp3, COLOR_TRANS = True):\n",
        "        super(Combined_CNN_MLP3, self).__init__()\n",
        "        self.color_space = color_space\n",
        "        self.cnn  = cnn\n",
        "        self.mlp3 = mlp3\n",
        "        self.color_trans = COLOR_TRANS\n",
        "\n",
        "    def forward(self, x):\n",
        "        if self.color_trans: x = self.color_space(x)\n",
        "        x = self.cnn(x)\n",
        "        x = self.mlp3(x)\n",
        "        scores = x\n",
        "        return scores\n",
        "# ================================================================================\n",
        "# class Combined_RNN_MLP1(nn.Module):\n",
        "\n",
        "#     def __init__(self, rnn, mlp1):\n",
        "#         super(Combined_RNN_MLP1, self).__init__()\n",
        "\n",
        "#         self.rnn  = rnn\n",
        "#         self.mlp1 = mlp1\n",
        "\n",
        "#     def forward(self, word_seq, h_init, c_init):\n",
        "#         h_seq, h_final, c_final = self.rnn(word_seq, h_init, c_init)\n",
        "#         score_seq = self.mlp1(h_seq)\n",
        "#         return score_seq, h_final, c_final\n",
        "# ================================================================================"
      ],
      "id": "BUzKN5XEXxUe",
      "execution_count": 22,
      "outputs": []
    },
    {
      "cell_type": "code",
      "metadata": {
        "id": "a55f6e6d"
      },
      "source": [
        "def get_accuracy(scores, labels):\n",
        "    num_data = scores.size(0)\n",
        "    predicted_labels = scores.argmax(dim=1)\n",
        "    indicator = (predicted_labels == labels)\n",
        "    num_matches = indicator.sum()\n",
        "    return 100*num_matches.float()/num_data  \n",
        "\n",
        "def get_error( scores , labels ):\n",
        "\n",
        "    bs=scores.size(0)\n",
        "    predicted_labels = scores.argmax(dim=1)\n",
        "    indicator = (predicted_labels == labels)\n",
        "    num_matches=indicator.sum()\n",
        "    \n",
        "    return 1-num_matches.float()/bs   \n",
        "\n",
        "def eval_on_test_set(test_data, test_label, net, mean, std, bs, device):\n",
        "\n",
        "    running_error=0\n",
        "    running_acc = 0\n",
        "    num_batches=0\n",
        "\n",
        "    for i in range(0,100,bs):\n",
        "\n",
        "        minibatch_data =  test_data[i:i+bs].to(device)\n",
        "        minibatch_label = test_label[i:i+bs].to(device)\n",
        "        \n",
        "        inputs = (minibatch_data - mean)/std\n",
        "\n",
        "        scores= net( inputs ) \n",
        "\n",
        "        error = get_error( scores.detach() , minibatch_label)\n",
        "        acc = get_accuracy( scores.detach() , minibatch_label)\n",
        "\n",
        "        running_error += error.item()\n",
        "        running_acc += acc.item()\n",
        "\n",
        "        num_batches+=1\n",
        "\n",
        "    total_error = running_error/num_batches\n",
        "    total_acc = running_acc/num_batches\n",
        "    # print(running_error, num_batches)\n",
        "    print( 'error rate on test set =', total_error*100 ,'percent')\n",
        "    print('accuracy =', total_acc)\n",
        "    return total_error, total_acc"
      ],
      "id": "a55f6e6d",
      "execution_count": 23,
      "outputs": []
    },
    {
      "cell_type": "code",
      "metadata": {
        "id": "_iZpZ_175FJl"
      },
      "source": [
        "# # utilities\n",
        "# import math\n",
        "\n",
        "# def display_num_param(net):\n",
        "#     nb_param = 0\n",
        "#     for param in net.parameters():\n",
        "#         nb_param += param.numel()\n",
        "#     print('There are {} ({:.2f} million) parameters in this neural network'.format(nb_param, nb_param/1e6))\n",
        "\n",
        "\n",
        "\n",
        "# def get_error( scores , labels ):\n",
        "#     bs=scores.size(0)\n",
        "#     predicted_labels = scores.argmax(dim=1)\n",
        "#     indicator = (predicted_labels == labels)\n",
        "#     num_matches=indicator.sum()\n",
        "#     return 1-num_matches.float()/bs   \n",
        "\n",
        "# def get_accuracy(scores, labels):\n",
        "#     num_data = scores.size(0)\n",
        "#     predicted_labels = scores.argmax(dim=1)\n",
        "#     indicator = (predicted_labels == labels)\n",
        "#     num_matches = indicator.sum()\n",
        "#     return 100*num_matches.float()/num_data\n",
        "\n",
        "# def normalize_gradient(net):\n",
        "#     grad_norm_sq=0\n",
        "#     for p in net.parameters():\n",
        "#         grad_norm_sq += p.grad.data.norm()**2\n",
        "#     grad_norm=math.sqrt(grad_norm_sq)\n",
        "#     if grad_norm<1e-4:\n",
        "#         net.zero_grad()\n",
        "#         print('grad norm close to zero')\n",
        "#     else:    \n",
        "#         for p in net.parameters():\n",
        "#              p.grad.data.div_(grad_norm)\n",
        "#     return grad_norm"
      ],
      "id": "_iZpZ_175FJl",
      "execution_count": 24,
      "outputs": []
    },
    {
      "cell_type": "code",
      "metadata": {
        "id": "2cBGaMAU5Ou2"
      },
      "source": [
        "import torch\n",
        "import torch.nn as nn\n",
        "import torch.optim as optim\n",
        "import time\n",
        "\n",
        "# from utils.utilities import display_num_param\n",
        "# from utils.utilities import get_accuracy\n",
        "# from utils.utilities import normalize_gradient\n",
        "# from mods.networks import MLP1\n",
        "# from mods.networks import MLP3\n",
        "# from mods.networks import CNN\n",
        "# from mods.networks import RNN\n",
        "# from mods.networks import Combined_CNN_MLP3\n",
        "# from mods.networks import Combined_RNN_MLP1\n",
        "\n",
        "# ================================================================================\n",
        "# mimic labs_lecture08: Lab04: VGG architecture\n",
        "def create_net1(num_class=6):\n",
        "    # parameters\n",
        "    channel_size  = 64\n",
        "    input_size    = 4608\n",
        "    hidden_size_1 = 4608*2\n",
        "    hidden_size_2 = 2048\n",
        "    output_size   = num_class\n",
        "\n",
        "    # modules\n",
        "    rgb_to_hsv = RGB2HSV()\n",
        "    cnn  = CNN(channel_size=channel_size) # 4608\n",
        "    mlp3 = MLP3(input_size=input_size, hidden_size_1=hidden_size_1, hidden_size_2=hidden_size_2, output_size=output_size)\n",
        "    net1 = Combined_CNN_MLP3(color_space = rgb_to_hsv, cnn=cnn, mlp3=mlp3)\n",
        "    return net1\n",
        "\n",
        "# # mimic labs_lecture10: Lab02: LSTM architecture\n",
        "# def create_net2():\n",
        "#     # parameters\n",
        "#     vocab_size  = 10000\n",
        "#     hidden_size = 300\n",
        "#     input_size  = hidden_size\n",
        "#     output_size = vocab_size\n",
        "\n",
        "#     # modules\n",
        "#     rnn  = RNN(vocab_size=vocab_size, hidden_size=hidden_size)\n",
        "#     mlp1 = MLP1(input_size=input_size, output_size=output_size)\n",
        "#     net2 = Combined_RNN_MLP1(rnn=rnn, mlp1=mlp1)\n",
        "\n",
        "#     # initialize weights\n",
        "#     net2.rnn.layer1.weight.data.uniform_( -0.1, 0.1)\n",
        "#     net2.mlp1.layer1.weight.data.uniform_(-0.1, 0.1)\n",
        "#     return net2\n",
        "# ================================================================================\n",
        "def train_net1(net1, X_train, y_train, X_test, y_test, device, optimizer_func = torch.optim.SGD):\n",
        "    log = {\n",
        "        \"train_loss\": [],\n",
        "        \"train_error\": [],\n",
        "        \"train_accuracy\": [],\n",
        "        \"test_error\": [],\n",
        "        \"test_accuracy\": [],\n",
        "    }\n",
        "    # parameters\n",
        "    epoch_count      = 100\n",
        "    # batch_size       = 128      # 25%\n",
        "    # learning_rate    = 0.000004 # 25%\n",
        "    batch_size       = 128\n",
        "    learning_rate    = 3e-6\n",
        "\n",
        "    X_train = X_train.view(-1, 3, 50, 50)\n",
        "    X_test = X_test.view(-1, 3, 50, 50)\n",
        "    train_data_count = X_train.shape[0]\n",
        "    mean = X_train.mean().to(device)\n",
        "    std = X_train.std().to(device)\n",
        "\n",
        "    # objects\n",
        "    criterion = nn.CrossEntropyLoss()\n",
        "\n",
        "    # training loop\n",
        "    start = time.time()\n",
        "    for epoch in range(epoch_count):\n",
        "\n",
        "        # statistics\n",
        "        running_loss=0\n",
        "        running_error=0\n",
        "        running_accuracy = 0\n",
        "        num_batches=0\n",
        "\n",
        "        # objects - new optimizer each epoch\n",
        "\n",
        "        optimizer = optimizer_func(net1.parameters(), lr=learning_rate)\n",
        "\n",
        "        # sample inputs randomly\n",
        "        shuffled_indices = torch.randperm(train_data_count)\n",
        "\n",
        "        # minibatch loop\n",
        "        for count in range(0, train_data_count, batch_size):\n",
        "\n",
        "            # reset gradients\n",
        "            optimizer.zero_grad()\n",
        "\n",
        "            # create minibatch\n",
        "            indices = shuffled_indices[count:count+batch_size].to(device)\n",
        "            minibatch_data =  X_train[indices].to(device)\n",
        "            minibatch_label =  y_train[indices].to(device)\n",
        "            \n",
        "            # forward pass\n",
        "            inputs = (minibatch_data - mean) / std\n",
        "            inputs.requires_grad_()\n",
        "            scores = net1(inputs)\n",
        "            loss   = criterion(scores, minibatch_label)\n",
        "\n",
        "            # backward pass\n",
        "            loss.backward()\n",
        "            optimizer.step()\n",
        "\n",
        "            # statistics (with detach to prevent accumulation)\n",
        "            running_loss += loss.detach().item()\n",
        "            error = get_error( scores.detach() , minibatch_label)\n",
        "            acc = get_accuracy(scores.detach() , minibatch_label)\n",
        "            running_error += error.item()\n",
        "            running_accuracy += acc.item()\n",
        "            num_batches +=1\n",
        "\n",
        "\n",
        "        # compute stats for the full training set\n",
        "        total_loss = running_loss/num_batches\n",
        "        total_error = running_error/num_batches\n",
        "        total_acc = running_accuracy/num_batches\n",
        "        log[\"train_loss\"].append(total_loss)\n",
        "        log[\"train_error\"].append(total_error)\n",
        "        log[\"train_accuracy\"].append(total_acc)\n",
        "    \n",
        "        print('epoch=',epoch, '\\t loss=', total_loss , '\\t error=', total_error*100 ,'percent')\n",
        "        print('accuracy =', total_acc)\n",
        "        print(' ')\n",
        "\n",
        "        test_error,test_acc = eval_on_test_set(X_test, y_test, net1, mean, std, batch_size,device=device)\n",
        "\n",
        "        log[\"test_error\"].append(test_error)\n",
        "        log[\"test_accuracy\"].append(test_acc)\n",
        "        print(\"=\"*50)\n",
        "\n",
        "        if (epoch > 50 and ((abs(total_acc-test_acc)<5) or test_acc>36)) or (epoch > 50 and abs(total_acc-test_acc)>10): break\n",
        "        # if (epoch > 20 and abs(total_acc-test_acc)>20): break\n",
        "    return log\n",
        "\n",
        "        \n",
        "# def train_net2(net2, train_data):\n",
        "#     # parameters\n",
        "#     epoch_count      = 100\n",
        "#     batch_size       = 20\n",
        "#     learning_rate    = 5\n",
        "#     train_data_count = train_data.shape[0]\n",
        "#     seq_length       = 35\n",
        "\n",
        "#     # objects\n",
        "#     criterion = nn.CrossEntropyLoss()\n",
        "\n",
        "#     # training loop\n",
        "#     start = time.time()\n",
        "#     for epoch in range(epoch_count):\n",
        "\n",
        "#         # statistics\n",
        "#         running_loss     = 0\n",
        "#         running_accuracy = 0\n",
        "#         num_batches      = 0\n",
        "\n",
        "#         # objects - new optimizer each epoch\n",
        "#         optimizer = torch.optim.SGD(net2.parameters(), lr=learning_rate)\n",
        "\n",
        "#         # initialize weights\n",
        "#         h = torch.zeros(1, batch_size, net2.rnn.layer1.embedding_dim,dtype=torch.float)\n",
        "#         c = torch.zeros(1, batch_size, net2.rnn.layer1.embedding_dim,dtype=torch.float)\n",
        "\n",
        "#         # minibatch loop\n",
        "#         for count in range(0, train_data_count-seq_length, seq_length):\n",
        "\n",
        "#             # reset gradients\n",
        "#             optimizer.zero_grad()\n",
        "\n",
        "#             # create minibatch\n",
        "#             minibatch_data  = train_data[count  :count+seq_length]\n",
        "#             minibatch_label = train_data[count+1:count+seq_length+1]\n",
        "\n",
        "#             # detach to prevent backpropagating all the way to the beginning, then start tracking gradients on h and c\n",
        "#             h = h.detach()\n",
        "#             c = c.detach()\n",
        "#             h = h.requires_grad_()\n",
        "#             c = c.requires_grad_()\n",
        "\n",
        "#             # forward pass\n",
        "#             inputs = minibatch_data.to(torch.int64)\n",
        "#             scores, h, c = net2(inputs, h, c)\n",
        "#             scores          = scores.view(         batch_size*seq_length, net2.rnn.layer1.num_embeddings)\n",
        "#             minibatch_label = minibatch_label.view(batch_size*seq_length).to(torch.int64)\n",
        "#             loss   = criterion(scores, minibatch_label)\n",
        "\n",
        "#             # backward pass\n",
        "#             loss.backward()\n",
        "#             normalize_gradient(net2)\n",
        "#             optimizer.step()\n",
        "\n",
        "#             # statistics (with detach to prevent accumulation)\n",
        "#             running_loss += loss.detach().item()\n",
        "#             accuracy = get_accuracy(scores.detach(), minibatch_label)\n",
        "#             running_accuracy += accuracy.item()\n",
        "#             num_batches +=1\n",
        "#             print(\"completed={}, running_loss={}, accuracy={}, running_accuracy={}\".format(count/train_data_count, running_loss, accuracy, running_accuracy))\n",
        "#             if count%(batch_size*2) == 0:\n",
        "#                 break\n",
        "\n",
        "#         # statistics\n",
        "#         total_loss     = running_loss/num_batches\n",
        "#         total_accuracy = running_accuracy/num_batches\n",
        "#         elapsed        = (time.time()-start)/60\n",
        "#         print(\"Epoch={}, Train loss={}, Train accuracy={}\".format(epoch+1, total_loss, total_accuracy))\n",
        "#         if epoch%2 == 0:\n",
        "#             break\n",
        "\n",
        "\n",
        "# ================================================================================\n",
        "def case1(X_train, y_train, X_test, y_test, device=torch.device('cuda' if torch.cuda.is_available() else 'cpu')):\n",
        "    net = create_net1(num_class=6).to(device)\n",
        "    X_train = torch.from_numpy(np.array(X_train).astype(np.float32))\n",
        "    y_train = torch.from_numpy(np.array(y_train).astype(np.float32)).type(torch.LongTensor)\n",
        "    X_test = torch.from_numpy(np.array(X_test).astype(np.float32))\n",
        "    y_test = torch.from_numpy(np.array(y_test).astype(np.float32)).type(torch.LongTensor)\n",
        "    log = train_net1(net, X_train, y_train, X_test, y_test,  device = device, optimizer_func = torch.optim.SGD)\n",
        "    return net,log\n",
        "\n",
        "# ================================================================================\n",
        "def case2(X_train, y_train, X_test, y_test, device=torch.device('cuda' if torch.cuda.is_available() else 'cpu')):\n",
        "    net = create_net1(num_class=6).to(device)\n",
        "    X_train = torch.from_numpy(np.array(X_train).astype(np.float32))\n",
        "    y_train = torch.from_numpy(np.array(y_train).astype(np.float32)).type(torch.LongTensor)\n",
        "    X_test = torch.from_numpy(np.array(X_test).astype(np.float32))\n",
        "    y_test = torch.from_numpy(np.array(y_test).astype(np.float32)).type(torch.LongTensor)\n",
        "    log = train_net1(net, X_train, y_train, X_test, y_test,  device = device,  optimizer_func = torch.optim.Adam)\n",
        "    return net,log"
      ],
      "id": "2cBGaMAU5Ou2",
      "execution_count": 25,
      "outputs": []
    },
    {
      "cell_type": "markdown",
      "metadata": {
        "id": "0035a9f5"
      },
      "source": [
        "# Training "
      ],
      "id": "0035a9f5"
    },
    {
      "cell_type": "code",
      "metadata": {
        "id": "1ba2fb02"
      },
      "source": [
        "# case1_net = case1(X_train, y_train, X_test, y_test)"
      ],
      "id": "1ba2fb02",
      "execution_count": 26,
      "outputs": []
    },
    {
      "cell_type": "code",
      "metadata": {
        "colab": {
          "base_uri": "https://localhost:8080/"
        },
        "id": "b516f159",
        "outputId": "df2817c5-84f3-4bd0-c19e-31e32a98c0c8"
      },
      "source": [
        "case2_net, log = case2(X_train, y_train, X_test, y_test)\n"
      ],
      "id": "b516f159",
      "execution_count": null,
      "outputs": [
        {
          "output_type": "stream",
          "name": "stdout",
          "text": [
            "epoch= 0 \t loss= 1.7898184955120087 \t error= 81.4270188411077 percent\n",
            "accuracy = 18.572981198628742\n",
            " \n",
            "error rate on test set = 71.875 percent\n",
            "accuracy = 28.125\n",
            "==================================================\n",
            "epoch= 1 \t loss= 1.7797722667455673 \t error= 76.67818094293276 percent\n",
            "accuracy = 23.321818987528484\n",
            " \n",
            "error rate on test set = 62.5 percent\n",
            "accuracy = 37.5\n",
            "==================================================\n",
            "epoch= 2 \t loss= 1.7672010709842045 \t error= 74.49907461802164 percent\n",
            "accuracy = 25.50092538197835\n",
            " \n",
            "error rate on test set = 74.21875 percent\n",
            "accuracy = 25.78125\n",
            "==================================================\n",
            "epoch= 3 \t loss= 1.7484787007172902 \t error= 73.56313491861025 percent\n",
            "accuracy = 26.436865011850994\n",
            " \n",
            "error rate on test set = 64.0625 percent\n",
            "accuracy = 35.9375\n",
            "==================================================\n",
            "epoch= 4 \t loss= 1.7226434995730717 \t error= 70.94955245653787 percent\n",
            "accuracy = 29.05044762293498\n",
            " \n",
            "error rate on test set = 75.0 percent\n",
            "accuracy = 25.0\n",
            "==================================================\n",
            "epoch= 5 \t loss= 1.6983697414398193 \t error= 70.17771825194359 percent\n",
            "accuracy = 29.82228167851766\n",
            " \n",
            "error rate on test set = 72.65625 percent\n",
            "accuracy = 27.34375\n",
            "==================================================\n",
            "epoch= 6 \t loss= 1.679475337266922 \t error= 70.72922041018805 percent\n",
            "accuracy = 29.270779450734455\n",
            " \n",
            "error rate on test set = 65.625 percent\n",
            "accuracy = 34.375\n",
            "==================================================\n",
            "epoch= 7 \t loss= 1.6662990699211757 \t error= 69.92860063910484 percent\n",
            "accuracy = 30.071399291356403\n",
            " \n",
            "error rate on test set = 70.3125 percent\n",
            "accuracy = 29.6875\n",
            "==================================================\n",
            "epoch= 8 \t loss= 1.6563088397185008 \t error= 68.36045111219087 percent\n",
            "accuracy = 31.639548858006794\n",
            " \n",
            "error rate on test set = 76.5625 percent\n",
            "accuracy = 23.4375\n",
            "==================================================\n",
            "epoch= 9 \t loss= 1.6520450164874394 \t error= 68.92325232426325 percent\n",
            "accuracy = 31.07674757639567\n",
            " \n",
            "error rate on test set = 66.40625 percent\n",
            "accuracy = 33.59375\n",
            "==================================================\n",
            "epoch= 10 \t loss= 1.6429111957550049 \t error= 68.71287450194359 percent\n",
            "accuracy = 31.28712542851766\n",
            " \n",
            "error rate on test set = 67.96875 percent\n",
            "accuracy = 32.03125\n",
            "==================================================\n",
            "epoch= 11 \t loss= 1.6434059391419094 \t error= 68.71287450194359 percent\n",
            "accuracy = 31.28712542851766\n",
            " \n",
            "error rate on test set = 67.96875 percent\n",
            "accuracy = 32.03125\n",
            "==================================================\n",
            "epoch= 12 \t loss= 1.6379723995923996 \t error= 68.58643243710199 percent\n",
            "accuracy = 31.413567463556927\n",
            " \n",
            "error rate on test set = 75.0 percent\n",
            "accuracy = 25.0\n",
            "==================================================\n",
            "epoch= 13 \t loss= 1.6325919429461162 \t error= 67.8646370768547 percent\n",
            "accuracy = 32.13536278406779\n",
            " \n",
            "error rate on test set = 63.28125 percent\n",
            "accuracy = 36.71875\n",
            "==================================================\n",
            "epoch= 14 \t loss= 1.6275735199451447 \t error= 68.22270999352136 percent\n",
            "accuracy = 31.777289867401123\n",
            " \n",
            "error rate on test set = 60.15625 percent\n",
            "accuracy = 39.84375\n",
            "==================================================\n",
            "epoch= 15 \t loss= 1.6229544033606846 \t error= 67.98354635636011 percent\n",
            "accuracy = 32.01645358403524\n",
            " \n",
            "error rate on test set = 67.96875 percent\n",
            "accuracy = 32.03125\n",
            "==================================================\n",
            "epoch= 16 \t loss= 1.62130040427049 \t error= 67.67497410376868 percent\n",
            "accuracy = 32.32502579689026\n",
            " \n",
            "error rate on test set = 64.0625 percent\n",
            "accuracy = 35.9375\n",
            "==================================================\n",
            "epoch= 17 \t loss= 1.6177208373943965 \t error= 66.70648256937662 percent\n",
            "accuracy = 33.293517430623375\n",
            " \n",
            "error rate on test set = 66.40625 percent\n",
            "accuracy = 33.59375\n",
            "==================================================\n",
            "epoch= 18 \t loss= 1.613904004295667 \t error= 66.92627618710199 percent\n",
            "accuracy = 33.07372371355692\n",
            " \n",
            "error rate on test set = 64.0625 percent\n",
            "accuracy = 35.9375\n",
            "==================================================\n",
            "epoch= 19 \t loss= 1.6118115782737732 \t error= 67.01075037320456 percent\n",
            "accuracy = 32.98924970626831\n",
            " \n",
            "error rate on test set = 63.28125 percent\n",
            "accuracy = 36.71875\n",
            "==================================================\n",
            "epoch= 20 \t loss= 1.6061211576064427 \t error= 66.1374936501185 percent\n",
            "accuracy = 33.86250638961792\n",
            " \n",
            "error rate on test set = 60.9375 percent\n",
            "accuracy = 39.0625\n",
            "==================================================\n",
            "epoch= 21 \t loss= 1.6054586321115494 \t error= 67.11593916018805 percent\n",
            "accuracy = 32.88406070073446\n",
            " \n",
            "error rate on test set = 65.625 percent\n",
            "accuracy = 34.375\n",
            "==================================================\n",
            "epoch= 22 \t loss= 1.604840025305748 \t error= 66.71024883786836 percent\n",
            "accuracy = 33.28975121180216\n",
            " \n",
            "error rate on test set = 63.28125 percent\n",
            "accuracy = 36.71875\n",
            "==================================================\n",
            "epoch= 23 \t loss= 1.6000449111064274 \t error= 65.39821152885756 percent\n",
            "accuracy = 34.601788441340126\n",
            " \n",
            "error rate on test set = 60.15625 percent\n",
            "accuracy = 39.84375\n",
            "==================================================\n",
            "epoch= 24 \t loss= 1.597639873623848 \t error= 66.1931817730268 percent\n",
            "accuracy = 33.80681816736857\n",
            " \n",
            "error rate on test set = 64.0625 percent\n",
            "accuracy = 35.9375\n",
            "==================================================\n",
            "epoch= 25 \t loss= 1.5905515203873317 \t error= 65.37184715270996 percent\n",
            "accuracy = 34.62815284729004\n",
            " \n",
            "error rate on test set = 68.75 percent\n",
            "accuracy = 31.25\n",
            "==================================================\n",
            "epoch= 26 \t loss= 1.5894059787193935 \t error= 66.51305307944617 percent\n",
            "accuracy = 33.48694674173991\n",
            " \n",
            "error rate on test set = 62.5 percent\n",
            "accuracy = 37.5\n",
            "==================================================\n"
          ]
        }
      ]
    },
    {
      "cell_type": "code",
      "metadata": {
        "id": "d2132f74"
      },
      "source": [
        "# model = case2_net\n",
        "# torch.save(model.state_dict(), \"./models/case2_net\")"
      ],
      "id": "d2132f74",
      "execution_count": null,
      "outputs": []
    },
    {
      "cell_type": "markdown",
      "metadata": {
        "id": "908506ee"
      },
      "source": [
        "# Plotting & Analysis"
      ],
      "id": "908506ee"
    },
    {
      "cell_type": "code",
      "metadata": {
        "id": "aa2d9aae"
      },
      "source": [
        "# model = create_net1(num_class=6)\n",
        "# model.load_state_dict(torch.load(\"./models/case2_net\"))\n",
        "# model.eval()"
      ],
      "id": "aa2d9aae",
      "execution_count": null,
      "outputs": []
    },
    {
      "cell_type": "code",
      "metadata": {
        "id": "a16ac7f5"
      },
      "source": [
        "index_df = y_test_df.copy()\n",
        "index_df[\"file_idx\"] = index_df.filename.str.split('.').str[0].astype(int)\n",
        "index_df = index_df.reset_index()\n",
        "index_df\n"
      ],
      "id": "a16ac7f5",
      "execution_count": null,
      "outputs": []
    },
    {
      "cell_type": "code",
      "metadata": {
        "id": "6cbd67cb"
      },
      "source": [
        "# def modify_label(df, image_idx, label):\n",
        "#     file_name = str(image_idx)+\".jpg\"\n",
        "#     display(df.loc[df[\"filename\"]==file_name])\n",
        "#     df.loc[df[\"filename\"]==file_name, \"label\"] = label\n",
        "#     display(df.loc[df[\"filename\"]==file_name])\n",
        "\n",
        "\n",
        "# \"\"\" Dont run this unless you comfirm to modify label\n",
        "# \"\"\"\n",
        "# modify = True\n",
        "# if modify:\n",
        "#     modify_label(labels, idx, 1)"
      ],
      "id": "6cbd67cb",
      "execution_count": null,
      "outputs": []
    },
    {
      "cell_type": "code",
      "metadata": {
        "id": "5a3c7533"
      },
      "source": [
        "from random import randint\n",
        "# choose a picture at random\n",
        "\n",
        "for times in range(2):\n",
        "    idx=randint(0, len(X_test))\n",
        "    # f_idx = np.random.choice(np.sort(index_df.file_idx)[-50:])\n",
        "    # idx = index_df[index_df.file_idx==f_idx].index[0]\n",
        "\n",
        "    # idx=randint(0, len(X))\n",
        "\n",
        "    # idx = np.where(y_test_df.index.values == idx)\n",
        "    label = ('Not Skin', 'Normal', 'Pustule', 'Whitehead', 'Blackhead', 'Cyst',)\n",
        "    print(idx)\n",
        "    im=X_test[idx].astype(np.uint8)\n",
        "\n",
        "    # data_sourcing = \"test\" if np.isin(idx,y_test_df.index) else \"train\"\n",
        "\n",
        "    # X_train, X_test, y_train, y_test\n",
        "    # diplay the picture\n",
        "    image_label = f\"label index: {y_test[idx]}; label is {label[y_test[idx]]}; image name is {y_test_df.reset_index().iloc[idx,1]}\"\n",
        "    image_utils().plot_image(im,title=image_label, figsize=(5,5))\n",
        "\n",
        "    device = torch.device('cuda' if torch.cuda.is_available() else 'cpu')\n",
        "    im=X_test[idx].astype(np.uint8)\n",
        "    im = torch.from_numpy(np.array(im).astype(np.float32)).to(device)\n",
        "    X_train_ = torch.from_numpy(np.array(X_train).astype(np.float32))\n",
        "    X_train_ = X_train_.view(-1, 3, 50, 50)\n",
        "    mean= X_train_.mean()\n",
        "    std= X_train_.std()\n",
        "    # # send to device, rescale, and view as a batch of 1 \n",
        "    # im = im.to(device)\n",
        "    im= (im-mean) / std\n",
        "\n",
        "    im=im.view(1,3,50,50)\n",
        "\n",
        "    # # feed it to the net and display the confidence scores\n",
        "\n",
        "    scores =  case2_net(im) \n",
        "    probs= torch.softmax(scores, dim=1)\n",
        "    image_utils().show_prob_pimples(probs.cpu())"
      ],
      "id": "5a3c7533",
      "execution_count": null,
      "outputs": []
    },
    {
      "cell_type": "code",
      "metadata": {
        "id": "8b48c63c"
      },
      "source": [
        "# from random import randint\n",
        "# # choose a picture at random\n",
        "# # idx=randint(0, len(X_test))\n",
        "# # f_idx = np.random.choice(np.sort(index_df.file_idx)[-50:])\n",
        "# # idx = index_df[index_df.file_idx==f_idx].index[0]\n",
        "\n",
        "# idx=randint(0, len(X))\n",
        "\n",
        "# # idx = np.where(y_test_df.index.values == idx)\n",
        "# label = ('Not Skin', 'Normal', 'Pustule', 'Whitehead', 'Blackhead', 'Cyst',)\n",
        "# print(idx)\n",
        "# # im=X_test[idx].astype(np.uint8)\n",
        "# im=X[idx]\n",
        "\n",
        "# data_sourcing = \"test\" if np.isin(idx,y_test_df.index) else \"train\"\n",
        "\n",
        "# # X_train, X_test, y_train, y_test\n",
        "# # diplay the picture\n",
        "# # image_label = f\"label index: {y_test[idx]}; label is {label[y_test[idx]]}; image name is {y_test_df.reset_index().iloc[idx,1]}\"\n",
        "# image_label = f\"image_idx={labels.iloc[idx].filename}; label index: {y[idx]}; label is {label[y[idx]]}; from {data_sourcing}\"\n",
        "# image_utils().plot_image(im,title=image_label, figsize=(5,5))\n",
        "\n",
        "# device = torch.device('cuda' if torch.cuda.is_available() else 'cpu')\n",
        "# im=X[idx]\n",
        "# im = torch.from_numpy(np.array(im).astype(np.float32)).to(device)\n",
        "# X_train_ = torch.from_numpy(np.array(X_train).astype(np.float32))\n",
        "# X_train_ = X_train_.view(-1, 3, 50, 50)\n",
        "# mean= X_train_.mean()\n",
        "# std= X_train_.std()\n",
        "# # # send to device, rescale, and view as a batch of 1 \n",
        "# # im = im.to(device)\n",
        "# im= (im-mean) / std\n",
        "\n",
        "# im=im.view(1,3,50,50)\n",
        "\n",
        "# # # feed it to the net and display the confidence scores\n",
        "\n",
        "# scores =  case2_net(im) \n",
        "# probs= torch.softmax(scores, dim=1)\n",
        "# image_utils().show_prob_pimples(probs.cpu())"
      ],
      "id": "8b48c63c",
      "execution_count": null,
      "outputs": []
    },
    {
      "cell_type": "code",
      "metadata": {
        "id": "ed5cd753"
      },
      "source": [
        "import plotly.express as px\n",
        "log_df = pd.DataFrame.from_dict(log)\n",
        "log_df = log_df.reset_index()\n",
        "fig = px.line(log_df.iloc[1:], x=\"index\", y=\"train_loss\")\n",
        "fig.update_layout(width=1400)\n",
        "fig.show()\n",
        "type = \"accuracy\"\n",
        "df1 = log_df[['index', f\"train_{type}\", f\"test_{type}\"]].melt(id_vars=['index'], var_name='log_type')\n",
        "fig = px.line(df1, x=\"index\", y=\"value\", color='log_type')\n",
        "fig.update_layout(width=1400)\n",
        "fig.show()\n",
        "\n",
        "type = \"error\"\n",
        "df1 = log_df[['index', f\"train_{type}\", f\"test_{type}\"]].melt(id_vars=['index'], var_name='log_type')\n",
        "fig = px.line(df1, x=\"index\", y=\"value\", color='log_type')\n",
        "fig.update_layout(width=1400)\n",
        "fig.show()"
      ],
      "id": "ed5cd753",
      "execution_count": null,
      "outputs": []
    },
    {
      "cell_type": "code",
      "metadata": {
        "id": "99455a37"
      },
      "source": [
        "from sklearn.metrics import confusion_matrix\n",
        "def compute_acc_and_conf_mat(scores, actual_labels):\n",
        "    y_pred = scores.detach().numpy()\n",
        "    y_pred = np.argmax(y_pred, axis=1)\n",
        "    indicator = (y_pred == actual_labels)\n",
        "    num_matches = indicator.sum()\n",
        "    acc = 100*num_matches/len(y_pred)\n",
        "    conf_mat = confusion_matrix(actual_labels, y_pred)\n",
        "    return acc, conf_mat\n",
        "\n",
        "import plotly.graph_objects as go\n",
        "def plot_confusion_matrix(cm, labels, title):\n",
        "    # cm : confusion matrix list(list)\n",
        "    # labels : name of the data list(str)\n",
        "    # title : title for the heatmap\n",
        "    data = go.Heatmap(z=cm, y=labels, x=labels, colorscale=\"BuPu\")\n",
        "    annotations = []\n",
        "    for i, row in enumerate(cm):\n",
        "        for j, value in enumerate(row):\n",
        "            annotations.append(\n",
        "                {\n",
        "                    \"x\": labels[i],\n",
        "                    \"y\": labels[j],\n",
        "                    \"font\": {\"color\": \"white\"},\n",
        "                    \"text\": str(value),\n",
        "                    \"xref\": \"x1\",\n",
        "                    \"yref\": \"y1\",\n",
        "                    \"showarrow\": False\n",
        "                }\n",
        "            )\n",
        "    layout = {\n",
        "        \"title\": title,\n",
        "        \"xaxis\": {\"title\": \"Predicted value\"},\n",
        "        \"yaxis\": {\"title\": \"Real value\"},\n",
        "        \"annotations\": annotations,\n",
        "        \"width\":600,\n",
        "        \"height\":600,\n",
        "    }\n",
        "    fig = go.Figure(data=data, layout=layout)\n",
        "    return fig\n",
        "\n",
        "X_test_ = torch.from_numpy(np.array(X_test).astype(np.float32)).to(device)\n",
        "X_test_= (X_test_-mean) / std\n",
        "X_test_ = X_test_.view(-1, 3, 50, 50)\n",
        "scores =  case2_net(X_test_)\n",
        "acc, conf_mat = compute_acc_and_conf_mat(scores.cpu(),y_test)\n",
        "label = ('Not Skin', 'Normal', 'Pustule', 'Whitehead', 'Blackhead', 'Cyst',)\n",
        "plot_confusion_matrix(conf_mat, label, \"confusion matrix\")\n"
      ],
      "id": "99455a37",
      "execution_count": null,
      "outputs": []
    },
    {
      "cell_type": "code",
      "metadata": {
        "id": "ca7ec358"
      },
      "source": [
        "# # conf_mat_to_tabel(conf_mat)\n",
        "\n",
        "# pd.DataFrame(conf_mat)\n",
        "\n",
        "import plotly.graph_objects as go\n",
        "def plot_confusion_matrix(cm, labels, title):\n",
        "    # cm : confusion matrix list(list)\n",
        "    # labels : name of the data list(str)\n",
        "    # title : title for the heatmap\n",
        "    data = go.Heatmap(z=cm, y=labels, x=labels, colorscale=\"BuPu\")#Bluered\n",
        "    annotations = []\n",
        "    for i, row in enumerate(cm):\n",
        "        for j, value in enumerate(row):\n",
        "            annotations.append(\n",
        "                {\n",
        "                    \"x\": labels[i],\n",
        "                    \"y\": labels[j],\n",
        "                    \"font\": {\"color\": \"white\"},\n",
        "                    \"text\": str(value),\n",
        "                    \"xref\": \"x1\",\n",
        "                    \"yref\": \"y1\",\n",
        "                    \"showarrow\": False\n",
        "                }\n",
        "            )\n",
        "    layout = {\n",
        "        \"title\": title,\n",
        "        \"xaxis\": {\"title\": \"Predicted value\"},\n",
        "        \"yaxis\": {\"title\": \"Real value\"},\n",
        "        \"annotations\": annotations,\n",
        "        \"width\":500,\n",
        "        \"height\":500,\n",
        "    }\n",
        "    fig = go.Figure(data=data, layout=layout)\n",
        "    return fig\n",
        "label = ('Not Skin', 'Normal', 'Pustule', 'Whitehead', 'Blackhead', 'Cyst',)\n",
        "plot_confusion_matrix(conf_mat, label, \"confusion matrix\")"
      ],
      "id": "ca7ec358",
      "execution_count": null,
      "outputs": []
    },
    {
      "cell_type": "markdown",
      "metadata": {
        "id": "d799171b"
      },
      "source": [
        "## 4. CNN Modelling"
      ],
      "id": "d799171b"
    },
    {
      "cell_type": "code",
      "metadata": {
        "id": "1173e4a1"
      },
      "source": [
        "from os import listdir, rename\n",
        "from os.path import isfile, join\n",
        "import numpy as np\n",
        "import matplotlib.pyplot as plt\n",
        "from PIL import Image\n",
        "import pandas as pd\n",
        "import random\n",
        "from sklearn.model_selection import train_test_split\n",
        "from collections import Counter\n",
        "from skimage.transform import rotate, AffineTransform, warp\n",
        "from skimage.util import random_noise"
      ],
      "id": "1173e4a1",
      "execution_count": null,
      "outputs": []
    },
    {
      "cell_type": "code",
      "metadata": {
        "id": "caafacd9"
      },
      "source": [
        "# !pip3 install scikit-image"
      ],
      "id": "caafacd9",
      "execution_count": null,
      "outputs": []
    },
    {
      "cell_type": "code",
      "metadata": {
        "id": "ba65ebfb"
      },
      "source": [
        "import os\n",
        "print(os.getcwd())\n",
        "# !pip install gdown\n",
        "# !gdown --id 1zIu388ksAxVp4IQ4UOS1cnfK4n6VYhOd --output labels.csv\n",
        "!wget \"https://raw.githubusercontent.com/simasuiyuan/CS5242/zhunhung_dev/labels.csv\"\n",
        "labels = pd.read_csv('labels.csv')"
      ],
      "id": "ba65ebfb",
      "execution_count": null,
      "outputs": []
    },
    {
      "cell_type": "code",
      "metadata": {
        "id": "dcd63930"
      },
      "source": [
        "labels.head()"
      ],
      "id": "dcd63930",
      "execution_count": null,
      "outputs": []
    },
    {
      "cell_type": "code",
      "metadata": {
        "id": "b2575669"
      },
      "source": [
        "labels.shape"
      ],
      "id": "b2575669",
      "execution_count": null,
      "outputs": []
    },
    {
      "cell_type": "markdown",
      "metadata": {
        "id": "9fde6234"
      },
      "source": [
        "### Helper Functions"
      ],
      "id": "9fde6234"
    },
    {
      "cell_type": "code",
      "metadata": {
        "id": "c4ca8f77"
      },
      "source": [
        "def load_images(labels):\n",
        "    X = []\n",
        "    y = []\n",
        "    for row in labels.itertuples():\n",
        "        print(row)\n",
        "        img_path = join('dataset', row.filename)\n",
        "        img = np.asarray(Image.open(img_path))\n",
        "        \n",
        "        # Keep squares for now\n",
        "        if img.shape[0] == img.shape[1]:\n",
        "            y.append(row.label)\n",
        "            X.append(img)\n",
        "    return X, y\n"
      ],
      "id": "c4ca8f77",
      "execution_count": null,
      "outputs": []
    },
    {
      "cell_type": "code",
      "metadata": {
        "id": "e8896db8"
      },
      "source": [
        "def augment_data(X_train, y_train):\n",
        "    final_X_train = []\n",
        "    final_y_train = []\n",
        "    for i in range(len(X_train)):\n",
        "        final_X_train.append(X_train[i])\n",
        "        final_X_train.append(rotate(X_train[i], angle=45, mode = 'wrap'))\n",
        "        final_X_train.append(np.fliplr(X_train[i]))\n",
        "        final_X_train.append(np.flipud(X_train[i]))\n",
        "        final_X_train.append(random_noise(X_train[i],var=0.2**2))\n",
        "        \n",
        "        final_y_train += [y_train[i]] * 5\n",
        "    return final_X_train, final_y_train"
      ],
      "id": "e8896db8",
      "execution_count": null,
      "outputs": []
    },
    {
      "cell_type": "code",
      "metadata": {
        "id": "31eb5a97"
      },
      "source": [
        "def get_accuracy(scores, labels):\n",
        "    num_data = scores.size(0)\n",
        "    predicted_labels = scores.argmax(dim=1)\n",
        "    indicator = (predicted_labels == labels)\n",
        "    num_matches = indicator.sum()\n",
        "    return 100*num_matches.float()/num_data  \n",
        "\n",
        "def get_error( scores , labels ):\n",
        "\n",
        "    bs=scores.size(0)\n",
        "    predicted_labels = scores.argmax(dim=1)\n",
        "    indicator = (predicted_labels == labels)\n",
        "    num_matches=indicator.sum()\n",
        "    \n",
        "    return 1-num_matches.float()/bs   \n",
        "\n",
        "def eval_on_test_set(test_data, test_label, net, mean, std, bs, device):\n",
        "\n",
        "    running_error=0\n",
        "    running_acc = 0\n",
        "    num_batches=0\n",
        "\n",
        "    for i in range(0,100,bs):\n",
        "\n",
        "        minibatch_data =  test_data[i:i+bs].to(device)\n",
        "        minibatch_label = test_label[i:i+bs].to(device)\n",
        "        \n",
        "        inputs = (minibatch_data - mean)/std\n",
        "\n",
        "        scores= net( inputs ) \n",
        "\n",
        "        error = get_error( scores.detach() , minibatch_label)\n",
        "        acc = get_accuracy( scores.detach() , minibatch_label)\n",
        "\n",
        "        running_error += error.item()\n",
        "        running_acc += acc.item()\n",
        "\n",
        "        num_batches+=1\n",
        "\n",
        "    total_error = running_error/num_batches\n",
        "    total_acc = running_acc/num_batches\n",
        "    print(running_error, num_batches)\n",
        "    print( 'error rate on test set =', total_error*100 ,'percent')\n",
        "    print('accuracy =', total_acc)\n",
        "    return total_error, total_acc"
      ],
      "id": "31eb5a97",
      "execution_count": null,
      "outputs": []
    },
    {
      "cell_type": "code",
      "metadata": {
        "id": "2246b3e0"
      },
      "source": [
        "X, y = load_images(labels)"
      ],
      "id": "2246b3e0",
      "execution_count": null,
      "outputs": []
    },
    {
      "cell_type": "code",
      "metadata": {
        "id": "820366f1"
      },
      "source": [
        "Counter(y)"
      ],
      "id": "820366f1",
      "execution_count": null,
      "outputs": []
    },
    {
      "cell_type": "code",
      "metadata": {
        "id": "bd6ca14d"
      },
      "source": [
        "X_train, X_test, y_train, y_test = train_test_split(X, y, test_size = 0.2, random_state = 13, stratify=y)"
      ],
      "id": "bd6ca14d",
      "execution_count": null,
      "outputs": []
    },
    {
      "cell_type": "code",
      "metadata": {
        "id": "a528303a"
      },
      "source": [
        "X_train, y_train = augment_data(X_train, y_train)"
      ],
      "id": "a528303a",
      "execution_count": null,
      "outputs": []
    },
    {
      "cell_type": "markdown",
      "metadata": {
        "id": "fb48322e"
      },
      "source": [
        "### Training"
      ],
      "id": "fb48322e"
    },
    {
      "cell_type": "code",
      "metadata": {
        "id": "482a6015"
      },
      "source": [
        "import torch"
      ],
      "id": "482a6015",
      "execution_count": null,
      "outputs": []
    },
    {
      "cell_type": "code",
      "metadata": {
        "id": "d950c3b2"
      },
      "source": [
        "class convnet(torch.nn.Module):\n",
        "\n",
        "    def __init__(self, input_channel, hidden_layer, num_class):\n",
        "\n",
        "        super(convnet, self).__init__()\n",
        "      \n",
        "        self.conv1a = torch.nn.Conv2d(input_channel, hidden_layer,  kernel_size=5, padding=1 )\n",
        "        self.pool1a  = torch.nn.MaxPool2d(2,2)\n",
        "        self.conv1b = torch.nn.Conv2d(hidden_layer,  hidden_layer,  kernel_size=5, padding=1 )\n",
        "        self.pool1b  = torch.nn.MaxPool2d(2,2)\n",
        "        \n",
        "        self.linear1 = torch.nn.Linear(12100, num_class)\n",
        "\n",
        "    def forward(self, x):\n",
        "        x = self.conv1a(x)\n",
        "        x = torch.nn.functional.relu(x)\n",
        "        x = self.pool1a(x)\n",
        "        x = self.conv1b(x)\n",
        "        x = torch.nn.functional.relu(x)\n",
        "        x = self.pool1b(x)\n",
        "        \n",
        "        x = x.view(-1, 12100)\n",
        "        x = self.linear1(x)\n",
        "        \n",
        "        return x"
      ],
      "id": "d950c3b2",
      "execution_count": null,
      "outputs": []
    },
    {
      "cell_type": "code",
      "metadata": {
        "id": "8886a866"
      },
      "source": [
        "def train_network(X_train, y_train, X_test, y_test):\n",
        "    X_train = torch.from_numpy(np.array(X_train).astype(np.float32))\n",
        "    y_train = torch.from_numpy(np.array(y_train).astype(np.float32)).type(torch.LongTensor)\n",
        "    X_test = torch.from_numpy(np.array(X_test).astype(np.float32))\n",
        "    y_test = torch.from_numpy(np.array(y_test).astype(np.float32)).type(torch.LongTensor)\n",
        "    X_train = X_train.view(-1, 3, 50, 50)\n",
        "    X_test = X_test.view(-1, 3, 50, 50)\n",
        "    \n",
        "    my_lr = 0.01\n",
        "    criterion = torch.nn.CrossEntropyLoss()\n",
        "    bs = 128\n",
        "    num_class = 6\n",
        "\n",
        "    net = convnet(3, 100, num_class)\n",
        "    mean = X_train.mean()\n",
        "    std = X_train.std()\n",
        "    num_train_data = X_train.size()[0]\n",
        "    \n",
        "    for epoch in range(5):\n",
        "        # create a new optimizer at the beginning of each epoch: give the current learning rate.   \n",
        "        optimizer=torch.optim.Adam( net.parameters() , lr=my_lr )\n",
        "\n",
        "        # set the running quatities to zero at the beginning of the epoch\n",
        "        running_loss=0\n",
        "        running_error=0\n",
        "        running_acc = 0\n",
        "        num_batches=0\n",
        "\n",
        "        # set the order in which to visit the image from the training set\n",
        "        shuffled_indices = torch.randperm(num_train_data)\n",
        "\n",
        "        for count in range(0,num_train_data,bs):\n",
        "\n",
        "            # Set the gradients to zeros\n",
        "            optimizer.zero_grad()\n",
        "\n",
        "            # create a minibatch       \n",
        "            indices = shuffled_indices[count:count+bs]\n",
        "            minibatch_data =  X_train[indices]\n",
        "            minibatch_label =  y_train[indices]\n",
        "\n",
        "\n",
        "            # normalize the minibatch (this is the only difference compared to before!)\n",
        "            inputs = (minibatch_data - mean)/std\n",
        "\n",
        "            # tell Pytorch to start tracking all operations that will be done on \"inputs\"\n",
        "            inputs.requires_grad_()\n",
        "\n",
        "            # forward the minibatch through the net \n",
        "            scores=net( inputs ) \n",
        "\n",
        "            # Compute the average of the losses of the data points in the minibatch\n",
        "            loss =  criterion( scores , minibatch_label) \n",
        "\n",
        "            # backward pass to compute dL/dU, dL/dV and dL/dW   \n",
        "            loss.backward()\n",
        "\n",
        "            # do one step of stochastic gradient descent: U=U-lr(dL/dU), V=V-lr(dL/dU), ...\n",
        "            optimizer.step()\n",
        "\n",
        "\n",
        "            # START COMPUTING STATS\n",
        "\n",
        "            # add the loss of this batch to the running loss\n",
        "            running_loss += loss.detach().item()\n",
        "\n",
        "            # compute the error made on this batch and add it to the running error       \n",
        "            error = get_error( scores.detach() , minibatch_label)\n",
        "            acc = get_accuracy(scores.detach() , minibatch_label)\n",
        "            running_error += error.item()\n",
        "            running_acc += acc.item()\n",
        "\n",
        "            num_batches+=1        \n",
        "\n",
        "\n",
        "        # compute stats for the full training set\n",
        "        total_loss = running_loss/num_batches\n",
        "        total_error = running_error/num_batches\n",
        "        total_acc = running_acc/num_batches\n",
        "\n",
        "\n",
        "        print('epoch=',epoch, '\\t loss=', total_loss , '\\t error=', total_error*100 ,'percent')\n",
        "        print('accuracy =', total_acc)\n",
        "        print(' ')\n",
        "\n",
        "    eval_on_test_set(X_test, y_test, net, mean, std, bs)\n"
      ],
      "id": "8886a866",
      "execution_count": null,
      "outputs": []
    },
    {
      "cell_type": "code",
      "metadata": {
        "id": "97e6a90d"
      },
      "source": [
        "train_network(X_train, y_train, X_test, y_test)"
      ],
      "id": "97e6a90d",
      "execution_count": null,
      "outputs": []
    },
    {
      "cell_type": "code",
      "metadata": {
        "id": "f40306e3"
      },
      "source": [
        ""
      ],
      "id": "f40306e3",
      "execution_count": null,
      "outputs": []
    },
    {
      "cell_type": "markdown",
      "metadata": {
        "id": "nW3XrI_ywKPi"
      },
      "source": [
        "## 5. Analysis of Results"
      ],
      "id": "nW3XrI_ywKPi"
    },
    {
      "cell_type": "code",
      "metadata": {
        "id": "EoYUE35Zwfx2"
      },
      "source": [
        "# line chart \n",
        "# confusion matrix\n",
        "\n",
        "\n",
        "\n",
        "# # choose a picture at random\n",
        "# idx=randint(0, 10000-1)\n",
        "# im=test_data[idx]\n",
        "\n",
        "# # diplay the picture\n",
        "# utils.show(im)\n",
        "\n",
        "# # send to device, rescale, and view as a batch of 1 \n",
        "# im = im.to(device)\n",
        "# im= (im-mean) / std\n",
        "# im=im.view(1,3,32,32)\n",
        "\n",
        "# # feed it to the net and display the confidence scores\n",
        "# scores =  net(im) \n",
        "# probs= torch.softmax(scores, dim=1)\n",
        "# utils.show_prob_cifar(probs.cpu())\n",
        "\n",
        "\n",
        "\n",
        "# from sklearn.metrics import confusion_matrix\n",
        "# confusion_matrix(actual_labels, predicted_labels)"
      ],
      "id": "EoYUE35Zwfx2",
      "execution_count": null,
      "outputs": []
    },
    {
      "cell_type": "markdown",
      "metadata": {
        "id": "ukR4KV7cw3EW"
      },
      "source": [
        ""
      ],
      "id": "ukR4KV7cw3EW"
    },
    {
      "cell_type": "code",
      "metadata": {
        "id": "yjNOM4lDxKz6"
      },
      "source": [
        ""
      ],
      "id": "yjNOM4lDxKz6",
      "execution_count": null,
      "outputs": []
    },
    {
      "cell_type": "code",
      "metadata": {
        "id": "DhqYiX9Swxmm"
      },
      "source": [
        ""
      ],
      "id": "DhqYiX9Swxmm",
      "execution_count": null,
      "outputs": []
    },
    {
      "cell_type": "markdown",
      "metadata": {
        "id": "jaJ0cXHHxBCH"
      },
      "source": [
        "## "
      ],
      "id": "jaJ0cXHHxBCH"
    },
    {
      "cell_type": "code",
      "metadata": {
        "id": "RrRkrtVPxBv0"
      },
      "source": [
        "hello"
      ],
      "id": "RrRkrtVPxBv0",
      "execution_count": null,
      "outputs": []
    },
    {
      "cell_type": "markdown",
      "metadata": {
        "id": "SPeK019XwgwC"
      },
      "source": [
        "## Future Development"
      ],
      "id": "SPeK019XwgwC"
    },
    {
      "cell_type": "code",
      "metadata": {
        "id": "f82bef85"
      },
      "source": [
        "dsvdsv"
      ],
      "id": "f82bef85",
      "execution_count": null,
      "outputs": []
    }
  ]
}