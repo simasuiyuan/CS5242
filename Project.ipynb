{
 "cells": [
  {
   "cell_type": "markdown",
   "id": "d7b97607",
   "metadata": {},
   "source": [
    "## Data Scraping\n",
    "We will be scraping acne images from https://dermnetnz.org/"
   ]
  },
  {
   "cell_type": "code",
   "execution_count": 34,
   "id": "94135ed3",
   "metadata": {},
   "outputs": [],
   "source": [
    "from bs4 import BeautifulSoup\n",
    "import requests\n",
    "import pandas as pd\n",
    "import shutil\n",
    "\n",
    "def download_image(image_url, image_name):\n",
    "    url = image_url\n",
    "    response = requests.get(url, stream=True)\n",
    "    with open(image_name, 'wb') as out_file:\n",
    "        shutil.copyfileobj(response.raw, out_file)\n",
    "    del response"
   ]
  },
  {
   "cell_type": "code",
   "execution_count": 40,
   "id": "2a332492",
   "metadata": {},
   "outputs": [],
   "source": [
    "def scrape_dermnet(url):\n",
    "    html_page = requests.get(url)\n",
    "    soup = BeautifulSoup(html_page.content, 'html.parser')\n",
    "    textBlock = soup.find('section', class_=\"textBlock\")\n",
    "    imgs = textBlock.findAll('img')\n",
    "    img_dataset = pd.DataFrame([[img.attrs['alt'], \"https://dermnetnz.org/\" + img.attrs['data-src']] for img in imgs], columns=['alt', 'image_url'])\n",
    "    img_dataset['image_name'] = [f'data/image_{e}.jpg' for e in range(img_dataset.shape[0])]\n",
    "    return img_dataset"
   ]
  },
  {
   "cell_type": "code",
   "execution_count": 6,
   "id": "d7a92779",
   "metadata": {},
   "outputs": [],
   "source": [
    "# Download images\n",
    "img_dataset = scrape_dermnet(\"https://dermnetnz.org/topics/acne-face-images\")\n",
    "for row in img_dataset.itertuples():\n",
    "    download_image(row.image_url, row.image_name)"
   ]
  },
  {
   "cell_type": "markdown",
   "id": "7dbebf79",
   "metadata": {},
   "source": [
    "## Sliding Window"
   ]
  },
  {
   "cell_type": "code",
   "execution_count": 37,
   "id": "1162eb00",
   "metadata": {},
   "outputs": [],
   "source": [
    "from os import listdir\n",
    "from os.path import isfile, join\n",
    "import numpy as np\n",
    "import matplotlib.pyplot as plt\n",
    "from PIL import Image"
   ]
  },
  {
   "cell_type": "code",
   "execution_count": 38,
   "id": "cdc646a1",
   "metadata": {},
   "outputs": [],
   "source": [
    "images = [join('scraped_data', f) for f in listdir('scraped_data') if isfile(join('scraped_data', f))]"
   ]
  },
  {
   "cell_type": "code",
   "execution_count": 39,
   "id": "c636eed6",
   "metadata": {},
   "outputs": [],
   "source": [
    "# Set size of sliding window\n",
    "window_size = 50"
   ]
  },
  {
   "cell_type": "code",
   "execution_count": 42,
   "id": "5a9d1ac1",
   "metadata": {},
   "outputs": [],
   "source": [
    "# Slicing images\n",
    "for image_path in images:\n",
    "    img = np.asarray(Image.open(image_path))\n",
    "    for i in range(0,img.shape[0],window_size):\n",
    "        for j in range(0,img.shape[1],window_size):\n",
    "            sub_img = img[i:i+window_size, j:j+window_size, :]\n",
    "            # Save image\n",
    "            img_name = image_path.split('/')[-1].split('.')[0]\n",
    "            Image.fromarray(sub_img).save(f'dataset/{img_name}_{i}_{j}.jpg')\n"
   ]
  },
  {
   "cell_type": "code",
   "execution_count": null,
   "id": "56667705",
   "metadata": {},
   "outputs": [],
   "source": []
  }
 ],
 "metadata": {
  "kernelspec": {
   "display_name": "Python 3 (ipykernel)",
   "language": "python",
   "name": "python3"
  },
  "language_info": {
   "codemirror_mode": {
    "name": "ipython",
    "version": 3
   },
   "file_extension": ".py",
   "mimetype": "text/x-python",
   "name": "python",
   "nbconvert_exporter": "python",
   "pygments_lexer": "ipython3",
   "version": "3.7.10"
  }
 },
 "nbformat": 4,
 "nbformat_minor": 5
}
